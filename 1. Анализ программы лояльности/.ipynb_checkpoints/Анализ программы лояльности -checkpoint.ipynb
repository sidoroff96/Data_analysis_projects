{
 "cells": [
  {
   "cell_type": "markdown",
   "metadata": {},
   "source": [
    "# Анализ программы лояльности"
   ]
  },
  {
   "cell_type": "markdown",
   "metadata": {},
   "source": [
    "# Ход анализа:\n",
    "\n",
    "Перед проведением анализа необходимо проверить данные на ошибки и провести оценку их влияния на исследование.\n",
    "\n",
    "**Исследование пройдет в 8 этапов:**\n",
    "\n",
    "- Изучение общей информации о данных\n",
    "- Предобработка данных\n",
    "- Исследовательский анализ данных\n",
    "- Анализ программы лояльности\n",
    "- Проверка статистических гипотез\n",
    "- Общий вывод\n",
    "- Рекомендации\n",
    "- Презентация исследования"
   ]
  },
  {
   "cell_type": "markdown",
   "metadata": {},
   "source": [
    "##  1 Откроем файлы с данными и изучим общую информацию"
   ]
  },
  {
   "cell_type": "markdown",
   "metadata": {},
   "source": [
    "### 1.1 Импортируем необходимые библиотеки. Считаем данные из csv-файла в датафрейм и сохраним в переменные"
   ]
  },
  {
   "cell_type": "code",
   "execution_count": 1,
   "metadata": {},
   "outputs": [],
   "source": [
    "import pandas as pd\n",
    "import numpy as np\n",
    "from scipy import stats as st\n",
    "from scipy import stats\n",
    "import math as mth\n",
    "import matplotlib.pyplot as plt\n",
    "import seaborn as sns\n",
    "import plotly.express as px\n",
    "import datetime as dt\n",
    "from datetime import datetime, timedelta # импортируем необходимые библиотеки "
   ]
  },
  {
   "cell_type": "code",
   "execution_count": 2,
   "metadata": {},
   "outputs": [],
   "source": [
    "retail_dataset = pd.read_csv('.csv') # читаем csv-файл\n",
    "product_codes = pd.read_csv ('.csv') # читаем csv-файл"
   ]
  },
  {
   "cell_type": "markdown",
   "metadata": {},
   "source": [
    "### 1.2 Изучим общую информацию о данных датафрейма retail_dataset"
   ]
  },
  {
   "cell_type": "code",
   "execution_count": 3,
   "metadata": {},
   "outputs": [
    {
     "name": "stdout",
     "output_type": "stream",
     "text": [
      "<class 'pandas.core.frame.DataFrame'>\n",
      "RangeIndex: 105335 entries, 0 to 105334\n",
      "Data columns (total 7 columns):\n",
      " #   Column           Non-Null Count   Dtype  \n",
      "---  ------           --------------   -----  \n",
      " 0   purchaseid       105335 non-null  object \n",
      " 1   item_ID          105335 non-null  object \n",
      " 2   Quantity         105335 non-null  int64  \n",
      " 3   purchasedate     105335 non-null  object \n",
      " 4   CustomerID       69125 non-null   float64\n",
      " 5   ShopID           105335 non-null  object \n",
      " 6   loyalty_program  105335 non-null  float64\n",
      "dtypes: float64(2), int64(1), object(4)\n",
      "memory usage: 5.6+ MB\n"
     ]
    },
    {
     "data": {
      "text/plain": [
       "None"
      ]
     },
     "metadata": {},
     "output_type": "display_data"
    },
    {
     "data": {
      "text/html": [
       "<div>\n",
       "<style scoped>\n",
       "    .dataframe tbody tr th:only-of-type {\n",
       "        vertical-align: middle;\n",
       "    }\n",
       "\n",
       "    .dataframe tbody tr th {\n",
       "        vertical-align: top;\n",
       "    }\n",
       "\n",
       "    .dataframe thead th {\n",
       "        text-align: right;\n",
       "    }\n",
       "</style>\n",
       "<table border=\"1\" class=\"dataframe\">\n",
       "  <thead>\n",
       "    <tr style=\"text-align: right;\">\n",
       "      <th></th>\n",
       "      <th>purchaseid</th>\n",
       "      <th>item_ID</th>\n",
       "      <th>Quantity</th>\n",
       "      <th>purchasedate</th>\n",
       "      <th>CustomerID</th>\n",
       "      <th>ShopID</th>\n",
       "      <th>loyalty_program</th>\n",
       "    </tr>\n",
       "  </thead>\n",
       "  <tbody>\n",
       "    <tr>\n",
       "      <th>0</th>\n",
       "      <td>538280</td>\n",
       "      <td>21873</td>\n",
       "      <td>11</td>\n",
       "      <td>2016-12-10 12:50:00</td>\n",
       "      <td>18427.0</td>\n",
       "      <td>Shop 0</td>\n",
       "      <td>0.0</td>\n",
       "    </tr>\n",
       "    <tr>\n",
       "      <th>1</th>\n",
       "      <td>538862</td>\n",
       "      <td>22195</td>\n",
       "      <td>0</td>\n",
       "      <td>2016-12-14 14:11:00</td>\n",
       "      <td>22389.0</td>\n",
       "      <td>Shop 0</td>\n",
       "      <td>1.0</td>\n",
       "    </tr>\n",
       "    <tr>\n",
       "      <th>2</th>\n",
       "      <td>538855</td>\n",
       "      <td>21239</td>\n",
       "      <td>7</td>\n",
       "      <td>2016-12-14 13:50:00</td>\n",
       "      <td>22182.0</td>\n",
       "      <td>Shop 0</td>\n",
       "      <td>1.0</td>\n",
       "    </tr>\n",
       "    <tr>\n",
       "      <th>3</th>\n",
       "      <td>543543</td>\n",
       "      <td>22271</td>\n",
       "      <td>0</td>\n",
       "      <td>2017-02-09 15:33:00</td>\n",
       "      <td>23522.0</td>\n",
       "      <td>Shop 0</td>\n",
       "      <td>1.0</td>\n",
       "    </tr>\n",
       "    <tr>\n",
       "      <th>4</th>\n",
       "      <td>543812</td>\n",
       "      <td>79321</td>\n",
       "      <td>0</td>\n",
       "      <td>2017-02-13 14:40:00</td>\n",
       "      <td>23151.0</td>\n",
       "      <td>Shop 0</td>\n",
       "      <td>1.0</td>\n",
       "    </tr>\n",
       "  </tbody>\n",
       "</table>\n",
       "</div>"
      ],
      "text/plain": [
       "  purchaseid item_ID  Quantity         purchasedate  CustomerID  ShopID  \\\n",
       "0     538280   21873        11  2016-12-10 12:50:00     18427.0  Shop 0   \n",
       "1     538862   22195         0  2016-12-14 14:11:00     22389.0  Shop 0   \n",
       "2     538855   21239         7  2016-12-14 13:50:00     22182.0  Shop 0   \n",
       "3     543543   22271         0  2017-02-09 15:33:00     23522.0  Shop 0   \n",
       "4     543812   79321         0  2017-02-13 14:40:00     23151.0  Shop 0   \n",
       "\n",
       "   loyalty_program  \n",
       "0              0.0  \n",
       "1              1.0  \n",
       "2              1.0  \n",
       "3              1.0  \n",
       "4              1.0  "
      ]
     },
     "metadata": {},
     "output_type": "display_data"
    },
    {
     "data": {
      "text/html": [
       "<div>\n",
       "<style scoped>\n",
       "    .dataframe tbody tr th:only-of-type {\n",
       "        vertical-align: middle;\n",
       "    }\n",
       "\n",
       "    .dataframe tbody tr th {\n",
       "        vertical-align: top;\n",
       "    }\n",
       "\n",
       "    .dataframe thead th {\n",
       "        text-align: right;\n",
       "    }\n",
       "</style>\n",
       "<table border=\"1\" class=\"dataframe\">\n",
       "  <thead>\n",
       "    <tr style=\"text-align: right;\">\n",
       "      <th></th>\n",
       "      <th>purchaseid</th>\n",
       "      <th>item_ID</th>\n",
       "      <th>Quantity</th>\n",
       "      <th>purchasedate</th>\n",
       "      <th>CustomerID</th>\n",
       "      <th>ShopID</th>\n",
       "      <th>loyalty_program</th>\n",
       "    </tr>\n",
       "  </thead>\n",
       "  <tbody>\n",
       "    <tr>\n",
       "      <th>105330</th>\n",
       "      <td>538566</td>\n",
       "      <td>21826</td>\n",
       "      <td>1</td>\n",
       "      <td>2016-12-13 11:21:00</td>\n",
       "      <td>NaN</td>\n",
       "      <td>Shop 0</td>\n",
       "      <td>0.0</td>\n",
       "    </tr>\n",
       "    <tr>\n",
       "      <th>105331</th>\n",
       "      <td>540247</td>\n",
       "      <td>21742</td>\n",
       "      <td>0</td>\n",
       "      <td>2017-01-05 15:56:00</td>\n",
       "      <td>21143.0</td>\n",
       "      <td>Shop 0</td>\n",
       "      <td>0.0</td>\n",
       "    </tr>\n",
       "    <tr>\n",
       "      <th>105332</th>\n",
       "      <td>538068</td>\n",
       "      <td>85048</td>\n",
       "      <td>1</td>\n",
       "      <td>2016-12-09 14:05:00</td>\n",
       "      <td>23657.0</td>\n",
       "      <td>Shop 0</td>\n",
       "      <td>1.0</td>\n",
       "    </tr>\n",
       "    <tr>\n",
       "      <th>105333</th>\n",
       "      <td>538207</td>\n",
       "      <td>22818</td>\n",
       "      <td>11</td>\n",
       "      <td>2016-12-10 11:33:00</td>\n",
       "      <td>18427.0</td>\n",
       "      <td>Shop 0</td>\n",
       "      <td>0.0</td>\n",
       "    </tr>\n",
       "    <tr>\n",
       "      <th>105334</th>\n",
       "      <td>543977</td>\n",
       "      <td>22384</td>\n",
       "      <td>9</td>\n",
       "      <td>2017-02-14 15:35:00</td>\n",
       "      <td>21294.0</td>\n",
       "      <td>Shop 0</td>\n",
       "      <td>0.0</td>\n",
       "    </tr>\n",
       "  </tbody>\n",
       "</table>\n",
       "</div>"
      ],
      "text/plain": [
       "       purchaseid item_ID  Quantity         purchasedate  CustomerID  ShopID  \\\n",
       "105330     538566   21826         1  2016-12-13 11:21:00         NaN  Shop 0   \n",
       "105331     540247   21742         0  2017-01-05 15:56:00     21143.0  Shop 0   \n",
       "105332     538068   85048         1  2016-12-09 14:05:00     23657.0  Shop 0   \n",
       "105333     538207   22818        11  2016-12-10 11:33:00     18427.0  Shop 0   \n",
       "105334     543977   22384         9  2017-02-14 15:35:00     21294.0  Shop 0   \n",
       "\n",
       "        loyalty_program  \n",
       "105330              0.0  \n",
       "105331              0.0  \n",
       "105332              1.0  \n",
       "105333              0.0  \n",
       "105334              0.0  "
      ]
     },
     "metadata": {},
     "output_type": "display_data"
    },
    {
     "data": {
      "text/html": [
       "<div>\n",
       "<style scoped>\n",
       "    .dataframe tbody tr th:only-of-type {\n",
       "        vertical-align: middle;\n",
       "    }\n",
       "\n",
       "    .dataframe tbody tr th {\n",
       "        vertical-align: top;\n",
       "    }\n",
       "\n",
       "    .dataframe thead th {\n",
       "        text-align: right;\n",
       "    }\n",
       "</style>\n",
       "<table border=\"1\" class=\"dataframe\">\n",
       "  <thead>\n",
       "    <tr style=\"text-align: right;\">\n",
       "      <th></th>\n",
       "      <th>purchaseid</th>\n",
       "      <th>item_ID</th>\n",
       "      <th>Quantity</th>\n",
       "      <th>purchasedate</th>\n",
       "      <th>CustomerID</th>\n",
       "      <th>ShopID</th>\n",
       "      <th>loyalty_program</th>\n",
       "    </tr>\n",
       "  </thead>\n",
       "  <tbody>\n",
       "    <tr>\n",
       "      <th>29681</th>\n",
       "      <td>537141</td>\n",
       "      <td>22111</td>\n",
       "      <td>4</td>\n",
       "      <td>2016-12-05 12:57:00</td>\n",
       "      <td>21249.0</td>\n",
       "      <td>Shop 0</td>\n",
       "      <td>0.0</td>\n",
       "    </tr>\n",
       "    <tr>\n",
       "      <th>76321</th>\n",
       "      <td>540813</td>\n",
       "      <td>22508</td>\n",
       "      <td>1</td>\n",
       "      <td>2017-01-11 12:41:00</td>\n",
       "      <td>20348.0</td>\n",
       "      <td>Shop 0</td>\n",
       "      <td>0.0</td>\n",
       "    </tr>\n",
       "    <tr>\n",
       "      <th>10806</th>\n",
       "      <td>537772</td>\n",
       "      <td>22080</td>\n",
       "      <td>4</td>\n",
       "      <td>2016-12-08 12:35:00</td>\n",
       "      <td>23722.0</td>\n",
       "      <td>Shop 0</td>\n",
       "      <td>1.0</td>\n",
       "    </tr>\n",
       "    <tr>\n",
       "      <th>24792</th>\n",
       "      <td>544599</td>\n",
       "      <td>21539</td>\n",
       "      <td>0</td>\n",
       "      <td>2017-02-21 18:15:00</td>\n",
       "      <td>NaN</td>\n",
       "      <td>Shop 0</td>\n",
       "      <td>0.0</td>\n",
       "    </tr>\n",
       "    <tr>\n",
       "      <th>64859</th>\n",
       "      <td>537237</td>\n",
       "      <td>20622</td>\n",
       "      <td>0</td>\n",
       "      <td>2016-12-06 09:58:00</td>\n",
       "      <td>NaN</td>\n",
       "      <td>Shop 0</td>\n",
       "      <td>0.0</td>\n",
       "    </tr>\n",
       "  </tbody>\n",
       "</table>\n",
       "</div>"
      ],
      "text/plain": [
       "      purchaseid item_ID  Quantity         purchasedate  CustomerID  ShopID  \\\n",
       "29681     537141   22111         4  2016-12-05 12:57:00     21249.0  Shop 0   \n",
       "76321     540813   22508         1  2017-01-11 12:41:00     20348.0  Shop 0   \n",
       "10806     537772   22080         4  2016-12-08 12:35:00     23722.0  Shop 0   \n",
       "24792     544599   21539         0  2017-02-21 18:15:00         NaN  Shop 0   \n",
       "64859     537237   20622         0  2016-12-06 09:58:00         NaN  Shop 0   \n",
       "\n",
       "       loyalty_program  \n",
       "29681              0.0  \n",
       "76321              0.0  \n",
       "10806              1.0  \n",
       "24792              0.0  \n",
       "64859              0.0  "
      ]
     },
     "metadata": {},
     "output_type": "display_data"
    },
    {
     "data": {
      "text/html": [
       "<div>\n",
       "<style scoped>\n",
       "    .dataframe tbody tr th:only-of-type {\n",
       "        vertical-align: middle;\n",
       "    }\n",
       "\n",
       "    .dataframe tbody tr th {\n",
       "        vertical-align: top;\n",
       "    }\n",
       "\n",
       "    .dataframe thead th {\n",
       "        text-align: right;\n",
       "    }\n",
       "</style>\n",
       "<table border=\"1\" class=\"dataframe\">\n",
       "  <thead>\n",
       "    <tr style=\"text-align: right;\">\n",
       "      <th></th>\n",
       "      <th>Quantity</th>\n",
       "      <th>CustomerID</th>\n",
       "      <th>loyalty_program</th>\n",
       "    </tr>\n",
       "  </thead>\n",
       "  <tbody>\n",
       "    <tr>\n",
       "      <th>count</th>\n",
       "      <td>105335.000000</td>\n",
       "      <td>69125.000000</td>\n",
       "      <td>105335.000000</td>\n",
       "    </tr>\n",
       "    <tr>\n",
       "      <th>mean</th>\n",
       "      <td>7.821218</td>\n",
       "      <td>21019.302047</td>\n",
       "      <td>0.226345</td>\n",
       "    </tr>\n",
       "    <tr>\n",
       "      <th>std</th>\n",
       "      <td>327.946695</td>\n",
       "      <td>1765.444679</td>\n",
       "      <td>0.418467</td>\n",
       "    </tr>\n",
       "    <tr>\n",
       "      <th>min</th>\n",
       "      <td>-74216.000000</td>\n",
       "      <td>18025.000000</td>\n",
       "      <td>0.000000</td>\n",
       "    </tr>\n",
       "    <tr>\n",
       "      <th>25%</th>\n",
       "      <td>0.000000</td>\n",
       "      <td>19544.000000</td>\n",
       "      <td>0.000000</td>\n",
       "    </tr>\n",
       "    <tr>\n",
       "      <th>50%</th>\n",
       "      <td>2.000000</td>\n",
       "      <td>20990.000000</td>\n",
       "      <td>0.000000</td>\n",
       "    </tr>\n",
       "    <tr>\n",
       "      <th>75%</th>\n",
       "      <td>7.000000</td>\n",
       "      <td>22659.000000</td>\n",
       "      <td>0.000000</td>\n",
       "    </tr>\n",
       "    <tr>\n",
       "      <th>max</th>\n",
       "      <td>74214.000000</td>\n",
       "      <td>23962.000000</td>\n",
       "      <td>1.000000</td>\n",
       "    </tr>\n",
       "  </tbody>\n",
       "</table>\n",
       "</div>"
      ],
      "text/plain": [
       "            Quantity    CustomerID  loyalty_program\n",
       "count  105335.000000  69125.000000    105335.000000\n",
       "mean        7.821218  21019.302047         0.226345\n",
       "std       327.946695   1765.444679         0.418467\n",
       "min    -74216.000000  18025.000000         0.000000\n",
       "25%         0.000000  19544.000000         0.000000\n",
       "50%         2.000000  20990.000000         0.000000\n",
       "75%         7.000000  22659.000000         0.000000\n",
       "max     74214.000000  23962.000000         1.000000"
      ]
     },
     "metadata": {},
     "output_type": "display_data"
    }
   ],
   "source": [
    "display(retail_dataset.info()) # Общая информация о датафрейме\n",
    "display(retail_dataset.head()) # Посмотрим первые строки датафрейма\n",
    "display(retail_dataset.tail()) # Посмотрим на последние строки датафрейма \n",
    "display(retail_dataset.sample(5)) # Посмотрим на рандомные выборки из датафрейма\n",
    "display(retail_dataset.describe()) # Посмотрим на статистику по всем числовым столбцам"
   ]
  },
  {
   "cell_type": "markdown",
   "metadata": {},
   "source": [
    "### 1.3 Изучим общую информацию о данных датафрейма product_codes"
   ]
  },
  {
   "cell_type": "code",
   "execution_count": 4,
   "metadata": {},
   "outputs": [
    {
     "name": "stdout",
     "output_type": "stream",
     "text": [
      "<class 'pandas.core.frame.DataFrame'>\n",
      "RangeIndex: 9969 entries, 0 to 9968\n",
      "Data columns (total 2 columns):\n",
      " #   Column         Non-Null Count  Dtype  \n",
      "---  ------         --------------  -----  \n",
      " 0   productID      9969 non-null   object \n",
      " 1   price_per_one  9969 non-null   float64\n",
      "dtypes: float64(1), object(1)\n",
      "memory usage: 155.9+ KB\n"
     ]
    },
    {
     "data": {
      "text/plain": [
       "None"
      ]
     },
     "metadata": {},
     "output_type": "display_data"
    },
    {
     "data": {
      "text/html": [
       "<div>\n",
       "<style scoped>\n",
       "    .dataframe tbody tr th:only-of-type {\n",
       "        vertical-align: middle;\n",
       "    }\n",
       "\n",
       "    .dataframe tbody tr th {\n",
       "        vertical-align: top;\n",
       "    }\n",
       "\n",
       "    .dataframe thead th {\n",
       "        text-align: right;\n",
       "    }\n",
       "</style>\n",
       "<table border=\"1\" class=\"dataframe\">\n",
       "  <thead>\n",
       "    <tr style=\"text-align: right;\">\n",
       "      <th></th>\n",
       "      <th>productID</th>\n",
       "      <th>price_per_one</th>\n",
       "    </tr>\n",
       "  </thead>\n",
       "  <tbody>\n",
       "    <tr>\n",
       "      <th>0</th>\n",
       "      <td>85123A</td>\n",
       "      <td>2.55</td>\n",
       "    </tr>\n",
       "    <tr>\n",
       "      <th>1</th>\n",
       "      <td>71053</td>\n",
       "      <td>3.39</td>\n",
       "    </tr>\n",
       "    <tr>\n",
       "      <th>2</th>\n",
       "      <td>84406B</td>\n",
       "      <td>2.75</td>\n",
       "    </tr>\n",
       "    <tr>\n",
       "      <th>3</th>\n",
       "      <td>84029G</td>\n",
       "      <td>3.39</td>\n",
       "    </tr>\n",
       "    <tr>\n",
       "      <th>4</th>\n",
       "      <td>84029E</td>\n",
       "      <td>3.39</td>\n",
       "    </tr>\n",
       "  </tbody>\n",
       "</table>\n",
       "</div>"
      ],
      "text/plain": [
       "  productID  price_per_one\n",
       "0    85123A           2.55\n",
       "1     71053           3.39\n",
       "2    84406B           2.75\n",
       "3    84029G           3.39\n",
       "4    84029E           3.39"
      ]
     },
     "metadata": {},
     "output_type": "display_data"
    },
    {
     "data": {
      "text/html": [
       "<div>\n",
       "<style scoped>\n",
       "    .dataframe tbody tr th:only-of-type {\n",
       "        vertical-align: middle;\n",
       "    }\n",
       "\n",
       "    .dataframe tbody tr th {\n",
       "        vertical-align: top;\n",
       "    }\n",
       "\n",
       "    .dataframe thead th {\n",
       "        text-align: right;\n",
       "    }\n",
       "</style>\n",
       "<table border=\"1\" class=\"dataframe\">\n",
       "  <thead>\n",
       "    <tr style=\"text-align: right;\">\n",
       "      <th></th>\n",
       "      <th>price_per_one</th>\n",
       "    </tr>\n",
       "  </thead>\n",
       "  <tbody>\n",
       "    <tr>\n",
       "      <th>count</th>\n",
       "      <td>9969.000000</td>\n",
       "    </tr>\n",
       "    <tr>\n",
       "      <th>mean</th>\n",
       "      <td>19.503697</td>\n",
       "    </tr>\n",
       "    <tr>\n",
       "      <th>std</th>\n",
       "      <td>330.880754</td>\n",
       "    </tr>\n",
       "    <tr>\n",
       "      <th>min</th>\n",
       "      <td>0.000000</td>\n",
       "    </tr>\n",
       "    <tr>\n",
       "      <th>25%</th>\n",
       "      <td>1.250000</td>\n",
       "    </tr>\n",
       "    <tr>\n",
       "      <th>50%</th>\n",
       "      <td>2.550000</td>\n",
       "    </tr>\n",
       "    <tr>\n",
       "      <th>75%</th>\n",
       "      <td>5.510000</td>\n",
       "    </tr>\n",
       "    <tr>\n",
       "      <th>max</th>\n",
       "      <td>16888.020000</td>\n",
       "    </tr>\n",
       "  </tbody>\n",
       "</table>\n",
       "</div>"
      ],
      "text/plain": [
       "       price_per_one\n",
       "count    9969.000000\n",
       "mean       19.503697\n",
       "std       330.880754\n",
       "min         0.000000\n",
       "25%         1.250000\n",
       "50%         2.550000\n",
       "75%         5.510000\n",
       "max     16888.020000"
      ]
     },
     "metadata": {},
     "output_type": "display_data"
    }
   ],
   "source": [
    "display(product_codes.info()) # Общая информация о датафрейме\n",
    "display(product_codes.head()) # Посмотрим первые строки датафрейма\n",
    "display(product_codes.describe()) # Посмотрим на статистику по всем числовым столбцам"
   ]
  },
  {
   "cell_type": "markdown",
   "metadata": {},
   "source": [
    "### Вывод"
   ]
  },
  {
   "cell_type": "markdown",
   "metadata": {},
   "source": [
    "Датасеты требуются в предобработке.\n",
    "\n",
    "**В датасете retail_dataset необходимо:**\n",
    "\n",
    "1. Заменить типы данных в столбцах:\n",
    "\n",
    "- purchasedate (дата покупки) на datetime\n",
    "- CustomerID (id покупателя) на int\n",
    "- loyalty_program (программа лояльности) на int\n",
    "\n",
    "2. Привести названия столбцов к единому стилю\n",
    "3. Заполнить пропущенные значения (проанализировать возможности для заполнения пропущенных значений в столбце customer_id)\n",
    "4. Проверить данные на дубликаты\n",
    "5. Обработать аномальные значения в столбце Quantity (количество товара)\n",
    "\n",
    "**В датасете product_codes необходимо:**\n",
    "\n",
    "- Привести названия столбцов к единому стилю"
   ]
  },
  {
   "cell_type": "markdown",
   "metadata": {},
   "source": [
    "## 2 Предобработка данных "
   ]
  },
  {
   "cell_type": "markdown",
   "metadata": {},
   "source": [
    "### 2.1 Исправим названия столбцов"
   ]
  },
  {
   "cell_type": "code",
   "execution_count": 5,
   "metadata": {},
   "outputs": [
    {
     "data": {
      "text/plain": [
       "Index(['purchase_id', 'item_id', 'quantity', 'purchase_date', 'customer_id',\n",
       "       'shop_id', 'loyalty_program'],\n",
       "      dtype='object')"
      ]
     },
     "metadata": {},
     "output_type": "display_data"
    },
    {
     "data": {
      "text/plain": [
       "Index(['item_id', 'price_per_one'], dtype='object')"
      ]
     },
     "metadata": {},
     "output_type": "display_data"
    }
   ],
   "source": [
    "retail_dataset.columns = retail_dataset.columns.str.lower()\n",
    "product_codes.columns = product_codes.columns.str.lower() # Приведем названия столбцов к нижнему регистру\n",
    "\n",
    "retail_dataset = (retail_dataset.rename(columns={\n",
    "                         'purchaseid':'purchase_id', \n",
    "                         'purchasedate':'purchase_date', \n",
    "                         'customerid':'customer_id',\n",
    "                         'shopid': 'shop_id'})) # Заменим название столбцов\n",
    "\n",
    "product_codes = (product_codes.rename(columns={\n",
    "                         'productid':'item_id'})) # Заменим название столбцов\n",
    "\n",
    "display(retail_dataset.columns)\n",
    "display(product_codes.columns) # Проверим "
   ]
  },
  {
   "cell_type": "markdown",
   "metadata": {},
   "source": [
    "### 2.2 Изменим типы данных в столбцах"
   ]
  },
  {
   "cell_type": "code",
   "execution_count": 6,
   "metadata": {},
   "outputs": [
    {
     "name": "stdout",
     "output_type": "stream",
     "text": [
      "<class 'pandas.core.frame.DataFrame'>\n",
      "RangeIndex: 105335 entries, 0 to 105334\n",
      "Data columns (total 7 columns):\n",
      " #   Column           Non-Null Count   Dtype         \n",
      "---  ------           --------------   -----         \n",
      " 0   purchase_id      105335 non-null  object        \n",
      " 1   item_id          105335 non-null  object        \n",
      " 2   quantity         105335 non-null  int64         \n",
      " 3   purchase_date    105335 non-null  datetime64[ns]\n",
      " 4   customer_id      69125 non-null   float64       \n",
      " 5   shop_id          105335 non-null  object        \n",
      " 6   loyalty_program  105335 non-null  int32         \n",
      "dtypes: datetime64[ns](1), float64(1), int32(1), int64(1), object(3)\n",
      "memory usage: 5.2+ MB\n"
     ]
    }
   ],
   "source": [
    "retail_dataset['purchase_date'] = pd.to_datetime(retail_dataset['purchase_date'], format='%Y-%m-%dT')\n",
    "retail_dataset['loyalty_program'] = (retail_dataset['loyalty_program']\n",
    "                                     .astype('int32')) # Изменим тип данных в столбцах\n",
    "retail_dataset.info() # Проверим "
   ]
  },
  {
   "cell_type": "markdown",
   "metadata": {},
   "source": [
    "Тип данных в столбце customer_id заменим после заполнения пропусков. "
   ]
  },
  {
   "cell_type": "markdown",
   "metadata": {},
   "source": [
    "### 2.3 Поиск и заполнение пропущенных значений в столбцах"
   ]
  },
  {
   "cell_type": "code",
   "execution_count": 7,
   "metadata": {},
   "outputs": [
    {
     "data": {
      "text/plain": [
       "purchase_id            0\n",
       "item_id                0\n",
       "quantity               0\n",
       "purchase_date          0\n",
       "shop_id                0\n",
       "loyalty_program        0\n",
       "customer_id        36210\n",
       "dtype: int64"
      ]
     },
     "metadata": {},
     "output_type": "display_data"
    },
    {
     "data": {
      "text/plain": [
       "purchase_id         0.000000\n",
       "item_id             0.000000\n",
       "quantity            0.000000\n",
       "purchase_date       0.000000\n",
       "customer_id        34.376038\n",
       "shop_id             0.000000\n",
       "loyalty_program     0.000000\n",
       "dtype: float64"
      ]
     },
     "execution_count": 7,
     "metadata": {},
     "output_type": "execute_result"
    }
   ],
   "source": [
    "display(retail_dataset.isna().sum().sort_values()) # Количество пропущенных значений в столбцах\n",
    "retail_dataset.isna().mean()*100 # Доля пропущенных значений "
   ]
  },
  {
   "cell_type": "markdown",
   "metadata": {},
   "source": [
    "36210 (35%) пропущенных значений в стобце customer_id датасета retail_dataset. Такое количество данных удалить не можем. Попробуем заполнить пропущенные значения."
   ]
  },
  {
   "cell_type": "markdown",
   "metadata": {},
   "source": [
    "Проверим, есть ли в датасете с пропусками участники программы лояльности."
   ]
  },
  {
   "cell_type": "code",
   "execution_count": 8,
   "metadata": {},
   "outputs": [
    {
     "data": {
      "text/html": [
       "<div>\n",
       "<style scoped>\n",
       "    .dataframe tbody tr th:only-of-type {\n",
       "        vertical-align: middle;\n",
       "    }\n",
       "\n",
       "    .dataframe tbody tr th {\n",
       "        vertical-align: top;\n",
       "    }\n",
       "\n",
       "    .dataframe thead th {\n",
       "        text-align: right;\n",
       "    }\n",
       "</style>\n",
       "<table border=\"1\" class=\"dataframe\">\n",
       "  <thead>\n",
       "    <tr style=\"text-align: right;\">\n",
       "      <th></th>\n",
       "      <th>purchase_id</th>\n",
       "      <th>item_id</th>\n",
       "      <th>quantity</th>\n",
       "      <th>purchase_date</th>\n",
       "      <th>customer_id</th>\n",
       "      <th>shop_id</th>\n",
       "      <th>loyalty_program</th>\n",
       "    </tr>\n",
       "  </thead>\n",
       "  <tbody>\n",
       "    <tr>\n",
       "      <th>6</th>\n",
       "      <td>540468</td>\n",
       "      <td>22189</td>\n",
       "      <td>0</td>\n",
       "      <td>2017-01-07 13:55:00</td>\n",
       "      <td>NaN</td>\n",
       "      <td>Shop 0</td>\n",
       "      <td>0</td>\n",
       "    </tr>\n",
       "    <tr>\n",
       "      <th>7</th>\n",
       "      <td>541424</td>\n",
       "      <td>79321</td>\n",
       "      <td>1</td>\n",
       "      <td>2017-01-17 17:57:00</td>\n",
       "      <td>NaN</td>\n",
       "      <td>Shop 0</td>\n",
       "      <td>0</td>\n",
       "    </tr>\n",
       "    <tr>\n",
       "      <th>8</th>\n",
       "      <td>538883</td>\n",
       "      <td>22891</td>\n",
       "      <td>0</td>\n",
       "      <td>2016-12-14 15:56:00</td>\n",
       "      <td>NaN</td>\n",
       "      <td>Shop 0</td>\n",
       "      <td>0</td>\n",
       "    </tr>\n",
       "    <tr>\n",
       "      <th>11</th>\n",
       "      <td>541696</td>\n",
       "      <td>22197</td>\n",
       "      <td>4</td>\n",
       "      <td>2017-01-20 18:08:00</td>\n",
       "      <td>NaN</td>\n",
       "      <td>Shop 0</td>\n",
       "      <td>0</td>\n",
       "    </tr>\n",
       "    <tr>\n",
       "      <th>16</th>\n",
       "      <td>539744</td>\n",
       "      <td>22300</td>\n",
       "      <td>5</td>\n",
       "      <td>2016-12-21 15:21:00</td>\n",
       "      <td>NaN</td>\n",
       "      <td>Shop 0</td>\n",
       "      <td>0</td>\n",
       "    </tr>\n",
       "  </tbody>\n",
       "</table>\n",
       "</div>"
      ],
      "text/plain": [
       "   purchase_id item_id  quantity       purchase_date  customer_id shop_id  \\\n",
       "6       540468   22189         0 2017-01-07 13:55:00          NaN  Shop 0   \n",
       "7       541424   79321         1 2017-01-17 17:57:00          NaN  Shop 0   \n",
       "8       538883   22891         0 2016-12-14 15:56:00          NaN  Shop 0   \n",
       "11      541696   22197         4 2017-01-20 18:08:00          NaN  Shop 0   \n",
       "16      539744   22300         5 2016-12-21 15:21:00          NaN  Shop 0   \n",
       "\n",
       "    loyalty_program  \n",
       "6                 0  \n",
       "7                 0  \n",
       "8                 0  \n",
       "11                0  \n",
       "16                0  "
      ]
     },
     "execution_count": 8,
     "metadata": {},
     "output_type": "execute_result"
    }
   ],
   "source": [
    "i = retail_dataset[retail_dataset['customer_id'].isna()]\n",
    "i.head() # Создадим датасет с пропущенными значениями"
   ]
  },
  {
   "cell_type": "code",
   "execution_count": 9,
   "metadata": {},
   "outputs": [
    {
     "data": {
      "text/html": [
       "<div>\n",
       "<style scoped>\n",
       "    .dataframe tbody tr th:only-of-type {\n",
       "        vertical-align: middle;\n",
       "    }\n",
       "\n",
       "    .dataframe tbody tr th {\n",
       "        vertical-align: top;\n",
       "    }\n",
       "\n",
       "    .dataframe thead th {\n",
       "        text-align: right;\n",
       "    }\n",
       "</style>\n",
       "<table border=\"1\" class=\"dataframe\">\n",
       "  <thead>\n",
       "    <tr style=\"text-align: right;\">\n",
       "      <th></th>\n",
       "      <th>purchase_id</th>\n",
       "      <th>item_id</th>\n",
       "      <th>quantity</th>\n",
       "      <th>purchase_date</th>\n",
       "      <th>customer_id</th>\n",
       "      <th>shop_id</th>\n",
       "      <th>loyalty_program</th>\n",
       "    </tr>\n",
       "  </thead>\n",
       "  <tbody>\n",
       "  </tbody>\n",
       "</table>\n",
       "</div>"
      ],
      "text/plain": [
       "Empty DataFrame\n",
       "Columns: [purchase_id, item_id, quantity, purchase_date, customer_id, shop_id, loyalty_program]\n",
       "Index: []"
      ]
     },
     "execution_count": 9,
     "metadata": {},
     "output_type": "execute_result"
    }
   ],
   "source": [
    "i.query('loyalty_program == 1') # Делаем срез"
   ]
  },
  {
   "cell_type": "markdown",
   "metadata": {},
   "source": [
    "Участников программ лояльности среди покупателей с пропущенными значениями нет. \n",
    "\n",
    "Проверим, в каких магазинах производилась покупка."
   ]
  },
  {
   "cell_type": "code",
   "execution_count": 10,
   "metadata": {},
   "outputs": [
    {
     "data": {
      "text/plain": [
       "array(['Shop 0', 'Shop 25', 'Shop 6', 'Shop 21', 'Shop 23'], dtype=object)"
      ]
     },
     "execution_count": 10,
     "metadata": {},
     "output_type": "execute_result"
    }
   ],
   "source": [
    "i['shop_id'].unique() # Найдем уникальные значения магазинов"
   ]
  },
  {
   "cell_type": "code",
   "execution_count": 11,
   "metadata": {},
   "outputs": [
    {
     "data": {
      "text/html": [
       "<div>\n",
       "<style scoped>\n",
       "    .dataframe tbody tr th:only-of-type {\n",
       "        vertical-align: middle;\n",
       "    }\n",
       "\n",
       "    .dataframe tbody tr th {\n",
       "        vertical-align: top;\n",
       "    }\n",
       "\n",
       "    .dataframe thead th {\n",
       "        text-align: right;\n",
       "    }\n",
       "</style>\n",
       "<table border=\"1\" class=\"dataframe\">\n",
       "  <thead>\n",
       "    <tr style=\"text-align: right;\">\n",
       "      <th></th>\n",
       "      <th>shop_id</th>\n",
       "      <th>purchase_id</th>\n",
       "    </tr>\n",
       "  </thead>\n",
       "  <tbody>\n",
       "    <tr>\n",
       "      <th>0</th>\n",
       "      <td>Shop 0</td>\n",
       "      <td>36009</td>\n",
       "    </tr>\n",
       "    <tr>\n",
       "      <th>1</th>\n",
       "      <td>Shop 6</td>\n",
       "      <td>128</td>\n",
       "    </tr>\n",
       "    <tr>\n",
       "      <th>2</th>\n",
       "      <td>Shop 25</td>\n",
       "      <td>57</td>\n",
       "    </tr>\n",
       "    <tr>\n",
       "      <th>3</th>\n",
       "      <td>Shop 21</td>\n",
       "      <td>14</td>\n",
       "    </tr>\n",
       "    <tr>\n",
       "      <th>4</th>\n",
       "      <td>Shop 23</td>\n",
       "      <td>2</td>\n",
       "    </tr>\n",
       "  </tbody>\n",
       "</table>\n",
       "</div>"
      ],
      "text/plain": [
       "   shop_id  purchase_id\n",
       "0   Shop 0        36009\n",
       "1   Shop 6          128\n",
       "2  Shop 25           57\n",
       "3  Shop 21           14\n",
       "4  Shop 23            2"
      ]
     },
     "execution_count": 11,
     "metadata": {},
     "output_type": "execute_result"
    }
   ],
   "source": [
    "(i.groupby('shop_id')['purchase_id'].count()\n",
    "              .sort_values(ascending=False)\n",
    "              .reset_index()) # Группируем по магазинам"
   ]
  },
  {
   "cell_type": "markdown",
   "metadata": {},
   "source": [
    "Практически все покупатели, у которых пропущены id, закупались у магазина 'Shop_0'. \n",
    "\n",
    "\n",
    "Скорее всего это покупатели, которые впервые зашли в магазин и приобрели товары, поэтому в базе данных клиентов их нет. Также возможно, что при покупке товара случился технический сбой. В любом случае удалять пропущенные значения не будем, заменим все пропущенные значения на 0. "
   ]
  },
  {
   "cell_type": "code",
   "execution_count": 12,
   "metadata": {},
   "outputs": [],
   "source": [
    "retail_dataset['customer_id'] = retail_dataset['customer_id'].fillna(0) # Заменю все пропуски на 0 "
   ]
  },
  {
   "cell_type": "code",
   "execution_count": 13,
   "metadata": {},
   "outputs": [],
   "source": [
    "retail_dataset['customer_id'] = retail_dataset['customer_id'].astype('int32')\n",
    "# Заменю тип данных в столбце, после заполнения пропусков"
   ]
  },
  {
   "cell_type": "markdown",
   "metadata": {},
   "source": [
    "### 2.4 Поиск дубликатов"
   ]
  },
  {
   "cell_type": "code",
   "execution_count": 14,
   "metadata": {},
   "outputs": [
    {
     "data": {
      "text/plain": [
       "1033"
      ]
     },
     "metadata": {},
     "output_type": "display_data"
    },
    {
     "data": {
      "text/plain": [
       "0"
      ]
     },
     "metadata": {},
     "output_type": "display_data"
    }
   ],
   "source": [
    "display(retail_dataset.duplicated().sum())\n",
    "display(product_codes.duplicated().sum()) # Наличие дубликатов"
   ]
  },
  {
   "cell_type": "markdown",
   "metadata": {},
   "source": [
    "В датасете retail_dataset выявлено 1033 дубликатов. В условиях, описанных заказчиком проекта, говорится о чеках, в которых могут быть отдельные записи для одного и того же товара. Удалять дубликаты не будем."
   ]
  },
  {
   "cell_type": "markdown",
   "metadata": {},
   "source": [
    "### 2.5 Обработка аномальных значений"
   ]
  },
  {
   "cell_type": "code",
   "execution_count": 15,
   "metadata": {},
   "outputs": [
    {
     "data": {
      "text/plain": [
       "count    105335.000000\n",
       "mean         10.093245\n",
       "std         327.884632\n",
       "min           0.000000\n",
       "25%           0.000000\n",
       "50%           2.000000\n",
       "75%           8.000000\n",
       "max       74216.000000\n",
       "Name: quantity, dtype: float64"
      ]
     },
     "execution_count": 15,
     "metadata": {},
     "output_type": "execute_result"
    }
   ],
   "source": [
    "retail_dataset['quantity'] = retail_dataset['quantity'].abs()\n",
    "retail_dataset['quantity'].describe()"
   ]
  },
  {
   "cell_type": "markdown",
   "metadata": {},
   "source": [
    "Отрицательные значения убрали"
   ]
  },
  {
   "cell_type": "markdown",
   "metadata": {},
   "source": [
    "### Вывод:"
   ]
  },
  {
   "cell_type": "markdown",
   "metadata": {},
   "source": [
    "**В рамках предобработки данных:**\n",
    "\n",
    "- Привели названия столбцов в датасетах к единому стилю;\n",
    "- Изменили типы данных;\n",
    "- Выявили и заполнили пропущенные значения в данных;\n",
    "- Выявили и оставили дубликаты;\n",
    "- Обработали аномальные значения в данных."
   ]
  },
  {
   "cell_type": "markdown",
   "metadata": {},
   "source": [
    "## 3 Исследовательский анализ данных"
   ]
  },
  {
   "cell_type": "markdown",
   "metadata": {},
   "source": [
    "### 3.1 Объединим датасеты retail_dataset и product_codes"
   ]
  },
  {
   "cell_type": "markdown",
   "metadata": {},
   "source": [
    "В таблице с ценами (product_codes), для некоторыех товаров указано несколько цен. Для следующих расчетов расчитаем среднюю цену таких товаров."
   ]
  },
  {
   "cell_type": "code",
   "execution_count": 16,
   "metadata": {},
   "outputs": [
    {
     "data": {
      "text/html": [
       "<div>\n",
       "<style scoped>\n",
       "    .dataframe tbody tr th:only-of-type {\n",
       "        vertical-align: middle;\n",
       "    }\n",
       "\n",
       "    .dataframe tbody tr th {\n",
       "        vertical-align: top;\n",
       "    }\n",
       "\n",
       "    .dataframe thead th {\n",
       "        text-align: right;\n",
       "    }\n",
       "</style>\n",
       "<table border=\"1\" class=\"dataframe\">\n",
       "  <thead>\n",
       "    <tr style=\"text-align: right;\">\n",
       "      <th></th>\n",
       "      <th>item_id</th>\n",
       "      <th>price_per_one</th>\n",
       "    </tr>\n",
       "  </thead>\n",
       "  <tbody>\n",
       "    <tr>\n",
       "      <th>0</th>\n",
       "      <td>10002</td>\n",
       "      <td>1.38</td>\n",
       "    </tr>\n",
       "    <tr>\n",
       "      <th>1</th>\n",
       "      <td>10080</td>\n",
       "      <td>0.85</td>\n",
       "    </tr>\n",
       "    <tr>\n",
       "      <th>2</th>\n",
       "      <td>10120</td>\n",
       "      <td>0.21</td>\n",
       "    </tr>\n",
       "    <tr>\n",
       "      <th>3</th>\n",
       "      <td>10123C</td>\n",
       "      <td>0.65</td>\n",
       "    </tr>\n",
       "    <tr>\n",
       "      <th>4</th>\n",
       "      <td>10124A</td>\n",
       "      <td>0.42</td>\n",
       "    </tr>\n",
       "  </tbody>\n",
       "</table>\n",
       "</div>"
      ],
      "text/plain": [
       "  item_id  price_per_one\n",
       "0   10002           1.38\n",
       "1   10080           0.85\n",
       "2   10120           0.21\n",
       "3  10123C           0.65\n",
       "4  10124A           0.42"
      ]
     },
     "execution_count": 16,
     "metadata": {},
     "output_type": "execute_result"
    }
   ],
   "source": [
    "product_codes_new = (product_codes\n",
    "                     .groupby('item_id')['price_per_one']\n",
    "                     .mean()\n",
    "                     .reset_index())\n",
    "\n",
    "product_codes_new.head() # Сгруппируем таблицу product_codes и заменим цены на среднее значение"
   ]
  },
  {
   "cell_type": "code",
   "execution_count": 17,
   "metadata": {},
   "outputs": [
    {
     "data": {
      "text/html": [
       "<div>\n",
       "<style scoped>\n",
       "    .dataframe tbody tr th:only-of-type {\n",
       "        vertical-align: middle;\n",
       "    }\n",
       "\n",
       "    .dataframe tbody tr th {\n",
       "        vertical-align: top;\n",
       "    }\n",
       "\n",
       "    .dataframe thead th {\n",
       "        text-align: right;\n",
       "    }\n",
       "</style>\n",
       "<table border=\"1\" class=\"dataframe\">\n",
       "  <thead>\n",
       "    <tr style=\"text-align: right;\">\n",
       "      <th></th>\n",
       "      <th>purchase_id</th>\n",
       "      <th>item_id</th>\n",
       "      <th>quantity</th>\n",
       "      <th>purchase_date</th>\n",
       "      <th>customer_id</th>\n",
       "      <th>shop_id</th>\n",
       "      <th>loyalty_program</th>\n",
       "      <th>price_per_one</th>\n",
       "    </tr>\n",
       "  </thead>\n",
       "  <tbody>\n",
       "    <tr>\n",
       "      <th>97691</th>\n",
       "      <td>536365</td>\n",
       "      <td>21730</td>\n",
       "      <td>5</td>\n",
       "      <td>2016-12-01 08:26:00</td>\n",
       "      <td>23529</td>\n",
       "      <td>Shop 0</td>\n",
       "      <td>1</td>\n",
       "      <td>7.332500</td>\n",
       "    </tr>\n",
       "    <tr>\n",
       "      <th>8280</th>\n",
       "      <td>536365</td>\n",
       "      <td>85123A</td>\n",
       "      <td>5</td>\n",
       "      <td>2016-12-01 08:26:00</td>\n",
       "      <td>23529</td>\n",
       "      <td>Shop 0</td>\n",
       "      <td>1</td>\n",
       "      <td>3.406667</td>\n",
       "    </tr>\n",
       "    <tr>\n",
       "      <th>16061</th>\n",
       "      <td>536365</td>\n",
       "      <td>84029E</td>\n",
       "      <td>5</td>\n",
       "      <td>2016-12-01 08:26:00</td>\n",
       "      <td>23529</td>\n",
       "      <td>Shop 0</td>\n",
       "      <td>1</td>\n",
       "      <td>5.241250</td>\n",
       "    </tr>\n",
       "    <tr>\n",
       "      <th>18590</th>\n",
       "      <td>536365</td>\n",
       "      <td>84406B</td>\n",
       "      <td>7</td>\n",
       "      <td>2016-12-01 08:26:00</td>\n",
       "      <td>23529</td>\n",
       "      <td>Shop 0</td>\n",
       "      <td>1</td>\n",
       "      <td>4.253000</td>\n",
       "    </tr>\n",
       "    <tr>\n",
       "      <th>72474</th>\n",
       "      <td>536365</td>\n",
       "      <td>71053</td>\n",
       "      <td>5</td>\n",
       "      <td>2016-12-01 08:26:00</td>\n",
       "      <td>23529</td>\n",
       "      <td>Shop 0</td>\n",
       "      <td>1</td>\n",
       "      <td>5.975000</td>\n",
       "    </tr>\n",
       "  </tbody>\n",
       "</table>\n",
       "</div>"
      ],
      "text/plain": [
       "      purchase_id item_id  quantity       purchase_date  customer_id shop_id  \\\n",
       "97691      536365   21730         5 2016-12-01 08:26:00        23529  Shop 0   \n",
       "8280       536365  85123A         5 2016-12-01 08:26:00        23529  Shop 0   \n",
       "16061      536365  84029E         5 2016-12-01 08:26:00        23529  Shop 0   \n",
       "18590      536365  84406B         7 2016-12-01 08:26:00        23529  Shop 0   \n",
       "72474      536365   71053         5 2016-12-01 08:26:00        23529  Shop 0   \n",
       "\n",
       "       loyalty_program  price_per_one  \n",
       "97691                1       7.332500  \n",
       "8280                 1       3.406667  \n",
       "16061                1       5.241250  \n",
       "18590                1       4.253000  \n",
       "72474                1       5.975000  "
      ]
     },
     "execution_count": 17,
     "metadata": {},
     "output_type": "execute_result"
    }
   ],
   "source": [
    "df = retail_dataset.merge(product_codes_new, on= 'item_id').sort_values(by='purchase_date')\n",
    "df.head() # Объединяем датасеты по столбцу item_id (id товара) и сохраним в переменную df"
   ]
  },
  {
   "cell_type": "markdown",
   "metadata": {},
   "source": [
    "### 3.2 Создадим столбец с общей суммой покупок "
   ]
  },
  {
   "cell_type": "code",
   "execution_count": 18,
   "metadata": {},
   "outputs": [
    {
     "data": {
      "text/html": [
       "<div>\n",
       "<style scoped>\n",
       "    .dataframe tbody tr th:only-of-type {\n",
       "        vertical-align: middle;\n",
       "    }\n",
       "\n",
       "    .dataframe tbody tr th {\n",
       "        vertical-align: top;\n",
       "    }\n",
       "\n",
       "    .dataframe thead th {\n",
       "        text-align: right;\n",
       "    }\n",
       "</style>\n",
       "<table border=\"1\" class=\"dataframe\">\n",
       "  <thead>\n",
       "    <tr style=\"text-align: right;\">\n",
       "      <th></th>\n",
       "      <th>purchase_id</th>\n",
       "      <th>item_id</th>\n",
       "      <th>quantity</th>\n",
       "      <th>purchase_date</th>\n",
       "      <th>customer_id</th>\n",
       "      <th>shop_id</th>\n",
       "      <th>loyalty_program</th>\n",
       "      <th>price_per_one</th>\n",
       "      <th>total_price</th>\n",
       "    </tr>\n",
       "  </thead>\n",
       "  <tbody>\n",
       "    <tr>\n",
       "      <th>97691</th>\n",
       "      <td>536365</td>\n",
       "      <td>21730</td>\n",
       "      <td>5</td>\n",
       "      <td>2016-12-01 08:26:00</td>\n",
       "      <td>23529</td>\n",
       "      <td>Shop 0</td>\n",
       "      <td>1</td>\n",
       "      <td>7.332500</td>\n",
       "      <td>36.662500</td>\n",
       "    </tr>\n",
       "    <tr>\n",
       "      <th>8280</th>\n",
       "      <td>536365</td>\n",
       "      <td>85123A</td>\n",
       "      <td>5</td>\n",
       "      <td>2016-12-01 08:26:00</td>\n",
       "      <td>23529</td>\n",
       "      <td>Shop 0</td>\n",
       "      <td>1</td>\n",
       "      <td>3.406667</td>\n",
       "      <td>17.033333</td>\n",
       "    </tr>\n",
       "    <tr>\n",
       "      <th>16061</th>\n",
       "      <td>536365</td>\n",
       "      <td>84029E</td>\n",
       "      <td>5</td>\n",
       "      <td>2016-12-01 08:26:00</td>\n",
       "      <td>23529</td>\n",
       "      <td>Shop 0</td>\n",
       "      <td>1</td>\n",
       "      <td>5.241250</td>\n",
       "      <td>26.206250</td>\n",
       "    </tr>\n",
       "    <tr>\n",
       "      <th>18590</th>\n",
       "      <td>536365</td>\n",
       "      <td>84406B</td>\n",
       "      <td>7</td>\n",
       "      <td>2016-12-01 08:26:00</td>\n",
       "      <td>23529</td>\n",
       "      <td>Shop 0</td>\n",
       "      <td>1</td>\n",
       "      <td>4.253000</td>\n",
       "      <td>29.771000</td>\n",
       "    </tr>\n",
       "    <tr>\n",
       "      <th>72474</th>\n",
       "      <td>536365</td>\n",
       "      <td>71053</td>\n",
       "      <td>5</td>\n",
       "      <td>2016-12-01 08:26:00</td>\n",
       "      <td>23529</td>\n",
       "      <td>Shop 0</td>\n",
       "      <td>1</td>\n",
       "      <td>5.975000</td>\n",
       "      <td>29.875000</td>\n",
       "    </tr>\n",
       "  </tbody>\n",
       "</table>\n",
       "</div>"
      ],
      "text/plain": [
       "      purchase_id item_id  quantity       purchase_date  customer_id shop_id  \\\n",
       "97691      536365   21730         5 2016-12-01 08:26:00        23529  Shop 0   \n",
       "8280       536365  85123A         5 2016-12-01 08:26:00        23529  Shop 0   \n",
       "16061      536365  84029E         5 2016-12-01 08:26:00        23529  Shop 0   \n",
       "18590      536365  84406B         7 2016-12-01 08:26:00        23529  Shop 0   \n",
       "72474      536365   71053         5 2016-12-01 08:26:00        23529  Shop 0   \n",
       "\n",
       "       loyalty_program  price_per_one  total_price  \n",
       "97691                1       7.332500    36.662500  \n",
       "8280                 1       3.406667    17.033333  \n",
       "16061                1       5.241250    26.206250  \n",
       "18590                1       4.253000    29.771000  \n",
       "72474                1       5.975000    29.875000  "
      ]
     },
     "execution_count": 18,
     "metadata": {},
     "output_type": "execute_result"
    }
   ],
   "source": [
    "df['total_price'] = df['quantity'] * df['price_per_one']\n",
    "df.head() # Умножим количество товара на стоимость одной единицы товара"
   ]
  },
  {
   "cell_type": "markdown",
   "metadata": {},
   "source": [
    "### 3.3 Создадим столбец с днем покупок"
   ]
  },
  {
   "cell_type": "code",
   "execution_count": 19,
   "metadata": {},
   "outputs": [
    {
     "data": {
      "text/html": [
       "<div>\n",
       "<style scoped>\n",
       "    .dataframe tbody tr th:only-of-type {\n",
       "        vertical-align: middle;\n",
       "    }\n",
       "\n",
       "    .dataframe tbody tr th {\n",
       "        vertical-align: top;\n",
       "    }\n",
       "\n",
       "    .dataframe thead th {\n",
       "        text-align: right;\n",
       "    }\n",
       "</style>\n",
       "<table border=\"1\" class=\"dataframe\">\n",
       "  <thead>\n",
       "    <tr style=\"text-align: right;\">\n",
       "      <th></th>\n",
       "      <th>purchase_id</th>\n",
       "      <th>item_id</th>\n",
       "      <th>quantity</th>\n",
       "      <th>purchase_date</th>\n",
       "      <th>customer_id</th>\n",
       "      <th>shop_id</th>\n",
       "      <th>loyalty_program</th>\n",
       "      <th>price_per_one</th>\n",
       "      <th>total_price</th>\n",
       "      <th>purchase_day</th>\n",
       "    </tr>\n",
       "  </thead>\n",
       "  <tbody>\n",
       "    <tr>\n",
       "      <th>97691</th>\n",
       "      <td>536365</td>\n",
       "      <td>21730</td>\n",
       "      <td>5</td>\n",
       "      <td>2016-12-01 08:26:00</td>\n",
       "      <td>23529</td>\n",
       "      <td>Shop 0</td>\n",
       "      <td>1</td>\n",
       "      <td>7.332500</td>\n",
       "      <td>36.662500</td>\n",
       "      <td>2016-12-01</td>\n",
       "    </tr>\n",
       "    <tr>\n",
       "      <th>8280</th>\n",
       "      <td>536365</td>\n",
       "      <td>85123A</td>\n",
       "      <td>5</td>\n",
       "      <td>2016-12-01 08:26:00</td>\n",
       "      <td>23529</td>\n",
       "      <td>Shop 0</td>\n",
       "      <td>1</td>\n",
       "      <td>3.406667</td>\n",
       "      <td>17.033333</td>\n",
       "      <td>2016-12-01</td>\n",
       "    </tr>\n",
       "    <tr>\n",
       "      <th>16061</th>\n",
       "      <td>536365</td>\n",
       "      <td>84029E</td>\n",
       "      <td>5</td>\n",
       "      <td>2016-12-01 08:26:00</td>\n",
       "      <td>23529</td>\n",
       "      <td>Shop 0</td>\n",
       "      <td>1</td>\n",
       "      <td>5.241250</td>\n",
       "      <td>26.206250</td>\n",
       "      <td>2016-12-01</td>\n",
       "    </tr>\n",
       "    <tr>\n",
       "      <th>18590</th>\n",
       "      <td>536365</td>\n",
       "      <td>84406B</td>\n",
       "      <td>7</td>\n",
       "      <td>2016-12-01 08:26:00</td>\n",
       "      <td>23529</td>\n",
       "      <td>Shop 0</td>\n",
       "      <td>1</td>\n",
       "      <td>4.253000</td>\n",
       "      <td>29.771000</td>\n",
       "      <td>2016-12-01</td>\n",
       "    </tr>\n",
       "    <tr>\n",
       "      <th>72474</th>\n",
       "      <td>536365</td>\n",
       "      <td>71053</td>\n",
       "      <td>5</td>\n",
       "      <td>2016-12-01 08:26:00</td>\n",
       "      <td>23529</td>\n",
       "      <td>Shop 0</td>\n",
       "      <td>1</td>\n",
       "      <td>5.975000</td>\n",
       "      <td>29.875000</td>\n",
       "      <td>2016-12-01</td>\n",
       "    </tr>\n",
       "  </tbody>\n",
       "</table>\n",
       "</div>"
      ],
      "text/plain": [
       "      purchase_id item_id  quantity       purchase_date  customer_id shop_id  \\\n",
       "97691      536365   21730         5 2016-12-01 08:26:00        23529  Shop 0   \n",
       "8280       536365  85123A         5 2016-12-01 08:26:00        23529  Shop 0   \n",
       "16061      536365  84029E         5 2016-12-01 08:26:00        23529  Shop 0   \n",
       "18590      536365  84406B         7 2016-12-01 08:26:00        23529  Shop 0   \n",
       "72474      536365   71053         5 2016-12-01 08:26:00        23529  Shop 0   \n",
       "\n",
       "       loyalty_program  price_per_one  total_price purchase_day  \n",
       "97691                1       7.332500    36.662500   2016-12-01  \n",
       "8280                 1       3.406667    17.033333   2016-12-01  \n",
       "16061                1       5.241250    26.206250   2016-12-01  \n",
       "18590                1       4.253000    29.771000   2016-12-01  \n",
       "72474                1       5.975000    29.875000   2016-12-01  "
      ]
     },
     "execution_count": 19,
     "metadata": {},
     "output_type": "execute_result"
    }
   ],
   "source": [
    "df['purchase_day'] = df['purchase_date'].dt.date # Добавим в таблицу столбец с днем \n",
    "df.head()"
   ]
  },
  {
   "cell_type": "markdown",
   "metadata": {},
   "source": [
    "### 3.4 Максимальная и минимальная дата"
   ]
  },
  {
   "cell_type": "code",
   "execution_count": 20,
   "metadata": {},
   "outputs": [
    {
     "data": {
      "text/plain": [
       "Timestamp('2017-02-28 17:04:00')"
      ]
     },
     "metadata": {},
     "output_type": "display_data"
    },
    {
     "data": {
      "text/plain": [
       "Timestamp('2016-12-01 08:26:00')"
      ]
     },
     "execution_count": 20,
     "metadata": {},
     "output_type": "execute_result"
    }
   ],
   "source": [
    "max_date = df['purchase_date'].max()\n",
    "min_date = df['purchase_date'].min() # Найдем максимальную и минимальную дату\n",
    "display(max_date)\n",
    "min_date"
   ]
  },
  {
   "cell_type": "markdown",
   "metadata": {},
   "source": [
    "**Вывод:**\n",
    "\n",
    "Данные представлены за период с 01 декабря 2016 года по 28 февраля 2017 года"
   ]
  },
  {
   "cell_type": "markdown",
   "metadata": {},
   "source": [
    "### 3.5 Количество покупок по дням "
   ]
  },
  {
   "cell_type": "code",
   "execution_count": 21,
   "metadata": {},
   "outputs": [
    {
     "data": {
      "text/html": [
       "<div>\n",
       "<style scoped>\n",
       "    .dataframe tbody tr th:only-of-type {\n",
       "        vertical-align: middle;\n",
       "    }\n",
       "\n",
       "    .dataframe tbody tr th {\n",
       "        vertical-align: top;\n",
       "    }\n",
       "\n",
       "    .dataframe thead th {\n",
       "        text-align: right;\n",
       "    }\n",
       "</style>\n",
       "<table border=\"1\" class=\"dataframe\">\n",
       "  <thead>\n",
       "    <tr style=\"text-align: right;\">\n",
       "      <th></th>\n",
       "      <th>purchase_day</th>\n",
       "      <th>purchase_id</th>\n",
       "    </tr>\n",
       "  </thead>\n",
       "  <tbody>\n",
       "    <tr>\n",
       "      <th>0</th>\n",
       "      <td>2016-12-01</td>\n",
       "      <td>143</td>\n",
       "    </tr>\n",
       "    <tr>\n",
       "      <th>1</th>\n",
       "      <td>2016-12-02</td>\n",
       "      <td>167</td>\n",
       "    </tr>\n",
       "    <tr>\n",
       "      <th>2</th>\n",
       "      <td>2016-12-03</td>\n",
       "      <td>108</td>\n",
       "    </tr>\n",
       "    <tr>\n",
       "      <th>3</th>\n",
       "      <td>2016-12-05</td>\n",
       "      <td>95</td>\n",
       "    </tr>\n",
       "    <tr>\n",
       "      <th>4</th>\n",
       "      <td>2016-12-06</td>\n",
       "      <td>133</td>\n",
       "    </tr>\n",
       "    <tr>\n",
       "      <th>...</th>\n",
       "      <td>...</td>\n",
       "      <td>...</td>\n",
       "    </tr>\n",
       "    <tr>\n",
       "      <th>63</th>\n",
       "      <td>2017-02-23</td>\n",
       "      <td>68</td>\n",
       "    </tr>\n",
       "    <tr>\n",
       "      <th>64</th>\n",
       "      <td>2017-02-24</td>\n",
       "      <td>66</td>\n",
       "    </tr>\n",
       "    <tr>\n",
       "      <th>65</th>\n",
       "      <td>2017-02-25</td>\n",
       "      <td>51</td>\n",
       "    </tr>\n",
       "    <tr>\n",
       "      <th>66</th>\n",
       "      <td>2017-02-27</td>\n",
       "      <td>35</td>\n",
       "    </tr>\n",
       "    <tr>\n",
       "      <th>67</th>\n",
       "      <td>2017-02-28</td>\n",
       "      <td>61</td>\n",
       "    </tr>\n",
       "  </tbody>\n",
       "</table>\n",
       "<p>68 rows × 2 columns</p>\n",
       "</div>"
      ],
      "text/plain": [
       "   purchase_day  purchase_id\n",
       "0    2016-12-01          143\n",
       "1    2016-12-02          167\n",
       "2    2016-12-03          108\n",
       "3    2016-12-05           95\n",
       "4    2016-12-06          133\n",
       "..          ...          ...\n",
       "63   2017-02-23           68\n",
       "64   2017-02-24           66\n",
       "65   2017-02-25           51\n",
       "66   2017-02-27           35\n",
       "67   2017-02-28           61\n",
       "\n",
       "[68 rows x 2 columns]"
      ]
     },
     "execution_count": 21,
     "metadata": {},
     "output_type": "execute_result"
    }
   ],
   "source": [
    "number_of_purchases = (df.groupby('purchase_day')['purchase_id']\n",
    "                       .nunique()\n",
    "                       .reset_index() # Количество уникальных покупок по дням \n",
    "                       )\n",
    "number_of_purchases"
   ]
  },
  {
   "cell_type": "code",
   "execution_count": 22,
   "metadata": {},
   "outputs": [
    {
     "data": {
      "image/png": "[encoded data removed]",
      "text/plain": [
       "<Figure size 1440x432 with 1 Axes>"
      ]
     },
     "metadata": {
      "needs_background": "light"
     },
     "output_type": "display_data"
    }
   ],
   "source": [
    "plt.figure(figsize=(20, 6)) # Установим размер графика\n",
    "\n",
    "sns.barplot(x= 'purchase_day', y= 'purchase_id', data = number_of_purchases) # Строим график\n",
    "\n",
    "plt.title('Распределение количества покупок по дням') # Подпишем график\n",
    "plt.xlabel('Дата')\n",
    "plt.ylabel('Количество покупок')\n",
    "plt.xticks(rotation=90) # Повернем надписи по осе x\n",
    "plt.show()"
   ]
  },
  {
   "cell_type": "markdown",
   "metadata": {},
   "source": [
    "**Вывод:**\n",
    "\n",
    "По графику видим, что в период новогодних праздиков (с 24 декабря по 4 января) покупки отсутствуют. В декабре 2016 года наблюдается большее количество покупок, чем в январе и феврале 2017 года."
   ]
  },
  {
   "cell_type": "markdown",
   "metadata": {},
   "source": [
    "### 3.6 Изобразим соотношение покупателей, участвующих и не участвующих в программе лояльности"
   ]
  },
  {
   "cell_type": "code",
   "execution_count": 23,
   "metadata": {},
   "outputs": [
    {
     "data": {
      "text/html": [
       "<div>\n",
       "<style scoped>\n",
       "    .dataframe tbody tr th:only-of-type {\n",
       "        vertical-align: middle;\n",
       "    }\n",
       "\n",
       "    .dataframe tbody tr th {\n",
       "        vertical-align: top;\n",
       "    }\n",
       "\n",
       "    .dataframe thead th {\n",
       "        text-align: right;\n",
       "    }\n",
       "</style>\n",
       "<table border=\"1\" class=\"dataframe\">\n",
       "  <thead>\n",
       "    <tr style=\"text-align: right;\">\n",
       "      <th></th>\n",
       "      <th>loyalty_program</th>\n",
       "      <th>customer_id</th>\n",
       "    </tr>\n",
       "  </thead>\n",
       "  <tbody>\n",
       "    <tr>\n",
       "      <th>0</th>\n",
       "      <td>0</td>\n",
       "      <td>1163</td>\n",
       "    </tr>\n",
       "    <tr>\n",
       "      <th>1</th>\n",
       "      <td>1</td>\n",
       "      <td>587</td>\n",
       "    </tr>\n",
       "  </tbody>\n",
       "</table>\n",
       "</div>"
      ],
      "text/plain": [
       "   loyalty_program  customer_id\n",
       "0                0         1163\n",
       "1                1          587"
      ]
     },
     "execution_count": 23,
     "metadata": {},
     "output_type": "execute_result"
    }
   ],
   "source": [
    "customer_ratio = df.groupby ('loyalty_program').agg({'customer_id': 'nunique'}).reset_index()\n",
    "customer_ratio # Группируем по программе и посчитаем уникальных покупателей "
   ]
  },
  {
   "cell_type": "code",
   "execution_count": 24,
   "metadata": {},
   "outputs": [
    {
     "data": {
      "image/png": "[encoded data removed]",
      "text/plain": [
       "<Figure size 720x576 with 1 Axes>"
      ]
     },
     "metadata": {},
     "output_type": "display_data"
    }
   ],
   "source": [
    "plt.figure(figsize = (10, 8)) # Установим размер диаграммы \n",
    "\n",
    "plt.pie(customer_ratio.customer_id, labels=customer_ratio.loyalty_program # Создаем круговую диаграмму\n",
    "        .map({0: 'Не участвуют в программе лояльности', 1: 'Участвуют в программе лояльности'})\n",
    "        , autopct='%1.1f%%', counterclock=False) # Подпишем доли \n",
    "\n",
    "plt.title('Соотношение покупателей') # Подпишем график\n",
    "plt.show()"
   ]
  },
  {
   "cell_type": "markdown",
   "metadata": {},
   "source": [
    "**Вывод:**\n",
    "\n",
    "66,5% покупателей не участвуют в программе лояльности"
   ]
  },
  {
   "cell_type": "markdown",
   "metadata": {},
   "source": [
    "### 3.7 Общий доход магазинов за весь временной период"
   ]
  },
  {
   "cell_type": "code",
   "execution_count": 25,
   "metadata": {
    "scrolled": true
   },
   "outputs": [
    {
     "data": {
      "text/html": [
       "<div>\n",
       "<style scoped>\n",
       "    .dataframe tbody tr th:only-of-type {\n",
       "        vertical-align: middle;\n",
       "    }\n",
       "\n",
       "    .dataframe tbody tr th {\n",
       "        vertical-align: top;\n",
       "    }\n",
       "\n",
       "    .dataframe thead th {\n",
       "        text-align: right;\n",
       "    }\n",
       "</style>\n",
       "<table border=\"1\" class=\"dataframe\">\n",
       "  <thead>\n",
       "    <tr style=\"text-align: right;\">\n",
       "      <th></th>\n",
       "      <th>shop_id</th>\n",
       "      <th>total_price</th>\n",
       "    </tr>\n",
       "  </thead>\n",
       "  <tbody>\n",
       "    <tr>\n",
       "      <th>0</th>\n",
       "      <td>Shop 0</td>\n",
       "      <td>2.555613e+06</td>\n",
       "    </tr>\n",
       "    <tr>\n",
       "      <th>1</th>\n",
       "      <td>Shop 3</td>\n",
       "      <td>1.042184e+05</td>\n",
       "    </tr>\n",
       "    <tr>\n",
       "      <th>2</th>\n",
       "      <td>Shop 6</td>\n",
       "      <td>6.938536e+04</td>\n",
       "    </tr>\n",
       "    <tr>\n",
       "      <th>3</th>\n",
       "      <td>Shop 4</td>\n",
       "      <td>5.821713e+04</td>\n",
       "    </tr>\n",
       "    <tr>\n",
       "      <th>4</th>\n",
       "      <td>Shop 1</td>\n",
       "      <td>4.886814e+04</td>\n",
       "    </tr>\n",
       "    <tr>\n",
       "      <th>5</th>\n",
       "      <td>Shop 2</td>\n",
       "      <td>4.086284e+04</td>\n",
       "    </tr>\n",
       "    <tr>\n",
       "      <th>6</th>\n",
       "      <td>Shop 14</td>\n",
       "      <td>2.318652e+04</td>\n",
       "    </tr>\n",
       "    <tr>\n",
       "      <th>7</th>\n",
       "      <td>Shop 8</td>\n",
       "      <td>1.854239e+04</td>\n",
       "    </tr>\n",
       "    <tr>\n",
       "      <th>8</th>\n",
       "      <td>Shop 19</td>\n",
       "      <td>1.167662e+04</td>\n",
       "    </tr>\n",
       "    <tr>\n",
       "      <th>9</th>\n",
       "      <td>Shop 7</td>\n",
       "      <td>1.118132e+04</td>\n",
       "    </tr>\n",
       "    <tr>\n",
       "      <th>10</th>\n",
       "      <td>Shop 10</td>\n",
       "      <td>1.022446e+04</td>\n",
       "    </tr>\n",
       "    <tr>\n",
       "      <th>11</th>\n",
       "      <td>Shop 18</td>\n",
       "      <td>7.257550e+03</td>\n",
       "    </tr>\n",
       "    <tr>\n",
       "      <th>12</th>\n",
       "      <td>Shop 12</td>\n",
       "      <td>7.049179e+03</td>\n",
       "    </tr>\n",
       "    <tr>\n",
       "      <th>13</th>\n",
       "      <td>Shop 5</td>\n",
       "      <td>6.136917e+03</td>\n",
       "    </tr>\n",
       "    <tr>\n",
       "      <th>14</th>\n",
       "      <td>Shop 11</td>\n",
       "      <td>4.721715e+03</td>\n",
       "    </tr>\n",
       "    <tr>\n",
       "      <th>15</th>\n",
       "      <td>Shop 24</td>\n",
       "      <td>3.917850e+03</td>\n",
       "    </tr>\n",
       "    <tr>\n",
       "      <th>16</th>\n",
       "      <td>Shop 16</td>\n",
       "      <td>3.874700e+03</td>\n",
       "    </tr>\n",
       "    <tr>\n",
       "      <th>17</th>\n",
       "      <td>Shop 25</td>\n",
       "      <td>3.362047e+03</td>\n",
       "    </tr>\n",
       "    <tr>\n",
       "      <th>18</th>\n",
       "      <td>Shop 22</td>\n",
       "      <td>2.906961e+03</td>\n",
       "    </tr>\n",
       "    <tr>\n",
       "      <th>19</th>\n",
       "      <td>Shop 26</td>\n",
       "      <td>2.768059e+03</td>\n",
       "    </tr>\n",
       "    <tr>\n",
       "      <th>20</th>\n",
       "      <td>Shop 13</td>\n",
       "      <td>2.443400e+03</td>\n",
       "    </tr>\n",
       "    <tr>\n",
       "      <th>21</th>\n",
       "      <td>Shop 9</td>\n",
       "      <td>2.421230e+03</td>\n",
       "    </tr>\n",
       "    <tr>\n",
       "      <th>22</th>\n",
       "      <td>Shop 17</td>\n",
       "      <td>2.232189e+03</td>\n",
       "    </tr>\n",
       "    <tr>\n",
       "      <th>23</th>\n",
       "      <td>Shop 27</td>\n",
       "      <td>2.114421e+03</td>\n",
       "    </tr>\n",
       "    <tr>\n",
       "      <th>24</th>\n",
       "      <td>Shop 21</td>\n",
       "      <td>1.982028e+03</td>\n",
       "    </tr>\n",
       "    <tr>\n",
       "      <th>25</th>\n",
       "      <td>Shop 15</td>\n",
       "      <td>1.718362e+03</td>\n",
       "    </tr>\n",
       "    <tr>\n",
       "      <th>26</th>\n",
       "      <td>Shop 28</td>\n",
       "      <td>1.466012e+03</td>\n",
       "    </tr>\n",
       "    <tr>\n",
       "      <th>27</th>\n",
       "      <td>Shop 20</td>\n",
       "      <td>9.723947e+02</td>\n",
       "    </tr>\n",
       "    <tr>\n",
       "      <th>28</th>\n",
       "      <td>Shop 30</td>\n",
       "      <td>7.425117e+02</td>\n",
       "    </tr>\n",
       "    <tr>\n",
       "      <th>29</th>\n",
       "      <td>Shop 23</td>\n",
       "      <td>5.950800e+02</td>\n",
       "    </tr>\n",
       "    <tr>\n",
       "      <th>30</th>\n",
       "      <td>Shop 29</td>\n",
       "      <td>2.022848e+02</td>\n",
       "    </tr>\n",
       "  </tbody>\n",
       "</table>\n",
       "</div>"
      ],
      "text/plain": [
       "    shop_id   total_price\n",
       "0    Shop 0  2.555613e+06\n",
       "1    Shop 3  1.042184e+05\n",
       "2    Shop 6  6.938536e+04\n",
       "3    Shop 4  5.821713e+04\n",
       "4    Shop 1  4.886814e+04\n",
       "5    Shop 2  4.086284e+04\n",
       "6   Shop 14  2.318652e+04\n",
       "7    Shop 8  1.854239e+04\n",
       "8   Shop 19  1.167662e+04\n",
       "9    Shop 7  1.118132e+04\n",
       "10  Shop 10  1.022446e+04\n",
       "11  Shop 18  7.257550e+03\n",
       "12  Shop 12  7.049179e+03\n",
       "13   Shop 5  6.136917e+03\n",
       "14  Shop 11  4.721715e+03\n",
       "15  Shop 24  3.917850e+03\n",
       "16  Shop 16  3.874700e+03\n",
       "17  Shop 25  3.362047e+03\n",
       "18  Shop 22  2.906961e+03\n",
       "19  Shop 26  2.768059e+03\n",
       "20  Shop 13  2.443400e+03\n",
       "21   Shop 9  2.421230e+03\n",
       "22  Shop 17  2.232189e+03\n",
       "23  Shop 27  2.114421e+03\n",
       "24  Shop 21  1.982028e+03\n",
       "25  Shop 15  1.718362e+03\n",
       "26  Shop 28  1.466012e+03\n",
       "27  Shop 20  9.723947e+02\n",
       "28  Shop 30  7.425117e+02\n",
       "29  Shop 23  5.950800e+02\n",
       "30  Shop 29  2.022848e+02"
      ]
     },
     "execution_count": 25,
     "metadata": {},
     "output_type": "execute_result"
    }
   ],
   "source": [
    "stores_income = (df.groupby('shop_id')\n",
    "                      .agg({'total_price':'sum'})\n",
    "                      .sort_values(by = 'total_price', ascending=False)\n",
    "                      .reset_index())\n",
    "\n",
    "stores_income # Посчитаем общий доход магазинов"
   ]
  },
  {
   "cell_type": "code",
   "execution_count": 26,
   "metadata": {},
   "outputs": [
    {
     "data": {
      "image/png": "[encoded data removed]",
      "text/plain": [
       "<Figure size 864x504 with 1 Axes>"
      ]
     },
     "metadata": {
      "needs_background": "light"
     },
     "output_type": "display_data"
    }
   ],
   "source": [
    "plt.figure(figsize=(12, 7)) # Установим размер графика\n",
    "\n",
    "sns.barplot(x= 'shop_id', y= 'total_price', data = stores_income) # Строим график\n",
    "\n",
    "plt.title('Доход магазинов за весь период') # Подпишем график\n",
    "plt.xlabel('Название магазинов')\n",
    "plt.ylabel('Доход')\n",
    "plt.xticks(rotation=50) # Повернем надписи по осе x\n",
    "plt.show()"
   ]
  },
  {
   "cell_type": "markdown",
   "metadata": {},
   "source": [
    "**Вывод:**\n",
    "\n",
    "Общий доход за весь временной период сильно выделяется только у одного магазина - Shop 0. Как видно на графике, у остальных магазинов доход за три месяца крайне низкий, если сравнивать их с магазином Shop 0. "
   ]
  },
  {
   "cell_type": "markdown",
   "metadata": {},
   "source": [
    "### 3.8 Средний чек по магазинам "
   ]
  },
  {
   "cell_type": "code",
   "execution_count": 27,
   "metadata": {
    "scrolled": true
   },
   "outputs": [
    {
     "data": {
      "text/html": [
       "<div>\n",
       "<style scoped>\n",
       "    .dataframe tbody tr th:only-of-type {\n",
       "        vertical-align: middle;\n",
       "    }\n",
       "\n",
       "    .dataframe tbody tr th {\n",
       "        vertical-align: top;\n",
       "    }\n",
       "\n",
       "    .dataframe thead th {\n",
       "        text-align: right;\n",
       "    }\n",
       "</style>\n",
       "<table border=\"1\" class=\"dataframe\">\n",
       "  <thead>\n",
       "    <tr style=\"text-align: right;\">\n",
       "      <th></th>\n",
       "      <th>shop_id</th>\n",
       "      <th>total_price</th>\n",
       "    </tr>\n",
       "  </thead>\n",
       "  <tbody>\n",
       "    <tr>\n",
       "      <th>0</th>\n",
       "      <td>Shop 23</td>\n",
       "      <td>297.540000</td>\n",
       "    </tr>\n",
       "    <tr>\n",
       "      <th>1</th>\n",
       "      <td>Shop 3</td>\n",
       "      <td>211.825928</td>\n",
       "    </tr>\n",
       "    <tr>\n",
       "      <th>2</th>\n",
       "      <td>Shop 2</td>\n",
       "      <td>161.513221</td>\n",
       "    </tr>\n",
       "    <tr>\n",
       "      <th>3</th>\n",
       "      <td>Shop 19</td>\n",
       "      <td>157.792156</td>\n",
       "    </tr>\n",
       "    <tr>\n",
       "      <th>4</th>\n",
       "      <td>Shop 14</td>\n",
       "      <td>150.561816</td>\n",
       "    </tr>\n",
       "    <tr>\n",
       "      <th>5</th>\n",
       "      <td>Shop 24</td>\n",
       "      <td>122.432826</td>\n",
       "    </tr>\n",
       "    <tr>\n",
       "      <th>6</th>\n",
       "      <td>Shop 22</td>\n",
       "      <td>72.674036</td>\n",
       "    </tr>\n",
       "    <tr>\n",
       "      <th>7</th>\n",
       "      <td>Shop 13</td>\n",
       "      <td>69.811419</td>\n",
       "    </tr>\n",
       "    <tr>\n",
       "      <th>8</th>\n",
       "      <td>Shop 6</td>\n",
       "      <td>67.233876</td>\n",
       "    </tr>\n",
       "    <tr>\n",
       "      <th>9</th>\n",
       "      <td>Shop 16</td>\n",
       "      <td>65.672884</td>\n",
       "    </tr>\n",
       "    <tr>\n",
       "      <th>10</th>\n",
       "      <td>Shop 21</td>\n",
       "      <td>61.938374</td>\n",
       "    </tr>\n",
       "    <tr>\n",
       "      <th>11</th>\n",
       "      <td>Shop 25</td>\n",
       "      <td>58.983285</td>\n",
       "    </tr>\n",
       "    <tr>\n",
       "      <th>12</th>\n",
       "      <td>Shop 17</td>\n",
       "      <td>55.804736</td>\n",
       "    </tr>\n",
       "    <tr>\n",
       "      <th>13</th>\n",
       "      <td>Shop 30</td>\n",
       "      <td>49.500778</td>\n",
       "    </tr>\n",
       "    <tr>\n",
       "      <th>14</th>\n",
       "      <td>Shop 26</td>\n",
       "      <td>49.429628</td>\n",
       "    </tr>\n",
       "    <tr>\n",
       "      <th>15</th>\n",
       "      <td>Shop 28</td>\n",
       "      <td>48.867079</td>\n",
       "    </tr>\n",
       "    <tr>\n",
       "      <th>16</th>\n",
       "      <td>Shop 27</td>\n",
       "      <td>46.987134</td>\n",
       "    </tr>\n",
       "    <tr>\n",
       "      <th>17</th>\n",
       "      <td>Shop 9</td>\n",
       "      <td>39.692302</td>\n",
       "    </tr>\n",
       "    <tr>\n",
       "      <th>18</th>\n",
       "      <td>Shop 7</td>\n",
       "      <td>35.837577</td>\n",
       "    </tr>\n",
       "    <tr>\n",
       "      <th>19</th>\n",
       "      <td>Shop 5</td>\n",
       "      <td>34.284452</td>\n",
       "    </tr>\n",
       "    <tr>\n",
       "      <th>20</th>\n",
       "      <td>Shop 10</td>\n",
       "      <td>34.195528</td>\n",
       "    </tr>\n",
       "    <tr>\n",
       "      <th>21</th>\n",
       "      <td>Shop 4</td>\n",
       "      <td>33.438904</td>\n",
       "    </tr>\n",
       "    <tr>\n",
       "      <th>22</th>\n",
       "      <td>Shop 8</td>\n",
       "      <td>33.111411</td>\n",
       "    </tr>\n",
       "    <tr>\n",
       "      <th>23</th>\n",
       "      <td>Shop 20</td>\n",
       "      <td>32.413158</td>\n",
       "    </tr>\n",
       "    <tr>\n",
       "      <th>24</th>\n",
       "      <td>Shop 1</td>\n",
       "      <td>31.732561</td>\n",
       "    </tr>\n",
       "    <tr>\n",
       "      <th>25</th>\n",
       "      <td>Shop 15</td>\n",
       "      <td>28.639367</td>\n",
       "    </tr>\n",
       "    <tr>\n",
       "      <th>26</th>\n",
       "      <td>Shop 18</td>\n",
       "      <td>28.349805</td>\n",
       "    </tr>\n",
       "    <tr>\n",
       "      <th>27</th>\n",
       "      <td>Shop 11</td>\n",
       "      <td>27.939144</td>\n",
       "    </tr>\n",
       "    <tr>\n",
       "      <th>28</th>\n",
       "      <td>Shop 0</td>\n",
       "      <td>26.240215</td>\n",
       "    </tr>\n",
       "    <tr>\n",
       "      <th>29</th>\n",
       "      <td>Shop 12</td>\n",
       "      <td>25.356758</td>\n",
       "    </tr>\n",
       "    <tr>\n",
       "      <th>30</th>\n",
       "      <td>Shop 29</td>\n",
       "      <td>22.476093</td>\n",
       "    </tr>\n",
       "  </tbody>\n",
       "</table>\n",
       "</div>"
      ],
      "text/plain": [
       "    shop_id  total_price\n",
       "0   Shop 23   297.540000\n",
       "1    Shop 3   211.825928\n",
       "2    Shop 2   161.513221\n",
       "3   Shop 19   157.792156\n",
       "4   Shop 14   150.561816\n",
       "5   Shop 24   122.432826\n",
       "6   Shop 22    72.674036\n",
       "7   Shop 13    69.811419\n",
       "8    Shop 6    67.233876\n",
       "9   Shop 16    65.672884\n",
       "10  Shop 21    61.938374\n",
       "11  Shop 25    58.983285\n",
       "12  Shop 17    55.804736\n",
       "13  Shop 30    49.500778\n",
       "14  Shop 26    49.429628\n",
       "15  Shop 28    48.867079\n",
       "16  Shop 27    46.987134\n",
       "17   Shop 9    39.692302\n",
       "18   Shop 7    35.837577\n",
       "19   Shop 5    34.284452\n",
       "20  Shop 10    34.195528\n",
       "21   Shop 4    33.438904\n",
       "22   Shop 8    33.111411\n",
       "23  Shop 20    32.413158\n",
       "24   Shop 1    31.732561\n",
       "25  Shop 15    28.639367\n",
       "26  Shop 18    28.349805\n",
       "27  Shop 11    27.939144\n",
       "28   Shop 0    26.240215\n",
       "29  Shop 12    25.356758\n",
       "30  Shop 29    22.476093"
      ]
     },
     "execution_count": 27,
     "metadata": {},
     "output_type": "execute_result"
    }
   ],
   "source": [
    "shop_mean = (df.groupby('shop_id')\n",
    "                      .agg({'total_price':'mean'})\n",
    "                      .sort_values(by = 'total_price', ascending=False)\n",
    "                      .reset_index())\n",
    "\n",
    "shop_mean # Средний чек по магазинам"
   ]
  },
  {
   "cell_type": "code",
   "execution_count": 28,
   "metadata": {},
   "outputs": [
    {
     "data": {
      "image/png": "[encoded data removed]",
      "text/plain": [
       "<Figure size 864x504 with 1 Axes>"
      ]
     },
     "metadata": {
      "needs_background": "light"
     },
     "output_type": "display_data"
    }
   ],
   "source": [
    "plt.figure(figsize=(12, 7)) # Установим размер графика\n",
    "\n",
    "sns.barplot(x='shop_id', y='total_price', data=shop_mean) # Строим график\n",
    "plt.title('Средний чек магазинов') # Подпишем график\n",
    "plt.xlabel('Название магазинов')\n",
    "plt.ylabel('Средний чек')\n",
    "plt.xticks(rotation=50) # Повернем надписи на осе x\n",
    "plt.show()"
   ]
  },
  {
   "cell_type": "markdown",
   "metadata": {},
   "source": [
    "**Вывод:**\n",
    "\n",
    "Самый высокий средний чек у магазинов под № 23, 3, 14, 2, 19, 24.\n",
    "\n",
    "Самый низкий средний чек у магазинов под № 15, 12,29."
   ]
  },
  {
   "cell_type": "markdown",
   "metadata": {},
   "source": [
    "### 3.9 Общее количество покупателей у каждого магазина"
   ]
  },
  {
   "cell_type": "code",
   "execution_count": 29,
   "metadata": {
    "scrolled": true
   },
   "outputs": [
    {
     "data": {
      "text/html": [
       "<div>\n",
       "<style scoped>\n",
       "    .dataframe tbody tr th:only-of-type {\n",
       "        vertical-align: middle;\n",
       "    }\n",
       "\n",
       "    .dataframe tbody tr th {\n",
       "        vertical-align: top;\n",
       "    }\n",
       "\n",
       "    .dataframe thead th {\n",
       "        text-align: right;\n",
       "    }\n",
       "</style>\n",
       "<table border=\"1\" class=\"dataframe\">\n",
       "  <thead>\n",
       "    <tr style=\"text-align: right;\">\n",
       "      <th></th>\n",
       "      <th>shop_id</th>\n",
       "      <th>customer_id</th>\n",
       "    </tr>\n",
       "  </thead>\n",
       "  <tbody>\n",
       "    <tr>\n",
       "      <th>0</th>\n",
       "      <td>Shop 0</td>\n",
       "      <td>1573</td>\n",
       "    </tr>\n",
       "    <tr>\n",
       "      <th>1</th>\n",
       "      <td>Shop 4</td>\n",
       "      <td>43</td>\n",
       "    </tr>\n",
       "    <tr>\n",
       "      <th>2</th>\n",
       "      <td>Shop 1</td>\n",
       "      <td>38</td>\n",
       "    </tr>\n",
       "    <tr>\n",
       "      <th>3</th>\n",
       "      <td>Shop 8</td>\n",
       "      <td>12</td>\n",
       "    </tr>\n",
       "    <tr>\n",
       "      <th>4</th>\n",
       "      <td>Shop 12</td>\n",
       "      <td>10</td>\n",
       "    </tr>\n",
       "    <tr>\n",
       "      <th>5</th>\n",
       "      <td>Shop 10</td>\n",
       "      <td>8</td>\n",
       "    </tr>\n",
       "    <tr>\n",
       "      <th>6</th>\n",
       "      <td>Shop 2</td>\n",
       "      <td>8</td>\n",
       "    </tr>\n",
       "    <tr>\n",
       "      <th>7</th>\n",
       "      <td>Shop 11</td>\n",
       "      <td>7</td>\n",
       "    </tr>\n",
       "    <tr>\n",
       "      <th>8</th>\n",
       "      <td>Shop 7</td>\n",
       "      <td>7</td>\n",
       "    </tr>\n",
       "    <tr>\n",
       "      <th>9</th>\n",
       "      <td>Shop 18</td>\n",
       "      <td>5</td>\n",
       "    </tr>\n",
       "    <tr>\n",
       "      <th>10</th>\n",
       "      <td>Shop 14</td>\n",
       "      <td>4</td>\n",
       "    </tr>\n",
       "    <tr>\n",
       "      <th>11</th>\n",
       "      <td>Shop 6</td>\n",
       "      <td>4</td>\n",
       "    </tr>\n",
       "    <tr>\n",
       "      <th>12</th>\n",
       "      <td>Shop 20</td>\n",
       "      <td>4</td>\n",
       "    </tr>\n",
       "    <tr>\n",
       "      <th>13</th>\n",
       "      <td>Shop 3</td>\n",
       "      <td>4</td>\n",
       "    </tr>\n",
       "    <tr>\n",
       "      <th>14</th>\n",
       "      <td>Shop 5</td>\n",
       "      <td>3</td>\n",
       "    </tr>\n",
       "    <tr>\n",
       "      <th>15</th>\n",
       "      <td>Shop 22</td>\n",
       "      <td>3</td>\n",
       "    </tr>\n",
       "    <tr>\n",
       "      <th>16</th>\n",
       "      <td>Shop 21</td>\n",
       "      <td>3</td>\n",
       "    </tr>\n",
       "    <tr>\n",
       "      <th>17</th>\n",
       "      <td>Shop 19</td>\n",
       "      <td>3</td>\n",
       "    </tr>\n",
       "    <tr>\n",
       "      <th>18</th>\n",
       "      <td>Shop 16</td>\n",
       "      <td>3</td>\n",
       "    </tr>\n",
       "    <tr>\n",
       "      <th>19</th>\n",
       "      <td>Shop 17</td>\n",
       "      <td>2</td>\n",
       "    </tr>\n",
       "    <tr>\n",
       "      <th>20</th>\n",
       "      <td>Shop 9</td>\n",
       "      <td>2</td>\n",
       "    </tr>\n",
       "    <tr>\n",
       "      <th>21</th>\n",
       "      <td>Shop 23</td>\n",
       "      <td>1</td>\n",
       "    </tr>\n",
       "    <tr>\n",
       "      <th>22</th>\n",
       "      <td>Shop 24</td>\n",
       "      <td>1</td>\n",
       "    </tr>\n",
       "    <tr>\n",
       "      <th>23</th>\n",
       "      <td>Shop 25</td>\n",
       "      <td>1</td>\n",
       "    </tr>\n",
       "    <tr>\n",
       "      <th>24</th>\n",
       "      <td>Shop 26</td>\n",
       "      <td>1</td>\n",
       "    </tr>\n",
       "    <tr>\n",
       "      <th>25</th>\n",
       "      <td>Shop 27</td>\n",
       "      <td>1</td>\n",
       "    </tr>\n",
       "    <tr>\n",
       "      <th>26</th>\n",
       "      <td>Shop 28</td>\n",
       "      <td>1</td>\n",
       "    </tr>\n",
       "    <tr>\n",
       "      <th>27</th>\n",
       "      <td>Shop 29</td>\n",
       "      <td>1</td>\n",
       "    </tr>\n",
       "    <tr>\n",
       "      <th>28</th>\n",
       "      <td>Shop 30</td>\n",
       "      <td>1</td>\n",
       "    </tr>\n",
       "    <tr>\n",
       "      <th>29</th>\n",
       "      <td>Shop 15</td>\n",
       "      <td>1</td>\n",
       "    </tr>\n",
       "    <tr>\n",
       "      <th>30</th>\n",
       "      <td>Shop 13</td>\n",
       "      <td>1</td>\n",
       "    </tr>\n",
       "  </tbody>\n",
       "</table>\n",
       "</div>"
      ],
      "text/plain": [
       "    shop_id  customer_id\n",
       "0    Shop 0         1573\n",
       "1    Shop 4           43\n",
       "2    Shop 1           38\n",
       "3    Shop 8           12\n",
       "4   Shop 12           10\n",
       "5   Shop 10            8\n",
       "6    Shop 2            8\n",
       "7   Shop 11            7\n",
       "8    Shop 7            7\n",
       "9   Shop 18            5\n",
       "10  Shop 14            4\n",
       "11   Shop 6            4\n",
       "12  Shop 20            4\n",
       "13   Shop 3            4\n",
       "14   Shop 5            3\n",
       "15  Shop 22            3\n",
       "16  Shop 21            3\n",
       "17  Shop 19            3\n",
       "18  Shop 16            3\n",
       "19  Shop 17            2\n",
       "20   Shop 9            2\n",
       "21  Shop 23            1\n",
       "22  Shop 24            1\n",
       "23  Shop 25            1\n",
       "24  Shop 26            1\n",
       "25  Shop 27            1\n",
       "26  Shop 28            1\n",
       "27  Shop 29            1\n",
       "28  Shop 30            1\n",
       "29  Shop 15            1\n",
       "30  Shop 13            1"
      ]
     },
     "execution_count": 29,
     "metadata": {},
     "output_type": "execute_result"
    }
   ],
   "source": [
    "total_customer = (df.groupby('shop_id')\n",
    "                      .agg({'customer_id': 'nunique'})\n",
    "                      .sort_values(by = 'customer_id', ascending=False)\n",
    "                      .reset_index())\n",
    "\n",
    "total_customer # Общее количество покупателей у каждого магазина"
   ]
  },
  {
   "cell_type": "code",
   "execution_count": 30,
   "metadata": {},
   "outputs": [
    {
     "data": {
      "image/png": "[encoded data removed]",
      "text/plain": [
       "<Figure size 864x504 with 1 Axes>"
      ]
     },
     "metadata": {
      "needs_background": "light"
     },
     "output_type": "display_data"
    }
   ],
   "source": [
    "plt.figure(figsize=(12, 7)) # Установим размер графика\n",
    "\n",
    "sns.barplot(x='shop_id', y='customer_id', data=total_customer) # Строим график\n",
    "\n",
    "plt.title('Общее количество покупателей') # Подпишем график\n",
    "plt.xlabel('Название магазинов')\n",
    "plt.ylabel('Количество покупателей')\n",
    "plt.xticks(rotation=50) # Повернем надписи на осе x\n",
    "plt.show()"
   ]
  },
  {
   "cell_type": "markdown",
   "metadata": {},
   "source": [
    "**Вывод:**\n",
    "\n",
    "На графике видим, что абсолютный лидер по количеству покупателей магазин - Shop 0."
   ]
  },
  {
   "cell_type": "markdown",
   "metadata": {},
   "source": [
    "### 3.10 Общее количество покупок в магазинах"
   ]
  },
  {
   "cell_type": "code",
   "execution_count": 31,
   "metadata": {
    "scrolled": true
   },
   "outputs": [
    {
     "data": {
      "text/html": [
       "<div>\n",
       "<style scoped>\n",
       "    .dataframe tbody tr th:only-of-type {\n",
       "        vertical-align: middle;\n",
       "    }\n",
       "\n",
       "    .dataframe tbody tr th {\n",
       "        vertical-align: top;\n",
       "    }\n",
       "\n",
       "    .dataframe thead th {\n",
       "        text-align: right;\n",
       "    }\n",
       "</style>\n",
       "<table border=\"1\" class=\"dataframe\">\n",
       "  <thead>\n",
       "    <tr style=\"text-align: right;\">\n",
       "      <th></th>\n",
       "      <th>shop_id</th>\n",
       "      <th>purchase_id</th>\n",
       "    </tr>\n",
       "  </thead>\n",
       "  <tbody>\n",
       "    <tr>\n",
       "      <th>0</th>\n",
       "      <td>Shop 0</td>\n",
       "      <td>97393</td>\n",
       "    </tr>\n",
       "    <tr>\n",
       "      <th>1</th>\n",
       "      <td>Shop 4</td>\n",
       "      <td>1741</td>\n",
       "    </tr>\n",
       "    <tr>\n",
       "      <th>2</th>\n",
       "      <td>Shop 1</td>\n",
       "      <td>1540</td>\n",
       "    </tr>\n",
       "    <tr>\n",
       "      <th>3</th>\n",
       "      <td>Shop 6</td>\n",
       "      <td>1032</td>\n",
       "    </tr>\n",
       "    <tr>\n",
       "      <th>4</th>\n",
       "      <td>Shop 8</td>\n",
       "      <td>560</td>\n",
       "    </tr>\n",
       "    <tr>\n",
       "      <th>5</th>\n",
       "      <td>Shop 3</td>\n",
       "      <td>492</td>\n",
       "    </tr>\n",
       "    <tr>\n",
       "      <th>6</th>\n",
       "      <td>Shop 7</td>\n",
       "      <td>312</td>\n",
       "    </tr>\n",
       "    <tr>\n",
       "      <th>7</th>\n",
       "      <td>Shop 10</td>\n",
       "      <td>299</td>\n",
       "    </tr>\n",
       "    <tr>\n",
       "      <th>8</th>\n",
       "      <td>Shop 12</td>\n",
       "      <td>278</td>\n",
       "    </tr>\n",
       "    <tr>\n",
       "      <th>9</th>\n",
       "      <td>Shop 18</td>\n",
       "      <td>256</td>\n",
       "    </tr>\n",
       "    <tr>\n",
       "      <th>10</th>\n",
       "      <td>Shop 2</td>\n",
       "      <td>253</td>\n",
       "    </tr>\n",
       "    <tr>\n",
       "      <th>11</th>\n",
       "      <td>Shop 5</td>\n",
       "      <td>179</td>\n",
       "    </tr>\n",
       "    <tr>\n",
       "      <th>12</th>\n",
       "      <td>Shop 11</td>\n",
       "      <td>169</td>\n",
       "    </tr>\n",
       "    <tr>\n",
       "      <th>13</th>\n",
       "      <td>Shop 14</td>\n",
       "      <td>154</td>\n",
       "    </tr>\n",
       "    <tr>\n",
       "      <th>14</th>\n",
       "      <td>Shop 19</td>\n",
       "      <td>74</td>\n",
       "    </tr>\n",
       "    <tr>\n",
       "      <th>15</th>\n",
       "      <td>Shop 9</td>\n",
       "      <td>61</td>\n",
       "    </tr>\n",
       "    <tr>\n",
       "      <th>16</th>\n",
       "      <td>Shop 15</td>\n",
       "      <td>60</td>\n",
       "    </tr>\n",
       "    <tr>\n",
       "      <th>17</th>\n",
       "      <td>Shop 16</td>\n",
       "      <td>59</td>\n",
       "    </tr>\n",
       "    <tr>\n",
       "      <th>18</th>\n",
       "      <td>Shop 25</td>\n",
       "      <td>57</td>\n",
       "    </tr>\n",
       "    <tr>\n",
       "      <th>19</th>\n",
       "      <td>Shop 26</td>\n",
       "      <td>56</td>\n",
       "    </tr>\n",
       "    <tr>\n",
       "      <th>20</th>\n",
       "      <td>Shop 27</td>\n",
       "      <td>45</td>\n",
       "    </tr>\n",
       "    <tr>\n",
       "      <th>21</th>\n",
       "      <td>Shop 17</td>\n",
       "      <td>40</td>\n",
       "    </tr>\n",
       "    <tr>\n",
       "      <th>22</th>\n",
       "      <td>Shop 22</td>\n",
       "      <td>40</td>\n",
       "    </tr>\n",
       "    <tr>\n",
       "      <th>23</th>\n",
       "      <td>Shop 13</td>\n",
       "      <td>35</td>\n",
       "    </tr>\n",
       "    <tr>\n",
       "      <th>24</th>\n",
       "      <td>Shop 24</td>\n",
       "      <td>32</td>\n",
       "    </tr>\n",
       "    <tr>\n",
       "      <th>25</th>\n",
       "      <td>Shop 21</td>\n",
       "      <td>32</td>\n",
       "    </tr>\n",
       "    <tr>\n",
       "      <th>26</th>\n",
       "      <td>Shop 28</td>\n",
       "      <td>30</td>\n",
       "    </tr>\n",
       "    <tr>\n",
       "      <th>27</th>\n",
       "      <td>Shop 20</td>\n",
       "      <td>30</td>\n",
       "    </tr>\n",
       "    <tr>\n",
       "      <th>28</th>\n",
       "      <td>Shop 30</td>\n",
       "      <td>15</td>\n",
       "    </tr>\n",
       "    <tr>\n",
       "      <th>29</th>\n",
       "      <td>Shop 29</td>\n",
       "      <td>9</td>\n",
       "    </tr>\n",
       "    <tr>\n",
       "      <th>30</th>\n",
       "      <td>Shop 23</td>\n",
       "      <td>2</td>\n",
       "    </tr>\n",
       "  </tbody>\n",
       "</table>\n",
       "</div>"
      ],
      "text/plain": [
       "    shop_id  purchase_id\n",
       "0    Shop 0        97393\n",
       "1    Shop 4         1741\n",
       "2    Shop 1         1540\n",
       "3    Shop 6         1032\n",
       "4    Shop 8          560\n",
       "5    Shop 3          492\n",
       "6    Shop 7          312\n",
       "7   Shop 10          299\n",
       "8   Shop 12          278\n",
       "9   Shop 18          256\n",
       "10   Shop 2          253\n",
       "11   Shop 5          179\n",
       "12  Shop 11          169\n",
       "13  Shop 14          154\n",
       "14  Shop 19           74\n",
       "15   Shop 9           61\n",
       "16  Shop 15           60\n",
       "17  Shop 16           59\n",
       "18  Shop 25           57\n",
       "19  Shop 26           56\n",
       "20  Shop 27           45\n",
       "21  Shop 17           40\n",
       "22  Shop 22           40\n",
       "23  Shop 13           35\n",
       "24  Shop 24           32\n",
       "25  Shop 21           32\n",
       "26  Shop 28           30\n",
       "27  Shop 20           30\n",
       "28  Shop 30           15\n",
       "29  Shop 29            9\n",
       "30  Shop 23            2"
      ]
     },
     "execution_count": 31,
     "metadata": {},
     "output_type": "execute_result"
    }
   ],
   "source": [
    "total_purchase = (df.groupby('shop_id')\n",
    "                      .agg({'purchase_id':'count'})\n",
    "                      .sort_values(by = 'purchase_id', ascending=False)\n",
    "                      .reset_index())\n",
    "\n",
    "total_purchase # "
   ]
  },
  {
   "cell_type": "code",
   "execution_count": 32,
   "metadata": {},
   "outputs": [
    {
     "data": {
      "image/png": "[encoded data removed]",
      "text/plain": [
       "<Figure size 864x504 with 1 Axes>"
      ]
     },
     "metadata": {
      "needs_background": "light"
     },
     "output_type": "display_data"
    }
   ],
   "source": [
    "plt.figure(figsize=(12, 7)) # Установим размер графика\n",
    "\n",
    "sns.barplot(x='shop_id', y='purchase_id', data=total_purchase) # Строим график\n",
    "\n",
    "plt.title('Общее количество покупок') # Подпишем график\n",
    "plt.xlabel('Название магазинов')\n",
    "plt.ylabel('Количество покупок')\n",
    "plt.xticks(rotation=50) # Повернем надписи на осе x\n",
    "plt.show()"
   ]
  },
  {
   "cell_type": "markdown",
   "metadata": {},
   "source": [
    "**Вывод:**\n",
    "\n",
    "Практически все покупатели, которые представлены в датасете совершали покупки в магазине Shop 0 (466757 покупок). В остальных магазинах количество покупок варьируется в пределах от 6 до 8654. "
   ]
  },
  {
   "cell_type": "markdown",
   "metadata": {},
   "source": [
    "### 3.11 Количество покупок на одного клиента"
   ]
  },
  {
   "cell_type": "code",
   "execution_count": 33,
   "metadata": {
    "scrolled": true
   },
   "outputs": [
    {
     "data": {
      "text/html": [
       "<div>\n",
       "<style scoped>\n",
       "    .dataframe tbody tr th:only-of-type {\n",
       "        vertical-align: middle;\n",
       "    }\n",
       "\n",
       "    .dataframe tbody tr th {\n",
       "        vertical-align: top;\n",
       "    }\n",
       "\n",
       "    .dataframe thead th {\n",
       "        text-align: right;\n",
       "    }\n",
       "</style>\n",
       "<table border=\"1\" class=\"dataframe\">\n",
       "  <thead>\n",
       "    <tr style=\"text-align: right;\">\n",
       "      <th></th>\n",
       "      <th>shop_id</th>\n",
       "      <th>customer_id</th>\n",
       "      <th>purchase_id</th>\n",
       "      <th>purchases_per_customer</th>\n",
       "    </tr>\n",
       "  </thead>\n",
       "  <tbody>\n",
       "    <tr>\n",
       "      <th>27</th>\n",
       "      <td>Shop 6</td>\n",
       "      <td>4</td>\n",
       "      <td>46</td>\n",
       "      <td>11.500000</td>\n",
       "    </tr>\n",
       "    <tr>\n",
       "      <th>5</th>\n",
       "      <td>Shop 13</td>\n",
       "      <td>1</td>\n",
       "      <td>4</td>\n",
       "      <td>4.000000</td>\n",
       "    </tr>\n",
       "    <tr>\n",
       "      <th>23</th>\n",
       "      <td>Shop 3</td>\n",
       "      <td>4</td>\n",
       "      <td>15</td>\n",
       "      <td>3.750000</td>\n",
       "    </tr>\n",
       "    <tr>\n",
       "      <th>0</th>\n",
       "      <td>Shop 0</td>\n",
       "      <td>1573</td>\n",
       "      <td>4471</td>\n",
       "      <td>2.842339</td>\n",
       "    </tr>\n",
       "    <tr>\n",
       "      <th>25</th>\n",
       "      <td>Shop 4</td>\n",
       "      <td>43</td>\n",
       "      <td>114</td>\n",
       "      <td>2.651163</td>\n",
       "    </tr>\n",
       "    <tr>\n",
       "      <th>12</th>\n",
       "      <td>Shop 2</td>\n",
       "      <td>8</td>\n",
       "      <td>19</td>\n",
       "      <td>2.375000</td>\n",
       "    </tr>\n",
       "    <tr>\n",
       "      <th>1</th>\n",
       "      <td>Shop 1</td>\n",
       "      <td>38</td>\n",
       "      <td>90</td>\n",
       "      <td>2.368421</td>\n",
       "    </tr>\n",
       "    <tr>\n",
       "      <th>11</th>\n",
       "      <td>Shop 19</td>\n",
       "      <td>3</td>\n",
       "      <td>7</td>\n",
       "      <td>2.333333</td>\n",
       "    </tr>\n",
       "    <tr>\n",
       "      <th>4</th>\n",
       "      <td>Shop 12</td>\n",
       "      <td>10</td>\n",
       "      <td>21</td>\n",
       "      <td>2.100000</td>\n",
       "    </tr>\n",
       "    <tr>\n",
       "      <th>16</th>\n",
       "      <td>Shop 23</td>\n",
       "      <td>1</td>\n",
       "      <td>2</td>\n",
       "      <td>2.000000</td>\n",
       "    </tr>\n",
       "    <tr>\n",
       "      <th>30</th>\n",
       "      <td>Shop 9</td>\n",
       "      <td>2</td>\n",
       "      <td>4</td>\n",
       "      <td>2.000000</td>\n",
       "    </tr>\n",
       "    <tr>\n",
       "      <th>7</th>\n",
       "      <td>Shop 15</td>\n",
       "      <td>1</td>\n",
       "      <td>2</td>\n",
       "      <td>2.000000</td>\n",
       "    </tr>\n",
       "    <tr>\n",
       "      <th>2</th>\n",
       "      <td>Shop 10</td>\n",
       "      <td>8</td>\n",
       "      <td>15</td>\n",
       "      <td>1.875000</td>\n",
       "    </tr>\n",
       "    <tr>\n",
       "      <th>10</th>\n",
       "      <td>Shop 18</td>\n",
       "      <td>5</td>\n",
       "      <td>9</td>\n",
       "      <td>1.800000</td>\n",
       "    </tr>\n",
       "    <tr>\n",
       "      <th>29</th>\n",
       "      <td>Shop 8</td>\n",
       "      <td>12</td>\n",
       "      <td>20</td>\n",
       "      <td>1.666667</td>\n",
       "    </tr>\n",
       "    <tr>\n",
       "      <th>28</th>\n",
       "      <td>Shop 7</td>\n",
       "      <td>7</td>\n",
       "      <td>11</td>\n",
       "      <td>1.571429</td>\n",
       "    </tr>\n",
       "    <tr>\n",
       "      <th>6</th>\n",
       "      <td>Shop 14</td>\n",
       "      <td>4</td>\n",
       "      <td>6</td>\n",
       "      <td>1.500000</td>\n",
       "    </tr>\n",
       "    <tr>\n",
       "      <th>3</th>\n",
       "      <td>Shop 11</td>\n",
       "      <td>7</td>\n",
       "      <td>10</td>\n",
       "      <td>1.428571</td>\n",
       "    </tr>\n",
       "    <tr>\n",
       "      <th>26</th>\n",
       "      <td>Shop 5</td>\n",
       "      <td>3</td>\n",
       "      <td>4</td>\n",
       "      <td>1.333333</td>\n",
       "    </tr>\n",
       "    <tr>\n",
       "      <th>15</th>\n",
       "      <td>Shop 22</td>\n",
       "      <td>3</td>\n",
       "      <td>4</td>\n",
       "      <td>1.333333</td>\n",
       "    </tr>\n",
       "    <tr>\n",
       "      <th>8</th>\n",
       "      <td>Shop 16</td>\n",
       "      <td>3</td>\n",
       "      <td>4</td>\n",
       "      <td>1.333333</td>\n",
       "    </tr>\n",
       "    <tr>\n",
       "      <th>20</th>\n",
       "      <td>Shop 27</td>\n",
       "      <td>1</td>\n",
       "      <td>1</td>\n",
       "      <td>1.000000</td>\n",
       "    </tr>\n",
       "    <tr>\n",
       "      <th>9</th>\n",
       "      <td>Shop 17</td>\n",
       "      <td>2</td>\n",
       "      <td>2</td>\n",
       "      <td>1.000000</td>\n",
       "    </tr>\n",
       "    <tr>\n",
       "      <th>22</th>\n",
       "      <td>Shop 29</td>\n",
       "      <td>1</td>\n",
       "      <td>1</td>\n",
       "      <td>1.000000</td>\n",
       "    </tr>\n",
       "    <tr>\n",
       "      <th>19</th>\n",
       "      <td>Shop 26</td>\n",
       "      <td>1</td>\n",
       "      <td>1</td>\n",
       "      <td>1.000000</td>\n",
       "    </tr>\n",
       "    <tr>\n",
       "      <th>24</th>\n",
       "      <td>Shop 30</td>\n",
       "      <td>1</td>\n",
       "      <td>1</td>\n",
       "      <td>1.000000</td>\n",
       "    </tr>\n",
       "    <tr>\n",
       "      <th>18</th>\n",
       "      <td>Shop 25</td>\n",
       "      <td>1</td>\n",
       "      <td>1</td>\n",
       "      <td>1.000000</td>\n",
       "    </tr>\n",
       "    <tr>\n",
       "      <th>17</th>\n",
       "      <td>Shop 24</td>\n",
       "      <td>1</td>\n",
       "      <td>1</td>\n",
       "      <td>1.000000</td>\n",
       "    </tr>\n",
       "    <tr>\n",
       "      <th>14</th>\n",
       "      <td>Shop 21</td>\n",
       "      <td>3</td>\n",
       "      <td>3</td>\n",
       "      <td>1.000000</td>\n",
       "    </tr>\n",
       "    <tr>\n",
       "      <th>13</th>\n",
       "      <td>Shop 20</td>\n",
       "      <td>4</td>\n",
       "      <td>4</td>\n",
       "      <td>1.000000</td>\n",
       "    </tr>\n",
       "    <tr>\n",
       "      <th>21</th>\n",
       "      <td>Shop 28</td>\n",
       "      <td>1</td>\n",
       "      <td>1</td>\n",
       "      <td>1.000000</td>\n",
       "    </tr>\n",
       "  </tbody>\n",
       "</table>\n",
       "</div>"
      ],
      "text/plain": [
       "    shop_id  customer_id  purchase_id  purchases_per_customer\n",
       "27   Shop 6            4           46               11.500000\n",
       "5   Shop 13            1            4                4.000000\n",
       "23   Shop 3            4           15                3.750000\n",
       "0    Shop 0         1573         4471                2.842339\n",
       "25   Shop 4           43          114                2.651163\n",
       "12   Shop 2            8           19                2.375000\n",
       "1    Shop 1           38           90                2.368421\n",
       "11  Shop 19            3            7                2.333333\n",
       "4   Shop 12           10           21                2.100000\n",
       "16  Shop 23            1            2                2.000000\n",
       "30   Shop 9            2            4                2.000000\n",
       "7   Shop 15            1            2                2.000000\n",
       "2   Shop 10            8           15                1.875000\n",
       "10  Shop 18            5            9                1.800000\n",
       "29   Shop 8           12           20                1.666667\n",
       "28   Shop 7            7           11                1.571429\n",
       "6   Shop 14            4            6                1.500000\n",
       "3   Shop 11            7           10                1.428571\n",
       "26   Shop 5            3            4                1.333333\n",
       "15  Shop 22            3            4                1.333333\n",
       "8   Shop 16            3            4                1.333333\n",
       "20  Shop 27            1            1                1.000000\n",
       "9   Shop 17            2            2                1.000000\n",
       "22  Shop 29            1            1                1.000000\n",
       "19  Shop 26            1            1                1.000000\n",
       "24  Shop 30            1            1                1.000000\n",
       "18  Shop 25            1            1                1.000000\n",
       "17  Shop 24            1            1                1.000000\n",
       "14  Shop 21            3            3                1.000000\n",
       "13  Shop 20            4            4                1.000000\n",
       "21  Shop 28            1            1                1.000000"
      ]
     },
     "execution_count": 33,
     "metadata": {},
     "output_type": "execute_result"
    }
   ],
   "source": [
    "purchases = (df.groupby('shop_id')\n",
    "             .agg({'customer_id' : 'nunique', 'purchase_id' : 'nunique'})\n",
    "             .reset_index()) # Группируем по магазину уникальных покупателей и покупки\n",
    "\n",
    "purchases['purchases_per_customer'] = purchases['purchase_id'] / purchases['customer_id']\n",
    "# Расчитаем количество покупок на клиента, разделив покупки на уникальных покупателей\n",
    "\n",
    "purchases = purchases.sort_values(by = 'purchases_per_customer', ascending=False) \n",
    "# Сортируем по количеству покупок на одного клиента\n",
    "\n",
    "purchases"
   ]
  },
  {
   "cell_type": "code",
   "execution_count": 34,
   "metadata": {},
   "outputs": [
    {
     "data": {
      "image/png": "[encoded data removed]",
      "text/plain": [
       "<Figure size 864x504 with 1 Axes>"
      ]
     },
     "metadata": {
      "needs_background": "light"
     },
     "output_type": "display_data"
    }
   ],
   "source": [
    "plt.figure(figsize=(12, 7)) # Установим размер графика\n",
    "\n",
    "sns.barplot(x= 'shop_id', y= 'purchases_per_customer', data= purchases) # Строим график\n",
    "\n",
    "plt.title('Количество покупок на клиента') # Подпишем график\n",
    "plt.xlabel('Название магазинов')\n",
    "plt.ylabel('Количество покупок')\n",
    "plt.xticks(rotation=50) # Повернем надписи на осе x\n",
    "plt.show()"
   ]
  },
  {
   "cell_type": "markdown",
   "metadata": {},
   "source": [
    "**Вывод:**\n",
    "\n",
    "Сильно выделяеться магазин под № 6 (11,5 покупок на клиента). \n",
    "\n",
    "В остальных магазинах один покупатель совершает не более 4 покупок. "
   ]
  },
  {
   "cell_type": "markdown",
   "metadata": {},
   "source": [
    "### Вывод"
   ]
  },
  {
   "cell_type": "markdown",
   "metadata": {},
   "source": [
    "**Результаты исследования:**\n",
    "\n",
    "1. Данные о покупках в магазине строительных материалов представлены с 01 декабря 2016 года по 28 февраля 2017 года.\n",
    "2. 33,5% покупателей участвуют в программе лояльности.\n",
    "3. Практически все покупки совершались в магазине Shop 0. Самая высокая выручка и лидер по количество уникальных покупателей, также магазин Shop 0.\n",
    "4. Самый высокий средний чек у магазинов под № 23, 3, 14, 2, 19, 24.\n",
    "5. У магазина под №6 самый высокий показатель по количеству покупок на клиента (более 11 покупок на клиента). В остальных магазинах один покупатель совершает не более 4 покупок."
   ]
  },
  {
   "cell_type": "markdown",
   "metadata": {},
   "source": [
    "## 4 Анализ программы лояльности"
   ]
  },
  {
   "cell_type": "markdown",
   "metadata": {},
   "source": [
    "### 4.1 Динамика покупок по дням"
   ]
  },
  {
   "cell_type": "code",
   "execution_count": 35,
   "metadata": {},
   "outputs": [],
   "source": [
    "df_cus = df[df['customer_id'] != 0] # Уберем 0-го покупателя "
   ]
  },
  {
   "cell_type": "code",
   "execution_count": 36,
   "metadata": {},
   "outputs": [
    {
     "data": {
      "text/html": [
       "<div>\n",
       "<style scoped>\n",
       "    .dataframe tbody tr th:only-of-type {\n",
       "        vertical-align: middle;\n",
       "    }\n",
       "\n",
       "    .dataframe tbody tr th {\n",
       "        vertical-align: top;\n",
       "    }\n",
       "\n",
       "    .dataframe thead th {\n",
       "        text-align: right;\n",
       "    }\n",
       "</style>\n",
       "<table border=\"1\" class=\"dataframe\">\n",
       "  <thead>\n",
       "    <tr style=\"text-align: right;\">\n",
       "      <th></th>\n",
       "      <th>loyalty_program</th>\n",
       "      <th>purchase_day</th>\n",
       "      <th>purchase_id</th>\n",
       "      <th>customer_id</th>\n",
       "    </tr>\n",
       "  </thead>\n",
       "  <tbody>\n",
       "    <tr>\n",
       "      <th>0</th>\n",
       "      <td>0</td>\n",
       "      <td>2016-12-01</td>\n",
       "      <td>78</td>\n",
       "      <td>62</td>\n",
       "    </tr>\n",
       "    <tr>\n",
       "      <th>1</th>\n",
       "      <td>0</td>\n",
       "      <td>2016-12-02</td>\n",
       "      <td>94</td>\n",
       "      <td>81</td>\n",
       "    </tr>\n",
       "    <tr>\n",
       "      <th>2</th>\n",
       "      <td>0</td>\n",
       "      <td>2016-12-03</td>\n",
       "      <td>39</td>\n",
       "      <td>35</td>\n",
       "    </tr>\n",
       "    <tr>\n",
       "      <th>3</th>\n",
       "      <td>0</td>\n",
       "      <td>2016-12-05</td>\n",
       "      <td>68</td>\n",
       "      <td>51</td>\n",
       "    </tr>\n",
       "    <tr>\n",
       "      <th>4</th>\n",
       "      <td>0</td>\n",
       "      <td>2016-12-06</td>\n",
       "      <td>67</td>\n",
       "      <td>51</td>\n",
       "    </tr>\n",
       "  </tbody>\n",
       "</table>\n",
       "</div>"
      ],
      "text/plain": [
       "   loyalty_program purchase_day  purchase_id  customer_id\n",
       "0                0   2016-12-01           78           62\n",
       "1                0   2016-12-02           94           81\n",
       "2                0   2016-12-03           39           35\n",
       "3                0   2016-12-05           68           51\n",
       "4                0   2016-12-06           67           51"
      ]
     },
     "execution_count": 36,
     "metadata": {},
     "output_type": "execute_result"
    }
   ],
   "source": [
    "purchases_by_day = (df_cus.groupby(['loyalty_program', 'purchase_day'])\n",
    "                     .agg({'purchase_id' : 'nunique', 'customer_id' : 'nunique'})\n",
    "                     .reset_index()) \n",
    "# Группируем по дате и участию в программе лоялности, считаем количество покупок и покупателей\n",
    "\n",
    "purchases_by_day.head()"
   ]
  },
  {
   "cell_type": "markdown",
   "metadata": {},
   "source": [
    "Получили датасет с количеством покупок и покупателей по дням за три месяца с разделением по программе лояльности."
   ]
  },
  {
   "cell_type": "code",
   "execution_count": 37,
   "metadata": {},
   "outputs": [
    {
     "data": {
      "image/png": "[encoded data removed]",
      "text/plain": [
       "<Figure size 936x1080 with 1 Axes>"
      ]
     },
     "metadata": {
      "needs_background": "light"
     },
     "output_type": "display_data"
    }
   ],
   "source": [
    "plt.figure(figsize=(13, 15)) \n",
    "\n",
    "sns.barplot(x='purchase_id', y='purchase_day', hue = 'loyalty_program', data = purchases_by_day)\n",
    "\n",
    "plt.title('Динамика покупок по дням')\n",
    "plt.xlabel('Количество покупок')\n",
    "plt.ylabel('Дата')\n",
    "plt.legend(title='Программа лояльности') \n",
    "plt.show()"
   ]
  },
  {
   "cell_type": "code",
   "execution_count": 38,
   "metadata": {},
   "outputs": [
    {
     "data": {
      "image/png": "[encoded data removed]",
      "text/plain": [
       "<Figure size 648x360 with 1 Axes>"
      ]
     },
     "metadata": {
      "needs_background": "light"
     },
     "output_type": "display_data"
    }
   ],
   "source": [
    "plt.figure(figsize=(9, 5)) \n",
    "\n",
    "sns.lineplot(x='purchase_day', y='purchase_id', hue = 'loyalty_program', data = purchases_by_day)\n",
    "\n",
    "plt.title('Динамика покупок по дням')\n",
    "plt.xlabel('Дата')\n",
    "plt.ylabel('Количество покупок')\n",
    "plt.legend(['Не участвуют','Участвуют'], title='Программа лояльности')\n",
    "plt.xticks(rotation=50)\n",
    "plt.show()"
   ]
  },
  {
   "cell_type": "markdown",
   "metadata": {},
   "source": [
    "**Вывод:**\n",
    "\n",
    "На графиках выше видим, что количество покупок у покупателей, которые не участвуют в программе лояльности больше, чем у покупателей, участвующих в программе лояльности. Это связано с тем, что клиентов с программой лояльности значительно меньше. \n",
    "\n",
    "На втором графике у клиентов, которые не участвуют в программе наблюдается сильная волотильность в количестве покупок, в отличии от клиентов, которые участвуют."
   ]
  },
  {
   "cell_type": "markdown",
   "metadata": {},
   "source": [
    "### 4.2 Относительное количество покупок на клиента по дням"
   ]
  },
  {
   "cell_type": "markdown",
   "metadata": {},
   "source": [
    "Создадим столбец с отностительным количеством покупок. Разделим общее количество покупок на количество покупателей."
   ]
  },
  {
   "cell_type": "code",
   "execution_count": 39,
   "metadata": {},
   "outputs": [],
   "source": [
    "purchases_by_day['purchases_per_customer'] = (purchases_by_day['purchase_id'] \n",
    "                                               / purchases_by_day['customer_id'])\n",
    "# Делим количество покупок на количество клиентов"
   ]
  },
  {
   "cell_type": "code",
   "execution_count": 40,
   "metadata": {},
   "outputs": [
    {
     "data": {
      "image/png": "[encoded data removed]",
      "text/plain": [
       "<Figure size 936x1080 with 1 Axes>"
      ]
     },
     "metadata": {
      "needs_background": "light"
     },
     "output_type": "display_data"
    }
   ],
   "source": [
    "plt.figure(figsize=(13, 15)) \n",
    "\n",
    "sns.barplot(x='purchases_per_customer', y='purchase_day', hue = 'loyalty_program', data = purchases_by_day)\n",
    "\n",
    "plt.title('Динамика покупок')\n",
    "plt.xlabel('Относительное количество покупок')\n",
    "plt.ylabel('Дата')\n",
    "plt.legend(title='Программа лояльности') \n",
    "plt.show()"
   ]
  },
  {
   "cell_type": "code",
   "execution_count": 41,
   "metadata": {},
   "outputs": [
    {
     "data": {
      "image/png": "[encoded data removed]",
      "text/plain": [
       "<Figure size 648x360 with 1 Axes>"
      ]
     },
     "metadata": {
      "needs_background": "light"
     },
     "output_type": "display_data"
    }
   ],
   "source": [
    "plt.figure(figsize=(9, 5)) \n",
    "\n",
    "sns.lineplot(x='purchase_day', y='purchases_per_customer', hue = 'loyalty_program', data=purchases_by_day)\n",
    "\n",
    "plt.title('Динамика покупок по дням')\n",
    "plt.xlabel('Дата')\n",
    "plt.ylabel('Отностительное количество покупок')\n",
    "plt.legend(['Не участвуют','Участвуют'], title='Программа лояльности')\n",
    "plt.xticks(rotation=50)\n",
    "plt.show()"
   ]
  },
  {
   "cell_type": "markdown",
   "metadata": {},
   "source": [
    "**Вывод:**\n",
    "\n",
    "На графиках видим, что покупатели не участвующие в программе лояльности покупают чаще, чем покупатели с программой лояльности. Стоит отметить, что стабильности в покупках у клиентов, не участвующих в программе лояльности, не наблюдается. На втором графике заметно, что имеются сильные выбросы в отностительном количестве покупок. Относительное количество покупок меняется в больших диапазонах.  "
   ]
  },
  {
   "cell_type": "markdown",
   "metadata": {},
   "source": [
    "### 4.3 Общая сумма покупок по дням"
   ]
  },
  {
   "cell_type": "code",
   "execution_count": 42,
   "metadata": {},
   "outputs": [
    {
     "data": {
      "text/html": [
       "<div>\n",
       "<style scoped>\n",
       "    .dataframe tbody tr th:only-of-type {\n",
       "        vertical-align: middle;\n",
       "    }\n",
       "\n",
       "    .dataframe tbody tr th {\n",
       "        vertical-align: top;\n",
       "    }\n",
       "\n",
       "    .dataframe thead th {\n",
       "        text-align: right;\n",
       "    }\n",
       "</style>\n",
       "<table border=\"1\" class=\"dataframe\">\n",
       "  <thead>\n",
       "    <tr style=\"text-align: right;\">\n",
       "      <th></th>\n",
       "      <th>loyalty_program</th>\n",
       "      <th>purchase_day</th>\n",
       "      <th>total_price</th>\n",
       "      <th>customer_id</th>\n",
       "      <th>income_per_customer</th>\n",
       "    </tr>\n",
       "  </thead>\n",
       "  <tbody>\n",
       "    <tr>\n",
       "      <th>32</th>\n",
       "      <td>0</td>\n",
       "      <td>2017-01-18</td>\n",
       "      <td>164705.360548</td>\n",
       "      <td>22</td>\n",
       "      <td>7486.607298</td>\n",
       "    </tr>\n",
       "    <tr>\n",
       "      <th>73</th>\n",
       "      <td>1</td>\n",
       "      <td>2016-12-07</td>\n",
       "      <td>61103.255464</td>\n",
       "      <td>23</td>\n",
       "      <td>2656.663281</td>\n",
       "    </tr>\n",
       "    <tr>\n",
       "      <th>94</th>\n",
       "      <td>1</td>\n",
       "      <td>2017-01-11</td>\n",
       "      <td>27446.715893</td>\n",
       "      <td>11</td>\n",
       "      <td>2495.155990</td>\n",
       "    </tr>\n",
       "    <tr>\n",
       "      <th>29</th>\n",
       "      <td>0</td>\n",
       "      <td>2017-01-14</td>\n",
       "      <td>59857.371067</td>\n",
       "      <td>33</td>\n",
       "      <td>1813.859729</td>\n",
       "    </tr>\n",
       "    <tr>\n",
       "      <th>52</th>\n",
       "      <td>0</td>\n",
       "      <td>2017-02-10</td>\n",
       "      <td>59125.372192</td>\n",
       "      <td>33</td>\n",
       "      <td>1791.677945</td>\n",
       "    </tr>\n",
       "    <tr>\n",
       "      <th>...</th>\n",
       "      <td>...</td>\n",
       "      <td>...</td>\n",
       "      <td>...</td>\n",
       "      <td>...</td>\n",
       "      <td>...</td>\n",
       "    </tr>\n",
       "    <tr>\n",
       "      <th>102</th>\n",
       "      <td>1</td>\n",
       "      <td>2017-01-20</td>\n",
       "      <td>2799.043615</td>\n",
       "      <td>11</td>\n",
       "      <td>254.458510</td>\n",
       "    </tr>\n",
       "    <tr>\n",
       "      <th>122</th>\n",
       "      <td>1</td>\n",
       "      <td>2017-02-13</td>\n",
       "      <td>3441.012566</td>\n",
       "      <td>14</td>\n",
       "      <td>245.786612</td>\n",
       "    </tr>\n",
       "    <tr>\n",
       "      <th>85</th>\n",
       "      <td>1</td>\n",
       "      <td>2016-12-21</td>\n",
       "      <td>2371.092405</td>\n",
       "      <td>10</td>\n",
       "      <td>237.109240</td>\n",
       "    </tr>\n",
       "    <tr>\n",
       "      <th>48</th>\n",
       "      <td>0</td>\n",
       "      <td>2017-02-06</td>\n",
       "      <td>1373.679512</td>\n",
       "      <td>6</td>\n",
       "      <td>228.946585</td>\n",
       "    </tr>\n",
       "    <tr>\n",
       "      <th>127</th>\n",
       "      <td>1</td>\n",
       "      <td>2017-02-18</td>\n",
       "      <td>2878.387988</td>\n",
       "      <td>14</td>\n",
       "      <td>205.599142</td>\n",
       "    </tr>\n",
       "  </tbody>\n",
       "</table>\n",
       "<p>136 rows × 5 columns</p>\n",
       "</div>"
      ],
      "text/plain": [
       "     loyalty_program purchase_day    total_price  customer_id  \\\n",
       "32                 0   2017-01-18  164705.360548           22   \n",
       "73                 1   2016-12-07   61103.255464           23   \n",
       "94                 1   2017-01-11   27446.715893           11   \n",
       "29                 0   2017-01-14   59857.371067           33   \n",
       "52                 0   2017-02-10   59125.372192           33   \n",
       "..               ...          ...            ...          ...   \n",
       "102                1   2017-01-20    2799.043615           11   \n",
       "122                1   2017-02-13    3441.012566           14   \n",
       "85                 1   2016-12-21    2371.092405           10   \n",
       "48                 0   2017-02-06    1373.679512            6   \n",
       "127                1   2017-02-18    2878.387988           14   \n",
       "\n",
       "     income_per_customer  \n",
       "32           7486.607298  \n",
       "73           2656.663281  \n",
       "94           2495.155990  \n",
       "29           1813.859729  \n",
       "52           1791.677945  \n",
       "..                   ...  \n",
       "102           254.458510  \n",
       "122           245.786612  \n",
       "85            237.109240  \n",
       "48            228.946585  \n",
       "127           205.599142  \n",
       "\n",
       "[136 rows x 5 columns]"
      ]
     },
     "execution_count": 42,
     "metadata": {},
     "output_type": "execute_result"
    }
   ],
   "source": [
    "income_by_day = (df_cus.groupby(['loyalty_program', 'purchase_day'])\n",
    "                  .agg({'total_price': 'sum', 'customer_id': 'nunique'})\n",
    "                  .reset_index()\n",
    "                  .sort_values(by = 'total_price', ascending = False)) # Группируем по лояльности и дням\n",
    "income_by_day['income_per_customer'] = income_by_day['total_price'] / income_by_day['customer_id']\n",
    "income_by_day.sort_values (by = 'income_per_customer', ascending = False)"
   ]
  },
  {
   "cell_type": "code",
   "execution_count": 43,
   "metadata": {},
   "outputs": [
    {
     "data": {
      "image/png": "[encoded data removed]",
      "text/plain": [
       "<Figure size 1080x504 with 1 Axes>"
      ]
     },
     "metadata": {
      "needs_background": "light"
     },
     "output_type": "display_data"
    }
   ],
   "source": [
    "plt.figure(figsize=(15, 7)) # Установим размер графика\n",
    "\n",
    "sns.scatterplot(x= 'purchase_day', y= 'income_per_customer', hue = 'loyalty_program', data=income_by_day) \n",
    "# Диаграмма рассеяния\n",
    "\n",
    "plt.title('Сумма покупок по дням') # Подпишем график \n",
    "plt.xlabel('Дата')\n",
    "plt.ylabel('Сумма покупок')\n",
    "plt.show()"
   ]
  },
  {
   "cell_type": "markdown",
   "metadata": {},
   "source": [
    "На диаграмме видим, что есть выборосы. Уберем покупки превышающие 3000 рублей."
   ]
  },
  {
   "cell_type": "code",
   "execution_count": 44,
   "metadata": {},
   "outputs": [
    {
     "data": {
      "text/plain": [
       "count     135.000000\n",
       "mean      650.351033\n",
       "std       412.089968\n",
       "min       205.599142\n",
       "25%       407.807986\n",
       "50%       531.511984\n",
       "75%       714.849635\n",
       "max      2656.663281\n",
       "Name: income_per_customer, dtype: float64"
      ]
     },
     "execution_count": 44,
     "metadata": {},
     "output_type": "execute_result"
    }
   ],
   "source": [
    "income_by_day = income_by_day.query('income_per_customer < 3000') # Уберем аномальные значения\n",
    "income_by_day['income_per_customer'].describe()"
   ]
  },
  {
   "cell_type": "code",
   "execution_count": 45,
   "metadata": {},
   "outputs": [
    {
     "data": {
      "image/png": "[encoded data removed]",
      "text/plain": [
       "<Figure size 648x864 with 1 Axes>"
      ]
     },
     "metadata": {
      "needs_background": "light"
     },
     "output_type": "display_data"
    }
   ],
   "source": [
    "plt.figure(figsize=(9, 12)) \n",
    "\n",
    "sns.barplot(x='income_per_customer', y='purchase_day', hue = 'loyalty_program', data = income_by_day)\n",
    "\n",
    "plt.title('Относительная сумма покупок')\n",
    "plt.xlabel('Сумма покупок')\n",
    "plt.ylabel('Дата')\n",
    "plt.legend(title='Программа лояльности') \n",
    "plt.show()"
   ]
  },
  {
   "cell_type": "code",
   "execution_count": 46,
   "metadata": {},
   "outputs": [
    {
     "data": {
      "image/png": "[encoded data removed]",
      "text/plain": [
       "<Figure size 648x360 with 1 Axes>"
      ]
     },
     "metadata": {
      "needs_background": "light"
     },
     "output_type": "display_data"
    }
   ],
   "source": [
    "plt.figure(figsize=(9, 5)) \n",
    "\n",
    "sns.lineplot(x='purchase_day', y='income_per_customer', hue = 'loyalty_program', data=income_by_day)\n",
    "\n",
    "plt.title('Динамика суммы покупок по дням')\n",
    "plt.xlabel('Дата')\n",
    "plt.ylabel('Сумма покупок')\n",
    "plt.legend(['Не участвуют','Участвуют'], title='Программа лояльности')\n",
    "plt.xticks(rotation=50)\n",
    "plt.show()"
   ]
  },
  {
   "cell_type": "markdown",
   "metadata": {},
   "source": [
    "**Вывод:**\n",
    "\n",
    "На графиках видно, что сумма покупок клиетов обеих групп примерно одинакова."
   ]
  },
  {
   "cell_type": "markdown",
   "metadata": {},
   "source": [
    "### 4.4 Среднее количество покупок и расходов покупателей"
   ]
  },
  {
   "cell_type": "code",
   "execution_count": 47,
   "metadata": {},
   "outputs": [],
   "source": [
    "mean = (df_cus.groupby('loyalty_program')\n",
    "         .agg({'total_price': 'sum', 'customer_id': 'nunique', 'purchase_id': 'nunique'})\n",
    "         .reset_index())\n",
    "# Группируем пользователей по программе лояльности "
   ]
  },
  {
   "cell_type": "code",
   "execution_count": 48,
   "metadata": {},
   "outputs": [
    {
     "data": {
      "text/html": [
       "<div>\n",
       "<style scoped>\n",
       "    .dataframe tbody tr th:only-of-type {\n",
       "        vertical-align: middle;\n",
       "    }\n",
       "\n",
       "    .dataframe tbody tr th {\n",
       "        vertical-align: top;\n",
       "    }\n",
       "\n",
       "    .dataframe thead th {\n",
       "        text-align: right;\n",
       "    }\n",
       "</style>\n",
       "<table border=\"1\" class=\"dataframe\">\n",
       "  <thead>\n",
       "    <tr style=\"text-align: right;\">\n",
       "      <th></th>\n",
       "      <th>loyalty_program</th>\n",
       "      <th>total_price</th>\n",
       "      <th>customer_id</th>\n",
       "      <th>purchase_id</th>\n",
       "      <th>number_of_purchases_mean</th>\n",
       "    </tr>\n",
       "  </thead>\n",
       "  <tbody>\n",
       "    <tr>\n",
       "      <th>0</th>\n",
       "      <td>0</td>\n",
       "      <td>1.851662e+06</td>\n",
       "      <td>1162</td>\n",
       "      <td>2802</td>\n",
       "      <td>2.411360</td>\n",
       "    </tr>\n",
       "    <tr>\n",
       "      <th>1</th>\n",
       "      <td>1</td>\n",
       "      <td>6.809017e+05</td>\n",
       "      <td>587</td>\n",
       "      <td>1344</td>\n",
       "      <td>2.289608</td>\n",
       "    </tr>\n",
       "  </tbody>\n",
       "</table>\n",
       "</div>"
      ],
      "text/plain": [
       "   loyalty_program   total_price  customer_id  purchase_id  \\\n",
       "0                0  1.851662e+06         1162         2802   \n",
       "1                1  6.809017e+05          587         1344   \n",
       "\n",
       "   number_of_purchases_mean  \n",
       "0                  2.411360  \n",
       "1                  2.289608  "
      ]
     },
     "execution_count": 48,
     "metadata": {},
     "output_type": "execute_result"
    }
   ],
   "source": [
    "mean['number_of_purchases_mean'] = mean['purchase_id'] /  mean['customer_id']\n",
    "mean.head() # Среднее значение количества покупок"
   ]
  },
  {
   "cell_type": "code",
   "execution_count": 49,
   "metadata": {},
   "outputs": [
    {
     "data": {
      "text/html": [
       "<div>\n",
       "<style scoped>\n",
       "    .dataframe tbody tr th:only-of-type {\n",
       "        vertical-align: middle;\n",
       "    }\n",
       "\n",
       "    .dataframe tbody tr th {\n",
       "        vertical-align: top;\n",
       "    }\n",
       "\n",
       "    .dataframe thead th {\n",
       "        text-align: right;\n",
       "    }\n",
       "</style>\n",
       "<table border=\"1\" class=\"dataframe\">\n",
       "  <thead>\n",
       "    <tr style=\"text-align: right;\">\n",
       "      <th></th>\n",
       "      <th>loyalty_program</th>\n",
       "      <th>total_price</th>\n",
       "      <th>customer_id</th>\n",
       "      <th>purchase_id</th>\n",
       "      <th>number_of_purchases_mean</th>\n",
       "      <th>consumption_mean</th>\n",
       "    </tr>\n",
       "  </thead>\n",
       "  <tbody>\n",
       "    <tr>\n",
       "      <th>0</th>\n",
       "      <td>0</td>\n",
       "      <td>1.851662e+06</td>\n",
       "      <td>1162</td>\n",
       "      <td>2802</td>\n",
       "      <td>2.411360</td>\n",
       "      <td>1593.512591</td>\n",
       "    </tr>\n",
       "    <tr>\n",
       "      <th>1</th>\n",
       "      <td>1</td>\n",
       "      <td>6.809017e+05</td>\n",
       "      <td>587</td>\n",
       "      <td>1344</td>\n",
       "      <td>2.289608</td>\n",
       "      <td>1159.968815</td>\n",
       "    </tr>\n",
       "  </tbody>\n",
       "</table>\n",
       "</div>"
      ],
      "text/plain": [
       "   loyalty_program   total_price  customer_id  purchase_id  \\\n",
       "0                0  1.851662e+06         1162         2802   \n",
       "1                1  6.809017e+05          587         1344   \n",
       "\n",
       "   number_of_purchases_mean  consumption_mean  \n",
       "0                  2.411360       1593.512591  \n",
       "1                  2.289608       1159.968815  "
      ]
     },
     "execution_count": 49,
     "metadata": {},
     "output_type": "execute_result"
    }
   ],
   "source": [
    "mean['consumption_mean'] = mean['total_price'] / mean['customer_id']\n",
    "mean.head() # Средние расходы покупателей"
   ]
  },
  {
   "cell_type": "code",
   "execution_count": 50,
   "metadata": {},
   "outputs": [
    {
     "data": {
      "image/png": "[encoded data removed]",
      "text/plain": [
       "<Figure size 504x432 with 1 Axes>"
      ]
     },
     "metadata": {
      "needs_background": "light"
     },
     "output_type": "display_data"
    }
   ],
   "source": [
    "plt.figure(figsize=(7, 6)) \n",
    "\n",
    "sns.barplot(x='loyalty_program', y='number_of_purchases_mean', data = mean)\n",
    "\n",
    "plt.title('Среднее количество покупок')\n",
    "plt.xlabel('Программа лояльности')\n",
    "plt.ylabel('Количество покупок')\n",
    "plt.show()"
   ]
  },
  {
   "cell_type": "code",
   "execution_count": 51,
   "metadata": {},
   "outputs": [
    {
     "data": {
      "image/png": "[encoded data removed]",
      "text/plain": [
       "<Figure size 504x432 with 1 Axes>"
      ]
     },
     "metadata": {
      "needs_background": "light"
     },
     "output_type": "display_data"
    }
   ],
   "source": [
    "plt.figure(figsize=(7, 6)) \n",
    "\n",
    "sns.barplot(x='loyalty_program', y='consumption_mean', data = mean)\n",
    "\n",
    "plt.title('Средние расходы покупателей')\n",
    "plt.xlabel('Программа лояльности')\n",
    "plt.ylabel('Расходы')\n",
    "plt.show()"
   ]
  },
  {
   "cell_type": "markdown",
   "metadata": {},
   "source": [
    "**Вывод:**\n",
    "\n",
    "На основе средних значений по количеству покупок и расходов покупателей можно сделать вывод, что клиеты не участвующие в программе лояльности покупают больше товара и тратят больше, чем клиенты участвующие в программе лояльности."
   ]
  },
  {
   "cell_type": "markdown",
   "metadata": {},
   "source": [
    "### 4.5 Расчет LTV"
   ]
  },
  {
   "cell_type": "markdown",
   "metadata": {},
   "source": [
    "В особенностях сбора данных указано, что оплата карты лояльности не идет через кассу,а учитывается в системе бухгалтерско-складского учета. Необходимо отобразить олату за программу лояльности при расчете LTV. Также исключим 0-го покупателя для расчета LTV."
   ]
  },
  {
   "cell_type": "code",
   "execution_count": 52,
   "metadata": {},
   "outputs": [],
   "source": [
    "df_ltv = df[df['customer_id'] != 0] # для расчета LTV исключим 0-го покупателя"
   ]
  },
  {
   "cell_type": "code",
   "execution_count": 53,
   "metadata": {},
   "outputs": [],
   "source": [
    "# функция для создания пользовательских профилей\n",
    "def get_profiles(df_ltv):\n",
    "\n",
    "    # находим параметры первых посещений\n",
    "    profiles = (\n",
    "        df_ltv.sort_values(by=['customer_id', 'purchase_date'])\n",
    "        .groupby('customer_id') # сгруппируем по id пользователя\n",
    "        .agg({'purchase_date': 'first','loyalty_program':'first'}) # первые посещения\n",
    "        .rename(columns={'purchase_date': 'first_ts'}) # заменим название столбца \n",
    "        .reset_index()\n",
    "    )  \n",
    "    \n",
    "    # для когортного анализа определяем дату первого посещения\n",
    "    # и первый день месяца, в который это посещение произошло\n",
    "    profiles['dt'] = profiles['first_ts'].dt.date\n",
    "    profiles['month'] = profiles['first_ts'].astype('datetime64[M]')\n",
    "\n",
    "    return profiles "
   ]
  },
  {
   "cell_type": "code",
   "execution_count": 54,
   "metadata": {},
   "outputs": [
    {
     "data": {
      "text/html": [
       "<div>\n",
       "<style scoped>\n",
       "    .dataframe tbody tr th:only-of-type {\n",
       "        vertical-align: middle;\n",
       "    }\n",
       "\n",
       "    .dataframe tbody tr th {\n",
       "        vertical-align: top;\n",
       "    }\n",
       "\n",
       "    .dataframe thead th {\n",
       "        text-align: right;\n",
       "    }\n",
       "</style>\n",
       "<table border=\"1\" class=\"dataframe\">\n",
       "  <thead>\n",
       "    <tr style=\"text-align: right;\">\n",
       "      <th></th>\n",
       "      <th>customer_id</th>\n",
       "      <th>first_ts</th>\n",
       "      <th>loyalty_program</th>\n",
       "      <th>dt</th>\n",
       "      <th>month</th>\n",
       "    </tr>\n",
       "  </thead>\n",
       "  <tbody>\n",
       "    <tr>\n",
       "      <th>0</th>\n",
       "      <td>18025</td>\n",
       "      <td>2017-01-18 10:01:00</td>\n",
       "      <td>0</td>\n",
       "      <td>2017-01-18</td>\n",
       "      <td>2017-01-01</td>\n",
       "    </tr>\n",
       "    <tr>\n",
       "      <th>1</th>\n",
       "      <td>18026</td>\n",
       "      <td>2016-12-07 14:57:00</td>\n",
       "      <td>0</td>\n",
       "      <td>2016-12-07</td>\n",
       "      <td>2016-12-01</td>\n",
       "    </tr>\n",
       "    <tr>\n",
       "      <th>2</th>\n",
       "      <td>18027</td>\n",
       "      <td>2016-12-16 19:09:00</td>\n",
       "      <td>0</td>\n",
       "      <td>2016-12-16</td>\n",
       "      <td>2016-12-01</td>\n",
       "    </tr>\n",
       "    <tr>\n",
       "      <th>3</th>\n",
       "      <td>18029</td>\n",
       "      <td>2017-02-02 16:01:00</td>\n",
       "      <td>0</td>\n",
       "      <td>2017-02-02</td>\n",
       "      <td>2017-02-01</td>\n",
       "    </tr>\n",
       "    <tr>\n",
       "      <th>4</th>\n",
       "      <td>18031</td>\n",
       "      <td>2017-02-16 12:33:00</td>\n",
       "      <td>0</td>\n",
       "      <td>2017-02-16</td>\n",
       "      <td>2017-02-01</td>\n",
       "    </tr>\n",
       "  </tbody>\n",
       "</table>\n",
       "</div>"
      ],
      "text/plain": [
       "   customer_id            first_ts  loyalty_program          dt      month\n",
       "0        18025 2017-01-18 10:01:00                0  2017-01-18 2017-01-01\n",
       "1        18026 2016-12-07 14:57:00                0  2016-12-07 2016-12-01\n",
       "2        18027 2016-12-16 19:09:00                0  2016-12-16 2016-12-01\n",
       "3        18029 2017-02-02 16:01:00                0  2017-02-02 2017-02-01\n",
       "4        18031 2017-02-16 12:33:00                0  2017-02-16 2017-02-01"
      ]
     },
     "execution_count": 54,
     "metadata": {},
     "output_type": "execute_result"
    }
   ],
   "source": [
    "profiles = get_profiles (df_ltv)\n",
    "profiles.head() # Получим профили пользователей "
   ]
  },
  {
   "cell_type": "code",
   "execution_count": 55,
   "metadata": {},
   "outputs": [],
   "source": [
    "# функция для расчёта LTV \n",
    "def get_ltv(\n",
    "    profiles,\n",
    "    df_ltv,\n",
    "    observation_date,\n",
    "    horizon_days,\n",
    "    dimensions=[],\n",
    "    ignore_horizon=False,\n",
    "):\n",
    "    # исключаем пользователей, не «доживших» до горизонта анализа\n",
    "    last_suitable_acquisition_date = observation_date\n",
    "    if not ignore_horizon:\n",
    "        last_suitable_acquisition_date = observation_date - timedelta(\n",
    "            days=horizon_days - 1\n",
    "        )\n",
    "    result_raw = profiles.query ('dt <= @last_suitable_acquisition_date')\n",
    "    # добавляем данные о покупках в профили\n",
    "    result_raw = result_raw.merge(\n",
    "        # добавляем в профили время совершения покупок и стоимость товаров в чеке\n",
    "        df_ltv[['customer_id', 'purchase_date', 'total_price']], on='customer_id',how='left',\n",
    "    )\n",
    "    \n",
    "    # рассчитываем лайфтайм пользователя для каждой покупки\n",
    "    result_raw['lifetime'] = (\n",
    "        result_raw['purchase_date'] - result_raw['first_ts']).dt.days\n",
    "    \n",
    "    # делаем срез на лайфтайм (32 день) и по программе лояльности \n",
    "    lp = result_raw.query ('loyalty_program == 1 and lifetime == 32')\n",
    "    \n",
    "    # группируем по cohort, если в dimensions ничего нет\n",
    "    if len(dimensions) == 0:\n",
    "        result_raw['cohort'] = 'All users'\n",
    "        dimensions = dimensions + ['cohort']\n",
    "        \n",
    "    # функция для группировки таблицы по желаемым признакам\n",
    "    def group_by_dimensions(df_ltv, dims, horizon_days):\n",
    "        # вычисляем размеры когорт\n",
    "        cohort_sizes = (\n",
    "            df_ltv.groupby(dims)\n",
    "            .agg({'customer_id' : 'nunique'})\n",
    "            .rename(columns={'customer_id' : 'cohort_size'})\n",
    "        )\n",
    "    \n",
    "      # строим таблицу выручки\n",
    "        result = df_ltv.pivot_table(\n",
    "            index=dims,\n",
    "            columns='lifetime',\n",
    "            values='total_price',\n",
    "            aggfunc='sum')\n",
    "\n",
    "        \n",
    "        # добавим стоимость программы лояльности (200 рублей) в первый день лайфтайма\n",
    "        qw = lp['customer_id'].nunique()\n",
    "        \n",
    "        result.loc [1,0] = ((cohort_sizes.loc [1,'cohort_size'] * 200) + result.loc [1,0])\n",
    "        \n",
    "        # добавим стоимость программы лояльности (200 рублей) на 32 день жизни клиента\n",
    "        # в январе и декабре 31 день! \n",
    "        result.loc [1,31] = ((qw * 200) + result.loc [1,31])\n",
    "        \n",
    "        # считаем сумму выручки с накоплением\n",
    "        result = result.fillna(0).cumsum(axis=1)\n",
    "        \n",
    "        # объединяем размеры когорт и таблицу выручки\n",
    "        result = cohort_sizes.merge(result, on=dims, how='left').fillna(0)\n",
    "        \n",
    "        # считаем LTV- делим каждую «ячейку» в строке на размер когорты\n",
    "        result = result.div(result['cohort_size'], axis=0)\n",
    "        \n",
    "        # исключаем все лайфтаймы, превышающие горизонт анализа\n",
    "        result = result[['cohort_size'] + list(range(horizon_days))]\n",
    "        \n",
    "        # восстанавливаем размеры когорт\n",
    "        result['cohort_size'] = cohort_sizes\n",
    "        \n",
    "        return result\n",
    "    \n",
    "    # получаем таблицу LTV\n",
    "    result_grouped = group_by_dimensions(result_raw, dimensions, horizon_days)\n",
    "    \n",
    "    # для таблицы динамики LTV убираем 'cohort' из dimensions\n",
    "    if 'cohort' in dimensions:\n",
    "        dimensions = []\n",
    "        \n",
    "    # получаем таблицу динамики LTV\n",
    "    result_in_time = group_by_dimensions(\n",
    "        result_raw, dimensions + ['dt'], horizon_days\n",
    "    )\n",
    "    \n",
    "    # возвращаем обе таблицы LTV и сырые данные\n",
    "    return result_raw, result_grouped, result_in_time"
   ]
  },
  {
   "cell_type": "code",
   "execution_count": 56,
   "metadata": {},
   "outputs": [],
   "source": [
    "observation_date = datetime(2017,2,28).date() # Момент анализа 28 февраля 2017 года\n",
    "\n",
    "horizon_days = 60 # Определим горизонт анализа в 60 дней"
   ]
  },
  {
   "cell_type": "code",
   "execution_count": 57,
   "metadata": {},
   "outputs": [],
   "source": [
    "ltv_raw, ltv, ltv_history = (get_ltv (profiles, \n",
    "                                     df_ltv, \n",
    "                                     observation_date, \n",
    "                                     horizon_days,\n",
    "                                     dimensions=['loyalty_program']))\n",
    "# Расчитываем LTV с помощью функции"
   ]
  },
  {
   "cell_type": "code",
   "execution_count": 58,
   "metadata": {},
   "outputs": [
    {
     "data": {
      "image/png": "[encoded data removed]",
      "text/plain": [
       "<Figure size 1152x576 with 1 Axes>"
      ]
     },
     "metadata": {
      "needs_background": "light"
     },
     "output_type": "display_data"
    }
   ],
   "source": [
    "# Построим кривые LTV \n",
    "\n",
    "ltv.T.plot(figsize=(16, 8), grid=True)\n",
    "\n",
    "plt.title('LTV по пользователям с программой лояльности и без') # Подпишем график\n",
    "plt.ylabel('LTV')\n",
    "plt.xlabel('Лайфтайм')\n",
    "\n",
    "plt.show()"
   ]
  },
  {
   "cell_type": "markdown",
   "metadata": {},
   "source": [
    "**Вывод:**\n",
    "\n",
    "На графике видим, что за 60 дней LTV растет у двух категорий покупателей (с программой лояльности и без). \n",
    "\n",
    "В первые 30 дней показатель LTV у участников программы лояльности был выше, чем у остальных покупателей. На второй месяц ситуация меняется и LTV покупателей, не состоящих в программе лояльности становиться выше."
   ]
  },
  {
   "cell_type": "markdown",
   "metadata": {},
   "source": [
    "### Вывод"
   ]
  },
  {
   "cell_type": "markdown",
   "metadata": {},
   "source": [
    "1. Покупатели, не участвующие в программе лояльности покупают чаще, чем покупатели с программой лояльности. Но стабильности в покупках клиентов без карты лояльности нет, количество покупок меняется в больших диапазонах. Клиенты с картой покупают стабильней.\n",
    "2. Сумма покупок клиентов обеих групп примерно одинакова.\n",
    "3. Клиеты не участвующие в программе лояльности покупают больше товара и тратят немного больше, чем клиенты участвующие в программе лояльности.\n",
    "4.  В первый месяц показатель LTV у участников программы лояльности был выше, чем у остальных покупателей. На второй месяц ситуация меняется и LTV покупателей, не состоящих в программе лояльности становиться выше."
   ]
  },
  {
   "cell_type": "markdown",
   "metadata": {},
   "source": [
    "## 5 Проверка статистических гипотез "
   ]
  },
  {
   "cell_type": "markdown",
   "metadata": {},
   "source": [
    "В рамках анализа проверим две основных гипотезы:\n",
    "\n",
    "**Гипотеза №1:** Средний чек участников программы лояльности выше, чем у остальных покупателей.\n",
    "\n",
    "H0: Средний чек участников программы лояльности равен среднему чеку остальных покупателей.\n",
    "\n",
    "H1: Средний чек участников программы лояльности выше, чем у остальных покупателей. \n",
    "\n",
    "**Гипотеза №2:** Количество покупок участников программы лояльности выше, чем у остальных покупателей.\n",
    "\n",
    "H0: Количество покупок участников программы лояльности и остальных покупателей равно.\n",
    "\n",
    "H1: Количество покупок участников программы лояльности выше, чем у остальных покупателей."
   ]
  },
  {
   "cell_type": "markdown",
   "metadata": {},
   "source": [
    "**Для проверки статистических гипотез воспользуемся методом Манна-Уитни и функцией stats.mannwhitneyu.**"
   ]
  },
  {
   "cell_type": "markdown",
   "metadata": {},
   "source": [
    "### 5.1 Проверка гипотез"
   ]
  },
  {
   "cell_type": "code",
   "execution_count": 59,
   "metadata": {},
   "outputs": [
    {
     "data": {
      "text/html": [
       "<div>\n",
       "<style scoped>\n",
       "    .dataframe tbody tr th:only-of-type {\n",
       "        vertical-align: middle;\n",
       "    }\n",
       "\n",
       "    .dataframe tbody tr th {\n",
       "        vertical-align: top;\n",
       "    }\n",
       "\n",
       "    .dataframe thead th {\n",
       "        text-align: right;\n",
       "    }\n",
       "</style>\n",
       "<table border=\"1\" class=\"dataframe\">\n",
       "  <thead>\n",
       "    <tr style=\"text-align: right;\">\n",
       "      <th></th>\n",
       "      <th>purchase_id</th>\n",
       "      <th>loyalty_program</th>\n",
       "      <th>total_price</th>\n",
       "    </tr>\n",
       "  </thead>\n",
       "  <tbody>\n",
       "    <tr>\n",
       "      <th>0</th>\n",
       "      <td>536365</td>\n",
       "      <td>1</td>\n",
       "      <td>184.471417</td>\n",
       "    </tr>\n",
       "    <tr>\n",
       "      <th>1</th>\n",
       "      <td>536366</td>\n",
       "      <td>1</td>\n",
       "      <td>20.400000</td>\n",
       "    </tr>\n",
       "    <tr>\n",
       "      <th>2</th>\n",
       "      <td>536367</td>\n",
       "      <td>0</td>\n",
       "      <td>295.588750</td>\n",
       "    </tr>\n",
       "    <tr>\n",
       "      <th>3</th>\n",
       "      <td>536368</td>\n",
       "      <td>0</td>\n",
       "      <td>84.470000</td>\n",
       "    </tr>\n",
       "    <tr>\n",
       "      <th>4</th>\n",
       "      <td>536369</td>\n",
       "      <td>0</td>\n",
       "      <td>16.600000</td>\n",
       "    </tr>\n",
       "  </tbody>\n",
       "</table>\n",
       "</div>"
      ],
      "text/plain": [
       "  purchase_id  loyalty_program  total_price\n",
       "0      536365                1   184.471417\n",
       "1      536366                1    20.400000\n",
       "2      536367                0   295.588750\n",
       "3      536368                0    84.470000\n",
       "4      536369                0    16.600000"
      ]
     },
     "execution_count": 59,
     "metadata": {},
     "output_type": "execute_result"
    }
   ],
   "source": [
    "hypotheses = (df.groupby(['purchase_id', 'loyalty_program'])['total_price']\n",
    "              .sum()\n",
    "              .reset_index()) \n",
    "\n",
    "hypotheses.head()"
   ]
  },
  {
   "cell_type": "markdown",
   "metadata": {},
   "source": [
    "**Гипотеза №1: Средний чек участников программы лояльности выше, чем у остальных покупателей.**\n",
    "\n",
    "H0: Средний чек участников программы лояльности равен среднему чеку остальных покупателей.\n",
    "\n",
    "H1: Средний чек участников программы лояльности выше, чем у остальных покупателей."
   ]
  },
  {
   "cell_type": "code",
   "execution_count": 60,
   "metadata": {
    "scrolled": true
   },
   "outputs": [
    {
     "name": "stdout",
     "output_type": "stream",
     "text": [
      "Значение p-value для сравнения расходов клиентов 0.10537\n",
      "Не получилось отвергнуть нулевую гипотезу, статистически значимых различий в среднем чеке клиентов нет\n"
     ]
    }
   ],
   "source": [
    "# Проверим первую гипотезу \n",
    "\n",
    "alpha = 0.05 # Установим уровень критической занчимости \n",
    "\n",
    "sample_1 = hypotheses[hypotheses['loyalty_program'] == 0]['total_price'] # Расходы группы без лояльности \n",
    "sample_2 = hypotheses[hypotheses['loyalty_program'] == 1]['total_price'] # Расходы группы с лояльностью \n",
    "\n",
    "p_value = stats.mannwhitneyu(sample_1, sample_2)[1] # Вызов метода для проверки гипотезы\n",
    "\n",
    "print('Значение p-value для сравнения расходов клиентов {0:.5f}'.format(p_value)) # вывод значения p-value на экран\n",
    "\n",
    "if (p_value < alpha): # условный оператор с выводом строки с ответом\n",
    "    print('Отвергаем нулевую гипотезу: есть статистически значимые различия в среднем чеке клиентов')\n",
    "else:\n",
    "    print('Не получилось отвергнуть нулевую гипотезу, статистически значимых различий в среднем чеке клиентов нет')"
   ]
  },
  {
   "cell_type": "markdown",
   "metadata": {},
   "source": [
    "**Вывод:**\n",
    "\n",
    "Между клиентами, участвующими в программе лояльности и не участвующими, нет значимых различий в расходах покупателей."
   ]
  },
  {
   "cell_type": "markdown",
   "metadata": {},
   "source": [
    "**Гипотеза №2: Количество покупок участников программы лояльности выше, чем у остальных покупателей.**\n",
    "\n",
    "H0: Количество покупок участников программы лояльности и остальных покупателей равно.\n",
    "\n",
    "H1: Количество покупок участников программы лояльности выше, чем у остальных покупателей."
   ]
  },
  {
   "cell_type": "code",
   "execution_count": 61,
   "metadata": {},
   "outputs": [
    {
     "data": {
      "text/html": [
       "<div>\n",
       "<style scoped>\n",
       "    .dataframe tbody tr th:only-of-type {\n",
       "        vertical-align: middle;\n",
       "    }\n",
       "\n",
       "    .dataframe tbody tr th {\n",
       "        vertical-align: top;\n",
       "    }\n",
       "\n",
       "    .dataframe thead th {\n",
       "        text-align: right;\n",
       "    }\n",
       "</style>\n",
       "<table border=\"1\" class=\"dataframe\">\n",
       "  <thead>\n",
       "    <tr style=\"text-align: right;\">\n",
       "      <th></th>\n",
       "      <th>loyalty_program</th>\n",
       "      <th>customer_id</th>\n",
       "      <th>purchase_id</th>\n",
       "      <th>total_price</th>\n",
       "    </tr>\n",
       "  </thead>\n",
       "  <tbody>\n",
       "    <tr>\n",
       "      <th>0</th>\n",
       "      <td>0</td>\n",
       "      <td>18025</td>\n",
       "      <td>2</td>\n",
       "      <td>154367.200000</td>\n",
       "    </tr>\n",
       "    <tr>\n",
       "      <th>1</th>\n",
       "      <td>0</td>\n",
       "      <td>18026</td>\n",
       "      <td>2</td>\n",
       "      <td>1718.362024</td>\n",
       "    </tr>\n",
       "    <tr>\n",
       "      <th>2</th>\n",
       "      <td>0</td>\n",
       "      <td>18027</td>\n",
       "      <td>2</td>\n",
       "      <td>1850.373286</td>\n",
       "    </tr>\n",
       "    <tr>\n",
       "      <th>3</th>\n",
       "      <td>0</td>\n",
       "      <td>18029</td>\n",
       "      <td>1</td>\n",
       "      <td>385.261000</td>\n",
       "    </tr>\n",
       "    <tr>\n",
       "      <th>4</th>\n",
       "      <td>0</td>\n",
       "      <td>18031</td>\n",
       "      <td>1</td>\n",
       "      <td>370.659667</td>\n",
       "    </tr>\n",
       "  </tbody>\n",
       "</table>\n",
       "</div>"
      ],
      "text/plain": [
       "   loyalty_program  customer_id  purchase_id    total_price\n",
       "0                0        18025            2  154367.200000\n",
       "1                0        18026            2    1718.362024\n",
       "2                0        18027            2    1850.373286\n",
       "3                0        18029            1     385.261000\n",
       "4                0        18031            1     370.659667"
      ]
     },
     "execution_count": 61,
     "metadata": {},
     "output_type": "execute_result"
    }
   ],
   "source": [
    "hypotheses_2 = df[df['customer_id'] != 0] # для анализа количества покупок исключим 0-го покупателя\n",
    "\n",
    "hypotheses_2 = (hypotheses_2.groupby(['loyalty_program', 'customer_id']) # Группируем по id покупателя и программе лояльности\n",
    "             .agg({'purchase_id': 'nunique', 'total_price': 'sum'})\n",
    "             .reset_index()) # Количество покупок и расходы клиентов\n",
    "\n",
    "hypotheses_2.head()"
   ]
  },
  {
   "cell_type": "code",
   "execution_count": 62,
   "metadata": {},
   "outputs": [
    {
     "name": "stdout",
     "output_type": "stream",
     "text": [
      "Значение p-value для сравнения количества покупок клиентов 0.35544\n",
      "Не получилось отвергнуть нулевую гипотезу, статистически значимых различий в количестве покупок клиентов нет\n"
     ]
    }
   ],
   "source": [
    "# Проверим вторую гипотезу \n",
    "\n",
    "alpha = 0.05 # Установим уровень критической занчимости \n",
    "\n",
    "sample_1 = hypotheses_2[hypotheses_2['loyalty_program'] == 0]['purchase_id'] # Количество покупок группы без лояльности \n",
    "sample_2 = hypotheses_2[hypotheses_2['loyalty_program'] == 1]['purchase_id'] # Количество покупок группы с лояльностью \n",
    "\n",
    "p_value = stats.mannwhitneyu(sample_1, sample_2)[1]\n",
    "\n",
    "print('Значение p-value для сравнения количества покупок клиентов {0:.5f}'.format(p_value))\n",
    "# вывод значения p-value на экран\n",
    "\n",
    "if (p_value < alpha): # условный оператор с выводом строки с ответом\n",
    "    print('Отвергаем нулевую гипотезу: есть статистически значимые различия в количестве покупок клиентов')\n",
    "else:\n",
    "    print('Не получилось отвергнуть нулевую гипотезу, статистически значимых различий в количестве покупок клиентов нет')"
   ]
  },
  {
   "cell_type": "markdown",
   "metadata": {},
   "source": [
    "**Вывод:**\n",
    "\n",
    "Между клиентами, участвующими в программе лояльности и не участвующими, нет значимых различий в количестве покупок."
   ]
  },
  {
   "cell_type": "markdown",
   "metadata": {},
   "source": [
    "### Вывод"
   ]
  },
  {
   "cell_type": "markdown",
   "metadata": {},
   "source": [
    "По результатам проверки двух гипотез было установлено, что значимых различий в среднем чеке и в количестве покупок нет. "
   ]
  },
  {
   "cell_type": "markdown",
   "metadata": {},
   "source": [
    "## Общий вывод"
   ]
  },
  {
   "cell_type": "markdown",
   "metadata": {},
   "source": [
    "В проекте был проведен исследовательский анализ данных, проанализирована эффективность программы лояльности, проведен статистический анализ данных. \n",
    "\n",
    "**Исследовательский анализ данных:**\n",
    "\n",
    "1. Данные о покупках в магазине строительных материалов представлены с 01 декабря 2016 года по 28 февраля 2017 года.\n",
    "2. 33,5% покупателей участвуют в программе лояльности.\n",
    "3. Практически все покупки совершались в магазине Shop 0. Самая высокая выручка и лидер по количество уникальных покупателей, также магазин Shop 0.\n",
    "4. Самый высокий средний чек у магазинов под № 23, 3, 14, 2, 19, 24.\n",
    "5. У магазина под №6 самый высокий показатель по количеству покупок на клиента (более 11 покупок на клиента). В остальных магазинах один покупатель совершает не более 4 покупок.\n",
    "\n",
    "**Анализ программы лояльности:**\n",
    "\n",
    "1. Покупатели, не участвующие в программе лояльности покупают чаще, чем покупатели с программой лояльности. Но стабильности в покупках клиентов без карты лояльности нет, количество покупок меняется в больших диапазонах.\n",
    "\n",
    "2. Сумма покупок по дням клиентов обеих групп примерно одинакова.\n",
    "\n",
    "3. Клиеты не участвующие в программе лояльности покупают больше товара и тратят, чем клиенты участвующие в программе лояльности.\n",
    "\n",
    "4. В первые 30 дней показатель LTV у участников программы лояльности был выше, чем у остальных покупателей. На второй месяц ситуация меняется и LTV покупателей, не состоящих в программе лояльности становиться выше.\n",
    "\n",
    "**Статистический анализ данных:**\n",
    "\n",
    "По результатам проверки двух гипотез было установлено, что значимых различий в среднем чеке и в количестве покупок нет. \n",
    "\n",
    "**Результаты исследования показали, что статистической разницы в среднем чеке и количестве покупок между клиентами с картой лояльности и без нет. Показатель пожизненной ценности клиентов говорит о том, что со второго месяца у клиентов с картой лояльности падает LTV. Это может быть связано с тем, что после использования карты, клиенты не увидили ощутимою выгоду в использовании карты. Программа лояльности не достаточно эффективна, так как клиенты с картой лояльности не тратят и не покупают больше, чем клиенты без карты, а показатель LTV фиксирует спад на второй месяц.**"
   ]
  },
  {
   "cell_type": "markdown",
   "metadata": {},
   "source": [
    "## Рекомендации"
   ]
  },
  {
   "cell_type": "markdown",
   "metadata": {},
   "source": [
    "Необходимо определить целевую аудиторию для программы лояльности. Возможно, сейчас облодатели карт лояльности не видят для себя ценности в ней. \n",
    "\n",
    "На мой взгляд, есть две категории клиентов:\n",
    "\n",
    "1. Клиенты, у которых деятельность связана со строительством или ремонтом - они покупают постоянно. Скорее всего, они используют программу лояльности, так как покупки у этой категории клиентов стабильные. Программа лояльности будет выгодна для них.\n",
    "\n",
    "2. Клиенты, у которых деятельность не связана со строительством - они будут покупать реже, чем первая категория. И им такая программа не подойдет. Можно создать программу лояльности для таких клиентов.\n",
    "\n",
    "При покупках ознакамливать клиентов с существующими программами лояльности и сделать бесплатный пробный период, чтобы покупатели смогли оценить выгоду и принять решение о пользовании картой. \n",
    "\n",
    "После внедрения программ лояльности сделать повторный анализ."
   ]
  },
  {
   "cell_type": "markdown",
   "metadata": {},
   "source": [
    "## Презентация "
   ]
  },
  {
   "cell_type": "markdown",
   "metadata": {},
   "source": [
    "https://drive.google.com/file/d/1YYexNJRImZGdRNeNuWDalA53ZVj7x5Ny/view?usp=sharing"
   ]
  },
  {
   "cell_type": "markdown",
   "metadata": {},
   "source": [
    "## Дашборд"
   ]
  },
  {
   "cell_type": "markdown",
   "metadata": {},
   "source": [
    "https://public.tableau.com/app/profile/ilia.sidorov/viz/_16887559255760/Dashboard2?publish=yes"
   ]
  }
 ],
 "metadata": {
  "ExecuteTimeLog": [
   {
    "duration": 1532,
    "start_time": "2023-07-07T21:23:40.912Z"
   },
   {
    "duration": 434,
    "start_time": "2023-07-07T21:23:43.432Z"
   },
   {
    "duration": 110,
    "start_time": "2023-07-07T21:23:49.323Z"
   },
   {
    "duration": 26,
    "start_time": "2023-07-07T21:24:57.279Z"
   },
   {
    "duration": 13,
    "start_time": "2023-07-07T21:25:06.739Z"
   },
   {
    "duration": 42,
    "start_time": "2023-07-07T21:25:09.187Z"
   },
   {
    "duration": 32,
    "start_time": "2023-07-07T21:25:13.769Z"
   },
   {
    "duration": 20,
    "start_time": "2023-07-07T21:25:21.200Z"
   },
   {
    "duration": 10,
    "start_time": "2023-07-07T21:25:22.046Z"
   },
   {
    "duration": 7,
    "start_time": "2023-07-07T21:25:24.009Z"
   },
   {
    "duration": 15,
    "start_time": "2023-07-07T21:25:25.030Z"
   },
   {
    "duration": 5,
    "start_time": "2023-07-07T21:25:27.587Z"
   },
   {
    "duration": 5,
    "start_time": "2023-07-07T21:25:28.407Z"
   },
   {
    "duration": 51,
    "start_time": "2023-07-07T21:25:36.069Z"
   },
   {
    "duration": 12,
    "start_time": "2023-07-07T21:25:39.737Z"
   },
   {
    "duration": 242,
    "start_time": "2023-07-07T21:31:19.737Z"
   },
   {
    "duration": 14,
    "start_time": "2023-07-07T21:31:47.746Z"
   },
   {
    "duration": 135,
    "start_time": "2023-07-07T21:32:10.018Z"
   },
   {
    "duration": 10,
    "start_time": "2023-07-07T21:35:01.871Z"
   },
   {
    "duration": 665,
    "start_time": "2023-07-07T21:35:38.933Z"
   },
   {
    "duration": 37,
    "start_time": "2023-07-07T21:36:41.526Z"
   },
   {
    "duration": 90,
    "start_time": "2023-07-07T21:36:52.718Z"
   },
   {
    "duration": 94,
    "start_time": "2023-07-07T21:37:00.741Z"
   },
   {
    "duration": 41,
    "start_time": "2023-07-07T21:37:44.962Z"
   },
   {
    "duration": 468,
    "start_time": "2023-07-07T21:38:58.676Z"
   },
   {
    "duration": 44,
    "start_time": "2023-07-07T21:39:40.374Z"
   },
   {
    "duration": 333,
    "start_time": "2023-07-07T21:42:35.589Z"
   },
   {
    "duration": 52,
    "start_time": "2023-07-07T21:43:07.898Z"
   },
   {
    "duration": 325,
    "start_time": "2023-07-07T21:43:22.763Z"
   },
   {
    "duration": 50,
    "start_time": "2023-07-07T21:46:42.531Z"
   },
   {
    "duration": 310,
    "start_time": "2023-07-07T21:46:59.512Z"
   },
   {
    "duration": 99,
    "start_time": "2023-07-07T21:52:02.403Z"
   },
   {
    "duration": 342,
    "start_time": "2023-07-07T21:52:21.493Z"
   },
   {
    "duration": 137,
    "start_time": "2023-07-07T21:57:30.133Z"
   },
   {
    "duration": 1765,
    "start_time": "2023-07-07T21:57:55.271Z"
   },
   {
    "duration": 1625,
    "start_time": "2023-07-07T21:58:08.251Z"
   },
   {
    "duration": 1664,
    "start_time": "2023-07-07T21:58:19.758Z"
   },
   {
    "duration": 261,
    "start_time": "2023-07-07T21:59:15.641Z"
   },
   {
    "duration": 4,
    "start_time": "2023-07-07T22:00:23.191Z"
   },
   {
    "duration": 1592,
    "start_time": "2023-07-07T22:00:31.918Z"
   },
   {
    "duration": 1787,
    "start_time": "2023-07-07T22:00:43.039Z"
   },
   {
    "duration": 260,
    "start_time": "2023-07-07T22:01:02.425Z"
   },
   {
    "duration": 178,
    "start_time": "2023-07-07T22:01:35.707Z"
   },
   {
    "duration": 84,
    "start_time": "2023-07-07T22:01:54.787Z"
   },
   {
    "duration": 1471,
    "start_time": "2023-07-07T22:02:09.613Z"
   },
   {
    "duration": 235,
    "start_time": "2023-07-07T22:02:21.303Z"
   },
   {
    "duration": 68,
    "start_time": "2023-07-07T22:02:53.980Z"
   },
   {
    "duration": 10,
    "start_time": "2023-07-07T22:03:04.211Z"
   },
   {
    "duration": 10,
    "start_time": "2023-07-07T22:03:12.620Z"
   },
   {
    "duration": 149,
    "start_time": "2023-07-07T22:03:38.381Z"
   },
   {
    "duration": 124,
    "start_time": "2023-07-07T22:03:48.546Z"
   },
   {
    "duration": 5,
    "start_time": "2023-07-07T22:04:29.765Z"
   },
   {
    "duration": 175,
    "start_time": "2023-07-07T22:04:40.030Z"
   },
   {
    "duration": 200,
    "start_time": "2023-07-07T22:04:56.426Z"
   },
   {
    "duration": 6,
    "start_time": "2023-07-07T22:05:05.176Z"
   },
   {
    "duration": 9,
    "start_time": "2023-07-07T22:05:22.209Z"
   },
   {
    "duration": 321,
    "start_time": "2023-07-07T22:07:14.889Z"
   },
   {
    "duration": 250,
    "start_time": "2023-07-07T22:07:27.131Z"
   },
   {
    "duration": 3,
    "start_time": "2023-07-07T22:08:02.867Z"
   },
   {
    "duration": 107,
    "start_time": "2023-07-07T22:08:16.341Z"
   },
   {
    "duration": 73,
    "start_time": "2023-07-07T22:09:13.834Z"
   },
   {
    "duration": 15,
    "start_time": "2023-07-07T22:09:43.960Z"
   },
   {
    "duration": 4,
    "start_time": "2023-07-07T22:10:34.319Z"
   },
   {
    "duration": 5,
    "start_time": "2023-07-07T22:10:40.412Z"
   },
   {
    "duration": 319,
    "start_time": "2023-07-07T22:10:40.419Z"
   },
   {
    "duration": 86,
    "start_time": "2023-07-07T22:10:40.741Z"
   },
   {
    "duration": 60,
    "start_time": "2023-07-07T22:10:40.829Z"
   },
   {
    "duration": 16,
    "start_time": "2023-07-07T22:10:40.893Z"
   },
   {
    "duration": 71,
    "start_time": "2023-07-07T22:10:40.911Z"
   },
   {
    "duration": 33,
    "start_time": "2023-07-07T22:10:40.984Z"
   },
   {
    "duration": 43,
    "start_time": "2023-07-07T22:10:41.019Z"
   },
   {
    "duration": 10,
    "start_time": "2023-07-07T22:10:41.067Z"
   },
   {
    "duration": 9,
    "start_time": "2023-07-07T22:10:41.079Z"
   },
   {
    "duration": 14,
    "start_time": "2023-07-07T22:10:41.091Z"
   },
   {
    "duration": 4,
    "start_time": "2023-07-07T22:10:41.107Z"
   },
   {
    "duration": 7,
    "start_time": "2023-07-07T22:10:41.112Z"
   },
   {
    "duration": 72,
    "start_time": "2023-07-07T22:10:41.120Z"
   },
   {
    "duration": 17,
    "start_time": "2023-07-07T22:10:41.194Z"
   },
   {
    "duration": 268,
    "start_time": "2023-07-07T22:10:41.213Z"
   },
   {
    "duration": 15,
    "start_time": "2023-07-07T22:10:41.482Z"
   },
   {
    "duration": 167,
    "start_time": "2023-07-07T22:10:41.498Z"
   },
   {
    "duration": 14,
    "start_time": "2023-07-07T22:10:41.667Z"
   },
   {
    "duration": 622,
    "start_time": "2023-07-07T22:10:41.682Z"
   },
   {
    "duration": 51,
    "start_time": "2023-07-07T22:10:42.306Z"
   },
   {
    "duration": 124,
    "start_time": "2023-07-07T22:10:42.358Z"
   },
   {
    "duration": 39,
    "start_time": "2023-07-07T22:10:42.484Z"
   },
   {
    "duration": 368,
    "start_time": "2023-07-07T22:10:42.525Z"
   },
   {
    "duration": 39,
    "start_time": "2023-07-07T22:10:42.895Z"
   },
   {
    "duration": 360,
    "start_time": "2023-07-07T22:10:42.935Z"
   },
   {
    "duration": 72,
    "start_time": "2023-07-07T22:10:43.297Z"
   },
   {
    "duration": 452,
    "start_time": "2023-07-07T22:10:43.370Z"
   },
   {
    "duration": 67,
    "start_time": "2023-07-07T22:10:43.826Z"
   },
   {
    "duration": 337,
    "start_time": "2023-07-07T22:10:43.895Z"
   },
   {
    "duration": 91,
    "start_time": "2023-07-07T22:10:44.234Z"
   },
   {
    "duration": 353,
    "start_time": "2023-07-07T22:10:44.326Z"
   },
   {
    "duration": 154,
    "start_time": "2023-07-07T22:10:44.681Z"
   },
   {
    "duration": 1669,
    "start_time": "2023-07-07T22:10:44.837Z"
   },
   {
    "duration": 463,
    "start_time": "2023-07-07T22:10:46.508Z"
   },
   {
    "duration": 5,
    "start_time": "2023-07-07T22:10:46.973Z"
   },
   {
    "duration": 1885,
    "start_time": "2023-07-07T22:10:46.980Z"
   },
   {
    "duration": 274,
    "start_time": "2023-07-07T22:10:48.869Z"
   },
   {
    "duration": 88,
    "start_time": "2023-07-07T22:10:49.144Z"
   },
   {
    "duration": 1726,
    "start_time": "2023-07-07T22:10:49.234Z"
   },
   {
    "duration": 245,
    "start_time": "2023-07-07T22:10:50.963Z"
   },
   {
    "duration": 80,
    "start_time": "2023-07-07T22:10:51.210Z"
   },
   {
    "duration": 10,
    "start_time": "2023-07-07T22:10:51.291Z"
   },
   {
    "duration": 26,
    "start_time": "2023-07-07T22:10:51.302Z"
   },
   {
    "duration": 125,
    "start_time": "2023-07-07T22:10:51.330Z"
   },
   {
    "duration": 118,
    "start_time": "2023-07-07T22:10:51.462Z"
   },
   {
    "duration": 4,
    "start_time": "2023-07-07T22:10:51.583Z"
   },
   {
    "duration": 176,
    "start_time": "2023-07-07T22:10:51.588Z"
   },
   {
    "duration": 7,
    "start_time": "2023-07-07T22:10:51.767Z"
   },
   {
    "duration": 19,
    "start_time": "2023-07-07T22:10:51.776Z"
   },
   {
    "duration": 287,
    "start_time": "2023-07-07T22:10:51.798Z"
   },
   {
    "duration": 210,
    "start_time": "2023-07-07T22:10:52.087Z"
   },
   {
    "duration": 81,
    "start_time": "2023-07-07T22:10:52.299Z"
   },
   {
    "duration": 10,
    "start_time": "2023-07-07T22:10:52.381Z"
   },
   {
    "duration": 11,
    "start_time": "2023-07-07T22:11:32.690Z"
   },
   {
    "duration": 5,
    "start_time": "2023-07-07T22:17:57.273Z"
   },
   {
    "duration": 99,
    "start_time": "2023-07-07T22:17:58.880Z"
   },
   {
    "duration": 9,
    "start_time": "2023-07-07T22:18:01.276Z"
   },
   {
    "duration": 3,
    "start_time": "2023-07-07T22:18:01.786Z"
   },
   {
    "duration": 288,
    "start_time": "2023-07-07T22:18:02.330Z"
   },
   {
    "duration": 207,
    "start_time": "2023-07-07T22:18:03.113Z"
   },
   {
    "duration": 3,
    "start_time": "2023-07-07T22:18:14.429Z"
   },
   {
    "duration": 274,
    "start_time": "2023-07-07T22:18:14.436Z"
   },
   {
    "duration": 85,
    "start_time": "2023-07-07T22:18:14.712Z"
   },
   {
    "duration": 24,
    "start_time": "2023-07-07T22:18:14.799Z"
   },
   {
    "duration": 30,
    "start_time": "2023-07-07T22:18:14.825Z"
   },
   {
    "duration": 41,
    "start_time": "2023-07-07T22:18:14.856Z"
   },
   {
    "duration": 30,
    "start_time": "2023-07-07T22:18:14.899Z"
   },
   {
    "duration": 17,
    "start_time": "2023-07-07T22:18:14.954Z"
   },
   {
    "duration": 13,
    "start_time": "2023-07-07T22:18:14.973Z"
   },
   {
    "duration": 10,
    "start_time": "2023-07-07T22:18:14.987Z"
   },
   {
    "duration": 51,
    "start_time": "2023-07-07T22:18:14.999Z"
   },
   {
    "duration": 36,
    "start_time": "2023-07-07T22:18:15.052Z"
   },
   {
    "duration": 14,
    "start_time": "2023-07-07T22:18:15.090Z"
   },
   {
    "duration": 62,
    "start_time": "2023-07-07T22:18:15.106Z"
   },
   {
    "duration": 12,
    "start_time": "2023-07-07T22:18:15.171Z"
   },
   {
    "duration": 237,
    "start_time": "2023-07-07T22:18:15.185Z"
   },
   {
    "duration": 15,
    "start_time": "2023-07-07T22:18:15.424Z"
   },
   {
    "duration": 149,
    "start_time": "2023-07-07T22:18:15.460Z"
   },
   {
    "duration": 8,
    "start_time": "2023-07-07T22:18:15.611Z"
   },
   {
    "duration": 655,
    "start_time": "2023-07-07T22:18:15.620Z"
   },
   {
    "duration": 33,
    "start_time": "2023-07-07T22:18:16.277Z"
   },
   {
    "duration": 261,
    "start_time": "2023-07-07T22:18:16.312Z"
   },
   {
    "duration": 37,
    "start_time": "2023-07-07T22:18:16.575Z"
   },
   {
    "duration": 361,
    "start_time": "2023-07-07T22:18:16.614Z"
   },
   {
    "duration": 37,
    "start_time": "2023-07-07T22:18:16.977Z"
   },
   {
    "duration": 354,
    "start_time": "2023-07-07T22:18:17.015Z"
   },
   {
    "duration": 56,
    "start_time": "2023-07-07T22:18:17.371Z"
   },
   {
    "duration": 357,
    "start_time": "2023-07-07T22:18:17.429Z"
   },
   {
    "duration": 50,
    "start_time": "2023-07-07T22:18:17.787Z"
   },
   {
    "duration": 309,
    "start_time": "2023-07-07T22:18:17.838Z"
   },
   {
    "duration": 91,
    "start_time": "2023-07-07T22:18:18.149Z"
   },
   {
    "duration": 527,
    "start_time": "2023-07-07T22:18:18.242Z"
   },
   {
    "duration": 134,
    "start_time": "2023-07-07T22:18:18.771Z"
   },
   {
    "duration": 1661,
    "start_time": "2023-07-07T22:18:18.907Z"
   },
   {
    "duration": 272,
    "start_time": "2023-07-07T22:18:20.570Z"
   },
   {
    "duration": 4,
    "start_time": "2023-07-07T22:18:20.844Z"
   },
   {
    "duration": 1617,
    "start_time": "2023-07-07T22:18:20.856Z"
   },
   {
    "duration": 260,
    "start_time": "2023-07-07T22:18:22.475Z"
   },
   {
    "duration": 90,
    "start_time": "2023-07-07T22:18:22.737Z"
   },
   {
    "duration": 1308,
    "start_time": "2023-07-08T05:22:11.330Z"
   },
   {
    "duration": 377,
    "start_time": "2023-07-08T05:22:12.640Z"
   },
   {
    "duration": 80,
    "start_time": "2023-07-08T05:22:13.018Z"
   },
   {
    "duration": 25,
    "start_time": "2023-07-08T05:22:13.100Z"
   },
   {
    "duration": 16,
    "start_time": "2023-07-08T05:22:13.128Z"
   },
   {
    "duration": 87,
    "start_time": "2023-07-08T05:22:13.146Z"
   },
   {
    "duration": 50,
    "start_time": "2023-07-08T05:22:13.234Z"
   },
   {
    "duration": 15,
    "start_time": "2023-07-08T05:22:13.288Z"
   },
   {
    "duration": 9,
    "start_time": "2023-07-08T05:22:13.304Z"
   },
   {
    "duration": 7,
    "start_time": "2023-07-08T05:22:13.315Z"
   },
   {
    "duration": 16,
    "start_time": "2023-07-08T05:22:13.324Z"
   },
   {
    "duration": 3,
    "start_time": "2023-07-08T05:22:13.342Z"
   },
   {
    "duration": 30,
    "start_time": "2023-07-08T05:22:13.346Z"
   },
   {
    "duration": 58,
    "start_time": "2023-07-08T05:22:13.382Z"
   },
   {
    "duration": 10,
    "start_time": "2023-07-08T05:22:13.441Z"
   },
   {
    "duration": 268,
    "start_time": "2023-07-08T05:22:13.452Z"
   },
   {
    "duration": 14,
    "start_time": "2023-07-08T05:22:13.722Z"
   },
   {
    "duration": 198,
    "start_time": "2023-07-08T05:22:13.738Z"
   },
   {
    "duration": 9,
    "start_time": "2023-07-08T05:22:13.938Z"
   },
   {
    "duration": 724,
    "start_time": "2023-07-08T05:22:13.949Z"
   },
   {
    "duration": 44,
    "start_time": "2023-07-08T05:22:14.677Z"
   },
   {
    "duration": 147,
    "start_time": "2023-07-08T05:22:14.723Z"
   },
   {
    "duration": 46,
    "start_time": "2023-07-08T05:22:14.874Z"
   },
   {
    "duration": 344,
    "start_time": "2023-07-08T05:22:14.921Z"
   },
   {
    "duration": 50,
    "start_time": "2023-07-08T05:22:15.266Z"
   },
   {
    "duration": 403,
    "start_time": "2023-07-08T05:22:15.318Z"
   },
   {
    "duration": 66,
    "start_time": "2023-07-08T05:22:15.723Z"
   },
   {
    "duration": 343,
    "start_time": "2023-07-08T05:22:15.795Z"
   },
   {
    "duration": 76,
    "start_time": "2023-07-08T05:22:16.140Z"
   },
   {
    "duration": 380,
    "start_time": "2023-07-08T05:22:16.217Z"
   },
   {
    "duration": 88,
    "start_time": "2023-07-08T05:22:16.599Z"
   },
   {
    "duration": 346,
    "start_time": "2023-07-08T05:22:16.688Z"
   },
   {
    "duration": 154,
    "start_time": "2023-07-08T05:22:17.037Z"
   },
   {
    "duration": 1605,
    "start_time": "2023-07-08T05:22:17.195Z"
   },
   {
    "duration": 244,
    "start_time": "2023-07-08T05:22:18.801Z"
   },
   {
    "duration": 3,
    "start_time": "2023-07-08T05:22:19.047Z"
   },
   {
    "duration": 1604,
    "start_time": "2023-07-08T05:22:19.052Z"
   },
   {
    "duration": 310,
    "start_time": "2023-07-08T05:22:20.659Z"
   },
   {
    "duration": 129,
    "start_time": "2023-07-08T05:22:20.975Z"
   },
   {
    "duration": 1613,
    "start_time": "2023-07-08T05:22:21.107Z"
   },
   {
    "duration": 234,
    "start_time": "2023-07-08T05:22:22.724Z"
   },
   {
    "duration": 78,
    "start_time": "2023-07-08T05:22:22.959Z"
   },
   {
    "duration": 9,
    "start_time": "2023-07-08T05:22:23.039Z"
   },
   {
    "duration": 70,
    "start_time": "2023-07-08T05:22:23.049Z"
   },
   {
    "duration": 148,
    "start_time": "2023-07-08T05:22:23.121Z"
   },
   {
    "duration": 149,
    "start_time": "2023-07-08T05:22:23.271Z"
   },
   {
    "duration": 4,
    "start_time": "2023-07-08T05:22:23.422Z"
   },
   {
    "duration": 207,
    "start_time": "2023-07-08T05:22:23.427Z"
   },
   {
    "duration": 8,
    "start_time": "2023-07-08T05:22:23.635Z"
   },
   {
    "duration": 59,
    "start_time": "2023-07-08T05:22:23.645Z"
   },
   {
    "duration": 298,
    "start_time": "2023-07-08T05:22:23.705Z"
   },
   {
    "duration": 200,
    "start_time": "2023-07-08T05:22:24.005Z"
   },
   {
    "duration": 78,
    "start_time": "2023-07-08T05:22:24.207Z"
   },
   {
    "duration": 11,
    "start_time": "2023-07-08T05:22:24.288Z"
   },
   {
    "duration": 36,
    "start_time": "2023-07-08T05:22:24.300Z"
   },
   {
    "duration": 92,
    "start_time": "2023-07-08T05:27:21.046Z"
   },
   {
    "duration": 206,
    "start_time": "2023-07-08T05:27:48.311Z"
   },
   {
    "duration": 32,
    "start_time": "2023-07-08T05:31:59.612Z"
   },
   {
    "duration": 45,
    "start_time": "2023-07-10T11:29:21.285Z"
   },
   {
    "duration": 2037,
    "start_time": "2023-07-10T16:56:55.719Z"
   },
   {
    "duration": 846,
    "start_time": "2023-07-10T16:56:57.758Z"
   },
   {
    "duration": 184,
    "start_time": "2023-07-10T16:56:58.606Z"
   },
   {
    "duration": 73,
    "start_time": "2023-07-10T16:56:58.793Z"
   },
   {
    "duration": 28,
    "start_time": "2023-07-10T16:56:58.872Z"
   },
   {
    "duration": 107,
    "start_time": "2023-07-10T16:56:58.903Z"
   },
   {
    "duration": 87,
    "start_time": "2023-07-10T16:56:59.012Z"
   },
   {
    "duration": 22,
    "start_time": "2023-07-10T16:56:59.101Z"
   },
   {
    "duration": 28,
    "start_time": "2023-07-10T16:56:59.125Z"
   },
   {
    "duration": 19,
    "start_time": "2023-07-10T16:56:59.162Z"
   },
   {
    "duration": 47,
    "start_time": "2023-07-10T16:56:59.186Z"
   },
   {
    "duration": 8,
    "start_time": "2023-07-10T16:56:59.239Z"
   },
   {
    "duration": 31,
    "start_time": "2023-07-10T16:56:59.250Z"
   },
   {
    "duration": 127,
    "start_time": "2023-07-10T16:56:59.285Z"
   },
   {
    "duration": 14,
    "start_time": "2023-07-10T16:56:59.418Z"
   },
   {
    "duration": 391,
    "start_time": "2023-07-10T16:56:59.436Z"
   },
   {
    "duration": 25,
    "start_time": "2023-07-10T16:56:59.831Z"
   },
   {
    "duration": 276,
    "start_time": "2023-07-10T16:56:59.862Z"
   },
   {
    "duration": 43,
    "start_time": "2023-07-10T16:57:00.148Z"
   },
   {
    "duration": 4808,
    "start_time": "2023-07-10T16:57:00.194Z"
   },
   {
    "duration": 51,
    "start_time": "2023-07-10T16:57:05.004Z"
   },
   {
    "duration": 125,
    "start_time": "2023-07-10T16:57:05.058Z"
   },
   {
    "duration": 71,
    "start_time": "2023-07-10T16:57:05.185Z"
   },
   {
    "duration": 457,
    "start_time": "2023-07-10T16:57:05.264Z"
   },
   {
    "duration": 66,
    "start_time": "2023-07-10T16:57:05.723Z"
   },
   {
    "duration": 454,
    "start_time": "2023-07-10T16:57:05.791Z"
   },
   {
    "duration": 73,
    "start_time": "2023-07-10T16:57:06.253Z"
   },
   {
    "duration": 418,
    "start_time": "2023-07-10T16:57:06.331Z"
   },
   {
    "duration": 72,
    "start_time": "2023-07-10T16:57:06.751Z"
   },
   {
    "duration": 407,
    "start_time": "2023-07-10T16:57:06.825Z"
   },
   {
    "duration": 124,
    "start_time": "2023-07-10T16:57:07.234Z"
   },
   {
    "duration": 407,
    "start_time": "2023-07-10T16:57:07.363Z"
   },
   {
    "duration": 161,
    "start_time": "2023-07-10T16:57:07.774Z"
   },
   {
    "duration": 1974,
    "start_time": "2023-07-10T16:57:07.937Z"
   },
   {
    "duration": 390,
    "start_time": "2023-07-10T16:57:09.919Z"
   },
   {
    "duration": 9,
    "start_time": "2023-07-10T16:57:10.311Z"
   },
   {
    "duration": 2126,
    "start_time": "2023-07-10T16:57:10.324Z"
   },
   {
    "duration": 306,
    "start_time": "2023-07-10T16:57:12.469Z"
   },
   {
    "duration": 106,
    "start_time": "2023-07-10T16:57:12.777Z"
   },
   {
    "duration": 1871,
    "start_time": "2023-07-10T16:57:12.885Z"
   },
   {
    "duration": 277,
    "start_time": "2023-07-10T16:57:14.758Z"
   },
   {
    "duration": 94,
    "start_time": "2023-07-10T16:57:15.036Z"
   },
   {
    "duration": 14,
    "start_time": "2023-07-10T16:57:15.132Z"
   },
   {
    "duration": 15,
    "start_time": "2023-07-10T16:57:15.148Z"
   },
   {
    "duration": 273,
    "start_time": "2023-07-10T16:57:15.165Z"
   },
   {
    "duration": 148,
    "start_time": "2023-07-10T16:57:15.443Z"
   },
   {
    "duration": 4,
    "start_time": "2023-07-10T16:57:15.593Z"
   },
   {
    "duration": 194,
    "start_time": "2023-07-10T16:57:15.599Z"
   },
   {
    "duration": 7,
    "start_time": "2023-07-10T16:57:15.796Z"
   },
   {
    "duration": 36,
    "start_time": "2023-07-10T16:57:15.805Z"
   },
   {
    "duration": 292,
    "start_time": "2023-07-10T16:57:15.843Z"
   },
   {
    "duration": 249,
    "start_time": "2023-07-10T16:57:16.137Z"
   },
   {
    "duration": 114,
    "start_time": "2023-07-10T16:57:16.389Z"
   },
   {
    "duration": 37,
    "start_time": "2023-07-10T16:57:16.505Z"
   },
   {
    "duration": 15,
    "start_time": "2023-07-10T16:57:16.544Z"
   },
   {
    "duration": 5,
    "start_time": "2023-07-10T17:17:29.794Z"
   },
   {
    "duration": 515,
    "start_time": "2023-07-10T17:17:29.802Z"
   },
   {
    "duration": 133,
    "start_time": "2023-07-10T17:17:30.320Z"
   },
   {
    "duration": 32,
    "start_time": "2023-07-10T17:17:30.463Z"
   },
   {
    "duration": 73,
    "start_time": "2023-07-10T17:17:30.498Z"
   },
   {
    "duration": 126,
    "start_time": "2023-07-10T17:17:30.573Z"
   },
   {
    "duration": 182,
    "start_time": "2023-07-10T17:17:30.701Z"
   },
   {
    "duration": 106,
    "start_time": "2023-07-10T17:17:30.885Z"
   },
   {
    "duration": 82,
    "start_time": "2023-07-10T17:17:30.993Z"
   },
   {
    "duration": 152,
    "start_time": "2023-07-10T17:17:31.077Z"
   },
   {
    "duration": 45,
    "start_time": "2023-07-10T17:17:31.233Z"
   },
   {
    "duration": 5,
    "start_time": "2023-07-10T17:17:31.280Z"
   },
   {
    "duration": 20,
    "start_time": "2023-07-10T17:17:31.287Z"
   },
   {
    "duration": 97,
    "start_time": "2023-07-10T17:17:31.309Z"
   },
   {
    "duration": 19,
    "start_time": "2023-07-10T17:17:31.408Z"
   },
   {
    "duration": 38,
    "start_time": "2023-07-10T17:17:31.429Z"
   },
   {
    "duration": 274,
    "start_time": "2023-07-10T17:17:31.468Z"
   },
   {
    "duration": 25,
    "start_time": "2023-07-10T17:17:31.750Z"
   },
   {
    "duration": 208,
    "start_time": "2023-07-10T17:17:31.777Z"
   },
   {
    "duration": 9,
    "start_time": "2023-07-10T17:17:31.987Z"
   },
   {
    "duration": 4595,
    "start_time": "2023-07-10T17:17:31.998Z"
   },
   {
    "duration": 52,
    "start_time": "2023-07-10T17:17:36.595Z"
   },
   {
    "duration": 128,
    "start_time": "2023-07-10T17:17:36.648Z"
   },
   {
    "duration": 80,
    "start_time": "2023-07-10T17:17:36.778Z"
   },
   {
    "duration": 415,
    "start_time": "2023-07-10T17:17:36.864Z"
   },
   {
    "duration": 52,
    "start_time": "2023-07-10T17:17:37.281Z"
   },
   {
    "duration": 401,
    "start_time": "2023-07-10T17:17:37.334Z"
   },
   {
    "duration": 67,
    "start_time": "2023-07-10T17:17:37.737Z"
   },
   {
    "duration": 439,
    "start_time": "2023-07-10T17:17:37.814Z"
   },
   {
    "duration": 73,
    "start_time": "2023-07-10T17:17:38.258Z"
   },
   {
    "duration": 420,
    "start_time": "2023-07-10T17:17:38.337Z"
   },
   {
    "duration": 118,
    "start_time": "2023-07-10T17:17:38.762Z"
   },
   {
    "duration": 429,
    "start_time": "2023-07-10T17:17:38.881Z"
   },
   {
    "duration": 165,
    "start_time": "2023-07-10T17:17:39.312Z"
   },
   {
    "duration": 1989,
    "start_time": "2023-07-10T17:17:39.479Z"
   },
   {
    "duration": 324,
    "start_time": "2023-07-10T17:17:41.473Z"
   },
   {
    "duration": 5,
    "start_time": "2023-07-10T17:17:41.798Z"
   },
   {
    "duration": 2162,
    "start_time": "2023-07-10T17:17:41.804Z"
   },
   {
    "duration": 339,
    "start_time": "2023-07-10T17:17:43.978Z"
   },
   {
    "duration": 117,
    "start_time": "2023-07-10T17:17:44.321Z"
   },
   {
    "duration": 1891,
    "start_time": "2023-07-10T17:17:44.448Z"
   },
   {
    "duration": 333,
    "start_time": "2023-07-10T17:17:46.341Z"
   },
   {
    "duration": 83,
    "start_time": "2023-07-10T17:17:46.677Z"
   },
   {
    "duration": 12,
    "start_time": "2023-07-10T17:17:46.761Z"
   },
   {
    "duration": 16,
    "start_time": "2023-07-10T17:17:46.775Z"
   },
   {
    "duration": 167,
    "start_time": "2023-07-10T17:17:46.794Z"
   },
   {
    "duration": 140,
    "start_time": "2023-07-10T17:17:46.965Z"
   },
   {
    "duration": 12,
    "start_time": "2023-07-10T17:17:47.107Z"
   },
   {
    "duration": 167,
    "start_time": "2023-07-10T17:17:47.121Z"
   },
   {
    "duration": 13,
    "start_time": "2023-07-10T17:17:47.290Z"
   },
   {
    "duration": 14,
    "start_time": "2023-07-10T17:17:47.320Z"
   },
   {
    "duration": 345,
    "start_time": "2023-07-10T17:17:47.341Z"
   },
   {
    "duration": 257,
    "start_time": "2023-07-10T17:17:47.688Z"
   },
   {
    "duration": 91,
    "start_time": "2023-07-10T17:17:47.947Z"
   },
   {
    "duration": 15,
    "start_time": "2023-07-10T17:17:48.044Z"
   },
   {
    "duration": 84,
    "start_time": "2023-07-10T17:17:48.063Z"
   },
   {
    "duration": 20,
    "start_time": "2023-07-10T17:17:48.151Z"
   },
   {
    "duration": 6,
    "start_time": "2023-07-10T17:25:20.533Z"
   },
   {
    "duration": 330,
    "start_time": "2023-07-10T17:25:20.541Z"
   },
   {
    "duration": 94,
    "start_time": "2023-07-10T17:25:20.873Z"
   },
   {
    "duration": 26,
    "start_time": "2023-07-10T17:25:20.971Z"
   },
   {
    "duration": 27,
    "start_time": "2023-07-10T17:25:20.999Z"
   },
   {
    "duration": 76,
    "start_time": "2023-07-10T17:25:21.027Z"
   },
   {
    "duration": 58,
    "start_time": "2023-07-10T17:25:21.105Z"
   },
   {
    "duration": 14,
    "start_time": "2023-07-10T17:25:21.167Z"
   },
   {
    "duration": 32,
    "start_time": "2023-07-10T17:25:21.183Z"
   },
   {
    "duration": 156,
    "start_time": "2023-07-10T17:25:21.217Z"
   },
   {
    "duration": 11,
    "start_time": "2023-07-10T17:25:21.377Z"
   },
   {
    "duration": 4,
    "start_time": "2023-07-10T17:25:21.390Z"
   },
   {
    "duration": 5,
    "start_time": "2023-07-10T17:25:21.395Z"
   },
   {
    "duration": 64,
    "start_time": "2023-07-10T17:25:21.402Z"
   },
   {
    "duration": 12,
    "start_time": "2023-07-10T17:25:21.467Z"
   },
   {
    "duration": 11,
    "start_time": "2023-07-10T17:25:21.481Z"
   },
   {
    "duration": 234,
    "start_time": "2023-07-10T17:25:21.494Z"
   },
   {
    "duration": 28,
    "start_time": "2023-07-10T17:25:21.730Z"
   },
   {
    "duration": 207,
    "start_time": "2023-07-10T17:25:21.763Z"
   },
   {
    "duration": 10,
    "start_time": "2023-07-10T17:25:21.973Z"
   },
   {
    "duration": 4230,
    "start_time": "2023-07-10T17:25:21.985Z"
   },
   {
    "duration": 44,
    "start_time": "2023-07-10T17:25:26.220Z"
   },
   {
    "duration": 126,
    "start_time": "2023-07-10T17:25:26.266Z"
   },
   {
    "duration": 52,
    "start_time": "2023-07-10T17:25:26.394Z"
   },
   {
    "duration": 440,
    "start_time": "2023-07-10T17:25:26.448Z"
   },
   {
    "duration": 60,
    "start_time": "2023-07-10T17:25:26.889Z"
   },
   {
    "duration": 412,
    "start_time": "2023-07-10T17:25:26.953Z"
   },
   {
    "duration": 60,
    "start_time": "2023-07-10T17:25:27.367Z"
   },
   {
    "duration": 414,
    "start_time": "2023-07-10T17:25:27.431Z"
   },
   {
    "duration": 69,
    "start_time": "2023-07-10T17:25:27.846Z"
   },
   {
    "duration": 420,
    "start_time": "2023-07-10T17:25:27.921Z"
   },
   {
    "duration": 134,
    "start_time": "2023-07-10T17:25:28.345Z"
   },
   {
    "duration": 534,
    "start_time": "2023-07-10T17:25:28.481Z"
   },
   {
    "duration": 157,
    "start_time": "2023-07-10T17:25:29.020Z"
   },
   {
    "duration": 1958,
    "start_time": "2023-07-10T17:25:29.179Z"
   },
   {
    "duration": 306,
    "start_time": "2023-07-10T17:25:31.139Z"
   },
   {
    "duration": 8,
    "start_time": "2023-07-10T17:25:31.448Z"
   },
   {
    "duration": 2115,
    "start_time": "2023-07-10T17:25:31.458Z"
   },
   {
    "duration": 326,
    "start_time": "2023-07-10T17:25:33.575Z"
   },
   {
    "duration": 154,
    "start_time": "2023-07-10T17:25:33.902Z"
   },
   {
    "duration": 1787,
    "start_time": "2023-07-10T17:25:34.065Z"
   },
   {
    "duration": 293,
    "start_time": "2023-07-10T17:25:35.862Z"
   },
   {
    "duration": 92,
    "start_time": "2023-07-10T17:25:36.160Z"
   },
   {
    "duration": 13,
    "start_time": "2023-07-10T17:25:36.253Z"
   },
   {
    "duration": 24,
    "start_time": "2023-07-10T17:25:36.268Z"
   },
   {
    "duration": 132,
    "start_time": "2023-07-10T17:25:36.294Z"
   },
   {
    "duration": 159,
    "start_time": "2023-07-10T17:25:36.427Z"
   },
   {
    "duration": 4,
    "start_time": "2023-07-10T17:25:36.588Z"
   },
   {
    "duration": 183,
    "start_time": "2023-07-10T17:25:36.594Z"
   },
   {
    "duration": 156,
    "start_time": "2023-07-10T17:25:36.779Z"
   },
   {
    "duration": 0,
    "start_time": "2023-07-10T17:25:36.937Z"
   },
   {
    "duration": 0,
    "start_time": "2023-07-10T17:25:36.938Z"
   },
   {
    "duration": 0,
    "start_time": "2023-07-10T17:25:36.945Z"
   },
   {
    "duration": 0,
    "start_time": "2023-07-10T17:25:36.946Z"
   },
   {
    "duration": 0,
    "start_time": "2023-07-10T17:25:36.952Z"
   },
   {
    "duration": 0,
    "start_time": "2023-07-10T17:25:36.958Z"
   },
   {
    "duration": 0,
    "start_time": "2023-07-10T17:25:36.965Z"
   },
   {
    "duration": 13,
    "start_time": "2023-07-10T17:26:22.907Z"
   },
   {
    "duration": 13,
    "start_time": "2023-07-10T17:26:25.310Z"
   },
   {
    "duration": 290,
    "start_time": "2023-07-10T17:26:26.144Z"
   },
   {
    "duration": 257,
    "start_time": "2023-07-10T17:26:26.790Z"
   },
   {
    "duration": 50,
    "start_time": "2023-07-11T09:29:08.469Z"
   },
   {
    "duration": 1518,
    "start_time": "2023-07-11T09:29:35.814Z"
   },
   {
    "duration": 344,
    "start_time": "2023-07-11T09:29:37.335Z"
   },
   {
    "duration": 85,
    "start_time": "2023-07-11T09:29:37.681Z"
   },
   {
    "duration": 48,
    "start_time": "2023-07-11T09:29:37.767Z"
   },
   {
    "duration": 12,
    "start_time": "2023-07-11T09:29:37.818Z"
   },
   {
    "duration": 50,
    "start_time": "2023-07-11T09:29:37.832Z"
   },
   {
    "duration": 52,
    "start_time": "2023-07-11T09:29:37.884Z"
   },
   {
    "duration": 14,
    "start_time": "2023-07-11T09:29:37.938Z"
   },
   {
    "duration": 11,
    "start_time": "2023-07-11T09:29:37.954Z"
   },
   {
    "duration": 38,
    "start_time": "2023-07-11T09:29:37.967Z"
   },
   {
    "duration": 23,
    "start_time": "2023-07-11T09:29:38.007Z"
   },
   {
    "duration": 5,
    "start_time": "2023-07-11T09:29:38.032Z"
   },
   {
    "duration": 11,
    "start_time": "2023-07-11T09:29:38.039Z"
   },
   {
    "duration": 60,
    "start_time": "2023-07-11T09:29:38.055Z"
   },
   {
    "duration": 11,
    "start_time": "2023-07-11T09:29:38.118Z"
   },
   {
    "duration": 13,
    "start_time": "2023-07-11T09:29:38.131Z"
   },
   {
    "duration": 282,
    "start_time": "2023-07-11T09:29:38.146Z"
   },
   {
    "duration": 15,
    "start_time": "2023-07-11T09:29:38.430Z"
   },
   {
    "duration": 172,
    "start_time": "2023-07-11T09:29:38.447Z"
   },
   {
    "duration": 10,
    "start_time": "2023-07-11T09:29:38.622Z"
   },
   {
    "duration": 3751,
    "start_time": "2023-07-11T09:29:38.634Z"
   },
   {
    "duration": 43,
    "start_time": "2023-07-11T09:29:42.387Z"
   },
   {
    "duration": 114,
    "start_time": "2023-07-11T09:29:42.432Z"
   },
   {
    "duration": 41,
    "start_time": "2023-07-11T09:29:42.548Z"
   },
   {
    "duration": 391,
    "start_time": "2023-07-11T09:29:42.590Z"
   },
   {
    "duration": 48,
    "start_time": "2023-07-11T09:29:42.983Z"
   },
   {
    "duration": 372,
    "start_time": "2023-07-11T09:29:43.032Z"
   },
   {
    "duration": 56,
    "start_time": "2023-07-11T09:29:43.405Z"
   },
   {
    "duration": 422,
    "start_time": "2023-07-11T09:29:43.463Z"
   },
   {
    "duration": 73,
    "start_time": "2023-07-11T09:29:43.888Z"
   },
   {
    "duration": 351,
    "start_time": "2023-07-11T09:29:43.964Z"
   },
   {
    "duration": 105,
    "start_time": "2023-07-11T09:29:44.316Z"
   },
   {
    "duration": 359,
    "start_time": "2023-07-11T09:29:44.423Z"
   },
   {
    "duration": 94,
    "start_time": "2023-07-11T09:29:44.783Z"
   },
   {
    "duration": 100,
    "start_time": "2023-07-11T09:29:44.878Z"
   },
   {
    "duration": 1687,
    "start_time": "2023-07-11T09:29:44.980Z"
   },
   {
    "duration": 241,
    "start_time": "2023-07-11T09:29:46.669Z"
   },
   {
    "duration": 4,
    "start_time": "2023-07-11T09:29:46.912Z"
   },
   {
    "duration": 1818,
    "start_time": "2023-07-11T09:29:46.918Z"
   },
   {
    "duration": 260,
    "start_time": "2023-07-11T09:29:48.739Z"
   },
   {
    "duration": 56,
    "start_time": "2023-07-11T09:29:49.006Z"
   },
   {
    "duration": 1628,
    "start_time": "2023-07-11T09:29:49.063Z"
   },
   {
    "duration": 253,
    "start_time": "2023-07-11T09:29:50.693Z"
   },
   {
    "duration": 82,
    "start_time": "2023-07-11T09:29:50.948Z"
   },
   {
    "duration": 16,
    "start_time": "2023-07-11T09:29:51.032Z"
   },
   {
    "duration": 38,
    "start_time": "2023-07-11T09:29:51.050Z"
   },
   {
    "duration": 287,
    "start_time": "2023-07-11T09:29:51.091Z"
   },
   {
    "duration": 129,
    "start_time": "2023-07-11T09:29:51.380Z"
   },
   {
    "duration": 24,
    "start_time": "2023-07-11T09:29:51.511Z"
   },
   {
    "duration": 14,
    "start_time": "2023-07-11T09:29:51.537Z"
   },
   {
    "duration": 99,
    "start_time": "2023-07-11T09:29:51.553Z"
   },
   {
    "duration": 10,
    "start_time": "2023-07-11T09:29:51.654Z"
   },
   {
    "duration": 47,
    "start_time": "2023-07-11T09:29:51.666Z"
   },
   {
    "duration": 103,
    "start_time": "2023-07-11T09:29:51.715Z"
   },
   {
    "duration": 0,
    "start_time": "2023-07-11T09:29:51.820Z"
   },
   {
    "duration": 0,
    "start_time": "2023-07-11T09:29:51.822Z"
   },
   {
    "duration": 0,
    "start_time": "2023-07-11T09:29:51.825Z"
   },
   {
    "duration": 0,
    "start_time": "2023-07-11T09:29:51.827Z"
   },
   {
    "duration": 0,
    "start_time": "2023-07-11T09:29:51.829Z"
   },
   {
    "duration": 9,
    "start_time": "2023-07-11T09:31:39.303Z"
   },
   {
    "duration": 3,
    "start_time": "2023-07-11T09:31:39.965Z"
   },
   {
    "duration": 194,
    "start_time": "2023-07-11T09:31:41.535Z"
   },
   {
    "duration": 203,
    "start_time": "2023-07-11T09:31:42.771Z"
   },
   {
    "duration": 85,
    "start_time": "2023-07-11T09:31:52.011Z"
   },
   {
    "duration": 12,
    "start_time": "2023-07-11T09:31:55.961Z"
   },
   {
    "duration": 93,
    "start_time": "2023-07-11T09:32:02.125Z"
   },
   {
    "duration": 13,
    "start_time": "2023-07-11T09:32:03.918Z"
   },
   {
    "duration": 1347,
    "start_time": "2023-07-13T15:46:22.795Z"
   },
   {
    "duration": 372,
    "start_time": "2023-07-13T15:46:24.144Z"
   },
   {
    "duration": 68,
    "start_time": "2023-07-13T15:46:24.518Z"
   },
   {
    "duration": 36,
    "start_time": "2023-07-13T15:46:24.588Z"
   },
   {
    "duration": 19,
    "start_time": "2023-07-13T15:46:24.625Z"
   },
   {
    "duration": 59,
    "start_time": "2023-07-13T15:46:24.647Z"
   },
   {
    "duration": 29,
    "start_time": "2023-07-13T15:46:24.715Z"
   },
   {
    "duration": 20,
    "start_time": "2023-07-13T15:46:24.745Z"
   },
   {
    "duration": 8,
    "start_time": "2023-07-13T15:46:24.767Z"
   },
   {
    "duration": 16,
    "start_time": "2023-07-13T15:46:24.777Z"
   },
   {
    "duration": 19,
    "start_time": "2023-07-13T15:46:24.805Z"
   },
   {
    "duration": 3,
    "start_time": "2023-07-13T15:46:24.826Z"
   },
   {
    "duration": 5,
    "start_time": "2023-07-13T15:46:24.831Z"
   },
   {
    "duration": 41,
    "start_time": "2023-07-13T15:46:24.837Z"
   },
   {
    "duration": 29,
    "start_time": "2023-07-13T15:46:24.880Z"
   },
   {
    "duration": 16,
    "start_time": "2023-07-13T15:46:24.910Z"
   },
   {
    "duration": 72,
    "start_time": "2023-07-13T15:46:24.928Z"
   },
   {
    "duration": 21,
    "start_time": "2023-07-13T15:46:25.001Z"
   },
   {
    "duration": 34,
    "start_time": "2023-07-13T15:46:25.024Z"
   },
   {
    "duration": 7,
    "start_time": "2023-07-13T15:46:25.059Z"
   },
   {
    "duration": 36,
    "start_time": "2023-07-13T15:46:25.068Z"
   },
   {
    "duration": 1071,
    "start_time": "2023-07-13T15:46:25.105Z"
   },
   {
    "duration": 14,
    "start_time": "2023-07-13T15:46:26.179Z"
   },
   {
    "duration": 153,
    "start_time": "2023-07-13T15:46:26.205Z"
   },
   {
    "duration": 16,
    "start_time": "2023-07-13T15:46:26.360Z"
   },
   {
    "duration": 294,
    "start_time": "2023-07-13T15:46:26.378Z"
   },
   {
    "duration": 17,
    "start_time": "2023-07-13T15:46:26.673Z"
   },
   {
    "duration": 329,
    "start_time": "2023-07-13T15:46:26.716Z"
   },
   {
    "duration": 18,
    "start_time": "2023-07-13T15:46:27.047Z"
   },
   {
    "duration": 301,
    "start_time": "2023-07-13T15:46:27.066Z"
   },
   {
    "duration": 18,
    "start_time": "2023-07-13T15:46:27.369Z"
   },
   {
    "duration": 291,
    "start_time": "2023-07-13T15:46:27.389Z"
   },
   {
    "duration": 40,
    "start_time": "2023-07-13T15:46:27.682Z"
   },
   {
    "duration": 322,
    "start_time": "2023-07-13T15:46:27.723Z"
   },
   {
    "duration": 18,
    "start_time": "2023-07-13T15:46:28.046Z"
   },
   {
    "duration": 47,
    "start_time": "2023-07-13T15:46:28.066Z"
   },
   {
    "duration": 1459,
    "start_time": "2023-07-13T15:46:28.115Z"
   },
   {
    "duration": 271,
    "start_time": "2023-07-13T15:46:29.576Z"
   },
   {
    "duration": 3,
    "start_time": "2023-07-13T15:46:29.849Z"
   },
   {
    "duration": 1418,
    "start_time": "2023-07-13T15:46:29.854Z"
   },
   {
    "duration": 242,
    "start_time": "2023-07-13T15:46:31.273Z"
   },
   {
    "duration": 24,
    "start_time": "2023-07-13T15:46:31.517Z"
   },
   {
    "duration": 1382,
    "start_time": "2023-07-13T15:46:31.543Z"
   },
   {
    "duration": 217,
    "start_time": "2023-07-13T15:46:32.927Z"
   },
   {
    "duration": 14,
    "start_time": "2023-07-13T15:46:33.145Z"
   },
   {
    "duration": 8,
    "start_time": "2023-07-13T15:46:33.160Z"
   },
   {
    "duration": 18,
    "start_time": "2023-07-13T15:46:33.169Z"
   },
   {
    "duration": 121,
    "start_time": "2023-07-13T15:46:33.188Z"
   },
   {
    "duration": 111,
    "start_time": "2023-07-13T15:46:33.310Z"
   },
   {
    "duration": 8,
    "start_time": "2023-07-13T15:46:33.423Z"
   },
   {
    "duration": 8,
    "start_time": "2023-07-13T15:46:33.433Z"
   },
   {
    "duration": 40,
    "start_time": "2023-07-13T15:46:33.442Z"
   },
   {
    "duration": 8,
    "start_time": "2023-07-13T15:46:33.484Z"
   },
   {
    "duration": 30,
    "start_time": "2023-07-13T15:46:33.505Z"
   },
   {
    "duration": 84,
    "start_time": "2023-07-13T15:46:33.536Z"
   },
   {
    "duration": 194,
    "start_time": "2023-07-13T15:46:33.623Z"
   },
   {
    "duration": 23,
    "start_time": "2023-07-13T15:46:33.819Z"
   },
   {
    "duration": 11,
    "start_time": "2023-07-13T15:46:33.844Z"
   },
   {
    "duration": 60,
    "start_time": "2023-07-13T15:46:33.857Z"
   },
   {
    "duration": 11,
    "start_time": "2023-07-13T15:46:33.919Z"
   },
   {
    "duration": 7,
    "start_time": "2023-07-13T15:48:32.505Z"
   },
   {
    "duration": 228,
    "start_time": "2023-07-13T15:48:32.514Z"
   },
   {
    "duration": 69,
    "start_time": "2023-07-13T15:48:32.744Z"
   },
   {
    "duration": 27,
    "start_time": "2023-07-13T15:48:32.815Z"
   },
   {
    "duration": 12,
    "start_time": "2023-07-13T15:48:32.845Z"
   },
   {
    "duration": 76,
    "start_time": "2023-07-13T15:48:32.859Z"
   },
   {
    "duration": 30,
    "start_time": "2023-07-13T15:48:32.936Z"
   },
   {
    "duration": 11,
    "start_time": "2023-07-13T15:48:32.967Z"
   },
   {
    "duration": 37,
    "start_time": "2023-07-13T15:48:32.979Z"
   },
   {
    "duration": 4,
    "start_time": "2023-07-13T15:48:33.019Z"
   },
   {
    "duration": 12,
    "start_time": "2023-07-13T15:48:33.025Z"
   },
   {
    "duration": 8,
    "start_time": "2023-07-13T15:48:33.038Z"
   },
   {
    "duration": 7,
    "start_time": "2023-07-13T15:48:33.049Z"
   },
   {
    "duration": 61,
    "start_time": "2023-07-13T15:48:33.057Z"
   },
   {
    "duration": 9,
    "start_time": "2023-07-13T15:48:33.119Z"
   },
   {
    "duration": 10,
    "start_time": "2023-07-13T15:48:33.130Z"
   },
   {
    "duration": 50,
    "start_time": "2023-07-13T15:48:33.141Z"
   },
   {
    "duration": 11,
    "start_time": "2023-07-13T15:48:33.209Z"
   },
   {
    "duration": 34,
    "start_time": "2023-07-13T15:48:33.221Z"
   },
   {
    "duration": 10,
    "start_time": "2023-07-13T15:48:33.256Z"
   },
   {
    "duration": 24,
    "start_time": "2023-07-13T15:48:33.267Z"
   },
   {
    "duration": 1012,
    "start_time": "2023-07-13T15:48:33.299Z"
   },
   {
    "duration": 15,
    "start_time": "2023-07-13T15:48:34.314Z"
   },
   {
    "duration": 114,
    "start_time": "2023-07-13T15:48:34.330Z"
   },
   {
    "duration": 16,
    "start_time": "2023-07-13T15:48:34.446Z"
   },
   {
    "duration": 369,
    "start_time": "2023-07-13T15:48:34.464Z"
   },
   {
    "duration": 16,
    "start_time": "2023-07-13T15:48:34.834Z"
   },
   {
    "duration": 295,
    "start_time": "2023-07-13T15:48:34.851Z"
   },
   {
    "duration": 19,
    "start_time": "2023-07-13T15:48:35.147Z"
   },
   {
    "duration": 349,
    "start_time": "2023-07-13T15:48:35.168Z"
   },
   {
    "duration": 25,
    "start_time": "2023-07-13T15:48:35.519Z"
   },
   {
    "duration": 291,
    "start_time": "2023-07-13T15:48:35.545Z"
   },
   {
    "duration": 29,
    "start_time": "2023-07-13T15:48:35.838Z"
   },
   {
    "duration": 369,
    "start_time": "2023-07-13T15:48:35.869Z"
   },
   {
    "duration": 14,
    "start_time": "2023-07-13T15:48:36.239Z"
   },
   {
    "duration": 55,
    "start_time": "2023-07-13T15:48:36.254Z"
   },
   {
    "duration": 1474,
    "start_time": "2023-07-13T15:48:36.313Z"
   },
   {
    "duration": 254,
    "start_time": "2023-07-13T15:48:37.788Z"
   },
   {
    "duration": 3,
    "start_time": "2023-07-13T15:48:38.044Z"
   },
   {
    "duration": 1379,
    "start_time": "2023-07-13T15:48:38.048Z"
   },
   {
    "duration": 225,
    "start_time": "2023-07-13T15:48:39.428Z"
   },
   {
    "duration": 21,
    "start_time": "2023-07-13T15:48:39.654Z"
   },
   {
    "duration": 1441,
    "start_time": "2023-07-13T15:48:39.677Z"
   },
   {
    "duration": 227,
    "start_time": "2023-07-13T15:48:41.120Z"
   },
   {
    "duration": 17,
    "start_time": "2023-07-13T15:48:41.349Z"
   },
   {
    "duration": 9,
    "start_time": "2023-07-13T15:48:41.368Z"
   },
   {
    "duration": 53,
    "start_time": "2023-07-13T15:48:41.379Z"
   },
   {
    "duration": 118,
    "start_time": "2023-07-13T15:48:41.434Z"
   },
   {
    "duration": 118,
    "start_time": "2023-07-13T15:48:41.553Z"
   },
   {
    "duration": 10,
    "start_time": "2023-07-13T15:48:41.674Z"
   },
   {
    "duration": 14,
    "start_time": "2023-07-13T15:48:41.699Z"
   },
   {
    "duration": 42,
    "start_time": "2023-07-13T15:48:41.715Z"
   },
   {
    "duration": 9,
    "start_time": "2023-07-13T15:48:41.759Z"
   },
   {
    "duration": 9,
    "start_time": "2023-07-13T15:48:41.770Z"
   },
   {
    "duration": 78,
    "start_time": "2023-07-13T15:48:41.781Z"
   },
   {
    "duration": 200,
    "start_time": "2023-07-13T15:48:41.861Z"
   },
   {
    "duration": 54,
    "start_time": "2023-07-13T15:48:42.063Z"
   },
   {
    "duration": 14,
    "start_time": "2023-07-13T15:48:42.120Z"
   },
   {
    "duration": 34,
    "start_time": "2023-07-13T15:48:42.135Z"
   },
   {
    "duration": 9,
    "start_time": "2023-07-13T15:48:42.171Z"
   },
   {
    "duration": 3,
    "start_time": "2023-07-13T16:38:04.733Z"
   },
   {
    "duration": 207,
    "start_time": "2023-07-13T16:38:04.746Z"
   },
   {
    "duration": 75,
    "start_time": "2023-07-13T16:38:04.955Z"
   },
   {
    "duration": 22,
    "start_time": "2023-07-13T16:38:05.032Z"
   },
   {
    "duration": 37,
    "start_time": "2023-07-13T16:38:05.055Z"
   },
   {
    "duration": 39,
    "start_time": "2023-07-13T16:38:05.099Z"
   },
   {
    "duration": 28,
    "start_time": "2023-07-13T16:38:05.139Z"
   },
   {
    "duration": 12,
    "start_time": "2023-07-13T16:38:05.169Z"
   },
   {
    "duration": 10,
    "start_time": "2023-07-13T16:38:05.199Z"
   },
   {
    "duration": 8,
    "start_time": "2023-07-13T16:38:05.211Z"
   },
   {
    "duration": 18,
    "start_time": "2023-07-13T16:38:05.221Z"
   },
   {
    "duration": 8,
    "start_time": "2023-07-13T16:38:05.240Z"
   },
   {
    "duration": 11,
    "start_time": "2023-07-13T16:38:05.249Z"
   },
   {
    "duration": 41,
    "start_time": "2023-07-13T16:38:05.261Z"
   },
   {
    "duration": 9,
    "start_time": "2023-07-13T16:38:05.304Z"
   },
   {
    "duration": 12,
    "start_time": "2023-07-13T16:38:05.314Z"
   },
   {
    "duration": 72,
    "start_time": "2023-07-13T16:38:05.327Z"
   },
   {
    "duration": 13,
    "start_time": "2023-07-13T16:38:05.401Z"
   },
   {
    "duration": 38,
    "start_time": "2023-07-13T16:38:05.416Z"
   },
   {
    "duration": 44,
    "start_time": "2023-07-13T16:38:05.456Z"
   },
   {
    "duration": 46,
    "start_time": "2023-07-13T16:38:05.502Z"
   },
   {
    "duration": 1049,
    "start_time": "2023-07-13T16:38:05.549Z"
   },
   {
    "duration": 12,
    "start_time": "2023-07-13T16:38:06.600Z"
   },
   {
    "duration": 98,
    "start_time": "2023-07-13T16:38:06.614Z"
   },
   {
    "duration": 17,
    "start_time": "2023-07-13T16:38:06.714Z"
   },
   {
    "duration": 276,
    "start_time": "2023-07-13T16:38:06.732Z"
   },
   {
    "duration": 16,
    "start_time": "2023-07-13T16:38:07.010Z"
   },
   {
    "duration": 279,
    "start_time": "2023-07-13T16:38:07.028Z"
   },
   {
    "duration": 17,
    "start_time": "2023-07-13T16:38:07.309Z"
   },
   {
    "duration": 287,
    "start_time": "2023-07-13T16:38:07.327Z"
   },
   {
    "duration": 18,
    "start_time": "2023-07-13T16:38:07.616Z"
   },
   {
    "duration": 276,
    "start_time": "2023-07-13T16:38:07.635Z"
   },
   {
    "duration": 29,
    "start_time": "2023-07-13T16:38:07.912Z"
   },
   {
    "duration": 361,
    "start_time": "2023-07-13T16:38:07.942Z"
   },
   {
    "duration": 12,
    "start_time": "2023-07-13T16:38:08.305Z"
   },
   {
    "duration": 22,
    "start_time": "2023-07-13T16:38:08.318Z"
   },
   {
    "duration": 1269,
    "start_time": "2023-07-13T16:38:08.341Z"
   },
   {
    "duration": 210,
    "start_time": "2023-07-13T16:38:09.612Z"
   },
   {
    "duration": 5,
    "start_time": "2023-07-13T16:38:09.823Z"
   },
   {
    "duration": 1456,
    "start_time": "2023-07-13T16:38:09.829Z"
   },
   {
    "duration": 241,
    "start_time": "2023-07-13T16:38:11.287Z"
   },
   {
    "duration": 24,
    "start_time": "2023-07-13T16:38:11.533Z"
   },
   {
    "duration": 1345,
    "start_time": "2023-07-13T16:38:11.558Z"
   },
   {
    "duration": 231,
    "start_time": "2023-07-13T16:38:12.905Z"
   },
   {
    "duration": 16,
    "start_time": "2023-07-13T16:38:13.138Z"
   },
   {
    "duration": 9,
    "start_time": "2023-07-13T16:38:13.156Z"
   },
   {
    "duration": 10,
    "start_time": "2023-07-13T16:38:13.167Z"
   },
   {
    "duration": 113,
    "start_time": "2023-07-13T16:38:13.200Z"
   },
   {
    "duration": 146,
    "start_time": "2023-07-13T16:38:13.315Z"
   },
   {
    "duration": 10,
    "start_time": "2023-07-13T16:38:13.463Z"
   },
   {
    "duration": 4,
    "start_time": "2023-07-13T16:38:13.475Z"
   },
   {
    "duration": 50,
    "start_time": "2023-07-13T16:38:13.481Z"
   },
   {
    "duration": 10,
    "start_time": "2023-07-13T16:38:13.532Z"
   },
   {
    "duration": 14,
    "start_time": "2023-07-13T16:38:13.543Z"
   },
   {
    "duration": 74,
    "start_time": "2023-07-13T16:38:13.558Z"
   },
   {
    "duration": 198,
    "start_time": "2023-07-13T16:38:13.633Z"
   },
   {
    "duration": 22,
    "start_time": "2023-07-13T16:38:13.833Z"
   },
   {
    "duration": 12,
    "start_time": "2023-07-13T16:38:13.857Z"
   },
   {
    "duration": 49,
    "start_time": "2023-07-13T16:38:13.871Z"
   },
   {
    "duration": 9,
    "start_time": "2023-07-13T16:38:13.922Z"
   },
   {
    "duration": 3,
    "start_time": "2023-07-13T18:01:05.533Z"
   },
   {
    "duration": 268,
    "start_time": "2023-07-13T18:01:05.538Z"
   },
   {
    "duration": 72,
    "start_time": "2023-07-13T18:01:05.808Z"
   },
   {
    "duration": 25,
    "start_time": "2023-07-13T18:01:05.899Z"
   },
   {
    "duration": 9,
    "start_time": "2023-07-13T18:01:05.926Z"
   },
   {
    "duration": 64,
    "start_time": "2023-07-13T18:01:05.937Z"
   },
   {
    "duration": 27,
    "start_time": "2023-07-13T18:01:06.003Z"
   },
   {
    "duration": 15,
    "start_time": "2023-07-13T18:01:06.031Z"
   },
   {
    "duration": 123,
    "start_time": "2023-07-13T18:01:06.048Z"
   },
   {
    "duration": 8,
    "start_time": "2023-07-13T18:01:06.173Z"
   },
   {
    "duration": 15,
    "start_time": "2023-07-13T18:01:06.199Z"
   },
   {
    "duration": 10,
    "start_time": "2023-07-13T18:01:06.216Z"
   },
   {
    "duration": 12,
    "start_time": "2023-07-13T18:01:06.227Z"
   },
   {
    "duration": 56,
    "start_time": "2023-07-13T18:01:06.240Z"
   },
   {
    "duration": 10,
    "start_time": "2023-07-13T18:01:06.297Z"
   },
   {
    "duration": 12,
    "start_time": "2023-07-13T18:01:06.308Z"
   },
   {
    "duration": 50,
    "start_time": "2023-07-13T18:01:06.322Z"
   },
   {
    "duration": 27,
    "start_time": "2023-07-13T18:01:06.373Z"
   },
   {
    "duration": 33,
    "start_time": "2023-07-13T18:01:06.402Z"
   },
   {
    "duration": 8,
    "start_time": "2023-07-13T18:01:06.436Z"
   },
   {
    "duration": 26,
    "start_time": "2023-07-13T18:01:06.446Z"
   },
   {
    "duration": 989,
    "start_time": "2023-07-13T18:01:06.499Z"
   },
   {
    "duration": 16,
    "start_time": "2023-07-13T18:01:07.489Z"
   },
   {
    "duration": 114,
    "start_time": "2023-07-13T18:01:07.506Z"
   },
   {
    "duration": 18,
    "start_time": "2023-07-13T18:01:07.622Z"
   },
   {
    "duration": 301,
    "start_time": "2023-07-13T18:01:07.641Z"
   },
   {
    "duration": 18,
    "start_time": "2023-07-13T18:01:07.943Z"
   },
   {
    "duration": 308,
    "start_time": "2023-07-13T18:01:07.962Z"
   },
   {
    "duration": 29,
    "start_time": "2023-07-13T18:01:08.273Z"
   },
   {
    "duration": 295,
    "start_time": "2023-07-13T18:01:08.304Z"
   },
   {
    "duration": 20,
    "start_time": "2023-07-13T18:01:08.600Z"
   },
   {
    "duration": 377,
    "start_time": "2023-07-13T18:01:08.622Z"
   },
   {
    "duration": 30,
    "start_time": "2023-07-13T18:01:09.001Z"
   },
   {
    "duration": 303,
    "start_time": "2023-07-13T18:01:09.033Z"
   },
   {
    "duration": 14,
    "start_time": "2023-07-13T18:01:09.337Z"
   },
   {
    "duration": 25,
    "start_time": "2023-07-13T18:01:09.353Z"
   },
   {
    "duration": 1353,
    "start_time": "2023-07-13T18:01:09.380Z"
   },
   {
    "duration": 229,
    "start_time": "2023-07-13T18:01:10.735Z"
   },
   {
    "duration": 4,
    "start_time": "2023-07-13T18:01:10.965Z"
   },
   {
    "duration": 1413,
    "start_time": "2023-07-13T18:01:10.970Z"
   },
   {
    "duration": 215,
    "start_time": "2023-07-13T18:01:12.385Z"
   },
   {
    "duration": 26,
    "start_time": "2023-07-13T18:01:12.601Z"
   },
   {
    "duration": 264,
    "start_time": "2023-07-13T18:01:12.629Z"
   },
   {
    "duration": 107,
    "start_time": "2023-07-13T18:01:12.894Z"
   },
   {
    "duration": 0,
    "start_time": "2023-07-13T18:01:13.002Z"
   },
   {
    "duration": 0,
    "start_time": "2023-07-13T18:01:13.004Z"
   },
   {
    "duration": 0,
    "start_time": "2023-07-13T18:01:13.005Z"
   },
   {
    "duration": 0,
    "start_time": "2023-07-13T18:01:13.006Z"
   },
   {
    "duration": 0,
    "start_time": "2023-07-13T18:01:13.006Z"
   },
   {
    "duration": 0,
    "start_time": "2023-07-13T18:01:13.008Z"
   },
   {
    "duration": 0,
    "start_time": "2023-07-13T18:01:13.008Z"
   },
   {
    "duration": 1,
    "start_time": "2023-07-13T18:01:13.009Z"
   },
   {
    "duration": 0,
    "start_time": "2023-07-13T18:01:13.010Z"
   },
   {
    "duration": 0,
    "start_time": "2023-07-13T18:01:13.011Z"
   },
   {
    "duration": 0,
    "start_time": "2023-07-13T18:01:13.012Z"
   },
   {
    "duration": 0,
    "start_time": "2023-07-13T18:01:13.013Z"
   },
   {
    "duration": 0,
    "start_time": "2023-07-13T18:01:13.014Z"
   },
   {
    "duration": 0,
    "start_time": "2023-07-13T18:01:13.015Z"
   },
   {
    "duration": 0,
    "start_time": "2023-07-13T18:01:13.016Z"
   },
   {
    "duration": 0,
    "start_time": "2023-07-13T18:01:13.016Z"
   },
   {
    "duration": 0,
    "start_time": "2023-07-13T18:01:13.017Z"
   },
   {
    "duration": 0,
    "start_time": "2023-07-13T18:01:13.018Z"
   },
   {
    "duration": 9,
    "start_time": "2023-07-13T18:01:27.956Z"
   },
   {
    "duration": 1277,
    "start_time": "2023-07-13T18:01:30.351Z"
   },
   {
    "duration": 284,
    "start_time": "2023-07-13T18:01:31.630Z"
   },
   {
    "duration": 14,
    "start_time": "2023-07-13T18:01:32.756Z"
   },
   {
    "duration": 10,
    "start_time": "2023-07-13T18:01:32.948Z"
   },
   {
    "duration": 9,
    "start_time": "2023-07-13T18:01:33.182Z"
   },
   {
    "duration": 97,
    "start_time": "2023-07-13T18:01:33.304Z"
   },
   {
    "duration": 101,
    "start_time": "2023-07-13T18:01:33.458Z"
   },
   {
    "duration": 9,
    "start_time": "2023-07-13T18:01:34.516Z"
   },
   {
    "duration": 4,
    "start_time": "2023-07-13T18:01:34.695Z"
   },
   {
    "duration": 24,
    "start_time": "2023-07-13T18:01:34.858Z"
   },
   {
    "duration": 9,
    "start_time": "2023-07-13T18:01:35.110Z"
   },
   {
    "duration": 3,
    "start_time": "2023-07-13T18:01:35.200Z"
   },
   {
    "duration": 66,
    "start_time": "2023-07-13T18:01:35.420Z"
   },
   {
    "duration": 176,
    "start_time": "2023-07-13T18:01:35.640Z"
   },
   {
    "duration": 21,
    "start_time": "2023-07-13T18:01:41.519Z"
   },
   {
    "duration": 10,
    "start_time": "2023-07-13T18:01:42.806Z"
   },
   {
    "duration": 25,
    "start_time": "2023-07-13T18:01:45.446Z"
   },
   {
    "duration": 8,
    "start_time": "2023-07-13T18:01:45.708Z"
   },
   {
    "duration": 1228,
    "start_time": "2023-07-14T05:33:07.895Z"
   },
   {
    "duration": 395,
    "start_time": "2023-07-14T05:33:09.126Z"
   },
   {
    "duration": 82,
    "start_time": "2023-07-14T05:33:09.523Z"
   },
   {
    "duration": 24,
    "start_time": "2023-07-14T05:33:09.607Z"
   },
   {
    "duration": 33,
    "start_time": "2023-07-14T05:33:09.634Z"
   },
   {
    "duration": 41,
    "start_time": "2023-07-14T05:33:09.669Z"
   },
   {
    "duration": 55,
    "start_time": "2023-07-14T05:33:09.711Z"
   },
   {
    "duration": 13,
    "start_time": "2023-07-14T05:33:09.768Z"
   },
   {
    "duration": 11,
    "start_time": "2023-07-14T05:33:09.783Z"
   },
   {
    "duration": 7,
    "start_time": "2023-07-14T05:33:09.795Z"
   },
   {
    "duration": 25,
    "start_time": "2023-07-14T05:33:09.804Z"
   },
   {
    "duration": 4,
    "start_time": "2023-07-14T05:33:09.830Z"
   },
   {
    "duration": 23,
    "start_time": "2023-07-14T05:33:09.836Z"
   },
   {
    "duration": 48,
    "start_time": "2023-07-14T05:33:09.862Z"
   },
   {
    "duration": 12,
    "start_time": "2023-07-14T05:33:09.912Z"
   },
   {
    "duration": 36,
    "start_time": "2023-07-14T05:33:09.926Z"
   },
   {
    "duration": 76,
    "start_time": "2023-07-14T05:33:09.964Z"
   },
   {
    "duration": 29,
    "start_time": "2023-07-14T05:33:10.041Z"
   },
   {
    "duration": 44,
    "start_time": "2023-07-14T05:33:10.072Z"
   },
   {
    "duration": 7,
    "start_time": "2023-07-14T05:33:10.118Z"
   },
   {
    "duration": 51,
    "start_time": "2023-07-14T05:33:10.127Z"
   },
   {
    "duration": 1200,
    "start_time": "2023-07-14T05:33:10.180Z"
   },
   {
    "duration": 16,
    "start_time": "2023-07-14T05:33:11.382Z"
   },
   {
    "duration": 112,
    "start_time": "2023-07-14T05:33:11.400Z"
   },
   {
    "duration": 19,
    "start_time": "2023-07-14T05:33:11.513Z"
   },
   {
    "duration": 337,
    "start_time": "2023-07-14T05:33:11.534Z"
   },
   {
    "duration": 20,
    "start_time": "2023-07-14T05:33:11.873Z"
   },
   {
    "duration": 440,
    "start_time": "2023-07-14T05:33:11.895Z"
   },
   {
    "duration": 29,
    "start_time": "2023-07-14T05:33:12.337Z"
   },
   {
    "duration": 346,
    "start_time": "2023-07-14T05:33:12.368Z"
   },
   {
    "duration": 21,
    "start_time": "2023-07-14T05:33:12.716Z"
   },
   {
    "duration": 355,
    "start_time": "2023-07-14T05:33:12.740Z"
   },
   {
    "duration": 39,
    "start_time": "2023-07-14T05:33:13.098Z"
   },
   {
    "duration": 357,
    "start_time": "2023-07-14T05:33:13.139Z"
   },
   {
    "duration": 25,
    "start_time": "2023-07-14T05:33:13.498Z"
   },
   {
    "duration": 48,
    "start_time": "2023-07-14T05:33:13.525Z"
   },
   {
    "duration": 1764,
    "start_time": "2023-07-14T05:33:13.574Z"
   },
   {
    "duration": 322,
    "start_time": "2023-07-14T05:33:15.340Z"
   },
   {
    "duration": 5,
    "start_time": "2023-07-14T05:33:15.664Z"
   },
   {
    "duration": 1653,
    "start_time": "2023-07-14T05:33:15.671Z"
   },
   {
    "duration": 249,
    "start_time": "2023-07-14T05:33:17.328Z"
   },
   {
    "duration": 32,
    "start_time": "2023-07-14T05:33:17.579Z"
   },
   {
    "duration": 298,
    "start_time": "2023-07-14T05:33:17.613Z"
   },
   {
    "duration": 10,
    "start_time": "2023-07-14T05:33:17.912Z"
   },
   {
    "duration": 1743,
    "start_time": "2023-07-14T05:33:17.924Z"
   },
   {
    "duration": 257,
    "start_time": "2023-07-14T05:33:19.668Z"
   },
   {
    "duration": 16,
    "start_time": "2023-07-14T05:33:19.927Z"
   },
   {
    "duration": 21,
    "start_time": "2023-07-14T05:33:19.945Z"
   },
   {
    "duration": 12,
    "start_time": "2023-07-14T05:33:19.968Z"
   },
   {
    "duration": 137,
    "start_time": "2023-07-14T05:33:19.982Z"
   },
   {
    "duration": 126,
    "start_time": "2023-07-14T05:33:20.121Z"
   },
   {
    "duration": 16,
    "start_time": "2023-07-14T05:33:20.248Z"
   },
   {
    "duration": 4,
    "start_time": "2023-07-14T05:33:20.266Z"
   },
   {
    "duration": 45,
    "start_time": "2023-07-14T05:33:20.271Z"
   },
   {
    "duration": 9,
    "start_time": "2023-07-14T05:33:20.318Z"
   },
   {
    "duration": 9,
    "start_time": "2023-07-14T05:33:20.328Z"
   },
   {
    "duration": 75,
    "start_time": "2023-07-14T05:33:20.338Z"
   },
   {
    "duration": 206,
    "start_time": "2023-07-14T05:33:20.416Z"
   },
   {
    "duration": 24,
    "start_time": "2023-07-14T05:33:20.624Z"
   },
   {
    "duration": 20,
    "start_time": "2023-07-14T05:33:20.649Z"
   },
   {
    "duration": 30,
    "start_time": "2023-07-14T05:33:20.671Z"
   },
   {
    "duration": 9,
    "start_time": "2023-07-14T05:33:20.704Z"
   }
  ],
  "kernelspec": {
   "display_name": "Python 3 (ipykernel)",
   "language": "python",
   "name": "python3"
  },
  "language_info": {
   "codemirror_mode": {
    "name": "ipython",
    "version": 3
   },
   "file_extension": ".py",
   "mimetype": "text/x-python",
   "name": "python",
   "nbconvert_exporter": "python",
   "pygments_lexer": "ipython3",
   "version": "3.9.13"
  },
  "toc": {
   "base_numbering": 1,
   "nav_menu": {},
   "number_sections": true,
   "sideBar": true,
   "skip_h1_title": true,
   "title_cell": "Table of Contents",
   "title_sidebar": "Contents",
   "toc_cell": false,
   "toc_position": {},
   "toc_section_display": true,
   "toc_window_display": false
  }
 },
 "nbformat": 4,
 "nbformat_minor": 2
}
