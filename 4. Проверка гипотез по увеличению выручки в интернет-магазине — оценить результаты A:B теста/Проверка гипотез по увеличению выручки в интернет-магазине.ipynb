{
 "cells": [
  {
   "cell_type": "markdown",
   "metadata": {},
   "source": [
    "# Проверка гипотез по увеличению выручки в интернет-магазине —оценить результаты A/B теста"
   ]
  },
  {
   "cell_type": "markdown",
   "metadata": {},
   "source": [
    "# Цели проекта: \n",
    "\n",
    "- Приоритизировать 9 гипотез по увеличению выручки интернет-магазина, подготовленных отделом маркетинга\n",
    "- Запустить A/B тест, проанализировать результаты и подготовить выводы"
   ]
  },
  {
   "cell_type": "markdown",
   "metadata": {},
   "source": [
    "# Описание проекта"
   ]
  },
  {
   "cell_type": "markdown",
   "metadata": {},
   "source": [
    "Вместе с отделом маркетинга подготовлен список гипотез для увеличения выручки.\n",
    "Необходимо приоритизировать гипотезы, запустить A/B-тест и проанализировать результаты. "
   ]
  },
  {
   "cell_type": "markdown",
   "metadata": {},
   "source": [
    "# Описание данных"
   ]
  },
  {
   "cell_type": "markdown",
   "metadata": {},
   "source": [
    "**Данные для первой части**\n",
    "\n",
    "**Файл /datasets/hypothesis.csv.**\n",
    "\n",
    "- Hypothesis — краткое описание гипотезы;\n",
    "- Reach — охват пользователей по 10-балльной шкале;\n",
    "- Impact — влияние на пользователей по 10-балльной шкале;\n",
    "- Confidence — уверенность в гипотезе по 10-балльной шкале;\n",
    "- Efforts — затраты ресурсов на проверку гипотезы по 10-балльной шкале. Чем больше значение Efforts, тем дороже проверка гипотезы."
   ]
  },
  {
   "cell_type": "markdown",
   "metadata": {},
   "source": [
    "**Данные для второй части**\n",
    "\n",
    "**Файл /datasets/orders.csv.**\n",
    "\n",
    "- transactionId — идентификатор заказа;\n",
    "- visitorId — идентификатор пользователя, совершившего заказ;\n",
    "- date — дата, когда был совершён заказ;\n",
    "- revenue — выручка заказа;\n",
    "- group — группа A/B-теста, в которую попал заказ.\n",
    "\n",
    "**Файл /datasets/visitors.csv.**\n",
    "\n",
    "- date — дата;\n",
    "- group — группа A/B-теста;\n",
    "- visitors — количество пользователей в указанную дату в указанной группе A/B-теста"
   ]
  },
  {
   "cell_type": "markdown",
   "metadata": {},
   "source": [
    "## 1 Откроем файлы с данными, изучим общую информацию и подготовим к анализу"
   ]
  },
  {
   "cell_type": "markdown",
   "metadata": {},
   "source": [
    "### 1.1 Импортируем необходимые библиотеки. Считаем данные из csv-файла в датафреймы и сохраним в переменные"
   ]
  },
  {
   "cell_type": "code",
   "execution_count": 70,
   "metadata": {},
   "outputs": [],
   "source": [
    "import pandas as pd\n",
    "import numpy as np\n",
    "import seaborn as sns\n",
    "import matplotlib.pyplot as plt\n",
    "import scipy.stats as stats\n",
    "import datetime as dt # импортируем необходимые библиотеки "
   ]
  },
  {
   "cell_type": "code",
   "execution_count": 71,
   "metadata": {},
   "outputs": [],
   "source": [
    "hypothesis = pd.read_csv('/Users/ilyasidorov/Downloads/hypothesis.csv') \n",
    "orders = pd.read_csv('/Users/ilyasidorov/Downloads/orders.csv')\n",
    "visitors = pd.read_csv ('/Users/ilyasidorov/Downloads/visitors.csv') # Считаем данные и сохраним в переменные"
   ]
  },
  {
   "cell_type": "markdown",
   "metadata": {},
   "source": [
    "### 1.2 Изучим общую информацию о данных"
   ]
  },
  {
   "cell_type": "code",
   "execution_count": 72,
   "metadata": {},
   "outputs": [
    {
     "data": {
      "text/html": [
       "<div>\n",
       "<style scoped>\n",
       "    .dataframe tbody tr th:only-of-type {\n",
       "        vertical-align: middle;\n",
       "    }\n",
       "\n",
       "    .dataframe tbody tr th {\n",
       "        vertical-align: top;\n",
       "    }\n",
       "\n",
       "    .dataframe thead th {\n",
       "        text-align: right;\n",
       "    }\n",
       "</style>\n",
       "<table border=\"1\" class=\"dataframe\">\n",
       "  <thead>\n",
       "    <tr style=\"text-align: right;\">\n",
       "      <th></th>\n",
       "      <th>Hypothesis</th>\n",
       "      <th>Reach</th>\n",
       "      <th>Impact</th>\n",
       "      <th>Confidence</th>\n",
       "      <th>Efforts</th>\n",
       "    </tr>\n",
       "  </thead>\n",
       "  <tbody>\n",
       "    <tr>\n",
       "      <th>0</th>\n",
       "      <td>Добавить два новых канала привлечения трафика, что позволит привлекать на 30% больше пользователей</td>\n",
       "      <td>3</td>\n",
       "      <td>10</td>\n",
       "      <td>8</td>\n",
       "      <td>6</td>\n",
       "    </tr>\n",
       "    <tr>\n",
       "      <th>1</th>\n",
       "      <td>Запустить собственную службу доставки, что сократит срок доставки заказов</td>\n",
       "      <td>2</td>\n",
       "      <td>5</td>\n",
       "      <td>4</td>\n",
       "      <td>10</td>\n",
       "    </tr>\n",
       "    <tr>\n",
       "      <th>2</th>\n",
       "      <td>Добавить блоки рекомендаций товаров на сайт интернет магазина, чтобы повысить конверсию и средний чек заказа</td>\n",
       "      <td>8</td>\n",
       "      <td>3</td>\n",
       "      <td>7</td>\n",
       "      <td>3</td>\n",
       "    </tr>\n",
       "    <tr>\n",
       "      <th>3</th>\n",
       "      <td>Изменить структура категорий, что увеличит конверсию, т.к. пользователи быстрее найдут нужный товар</td>\n",
       "      <td>8</td>\n",
       "      <td>3</td>\n",
       "      <td>3</td>\n",
       "      <td>8</td>\n",
       "    </tr>\n",
       "    <tr>\n",
       "      <th>4</th>\n",
       "      <td>Изменить цвет фона главной страницы, чтобы увеличить вовлеченность пользователей</td>\n",
       "      <td>3</td>\n",
       "      <td>1</td>\n",
       "      <td>1</td>\n",
       "      <td>1</td>\n",
       "    </tr>\n",
       "    <tr>\n",
       "      <th>5</th>\n",
       "      <td>Добавить страницу отзывов клиентов о магазине, что позволит увеличить количество заказов</td>\n",
       "      <td>3</td>\n",
       "      <td>2</td>\n",
       "      <td>2</td>\n",
       "      <td>3</td>\n",
       "    </tr>\n",
       "    <tr>\n",
       "      <th>6</th>\n",
       "      <td>Показать на главной странице баннеры с актуальными акциями и распродажами, чтобы увеличить конверсию</td>\n",
       "      <td>5</td>\n",
       "      <td>3</td>\n",
       "      <td>8</td>\n",
       "      <td>3</td>\n",
       "    </tr>\n",
       "    <tr>\n",
       "      <th>7</th>\n",
       "      <td>Добавить форму подписки на все основные страницы, чтобы собрать базу клиентов для email-рассылок</td>\n",
       "      <td>10</td>\n",
       "      <td>7</td>\n",
       "      <td>8</td>\n",
       "      <td>5</td>\n",
       "    </tr>\n",
       "    <tr>\n",
       "      <th>8</th>\n",
       "      <td>Запустить акцию, дающую скидку на товар в день рождения</td>\n",
       "      <td>1</td>\n",
       "      <td>9</td>\n",
       "      <td>9</td>\n",
       "      <td>5</td>\n",
       "    </tr>\n",
       "  </tbody>\n",
       "</table>\n",
       "</div>"
      ],
      "text/plain": [
       "                                                                                                     Hypothesis  \\\n",
       "0  Добавить два новых канала привлечения трафика, что позволит привлекать на 30% больше пользователей             \n",
       "1  Запустить собственную службу доставки, что сократит срок доставки заказов                                      \n",
       "2  Добавить блоки рекомендаций товаров на сайт интернет магазина, чтобы повысить конверсию и средний чек заказа   \n",
       "3  Изменить структура категорий, что увеличит конверсию, т.к. пользователи быстрее найдут нужный товар            \n",
       "4  Изменить цвет фона главной страницы, чтобы увеличить вовлеченность пользователей                               \n",
       "5  Добавить страницу отзывов клиентов о магазине, что позволит увеличить количество заказов                       \n",
       "6  Показать на главной странице баннеры с актуальными акциями и распродажами, чтобы увеличить конверсию           \n",
       "7  Добавить форму подписки на все основные страницы, чтобы собрать базу клиентов для email-рассылок               \n",
       "8  Запустить акцию, дающую скидку на товар в день рождения                                                        \n",
       "\n",
       "   Reach  Impact  Confidence  Efforts  \n",
       "0  3      10      8           6        \n",
       "1  2      5       4           10       \n",
       "2  8      3       7           3        \n",
       "3  8      3       3           8        \n",
       "4  3      1       1           1        \n",
       "5  3      2       2           3        \n",
       "6  5      3       8           3        \n",
       "7  10     7       8           5        \n",
       "8  1      9       9           5        "
      ]
     },
     "execution_count": 72,
     "metadata": {},
     "output_type": "execute_result"
    }
   ],
   "source": [
    "hypothesis.head(9)"
   ]
  },
  {
   "cell_type": "code",
   "execution_count": 73,
   "metadata": {},
   "outputs": [
    {
     "name": "stdout",
     "output_type": "stream",
     "text": [
      "<class 'pandas.core.frame.DataFrame'>\n",
      "RangeIndex: 9 entries, 0 to 8\n",
      "Data columns (total 5 columns):\n",
      " #   Column      Non-Null Count  Dtype \n",
      "---  ------      --------------  ----- \n",
      " 0   Hypothesis  9 non-null      object\n",
      " 1   Reach       9 non-null      int64 \n",
      " 2   Impact      9 non-null      int64 \n",
      " 3   Confidence  9 non-null      int64 \n",
      " 4   Efforts     9 non-null      int64 \n",
      "dtypes: int64(4), object(1)\n",
      "memory usage: 488.0+ bytes\n"
     ]
    }
   ],
   "source": [
    "hypothesis.info() # Общая информация о датафрейме"
   ]
  },
  {
   "cell_type": "code",
   "execution_count": 74,
   "metadata": {},
   "outputs": [
    {
     "data": {
      "text/html": [
       "<div>\n",
       "<style scoped>\n",
       "    .dataframe tbody tr th:only-of-type {\n",
       "        vertical-align: middle;\n",
       "    }\n",
       "\n",
       "    .dataframe tbody tr th {\n",
       "        vertical-align: top;\n",
       "    }\n",
       "\n",
       "    .dataframe thead th {\n",
       "        text-align: right;\n",
       "    }\n",
       "</style>\n",
       "<table border=\"1\" class=\"dataframe\">\n",
       "  <thead>\n",
       "    <tr style=\"text-align: right;\">\n",
       "      <th></th>\n",
       "      <th>transactionId</th>\n",
       "      <th>visitorId</th>\n",
       "      <th>date</th>\n",
       "      <th>revenue</th>\n",
       "      <th>group</th>\n",
       "    </tr>\n",
       "  </thead>\n",
       "  <tbody>\n",
       "    <tr>\n",
       "      <th>0</th>\n",
       "      <td>3667963787</td>\n",
       "      <td>3312258926</td>\n",
       "      <td>2019-08-15</td>\n",
       "      <td>1650</td>\n",
       "      <td>B</td>\n",
       "    </tr>\n",
       "    <tr>\n",
       "      <th>1</th>\n",
       "      <td>2804400009</td>\n",
       "      <td>3642806036</td>\n",
       "      <td>2019-08-15</td>\n",
       "      <td>730</td>\n",
       "      <td>B</td>\n",
       "    </tr>\n",
       "    <tr>\n",
       "      <th>2</th>\n",
       "      <td>2961555356</td>\n",
       "      <td>4069496402</td>\n",
       "      <td>2019-08-15</td>\n",
       "      <td>400</td>\n",
       "      <td>A</td>\n",
       "    </tr>\n",
       "    <tr>\n",
       "      <th>3</th>\n",
       "      <td>3797467345</td>\n",
       "      <td>1196621759</td>\n",
       "      <td>2019-08-15</td>\n",
       "      <td>9759</td>\n",
       "      <td>B</td>\n",
       "    </tr>\n",
       "    <tr>\n",
       "      <th>4</th>\n",
       "      <td>2282983706</td>\n",
       "      <td>2322279887</td>\n",
       "      <td>2019-08-15</td>\n",
       "      <td>2308</td>\n",
       "      <td>B</td>\n",
       "    </tr>\n",
       "  </tbody>\n",
       "</table>\n",
       "</div>"
      ],
      "text/plain": [
       "   transactionId   visitorId        date  revenue group\n",
       "0  3667963787     3312258926  2019-08-15  1650     B   \n",
       "1  2804400009     3642806036  2019-08-15  730      B   \n",
       "2  2961555356     4069496402  2019-08-15  400      A   \n",
       "3  3797467345     1196621759  2019-08-15  9759     B   \n",
       "4  2282983706     2322279887  2019-08-15  2308     B   "
      ]
     },
     "execution_count": 74,
     "metadata": {},
     "output_type": "execute_result"
    }
   ],
   "source": [
    "orders.head() # Посмотрим на таблицу orders"
   ]
  },
  {
   "cell_type": "code",
   "execution_count": 75,
   "metadata": {},
   "outputs": [
    {
     "name": "stdout",
     "output_type": "stream",
     "text": [
      "<class 'pandas.core.frame.DataFrame'>\n",
      "RangeIndex: 1197 entries, 0 to 1196\n",
      "Data columns (total 5 columns):\n",
      " #   Column         Non-Null Count  Dtype \n",
      "---  ------         --------------  ----- \n",
      " 0   transactionId  1197 non-null   int64 \n",
      " 1   visitorId      1197 non-null   int64 \n",
      " 2   date           1197 non-null   object\n",
      " 3   revenue        1197 non-null   int64 \n",
      " 4   group          1197 non-null   object\n",
      "dtypes: int64(3), object(2)\n",
      "memory usage: 46.9+ KB\n"
     ]
    }
   ],
   "source": [
    "orders.info() # Общая информация о датафрейме "
   ]
  },
  {
   "cell_type": "code",
   "execution_count": 76,
   "metadata": {},
   "outputs": [
    {
     "data": {
      "text/html": [
       "<div>\n",
       "<style scoped>\n",
       "    .dataframe tbody tr th:only-of-type {\n",
       "        vertical-align: middle;\n",
       "    }\n",
       "\n",
       "    .dataframe tbody tr th {\n",
       "        vertical-align: top;\n",
       "    }\n",
       "\n",
       "    .dataframe thead th {\n",
       "        text-align: right;\n",
       "    }\n",
       "</style>\n",
       "<table border=\"1\" class=\"dataframe\">\n",
       "  <thead>\n",
       "    <tr style=\"text-align: right;\">\n",
       "      <th></th>\n",
       "      <th>date</th>\n",
       "      <th>group</th>\n",
       "      <th>visitors</th>\n",
       "    </tr>\n",
       "  </thead>\n",
       "  <tbody>\n",
       "    <tr>\n",
       "      <th>0</th>\n",
       "      <td>2019-08-01</td>\n",
       "      <td>A</td>\n",
       "      <td>719</td>\n",
       "    </tr>\n",
       "    <tr>\n",
       "      <th>1</th>\n",
       "      <td>2019-08-02</td>\n",
       "      <td>A</td>\n",
       "      <td>619</td>\n",
       "    </tr>\n",
       "    <tr>\n",
       "      <th>2</th>\n",
       "      <td>2019-08-03</td>\n",
       "      <td>A</td>\n",
       "      <td>507</td>\n",
       "    </tr>\n",
       "    <tr>\n",
       "      <th>3</th>\n",
       "      <td>2019-08-04</td>\n",
       "      <td>A</td>\n",
       "      <td>717</td>\n",
       "    </tr>\n",
       "    <tr>\n",
       "      <th>4</th>\n",
       "      <td>2019-08-05</td>\n",
       "      <td>A</td>\n",
       "      <td>756</td>\n",
       "    </tr>\n",
       "  </tbody>\n",
       "</table>\n",
       "</div>"
      ],
      "text/plain": [
       "         date group  visitors\n",
       "0  2019-08-01  A     719     \n",
       "1  2019-08-02  A     619     \n",
       "2  2019-08-03  A     507     \n",
       "3  2019-08-04  A     717     \n",
       "4  2019-08-05  A     756     "
      ]
     },
     "execution_count": 76,
     "metadata": {},
     "output_type": "execute_result"
    }
   ],
   "source": [
    "visitors.head() # Посмотрим на таблицу visitors"
   ]
  },
  {
   "cell_type": "code",
   "execution_count": 77,
   "metadata": {},
   "outputs": [
    {
     "name": "stdout",
     "output_type": "stream",
     "text": [
      "<class 'pandas.core.frame.DataFrame'>\n",
      "RangeIndex: 62 entries, 0 to 61\n",
      "Data columns (total 3 columns):\n",
      " #   Column    Non-Null Count  Dtype \n",
      "---  ------    --------------  ----- \n",
      " 0   date      62 non-null     object\n",
      " 1   group     62 non-null     object\n",
      " 2   visitors  62 non-null     int64 \n",
      "dtypes: int64(1), object(2)\n",
      "memory usage: 1.6+ KB\n"
     ]
    }
   ],
   "source": [
    "visitors.info() # Общая информация о датафрейме"
   ]
  },
  {
   "cell_type": "code",
   "execution_count": 78,
   "metadata": {},
   "outputs": [
    {
     "data": {
      "text/plain": [
       "transactionId    0\n",
       "visitorId        0\n",
       "date             0\n",
       "revenue          0\n",
       "group            0\n",
       "dtype: int64"
      ]
     },
     "execution_count": 78,
     "metadata": {},
     "output_type": "execute_result"
    }
   ],
   "source": [
    "orders.isna().sum() # Количество пропущенных значений в столбцах"
   ]
  },
  {
   "cell_type": "code",
   "execution_count": 79,
   "metadata": {},
   "outputs": [
    {
     "data": {
      "text/plain": [
       "date        0\n",
       "group       0\n",
       "visitors    0\n",
       "dtype: int64"
      ]
     },
     "execution_count": 79,
     "metadata": {},
     "output_type": "execute_result"
    }
   ],
   "source": [
    "visitors.isna().sum() # Количество пропущенных значений в столбцах"
   ]
  },
  {
   "cell_type": "code",
   "execution_count": 80,
   "metadata": {},
   "outputs": [
    {
     "data": {
      "text/plain": [
       "0"
      ]
     },
     "execution_count": 80,
     "metadata": {},
     "output_type": "execute_result"
    }
   ],
   "source": [
    "orders.duplicated().sum() # Наличие дубликатов"
   ]
  },
  {
   "cell_type": "code",
   "execution_count": 81,
   "metadata": {},
   "outputs": [
    {
     "data": {
      "text/plain": [
       "0"
      ]
     },
     "execution_count": 81,
     "metadata": {},
     "output_type": "execute_result"
    }
   ],
   "source": [
    "visitors.duplicated().sum() # Наличие дубликатов"
   ]
  },
  {
   "cell_type": "markdown",
   "metadata": {},
   "source": [
    "**Вывод:**\n",
    "\n",
    "В целом данные впорядке. Дубликатов и пропущенных значений нет. \n",
    "\n",
    "Необходимо изменить тип данных в столбцах с датами."
   ]
  },
  {
   "cell_type": "markdown",
   "metadata": {},
   "source": [
    "### 1.3 Предобработка данных"
   ]
  },
  {
   "cell_type": "code",
   "execution_count": 82,
   "metadata": {},
   "outputs": [],
   "source": [
    "orders ['date'] = pd.to_datetime (orders['date'])\n",
    "visitors ['date'] = pd.to_datetime (visitors['date']) # Заменяем тип данных в столбцах с датами"
   ]
  },
  {
   "cell_type": "markdown",
   "metadata": {},
   "source": [
    "**Вывод:** \n",
    "\n",
    "Данные готовы к анализу "
   ]
  },
  {
   "cell_type": "markdown",
   "metadata": {},
   "source": [
    "## 2 Часть 1. Приоритизация гипотез"
   ]
  },
  {
   "cell_type": "markdown",
   "metadata": {},
   "source": [
    "### 2.1 Приоритезация гипотез методом ICE"
   ]
  },
  {
   "cell_type": "code",
   "execution_count": 83,
   "metadata": {},
   "outputs": [],
   "source": [
    "hypothesis ['ICE'] = hypothesis ['Impact'] * hypothesis ['Confidence'] / hypothesis ['Efforts']"
   ]
  },
  {
   "cell_type": "code",
   "execution_count": 84,
   "metadata": {},
   "outputs": [
    {
     "data": {
      "text/html": [
       "<div>\n",
       "<style scoped>\n",
       "    .dataframe tbody tr th:only-of-type {\n",
       "        vertical-align: middle;\n",
       "    }\n",
       "\n",
       "    .dataframe tbody tr th {\n",
       "        vertical-align: top;\n",
       "    }\n",
       "\n",
       "    .dataframe thead th {\n",
       "        text-align: right;\n",
       "    }\n",
       "</style>\n",
       "<table border=\"1\" class=\"dataframe\">\n",
       "  <thead>\n",
       "    <tr style=\"text-align: right;\">\n",
       "      <th></th>\n",
       "      <th>Hypothesis</th>\n",
       "      <th>Reach</th>\n",
       "      <th>Impact</th>\n",
       "      <th>Confidence</th>\n",
       "      <th>Efforts</th>\n",
       "      <th>ICE</th>\n",
       "    </tr>\n",
       "  </thead>\n",
       "  <tbody>\n",
       "    <tr>\n",
       "      <th>0</th>\n",
       "      <td>Добавить два новых канала привлечения трафика, что позволит привлекать на 30% больше пользователей</td>\n",
       "      <td>3</td>\n",
       "      <td>10</td>\n",
       "      <td>8</td>\n",
       "      <td>6</td>\n",
       "      <td>13.333333</td>\n",
       "    </tr>\n",
       "    <tr>\n",
       "      <th>1</th>\n",
       "      <td>Запустить собственную службу доставки, что сократит срок доставки заказов</td>\n",
       "      <td>2</td>\n",
       "      <td>5</td>\n",
       "      <td>4</td>\n",
       "      <td>10</td>\n",
       "      <td>2.000000</td>\n",
       "    </tr>\n",
       "    <tr>\n",
       "      <th>2</th>\n",
       "      <td>Добавить блоки рекомендаций товаров на сайт интернет магазина, чтобы повысить конверсию и средний чек заказа</td>\n",
       "      <td>8</td>\n",
       "      <td>3</td>\n",
       "      <td>7</td>\n",
       "      <td>3</td>\n",
       "      <td>7.000000</td>\n",
       "    </tr>\n",
       "    <tr>\n",
       "      <th>3</th>\n",
       "      <td>Изменить структура категорий, что увеличит конверсию, т.к. пользователи быстрее найдут нужный товар</td>\n",
       "      <td>8</td>\n",
       "      <td>3</td>\n",
       "      <td>3</td>\n",
       "      <td>8</td>\n",
       "      <td>1.125000</td>\n",
       "    </tr>\n",
       "    <tr>\n",
       "      <th>4</th>\n",
       "      <td>Изменить цвет фона главной страницы, чтобы увеличить вовлеченность пользователей</td>\n",
       "      <td>3</td>\n",
       "      <td>1</td>\n",
       "      <td>1</td>\n",
       "      <td>1</td>\n",
       "      <td>1.000000</td>\n",
       "    </tr>\n",
       "    <tr>\n",
       "      <th>5</th>\n",
       "      <td>Добавить страницу отзывов клиентов о магазине, что позволит увеличить количество заказов</td>\n",
       "      <td>3</td>\n",
       "      <td>2</td>\n",
       "      <td>2</td>\n",
       "      <td>3</td>\n",
       "      <td>1.333333</td>\n",
       "    </tr>\n",
       "    <tr>\n",
       "      <th>6</th>\n",
       "      <td>Показать на главной странице баннеры с актуальными акциями и распродажами, чтобы увеличить конверсию</td>\n",
       "      <td>5</td>\n",
       "      <td>3</td>\n",
       "      <td>8</td>\n",
       "      <td>3</td>\n",
       "      <td>8.000000</td>\n",
       "    </tr>\n",
       "    <tr>\n",
       "      <th>7</th>\n",
       "      <td>Добавить форму подписки на все основные страницы, чтобы собрать базу клиентов для email-рассылок</td>\n",
       "      <td>10</td>\n",
       "      <td>7</td>\n",
       "      <td>8</td>\n",
       "      <td>5</td>\n",
       "      <td>11.200000</td>\n",
       "    </tr>\n",
       "    <tr>\n",
       "      <th>8</th>\n",
       "      <td>Запустить акцию, дающую скидку на товар в день рождения</td>\n",
       "      <td>1</td>\n",
       "      <td>9</td>\n",
       "      <td>9</td>\n",
       "      <td>5</td>\n",
       "      <td>16.200000</td>\n",
       "    </tr>\n",
       "  </tbody>\n",
       "</table>\n",
       "</div>"
      ],
      "text/plain": [
       "                                                                                                     Hypothesis  \\\n",
       "0  Добавить два новых канала привлечения трафика, что позволит привлекать на 30% больше пользователей             \n",
       "1  Запустить собственную службу доставки, что сократит срок доставки заказов                                      \n",
       "2  Добавить блоки рекомендаций товаров на сайт интернет магазина, чтобы повысить конверсию и средний чек заказа   \n",
       "3  Изменить структура категорий, что увеличит конверсию, т.к. пользователи быстрее найдут нужный товар            \n",
       "4  Изменить цвет фона главной страницы, чтобы увеличить вовлеченность пользователей                               \n",
       "5  Добавить страницу отзывов клиентов о магазине, что позволит увеличить количество заказов                       \n",
       "6  Показать на главной странице баннеры с актуальными акциями и распродажами, чтобы увеличить конверсию           \n",
       "7  Добавить форму подписки на все основные страницы, чтобы собрать базу клиентов для email-рассылок               \n",
       "8  Запустить акцию, дающую скидку на товар в день рождения                                                        \n",
       "\n",
       "   Reach  Impact  Confidence  Efforts        ICE  \n",
       "0  3      10      8           6        13.333333  \n",
       "1  2      5       4           10       2.000000   \n",
       "2  8      3       7           3        7.000000   \n",
       "3  8      3       3           8        1.125000   \n",
       "4  3      1       1           1        1.000000   \n",
       "5  3      2       2           3        1.333333   \n",
       "6  5      3       8           3        8.000000   \n",
       "7  10     7       8           5        11.200000  \n",
       "8  1      9       9           5        16.200000  "
      ]
     },
     "execution_count": 84,
     "metadata": {},
     "output_type": "execute_result"
    }
   ],
   "source": [
    "hypothesis.sort_values (by = 'ICE', ascending = False)\n",
    "pd.set_option('display.max_colwidth', 0) \n",
    "hypothesis # Отсортируем по столбцу 'ICE' и выведем на экран"
   ]
  },
  {
   "cell_type": "markdown",
   "metadata": {},
   "source": [
    "**Вывод:**\n",
    "\n",
    "В тройке лидеров гипотезы под № 8, 0, 7."
   ]
  },
  {
   "cell_type": "markdown",
   "metadata": {},
   "source": [
    "### 2.2 Приоритезация гипотез методом RICE"
   ]
  },
  {
   "cell_type": "code",
   "execution_count": 85,
   "metadata": {},
   "outputs": [],
   "source": [
    "hypothesis['RICE'] = hypothesis['Reach'] * hypothesis['Impact'] * hypothesis['Confidence'] / hypothesis['Efforts']"
   ]
  },
  {
   "cell_type": "code",
   "execution_count": 86,
   "metadata": {},
   "outputs": [
    {
     "data": {
      "text/html": [
       "<div>\n",
       "<style scoped>\n",
       "    .dataframe tbody tr th:only-of-type {\n",
       "        vertical-align: middle;\n",
       "    }\n",
       "\n",
       "    .dataframe tbody tr th {\n",
       "        vertical-align: top;\n",
       "    }\n",
       "\n",
       "    .dataframe thead th {\n",
       "        text-align: right;\n",
       "    }\n",
       "</style>\n",
       "<table border=\"1\" class=\"dataframe\">\n",
       "  <thead>\n",
       "    <tr style=\"text-align: right;\">\n",
       "      <th></th>\n",
       "      <th>Hypothesis</th>\n",
       "      <th>Reach</th>\n",
       "      <th>Impact</th>\n",
       "      <th>Confidence</th>\n",
       "      <th>Efforts</th>\n",
       "      <th>ICE</th>\n",
       "      <th>RICE</th>\n",
       "    </tr>\n",
       "  </thead>\n",
       "  <tbody>\n",
       "    <tr>\n",
       "      <th>7</th>\n",
       "      <td>Добавить форму подписки на все основные страницы, чтобы собрать базу клиентов для email-рассылок</td>\n",
       "      <td>10</td>\n",
       "      <td>7</td>\n",
       "      <td>8</td>\n",
       "      <td>5</td>\n",
       "      <td>11.200000</td>\n",
       "      <td>112.0</td>\n",
       "    </tr>\n",
       "    <tr>\n",
       "      <th>2</th>\n",
       "      <td>Добавить блоки рекомендаций товаров на сайт интернет магазина, чтобы повысить конверсию и средний чек заказа</td>\n",
       "      <td>8</td>\n",
       "      <td>3</td>\n",
       "      <td>7</td>\n",
       "      <td>3</td>\n",
       "      <td>7.000000</td>\n",
       "      <td>56.0</td>\n",
       "    </tr>\n",
       "    <tr>\n",
       "      <th>0</th>\n",
       "      <td>Добавить два новых канала привлечения трафика, что позволит привлекать на 30% больше пользователей</td>\n",
       "      <td>3</td>\n",
       "      <td>10</td>\n",
       "      <td>8</td>\n",
       "      <td>6</td>\n",
       "      <td>13.333333</td>\n",
       "      <td>40.0</td>\n",
       "    </tr>\n",
       "    <tr>\n",
       "      <th>6</th>\n",
       "      <td>Показать на главной странице баннеры с актуальными акциями и распродажами, чтобы увеличить конверсию</td>\n",
       "      <td>5</td>\n",
       "      <td>3</td>\n",
       "      <td>8</td>\n",
       "      <td>3</td>\n",
       "      <td>8.000000</td>\n",
       "      <td>40.0</td>\n",
       "    </tr>\n",
       "    <tr>\n",
       "      <th>8</th>\n",
       "      <td>Запустить акцию, дающую скидку на товар в день рождения</td>\n",
       "      <td>1</td>\n",
       "      <td>9</td>\n",
       "      <td>9</td>\n",
       "      <td>5</td>\n",
       "      <td>16.200000</td>\n",
       "      <td>16.2</td>\n",
       "    </tr>\n",
       "    <tr>\n",
       "      <th>3</th>\n",
       "      <td>Изменить структура категорий, что увеличит конверсию, т.к. пользователи быстрее найдут нужный товар</td>\n",
       "      <td>8</td>\n",
       "      <td>3</td>\n",
       "      <td>3</td>\n",
       "      <td>8</td>\n",
       "      <td>1.125000</td>\n",
       "      <td>9.0</td>\n",
       "    </tr>\n",
       "    <tr>\n",
       "      <th>1</th>\n",
       "      <td>Запустить собственную службу доставки, что сократит срок доставки заказов</td>\n",
       "      <td>2</td>\n",
       "      <td>5</td>\n",
       "      <td>4</td>\n",
       "      <td>10</td>\n",
       "      <td>2.000000</td>\n",
       "      <td>4.0</td>\n",
       "    </tr>\n",
       "    <tr>\n",
       "      <th>5</th>\n",
       "      <td>Добавить страницу отзывов клиентов о магазине, что позволит увеличить количество заказов</td>\n",
       "      <td>3</td>\n",
       "      <td>2</td>\n",
       "      <td>2</td>\n",
       "      <td>3</td>\n",
       "      <td>1.333333</td>\n",
       "      <td>4.0</td>\n",
       "    </tr>\n",
       "    <tr>\n",
       "      <th>4</th>\n",
       "      <td>Изменить цвет фона главной страницы, чтобы увеличить вовлеченность пользователей</td>\n",
       "      <td>3</td>\n",
       "      <td>1</td>\n",
       "      <td>1</td>\n",
       "      <td>1</td>\n",
       "      <td>1.000000</td>\n",
       "      <td>3.0</td>\n",
       "    </tr>\n",
       "  </tbody>\n",
       "</table>\n",
       "</div>"
      ],
      "text/plain": [
       "                                                                                                     Hypothesis  \\\n",
       "7  Добавить форму подписки на все основные страницы, чтобы собрать базу клиентов для email-рассылок               \n",
       "2  Добавить блоки рекомендаций товаров на сайт интернет магазина, чтобы повысить конверсию и средний чек заказа   \n",
       "0  Добавить два новых канала привлечения трафика, что позволит привлекать на 30% больше пользователей             \n",
       "6  Показать на главной странице баннеры с актуальными акциями и распродажами, чтобы увеличить конверсию           \n",
       "8  Запустить акцию, дающую скидку на товар в день рождения                                                        \n",
       "3  Изменить структура категорий, что увеличит конверсию, т.к. пользователи быстрее найдут нужный товар            \n",
       "1  Запустить собственную службу доставки, что сократит срок доставки заказов                                      \n",
       "5  Добавить страницу отзывов клиентов о магазине, что позволит увеличить количество заказов                       \n",
       "4  Изменить цвет фона главной страницы, чтобы увеличить вовлеченность пользователей                               \n",
       "\n",
       "   Reach  Impact  Confidence  Efforts        ICE   RICE  \n",
       "7  10     7       8           5        11.200000  112.0  \n",
       "2  8      3       7           3        7.000000   56.0   \n",
       "0  3      10      8           6        13.333333  40.0   \n",
       "6  5      3       8           3        8.000000   40.0   \n",
       "8  1      9       9           5        16.200000  16.2   \n",
       "3  8      3       3           8        1.125000   9.0    \n",
       "1  2      5       4           10       2.000000   4.0    \n",
       "5  3      2       2           3        1.333333   4.0    \n",
       "4  3      1       1           1        1.000000   3.0    "
      ]
     },
     "execution_count": 86,
     "metadata": {},
     "output_type": "execute_result"
    }
   ],
   "source": [
    "hypothesis.sort_values(by = 'RICE', ascending = False)"
   ]
  },
  {
   "cell_type": "markdown",
   "metadata": {},
   "source": [
    "**Вывод:**\n",
    "\n",
    "Дополнительный параметр охвата (Reach), который я применил в методе RICE изменил приоритетность гипотез."
   ]
  },
  {
   "cell_type": "markdown",
   "metadata": {},
   "source": [
    "### Вывод по приоритезации гипотез"
   ]
  },
  {
   "cell_type": "markdown",
   "metadata": {},
   "source": [
    "Применив 2 разных способа приоритизации гипотез, я получил разные результаты. \n",
    "\n",
    "- В случае приоритезации гипотез методом ICE в тройке лидеров были гипотезы под № 8, 0, 7.\n",
    "\n",
    "- Метод RICE выделил наиболее приоритетные гипотезы под № 7, 2, 0. \n",
    "\n",
    "В расчете методом ICE я не учитывал количество пользователей, которых затронут изменения. Поэтому мы получили разные результаты."
   ]
  },
  {
   "cell_type": "markdown",
   "metadata": {},
   "source": [
    "## 3 Часть 2. Анализ A/B-теста"
   ]
  },
  {
   "cell_type": "markdown",
   "metadata": {},
   "source": [
    "### 3.1 График кумулятивной выручки по группам"
   ]
  },
  {
   "cell_type": "code",
   "execution_count": 87,
   "metadata": {},
   "outputs": [],
   "source": [
    "datesGroups = orders[['date', 'group']].drop_duplicates() # Уникальные значения без дубликатов"
   ]
  },
  {
   "cell_type": "code",
   "execution_count": 88,
   "metadata": {},
   "outputs": [],
   "source": [
    "ordersAggregated = datesGroups.apply(\n",
    "    lambda x: orders[\n",
    "        np.logical_and(\n",
    "            orders['date'] <= x['date'], orders['group'] == x['group']\n",
    "        )\n",
    "    ].agg(\n",
    "        {\n",
    "            'date': 'max',\n",
    "            'group': 'max',\n",
    "            'transactionId': 'nunique',\n",
    "            'visitorId': 'nunique',\n",
    "            'revenue': 'sum',\n",
    "        }\n",
    "    ),\n",
    "    axis=1,\n",
    ").sort_values(by=['date', 'group']) # Кумулятивные показатели из таблицы orders"
   ]
  },
  {
   "cell_type": "code",
   "execution_count": 89,
   "metadata": {},
   "outputs": [],
   "source": [
    "visitorsAggregated = datesGroups.apply(\n",
    "    lambda x: visitors[\n",
    "        np.logical_and(\n",
    "            visitors['date'] <= x['date'], visitors['group'] == x['group']\n",
    "        )\n",
    "    ].agg({'date': 'max', 'group': 'max', 'visitors': 'sum'}),\n",
    "    axis=1,\n",
    ").sort_values(by=['date', 'group']) # Кумулятивные показатели из таблицы visitors"
   ]
  },
  {
   "cell_type": "code",
   "execution_count": 90,
   "metadata": {},
   "outputs": [],
   "source": [
    "cumulativeData = ordersAggregated.merge(visitorsAggregated, left_on=['date', 'group'], right_on=['date', 'group'])\n",
    "\n",
    "# Объединим в одну таблицу"
   ]
  },
  {
   "cell_type": "code",
   "execution_count": 91,
   "metadata": {},
   "outputs": [],
   "source": [
    "cumulativeData.columns = ['date', 'group', 'orders', 'buyers', 'revenue', 'visitors'] # Названия столбцов"
   ]
  },
  {
   "cell_type": "code",
   "execution_count": 92,
   "metadata": {},
   "outputs": [
    {
     "data": {
      "text/html": [
       "<div>\n",
       "<style scoped>\n",
       "    .dataframe tbody tr th:only-of-type {\n",
       "        vertical-align: middle;\n",
       "    }\n",
       "\n",
       "    .dataframe tbody tr th {\n",
       "        vertical-align: top;\n",
       "    }\n",
       "\n",
       "    .dataframe thead th {\n",
       "        text-align: right;\n",
       "    }\n",
       "</style>\n",
       "<table border=\"1\" class=\"dataframe\">\n",
       "  <thead>\n",
       "    <tr style=\"text-align: right;\">\n",
       "      <th></th>\n",
       "      <th>date</th>\n",
       "      <th>group</th>\n",
       "      <th>orders</th>\n",
       "      <th>buyers</th>\n",
       "      <th>revenue</th>\n",
       "      <th>visitors</th>\n",
       "    </tr>\n",
       "  </thead>\n",
       "  <tbody>\n",
       "    <tr>\n",
       "      <th>0</th>\n",
       "      <td>2019-08-01</td>\n",
       "      <td>A</td>\n",
       "      <td>24</td>\n",
       "      <td>20</td>\n",
       "      <td>148579</td>\n",
       "      <td>719</td>\n",
       "    </tr>\n",
       "    <tr>\n",
       "      <th>1</th>\n",
       "      <td>2019-08-01</td>\n",
       "      <td>B</td>\n",
       "      <td>21</td>\n",
       "      <td>20</td>\n",
       "      <td>101217</td>\n",
       "      <td>713</td>\n",
       "    </tr>\n",
       "    <tr>\n",
       "      <th>2</th>\n",
       "      <td>2019-08-02</td>\n",
       "      <td>A</td>\n",
       "      <td>44</td>\n",
       "      <td>38</td>\n",
       "      <td>242401</td>\n",
       "      <td>1338</td>\n",
       "    </tr>\n",
       "    <tr>\n",
       "      <th>3</th>\n",
       "      <td>2019-08-02</td>\n",
       "      <td>B</td>\n",
       "      <td>45</td>\n",
       "      <td>43</td>\n",
       "      <td>266748</td>\n",
       "      <td>1294</td>\n",
       "    </tr>\n",
       "    <tr>\n",
       "      <th>4</th>\n",
       "      <td>2019-08-03</td>\n",
       "      <td>A</td>\n",
       "      <td>68</td>\n",
       "      <td>62</td>\n",
       "      <td>354874</td>\n",
       "      <td>1845</td>\n",
       "    </tr>\n",
       "    <tr>\n",
       "      <th>...</th>\n",
       "      <td>...</td>\n",
       "      <td>...</td>\n",
       "      <td>...</td>\n",
       "      <td>...</td>\n",
       "      <td>...</td>\n",
       "      <td>...</td>\n",
       "    </tr>\n",
       "    <tr>\n",
       "      <th>57</th>\n",
       "      <td>2019-08-29</td>\n",
       "      <td>B</td>\n",
       "      <td>596</td>\n",
       "      <td>544</td>\n",
       "      <td>5559398</td>\n",
       "      <td>17708</td>\n",
       "    </tr>\n",
       "    <tr>\n",
       "      <th>58</th>\n",
       "      <td>2019-08-30</td>\n",
       "      <td>A</td>\n",
       "      <td>545</td>\n",
       "      <td>493</td>\n",
       "      <td>4022970</td>\n",
       "      <td>18037</td>\n",
       "    </tr>\n",
       "    <tr>\n",
       "      <th>59</th>\n",
       "      <td>2019-08-30</td>\n",
       "      <td>B</td>\n",
       "      <td>620</td>\n",
       "      <td>567</td>\n",
       "      <td>5774631</td>\n",
       "      <td>18198</td>\n",
       "    </tr>\n",
       "    <tr>\n",
       "      <th>60</th>\n",
       "      <td>2019-08-31</td>\n",
       "      <td>A</td>\n",
       "      <td>557</td>\n",
       "      <td>503</td>\n",
       "      <td>4084803</td>\n",
       "      <td>18736</td>\n",
       "    </tr>\n",
       "    <tr>\n",
       "      <th>61</th>\n",
       "      <td>2019-08-31</td>\n",
       "      <td>B</td>\n",
       "      <td>640</td>\n",
       "      <td>586</td>\n",
       "      <td>5907760</td>\n",
       "      <td>18916</td>\n",
       "    </tr>\n",
       "  </tbody>\n",
       "</table>\n",
       "<p>62 rows × 6 columns</p>\n",
       "</div>"
      ],
      "text/plain": [
       "         date group  orders  buyers  revenue  visitors\n",
       "0  2019-08-01  A     24      20      148579   719     \n",
       "1  2019-08-01  B     21      20      101217   713     \n",
       "2  2019-08-02  A     44      38      242401   1338    \n",
       "3  2019-08-02  B     45      43      266748   1294    \n",
       "4  2019-08-03  A     68      62      354874   1845    \n",
       "..        ... ..     ..      ..         ...    ...    \n",
       "57 2019-08-29  B     596     544     5559398  17708   \n",
       "58 2019-08-30  A     545     493     4022970  18037   \n",
       "59 2019-08-30  B     620     567     5774631  18198   \n",
       "60 2019-08-31  A     557     503     4084803  18736   \n",
       "61 2019-08-31  B     640     586     5907760  18916   \n",
       "\n",
       "[62 rows x 6 columns]"
      ]
     },
     "execution_count": 92,
     "metadata": {},
     "output_type": "execute_result"
    }
   ],
   "source": [
    "cumulativeData"
   ]
  },
  {
   "cell_type": "markdown",
   "metadata": {},
   "source": [
    "**Строим график кумулятивной выручки по группам**"
   ]
  },
  {
   "cell_type": "code",
   "execution_count": 93,
   "metadata": {},
   "outputs": [],
   "source": [
    "cumulativeRevenueA = cumulativeData[cumulativeData['group']=='A'][['date','revenue', 'orders']] # Группа A"
   ]
  },
  {
   "cell_type": "code",
   "execution_count": 94,
   "metadata": {},
   "outputs": [],
   "source": [
    "cumulativeRevenueB = cumulativeData[cumulativeData['group']=='B'][['date','revenue', 'orders']] # Группа B"
   ]
  },
  {
   "cell_type": "code",
   "execution_count": 95,
   "metadata": {},
   "outputs": [
    {
     "data": {
      "text/plain": [
       "<matplotlib.legend.Legend at 0x7fe4100b4dc0>"
      ]
     },
     "execution_count": 95,
     "metadata": {},
     "output_type": "execute_result"
    },
    {
     "data": {
      "image/png": "[encoded data removed]",
      "text/plain": [
       "<Figure size 1200x800 with 1 Axes>"
      ]
     },
     "metadata": {},
     "output_type": "display_data"
    }
   ],
   "source": [
    "plt.figure(figsize= (12,8))\n",
    "plt.plot(cumulativeRevenueA['date'], cumulativeRevenueA['revenue'], label='A') # График выручки группа А\n",
    "plt.plot(cumulativeRevenueB['date'], cumulativeRevenueB['revenue'], label='B') # График выручки группа В\n",
    "plt.xlabel('Дата')\n",
    "plt.ylabel('Кумулятивная выручка')\n",
    "plt.title('Кумулятивная выручка по группам')\n",
    "plt.legend()"
   ]
  },
  {
   "cell_type": "markdown",
   "metadata": {},
   "source": [
    "**Вывод:** \n",
    "\n",
    "Кумулятивная выручка группы A меньше, чем у группы B. В середине августа наблюдается резкий скачек выручки у группы B. Возможно, что такие резкие скачки обусловлены дорогими покупками пользователей."
   ]
  },
  {
   "cell_type": "markdown",
   "metadata": {},
   "source": [
    "### 3.2 График кумулятивного среднего чека по группам"
   ]
  },
  {
   "cell_type": "code",
   "execution_count": 96,
   "metadata": {},
   "outputs": [
    {
     "data": {
      "text/plain": [
       "<matplotlib.legend.Legend at 0x7fe450dcb1c0>"
      ]
     },
     "execution_count": 96,
     "metadata": {},
     "output_type": "execute_result"
    },
    {
     "data": {
      "image/png": "[encoded data removed]",
      "text/plain": [
       "<Figure size 1200x800 with 1 Axes>"
      ]
     },
     "metadata": {},
     "output_type": "display_data"
    }
   ],
   "source": [
    "plt.figure(figsize= (12,8))\n",
    "plt.plot(cumulativeRevenueA['date'], cumulativeRevenueA['revenue']/cumulativeRevenueA['orders'], label='A')\n",
    "plt.plot(cumulativeRevenueB['date'], cumulativeRevenueB['revenue']/cumulativeRevenueB['orders'], label='B')\n",
    "plt.ylabel('Средний чек')\n",
    "plt.xlabel('Дата')\n",
    "plt.title('Кумулятивный средний чек по группам')\n",
    "plt.legend() "
   ]
  },
  {
   "cell_type": "markdown",
   "metadata": {},
   "source": [
    "**Вывод:**\n",
    "\n",
    "Средний чек у группы B за месяц практически всегда был выше, чем у группы A. Как и в прошлом графике у группы B наблюдается резкий скачек в середине августа. Возможно, что такие резкие скачки обусловлены дорогими покупками пользователей. "
   ]
  },
  {
   "cell_type": "markdown",
   "metadata": {},
   "source": [
    "### 3.3 График относительного изменения кумулятивного среднего чека группы B к группе A"
   ]
  },
  {
   "cell_type": "code",
   "execution_count": 97,
   "metadata": {},
   "outputs": [],
   "source": [
    "mergedCumulativeRevenue = cumulativeRevenueA.merge(cumulativeRevenueB, \n",
    "left_on='date', right_on='date', how='left', suffixes=['A', 'B'])"
   ]
  },
  {
   "cell_type": "code",
   "execution_count": 98,
   "metadata": {},
   "outputs": [
    {
     "data": {
      "text/plain": [
       "<matplotlib.lines.Line2D at 0x7fe4509639d0>"
      ]
     },
     "execution_count": 98,
     "metadata": {},
     "output_type": "execute_result"
    },
    {
     "data": {
      "image/png": "[encoded data removed]",
      "text/plain": [
       "<Figure size 1200x800 with 1 Axes>"
      ]
     },
     "metadata": {},
     "output_type": "display_data"
    }
   ],
   "source": [
    "plt.figure(figsize= (12,8))\n",
    "\n",
    "plt.plot(mergedCumulativeRevenue['date'], \n",
    "(mergedCumulativeRevenue['revenueB']/mergedCumulativeRevenue['ordersB'])/\n",
    "(mergedCumulativeRevenue['revenueA']/mergedCumulativeRevenue['ordersA'])-1)\n",
    "\n",
    "plt.xlabel('Дата')\n",
    "plt.title('Относительное изменение кумулятивного среднего чека группы B к группе A')\n",
    "\n",
    "plt.axhline(y=0, color='black', linestyle='--')"
   ]
  },
  {
   "cell_type": "markdown",
   "metadata": {},
   "source": [
    "**Вывод:**\n",
    "\n",
    "На графике наблюдаются значительные и резкие колебания в несколько дат. В данных есть выбросы."
   ]
  },
  {
   "cell_type": "markdown",
   "metadata": {},
   "source": [
    "### 3.4 График кумулятивного среднего количества заказов на посетителя по группам"
   ]
  },
  {
   "cell_type": "code",
   "execution_count": 99,
   "metadata": {},
   "outputs": [],
   "source": [
    "cumulativeData['conversion'] = cumulativeData['orders']/cumulativeData['visitors'] "
   ]
  },
  {
   "cell_type": "code",
   "execution_count": 100,
   "metadata": {},
   "outputs": [],
   "source": [
    "cumulativeDataA = cumulativeData[cumulativeData['group']=='A']\n",
    "cumulativeDataB = cumulativeData[cumulativeData['group']=='B']"
   ]
  },
  {
   "cell_type": "code",
   "execution_count": 101,
   "metadata": {},
   "outputs": [
    {
     "data": {
      "text/plain": [
       "<matplotlib.legend.Legend at 0x7fe41000fd00>"
      ]
     },
     "execution_count": 101,
     "metadata": {},
     "output_type": "execute_result"
    },
    {
     "data": {
      "image/png": "[encoded data removed]",
      "text/plain": [
       "<Figure size 1500x1000 with 1 Axes>"
      ]
     },
     "metadata": {},
     "output_type": "display_data"
    }
   ],
   "source": [
    "plt.figure(figsize= (15,10))\n",
    "plt.plot(cumulativeDataA['date'], cumulativeDataA['conversion'], label='A')\n",
    "plt.plot(cumulativeDataB['date'], cumulativeDataB['conversion'], label='B')\n",
    "plt.xlabel('Дата')\n",
    "plt.ylabel('Изменение среднего количества заказов по группам')\n",
    "plt.title('Кумулятивное среднее количество заказов на посетителя по группам')\n",
    "plt.legend()"
   ]
  },
  {
   "cell_type": "markdown",
   "metadata": {},
   "source": [
    "**Вывод:**\n",
    "\n",
    "По графику видим, что среднее количество заказов у группы A в начале месяца была значительно больше, чем у группы B. Достигнув пика среднее количество заказов группы A начала стремительно падать и до конца месяца показатель оставался на минимальном уровне. У группы B наблюдается скачки, но в целом среднее количество заказов значительно выше, чем у группы A."
   ]
  },
  {
   "cell_type": "markdown",
   "metadata": {},
   "source": [
    "### 3.5 График относительного изменения кумулятивного среднего количества заказов на посетителя группы B к группе A"
   ]
  },
  {
   "cell_type": "code",
   "execution_count": 102,
   "metadata": {},
   "outputs": [],
   "source": [
    "mergedCumulativeConversions = cumulativeDataA[['date','conversion']].merge(cumulativeDataB[['date','conversion']],\n",
    "left_on='date', right_on='date', how='left', suffixes=['A', 'B'])"
   ]
  },
  {
   "cell_type": "code",
   "execution_count": 103,
   "metadata": {},
   "outputs": [
    {
     "data": {
      "text/plain": [
       "<matplotlib.lines.Line2D at 0x7fe44aa54400>"
      ]
     },
     "execution_count": 103,
     "metadata": {},
     "output_type": "execute_result"
    },
    {
     "data": {
      "image/png": "[encoded data removed]",
      "text/plain": [
       "<Figure size 1000x800 with 1 Axes>"
      ]
     },
     "metadata": {},
     "output_type": "display_data"
    }
   ],
   "source": [
    "plt.figure(figsize= (10,8))\n",
    "\n",
    "plt.plot(mergedCumulativeConversions['date'], mergedCumulativeConversions['conversionB']/\n",
    "        mergedCumulativeConversions['conversionA']-1, \n",
    "        label= \"Относительное изменение среднего количества заказов группы B относительно группы A\")\n",
    "\n",
    "plt.legend()\n",
    "\n",
    "plt.axhline(y=0, color='black', linestyle='--')\n",
    "plt.axhline(y=0.2, color='grey', linestyle='--')"
   ]
  },
  {
   "cell_type": "markdown",
   "metadata": {},
   "source": [
    "**Вывод:**\n",
    "\n",
    "С первой недели группа B лидирует по среднему количеству заказов. В середине месяца среднее количество заказов группы B достигает пиковых значений. К концу месяца видим незначительный спад. Относительный прирост по количеству заказов группы B относительно группы A примерно 15%."
   ]
  },
  {
   "cell_type": "markdown",
   "metadata": {},
   "source": [
    "### 3.6 Точечный график количества заказов по пользователям"
   ]
  },
  {
   "cell_type": "code",
   "execution_count": 104,
   "metadata": {},
   "outputs": [
    {
     "data": {
      "text/html": [
       "<div>\n",
       "<style scoped>\n",
       "    .dataframe tbody tr th:only-of-type {\n",
       "        vertical-align: middle;\n",
       "    }\n",
       "\n",
       "    .dataframe tbody tr th {\n",
       "        vertical-align: top;\n",
       "    }\n",
       "\n",
       "    .dataframe thead th {\n",
       "        text-align: right;\n",
       "    }\n",
       "</style>\n",
       "<table border=\"1\" class=\"dataframe\">\n",
       "  <thead>\n",
       "    <tr style=\"text-align: right;\">\n",
       "      <th></th>\n",
       "      <th>visitorId</th>\n",
       "      <th>orders</th>\n",
       "    </tr>\n",
       "  </thead>\n",
       "  <tbody>\n",
       "    <tr>\n",
       "      <th>1023</th>\n",
       "      <td>4256040402</td>\n",
       "      <td>11</td>\n",
       "    </tr>\n",
       "    <tr>\n",
       "      <th>591</th>\n",
       "      <td>2458001652</td>\n",
       "      <td>11</td>\n",
       "    </tr>\n",
       "    <tr>\n",
       "      <th>569</th>\n",
       "      <td>2378935119</td>\n",
       "      <td>9</td>\n",
       "    </tr>\n",
       "    <tr>\n",
       "      <th>487</th>\n",
       "      <td>2038680547</td>\n",
       "      <td>8</td>\n",
       "    </tr>\n",
       "    <tr>\n",
       "      <th>44</th>\n",
       "      <td>199603092</td>\n",
       "      <td>5</td>\n",
       "    </tr>\n",
       "    <tr>\n",
       "      <th>...</th>\n",
       "      <td>...</td>\n",
       "      <td>...</td>\n",
       "    </tr>\n",
       "    <tr>\n",
       "      <th>359</th>\n",
       "      <td>1484903144</td>\n",
       "      <td>1</td>\n",
       "    </tr>\n",
       "    <tr>\n",
       "      <th>360</th>\n",
       "      <td>1485964287</td>\n",
       "      <td>1</td>\n",
       "    </tr>\n",
       "    <tr>\n",
       "      <th>361</th>\n",
       "      <td>1494664757</td>\n",
       "      <td>1</td>\n",
       "    </tr>\n",
       "    <tr>\n",
       "      <th>362</th>\n",
       "      <td>1495112755</td>\n",
       "      <td>1</td>\n",
       "    </tr>\n",
       "    <tr>\n",
       "      <th>1030</th>\n",
       "      <td>4283872382</td>\n",
       "      <td>1</td>\n",
       "    </tr>\n",
       "  </tbody>\n",
       "</table>\n",
       "<p>1031 rows × 2 columns</p>\n",
       "</div>"
      ],
      "text/plain": [
       "       visitorId  orders\n",
       "1023  4256040402  11    \n",
       "591   2458001652  11    \n",
       "569   2378935119  9     \n",
       "487   2038680547  8     \n",
       "44    199603092   5     \n",
       "...         ...  ..     \n",
       "359   1484903144  1     \n",
       "360   1485964287  1     \n",
       "361   1494664757  1     \n",
       "362   1495112755  1     \n",
       "1030  4283872382  1     \n",
       "\n",
       "[1031 rows x 2 columns]"
      ]
     },
     "execution_count": 104,
     "metadata": {},
     "output_type": "execute_result"
    }
   ],
   "source": [
    "ordersByUsers = (\n",
    "    orders.groupby('visitorId', as_index = False)\n",
    "    .agg({'transactionId': 'nunique'})\n",
    ")\n",
    "ordersByUsers.columns = ['visitorId', 'orders']\n",
    "ordersByUsers.sort_values (by = 'orders', ascending = False)"
   ]
  },
  {
   "cell_type": "code",
   "execution_count": 105,
   "metadata": {},
   "outputs": [
    {
     "data": {
      "image/png": "[encoded data removed]",
      "text/plain": [
       "<Figure size 1000x800 with 1 Axes>"
      ]
     },
     "metadata": {},
     "output_type": "display_data"
    }
   ],
   "source": [
    "plt.figure(figsize= (10,8))\n",
    "plt.hist(ordersByUsers['orders'])\n",
    "plt.title('Гистрограмма распределения количества заказов пользователей')\n",
    "plt.ylabel('Пользователи')\n",
    "plt.xlabel('Количество заказов')\n",
    "plt.show()"
   ]
  },
  {
   "cell_type": "code",
   "execution_count": 106,
   "metadata": {},
   "outputs": [],
   "source": [
    "x_values = pd.Series(range(0, len(ordersByUsers)))"
   ]
  },
  {
   "cell_type": "code",
   "execution_count": 107,
   "metadata": {
    "scrolled": false
   },
   "outputs": [
    {
     "data": {
      "image/png": "[encoded data removed]",
      "text/plain": [
       "<Figure size 1000x800 with 1 Axes>"
      ]
     },
     "metadata": {},
     "output_type": "display_data"
    }
   ],
   "source": [
    "plt.figure(figsize= (10,8))\n",
    "plt.scatter(x_values, ordersByUsers['orders'])\n",
    "plt.title('Точечная диаграмма количества заказов пользователей')\n",
    "plt.ylabel('Количество заказов')\n",
    "plt.xlabel('Пользователи')\n",
    "plt.show()"
   ]
  },
  {
   "cell_type": "markdown",
   "metadata": {},
   "source": [
    "**Вывод:**\n",
    "\n",
    "По графикам видим, что большая часть пользователей совершило всего 1 заказ. Пользователей, которые совершили 2 заказа и более совсем мало."
   ]
  },
  {
   "cell_type": "markdown",
   "metadata": {},
   "source": [
    "### 3.7 95-й и 99-й перцентили количества заказов на пользователя. Выберем границу для определения аномальных заказов"
   ]
  },
  {
   "cell_type": "code",
   "execution_count": 108,
   "metadata": {},
   "outputs": [
    {
     "data": {
      "text/plain": [
       "array([2., 4.])"
      ]
     },
     "execution_count": 108,
     "metadata": {},
     "output_type": "execute_result"
    }
   ],
   "source": [
    "percentile = np.percentile(ordersByUsers ['orders'], [95, 99])\n",
    "percentile"
   ]
  },
  {
   "cell_type": "markdown",
   "metadata": {},
   "source": [
    "**Вывод:**\n",
    "\n",
    "Не более 5% пользователей совершали больше двух заказов. Установим по ней границу аномальных заказов.\n",
    "\n",
    "Не более 1% пользователей, которые совершили более четырех заказов. "
   ]
  },
  {
   "cell_type": "markdown",
   "metadata": {},
   "source": [
    "### 3.8 Точечный график стоимостей заказов"
   ]
  },
  {
   "cell_type": "code",
   "execution_count": 109,
   "metadata": {},
   "outputs": [
    {
     "data": {
      "image/png": "[encoded data removed]",
      "text/plain": [
       "<Figure size 1000x700 with 1 Axes>"
      ]
     },
     "metadata": {},
     "output_type": "display_data"
    }
   ],
   "source": [
    "plt.figure(figsize= (10,7))\n",
    "plt.hist(orders ['revenue'])\n",
    "plt.title('График распределения стоимости заказов пользователей')\n",
    "plt.ylabel('Пользователи')\n",
    "plt.xlabel('Стоимость заказа')\n",
    "plt.show()"
   ]
  },
  {
   "cell_type": "code",
   "execution_count": 110,
   "metadata": {},
   "outputs": [],
   "source": [
    "x_values = pd.Series(range(0, len(orders['revenue'])))"
   ]
  },
  {
   "cell_type": "code",
   "execution_count": 111,
   "metadata": {
    "scrolled": false
   },
   "outputs": [
    {
     "data": {
      "image/png": "[encoded data removed]",
      "text/plain": [
       "<Figure size 1000x800 with 1 Axes>"
      ]
     },
     "metadata": {},
     "output_type": "display_data"
    }
   ],
   "source": [
    "plt.figure(figsize= (10,8))\n",
    "plt.scatter(x_values, orders['revenue'])\n",
    "plt.title('Точечная диаграмма стоимости заказов пользователей')\n",
    "plt.ylabel('Стоимость заказов')\n",
    "plt.xlabel('Заказы')\n",
    "plt.show()"
   ]
  },
  {
   "cell_type": "code",
   "execution_count": 112,
   "metadata": {},
   "outputs": [
    {
     "data": {
      "image/png": "[encoded data removed]",
      "text/plain": [
       "<Figure size 1000x800 with 1 Axes>"
      ]
     },
     "metadata": {},
     "output_type": "display_data"
    }
   ],
   "source": [
    "plt.figure(figsize= (10,8))\n",
    "plt.scatter(x_values, orders['revenue'])\n",
    "plt.title('Точечная диаграмма стоимости заказов пользователей № 2')\n",
    "plt.ylabel('Стоимость заказов')\n",
    "plt.xlabel('Заказы')\n",
    "plt.xlim(0, 1200)\n",
    "plt.ylim (0, 150000)\n",
    "plt.show()"
   ]
  },
  {
   "cell_type": "markdown",
   "metadata": {},
   "source": [
    "**Вывод:**\n",
    "\n",
    "По графикам видим, что у большинства пользователей стоимость заказов не привышает 100 тысяч. На точечной диаграмме видны заказы с аномально высоким чеком на 1,4 млн и 200 тысяч. Чтобы определить границу аномальных заказов рассчитаем процентили."
   ]
  },
  {
   "cell_type": "markdown",
   "metadata": {},
   "source": [
    "### 3.9 95-й и 99-й перцентили стоимости заказов. Выберем границу для определения аномальных заказов"
   ]
  },
  {
   "cell_type": "code",
   "execution_count": 113,
   "metadata": {},
   "outputs": [
    {
     "data": {
      "text/plain": [
       "array([28000. , 58233.2])"
      ]
     },
     "execution_count": 113,
     "metadata": {},
     "output_type": "execute_result"
    }
   ],
   "source": [
    "percentile_2 = np.percentile(orders['revenue'], [95, 99])\n",
    "percentile_2"
   ]
  },
  {
   "cell_type": "markdown",
   "metadata": {},
   "source": [
    "**Вывод:**\n",
    "\n",
    "- 95% заказов не превышает 28 тысяч. \n",
    "\n",
    "- 99% заказов не превышает 58 233. Установим по ней границу аномальных заказов."
   ]
  },
  {
   "cell_type": "markdown",
   "metadata": {},
   "source": [
    "### 3.10 Cтатистическая значимость различий в среднем количестве заказов на посетителя между группами по «сырым» данным"
   ]
  },
  {
   "cell_type": "markdown",
   "metadata": {},
   "source": [
    "Создадим несколько таблиц и объединим их в одну переменную. "
   ]
  },
  {
   "cell_type": "code",
   "execution_count": 114,
   "metadata": {},
   "outputs": [],
   "source": [
    "visitorsADaily = visitors[visitors['group'] == 'A'][['date', 'visitors']]\n",
    "\n",
    "visitorsADaily.columns = ['date', 'visitorsPerDateA']\n",
    "\n",
    "visitorsACummulative = visitorsADaily.apply(\n",
    "    lambda x: visitorsADaily[visitorsADaily['date'] <= x['date']].agg(\n",
    "        {'date': 'max', 'visitorsPerDateA': 'sum'}\n",
    "    ),axis=1,)\n",
    "\n",
    "visitorsACummulative.columns = ['date', 'visitors_cummulative_a']"
   ]
  },
  {
   "cell_type": "code",
   "execution_count": 115,
   "metadata": {},
   "outputs": [],
   "source": [
    "visitorsBDaily = visitors[visitors['group'] == 'B'][['date', 'visitors']]\n",
    "visitorsBDaily.columns = ['date', 'visitorsPerDateB']\n",
    "\n",
    "visitorsBCummulative = visitorsBDaily.apply(\n",
    "    lambda x: visitorsBDaily[visitorsBDaily['date'] <= x['date']].agg(\n",
    "        {'date': 'max', 'visitorsPerDateB': 'sum'}\n",
    "    ),axis=1,)\n",
    "\n",
    "visitorsBCummulative.columns = ['date', 'visitorsCummulativeB']"
   ]
  },
  {
   "cell_type": "code",
   "execution_count": 116,
   "metadata": {},
   "outputs": [],
   "source": [
    "ordersADaily = (\n",
    "    orders[orders['group'] == 'A'][['date', 'transactionId', 'visitorId', 'revenue']]\n",
    "    .groupby('date', as_index=False)\n",
    "    .agg({'transactionId': pd.Series.nunique, 'revenue': 'sum'})\n",
    ")\n",
    "ordersADaily.columns = ['date', 'ordersPerDateA', 'revenuePerDateA']\n",
    "\n",
    "ordersACummulative = ordersADaily.apply(\n",
    "    lambda x: ordersADaily[ordersADaily['date'] <= x['date']].agg(\n",
    "        {'date': 'max', 'ordersPerDateA': 'sum', 'revenuePerDateA': 'sum'}\n",
    "    ),axis=1,).sort_values(by=['date'])\n",
    "\n",
    "ordersACummulative.columns = ['date','ordersCummulativeA','revenueCummulativeA']"
   ]
  },
  {
   "cell_type": "code",
   "execution_count": 117,
   "metadata": {},
   "outputs": [],
   "source": [
    "ordersBDaily = (\n",
    "    orders[orders['group'] == 'B'][['date', 'transactionId', 'visitorId', 'revenue']]\n",
    "    .groupby('date', as_index=False)\n",
    "    .agg({'transactionId': pd.Series.nunique, 'revenue': 'sum'})\n",
    ")\n",
    "ordersBDaily.columns = ['date', 'ordersPerDateB', 'revenuePerDateB']\n",
    "\n",
    "ordersBCummulative = ordersBDaily.apply(\n",
    "    lambda x: ordersBDaily[ordersBDaily['date'] <= x['date']].agg(\n",
    "        {'date': 'max', 'ordersPerDateB': 'sum', 'revenuePerDateB': 'sum'}\n",
    "    ),axis=1,).sort_values(by=['date'])\n",
    "\n",
    "ordersBCummulative.columns = ['date','ordersCummulativeB','revenueCummulativeB']"
   ]
  },
  {
   "cell_type": "markdown",
   "metadata": {},
   "source": [
    "Создадим переменные ordersByUsersA и ordersByUsersB. В них для пользователей, которые заказывали хотя бы 1 раз, укажем число совершённых заказов. "
   ]
  },
  {
   "cell_type": "code",
   "execution_count": 118,
   "metadata": {},
   "outputs": [],
   "source": [
    "ordersByUsersA = (\n",
    "    orders[orders['group'] == 'A']\n",
    "    .groupby('visitorId', as_index=False)\n",
    "    .agg({'transactionId': pd.Series.nunique}))\n",
    "\n",
    "ordersByUsersA.columns = ['visitorId', 'orders']"
   ]
  },
  {
   "cell_type": "code",
   "execution_count": 119,
   "metadata": {},
   "outputs": [],
   "source": [
    "ordersByUsersB = (\n",
    "    orders[orders['group'] == 'B']\n",
    "    .groupby('visitorId', as_index=False)\n",
    "    .agg({'transactionId': pd.Series.nunique}))\n",
    "\n",
    "ordersByUsersB.columns = ['visitorId', 'orders']"
   ]
  },
  {
   "cell_type": "markdown",
   "metadata": {},
   "source": [
    "Объявим переменные sampleA и sampleB, в которых пользователям из разных групп будет соответствовать количество заказов. Тем, кто ничего не заказал, будут соответствовать нули."
   ]
  },
  {
   "cell_type": "code",
   "execution_count": 120,
   "metadata": {},
   "outputs": [],
   "source": [
    "sampleA = pd.concat([ordersByUsersA['orders'],\n",
    "                      pd.Series(0, index=np.arange(visitorsADaily['visitorsPerDateA'].sum() - \n",
    "                      len(ordersByUsersA['orders'])), \n",
    "                      name='orders')],axis=0)"
   ]
  },
  {
   "cell_type": "code",
   "execution_count": 121,
   "metadata": {},
   "outputs": [],
   "source": [
    "sampleB = pd.concat([ordersByUsersB['orders'],\n",
    "                      pd.Series(0, index=np.arange(visitorsBDaily['visitorsPerDateB'].sum() - \n",
    "                      len(ordersByUsersB['orders'])), \n",
    "                      name='orders')],axis=0)"
   ]
  },
  {
   "cell_type": "markdown",
   "metadata": {},
   "source": [
    "**Гипотезы:**\n",
    "\n",
    "- H0 - различий в среднем количестве заказов между группами A и B нет\n",
    "- H1 - различия в среднем количестве заказов между группами A и B есть "
   ]
  },
  {
   "cell_type": "code",
   "execution_count": 122,
   "metadata": {},
   "outputs": [],
   "source": [
    "alpha = 0.05"
   ]
  },
  {
   "cell_type": "code",
   "execution_count": 123,
   "metadata": {},
   "outputs": [
    {
     "data": {
      "text/plain": [
       "'P-value: 0.0168'"
      ]
     },
     "metadata": {},
     "output_type": "display_data"
    }
   ],
   "source": [
    "p_value = round(stats.mannwhitneyu(sampleA, sampleB)[1], 4)\n",
    "display ('P-value: {}'.format (p_value))"
   ]
  },
  {
   "cell_type": "code",
   "execution_count": 124,
   "metadata": {},
   "outputs": [
    {
     "data": {
      "text/plain": [
       "'Относительный прирост в среднем количестве заказов группы B к группе A: 0.138'"
      ]
     },
     "metadata": {},
     "output_type": "display_data"
    }
   ],
   "source": [
    "i = round(sampleB.mean() / sampleA.mean() - 1, 3)\n",
    "display ('Относительный прирост в среднем количестве заказов группы B к группе A: {}'.format (i))"
   ]
  },
  {
   "cell_type": "markdown",
   "metadata": {},
   "source": [
    "**Вывод:**\n",
    "\n",
    "Применен метод Манна-Уитни для проверки гипотез. \n",
    "\n",
    "P-value меньше 0.05. Есть различия в среднем количестве заказов между группами. \n",
    "\n",
    "Относительный прирост в среднем количестве заказов группы B к группе A - 13,8%"
   ]
  },
  {
   "cell_type": "markdown",
   "metadata": {},
   "source": [
    "### 3.11 Cтатистическая значимость различий в среднем чеке заказа между группами по «сырым» данным"
   ]
  },
  {
   "cell_type": "markdown",
   "metadata": {},
   "source": [
    "**Гипотезы:**\n",
    "\n",
    "- H0 - различий в среднем чеке в между группами A и B нет\n",
    "- H1 - различия в среднем чеке между группами A и B есть "
   ]
  },
  {
   "cell_type": "code",
   "execution_count": 125,
   "metadata": {},
   "outputs": [],
   "source": [
    "alpha = 0.05"
   ]
  },
  {
   "cell_type": "code",
   "execution_count": 126,
   "metadata": {},
   "outputs": [
    {
     "data": {
      "text/plain": [
       "'P-value: 0.7293'"
      ]
     },
     "metadata": {},
     "output_type": "display_data"
    }
   ],
   "source": [
    "p_value_2 = round(stats.mannwhitneyu(orders[orders['group']=='A']['revenue'], \n",
    "                                          orders[orders['group']=='B']['revenue'])[1], 4)\n",
    "display ('P-value: {}'.format (p_value_2))"
   ]
  },
  {
   "cell_type": "code",
   "execution_count": 127,
   "metadata": {},
   "outputs": [
    {
     "data": {
      "text/plain": [
       "'Разница в среднем чеке между группами B и А: 0.259'"
      ]
     },
     "metadata": {},
     "output_type": "display_data"
    }
   ],
   "source": [
    "i_2 = round(orders[orders['group']=='B']['revenue'].mean()/\n",
    "                       orders[orders['group']=='A']['revenue'].mean() - 1, 3)\n",
    "display ('Разница в среднем чеке между группами B и А: {}'.format (i_2))"
   ]
  },
  {
   "cell_type": "markdown",
   "metadata": {},
   "source": [
    "**Вывод:**\n",
    "\n",
    "P-value больше 0.05. Нет различий в среднем чеке между группами A и B.\n",
    "\n",
    "Есть существенная разница в средних чеках - 25,9%."
   ]
  },
  {
   "cell_type": "markdown",
   "metadata": {},
   "source": [
    "### 3.12 Cтатистическая значимость различий в среднем количестве заказов на посетителя между группами по «очищенным» данным"
   ]
  },
  {
   "cell_type": "markdown",
   "metadata": {},
   "source": [
    "**Аномальные пользователи:**\n",
    "\n",
    "- Пользователи, которые совершили более 2х заказов\n",
    "- Пользователи, которые совершили заказ дороже 53 тысяч\n",
    "\n",
    "Сделаем срез и объединим их в таблицу abnormalUsers"
   ]
  },
  {
   "cell_type": "code",
   "execution_count": 128,
   "metadata": {},
   "outputs": [
    {
     "data": {
      "text/plain": [
       "34"
      ]
     },
     "execution_count": 128,
     "metadata": {},
     "output_type": "execute_result"
    }
   ],
   "source": [
    "usersWithManyOrders = pd.concat(\n",
    "    [\n",
    "        ordersByUsersA[ordersByUsersA['orders'] > 2]['visitorId'],\n",
    "        ordersByUsersB[ordersByUsersB['orders'] > 2]['visitorId'],\n",
    "    ],\n",
    "    axis=0,\n",
    ") # Cрез по заказам\n",
    "\n",
    "usersWithExpensiveOrders = orders[orders['revenue'] > 53000]['visitorId'] # Срез по стоимости\n",
    "\n",
    "abnormalUsers = (\n",
    "    pd.concat([usersWithManyOrders, usersWithExpensiveOrders], axis=0)\n",
    "    .drop_duplicates()\n",
    "    .sort_values()\n",
    ") \n",
    "\n",
    "abnormalUsers.head(15)\n",
    "abnormalUsers.shape[0]"
   ]
  },
  {
   "cell_type": "markdown",
   "metadata": {},
   "source": [
    "Выявлено 34 аномальных пользователей"
   ]
  },
  {
   "cell_type": "code",
   "execution_count": 130,
   "metadata": {},
   "outputs": [],
   "source": [
    "sampleAFiltered = pd.concat(\n",
    "    [\n",
    "        ordersByUsersA[\n",
    "            np.logical_not(ordersByUsersA['visitorId'].isin(abnormalUsers))\n",
    "        ]['orders'],\n",
    "        pd.Series(\n",
    "            0,\n",
    "        index=np.arange(\n",
    "            visitorsADaily['visitorsPerDateA'].sum() - len(ordersByUsersA['orders'])\n",
    "        ),\n",
    "            name='orders',\n",
    "        ),\n",
    "    ],\n",
    "    axis=0,\n",
    ")\n",
    "\n",
    "sampleBFiltered = pd.concat(\n",
    "    [\n",
    "        ordersByUsersB[\n",
    "            np.logical_not(ordersByUsersB['visitorId'].isin(abnormalUsers))\n",
    "        ]['orders'],\n",
    "        pd.Series(\n",
    "            0,\n",
    "            index=np.arange(\n",
    "                visitorsBDaily['visitorsPerDateB'].sum() - len(ordersByUsersB['orders'])\n",
    "            ),\n",
    "            name='orders',\n",
    "        ),\n",
    "    ],\n",
    "    axis=0,)"
   ]
  },
  {
   "cell_type": "markdown",
   "metadata": {},
   "source": [
    "**Гипотезы:**\n",
    "\n",
    "- H0 - различий в среднем количестве заказов между группами A и B по 'очищенным' данным нет\n",
    "- H1 - различия в среднем количестве заказов между группами A и B по 'очищенным' данным есть "
   ]
  },
  {
   "cell_type": "code",
   "execution_count": 131,
   "metadata": {},
   "outputs": [],
   "source": [
    "alpha = 0.05"
   ]
  },
  {
   "cell_type": "code",
   "execution_count": 132,
   "metadata": {},
   "outputs": [
    {
     "data": {
      "text/plain": [
       "'P-value: 0.0091'"
      ]
     },
     "metadata": {},
     "output_type": "display_data"
    }
   ],
   "source": [
    "p_value_3 = round(stats.mannwhitneyu(sampleAFiltered, sampleBFiltered)[1], 4)\n",
    "display ('P-value: {}'.format (p_value_3))"
   ]
  },
  {
   "cell_type": "code",
   "execution_count": 133,
   "metadata": {},
   "outputs": [
    {
     "data": {
      "text/plain": [
       "'Относительный прирост в среднем количестве заказов группы B к группе A по \"очищенным\" данным: 0.177'"
      ]
     },
     "metadata": {},
     "output_type": "display_data"
    }
   ],
   "source": [
    "i_3 = round(sampleBFiltered.mean()/sampleAFiltered.mean()-1, 3)\n",
    "display ('Относительный прирост в среднем количестве заказов группы B к группе A по \"очищенным\" данным: {}'\n",
    "         .format (i_3))"
   ]
  },
  {
   "cell_type": "markdown",
   "metadata": {},
   "source": [
    "**Вывод:**\n",
    "\n",
    "P-value меньше 0.05. Есть различия в среднем количестве заказов между группами после очистки.\n",
    "\n",
    "Относительный прирост в среднем количестве заказов группы B к группе A после очистки данных - 17,7%."
   ]
  },
  {
   "cell_type": "markdown",
   "metadata": {},
   "source": [
    "### 3.13 Cтатистическая значимость различий в среднем чеке заказа между группами по «очищенным» данным"
   ]
  },
  {
   "cell_type": "markdown",
   "metadata": {},
   "source": [
    "**Гипотезы:**\n",
    "\n",
    "- H0 - различий в среднем чеке в между группами A и B по 'очищенным' данным нет\n",
    "- H1 - различия в среднем чеке между группами A и B по 'очищенным' данным есть "
   ]
  },
  {
   "cell_type": "code",
   "execution_count": 134,
   "metadata": {},
   "outputs": [],
   "source": [
    "alpha = 0.05"
   ]
  },
  {
   "cell_type": "code",
   "execution_count": 135,
   "metadata": {},
   "outputs": [
    {
     "data": {
      "text/plain": [
       "'P-value: 0.849'"
      ]
     },
     "metadata": {},
     "output_type": "display_data"
    }
   ],
   "source": [
    "p_value_4 = round(stats.mannwhitneyu(\n",
    "            orders[\n",
    "                np.logical_and(\n",
    "                    orders['group'] == 'A',\n",
    "                    np.logical_not(orders['visitorId'].isin(abnormalUsers)),\n",
    "                )\n",
    "            ]['revenue'],\n",
    "            orders[\n",
    "                np.logical_and(\n",
    "                    orders['group'] == 'B',\n",
    "                    np.logical_not(orders['visitorId'].isin(abnormalUsers)),\n",
    "                )\n",
    "            ]['revenue'],\n",
    "        )[1], 3)\n",
    "display ('P-value: {}'.format (p_value_4))"
   ]
  },
  {
   "cell_type": "code",
   "execution_count": 136,
   "metadata": {},
   "outputs": [
    {
     "data": {
      "text/plain": [
       "'Разница в среднем чеке между группами B и А по \"очищенным\" данным: -0.003'"
      ]
     },
     "metadata": {},
     "output_type": "display_data"
    }
   ],
   "source": [
    "i_4 = round(orders[\n",
    "            np.logical_and(\n",
    "                orders['group'] == 'B',\n",
    "                np.logical_not(orders['visitorId'].isin(abnormalUsers)),\n",
    "            )\n",
    "        ]['revenue'].mean()\n",
    "        / orders[\n",
    "            np.logical_and(\n",
    "                orders['group'] == 'A',\n",
    "                np.logical_not(orders['visitorId'].isin(abnormalUsers)),\n",
    "            )\n",
    "        ]['revenue'].mean()\n",
    "        - 1 ,3)\n",
    "display ('Разница в среднем чеке между группами B и А по \"очищенным\" данным: {}'.format (i_4))"
   ]
  },
  {
   "cell_type": "markdown",
   "metadata": {},
   "source": [
    "**Вывод:**\n",
    "\n",
    "P-value больше 0.05. После отчистки данных от аномальных пользователей различий в среднем чеке между группами A и B также нет.\n",
    "\n",
    "Разница в средних чеках после отчистки данных минимальная. Скорее всего, на результат повлияло исключение аномально больших заказов на сумму 1,4 млн и 200 тысяч."
   ]
  },
  {
   "cell_type": "markdown",
   "metadata": {},
   "source": [
    "## Решение по результатам теста"
   ]
  },
  {
   "cell_type": "markdown",
   "metadata": {},
   "source": [
    "**Варианты решений:**\n",
    "\n",
    "- Остановить тест, зафиксировать победу одной из групп\n",
    "- Остановить тест, зафиксировать отсутствие различий между группами\n",
    "- Продолжить тест\n",
    "\n",
    "При анализе A/B теста было выявлено, что до и после удаления аномальных пользователей есть существенные различия в среднем количестве заказов у групп A и B. \n",
    "\n",
    "- Относительный прирост в среднем количестве заказов у группы B к группе A до удаления аномальных пользователей состовлял 13,8%.\n",
    "- Относительный прирост в среднем количестве заказов у группы B к группе A после удаления аномальных пользователей состовлял 17,7%.\n",
    "\n",
    "Различия в средних чеках между группами A и B отсутсвовали до и после удаления аномальных пользователей. Средний чек до удаления аномальных пользователей у группы B был больше на 25,9%, чем у группы A. Это связано с аномально большими заказами в группе B (на 1,4 млн и 200 тысяч). После удаления аномальных заказов средний чек в группах сравнялся.\n",
    "\n",
    "**Решение:**\n",
    "\n",
    "Остановить тест, зафиксировать победу группы B."
   ]
  }
 ],
 "metadata": {
  "ExecuteTimeLog": [
   {
    "duration": 1533,
    "start_time": "2023-05-05T18:19:14.780Z"
   },
   {
    "duration": 192,
    "start_time": "2023-05-05T18:19:16.316Z"
   },
   {
    "duration": 20,
    "start_time": "2023-05-05T18:19:16.510Z"
   },
   {
    "duration": 16,
    "start_time": "2023-05-05T18:19:16.533Z"
   },
   {
    "duration": 24,
    "start_time": "2023-05-05T18:19:16.552Z"
   },
   {
    "duration": 22,
    "start_time": "2023-05-05T18:19:16.579Z"
   },
   {
    "duration": 21,
    "start_time": "2023-05-05T18:19:16.603Z"
   },
   {
    "duration": 13,
    "start_time": "2023-05-05T18:19:16.626Z"
   },
   {
    "duration": 26,
    "start_time": "2023-05-05T18:19:16.641Z"
   },
   {
    "duration": 7,
    "start_time": "2023-05-05T18:19:16.674Z"
   },
   {
    "duration": 8,
    "start_time": "2023-05-05T18:19:16.683Z"
   },
   {
    "duration": 6,
    "start_time": "2023-05-05T18:19:16.693Z"
   },
   {
    "duration": 7,
    "start_time": "2023-05-05T18:19:16.700Z"
   },
   {
    "duration": 6,
    "start_time": "2023-05-05T18:19:16.710Z"
   },
   {
    "duration": 54,
    "start_time": "2023-05-05T18:19:16.718Z"
   },
   {
    "duration": 4,
    "start_time": "2023-05-05T18:19:16.775Z"
   },
   {
    "duration": 18,
    "start_time": "2023-05-05T18:19:16.781Z"
   },
   {
    "duration": 8,
    "start_time": "2023-05-05T18:19:16.801Z"
   },
   {
    "duration": 203,
    "start_time": "2023-05-05T18:19:16.811Z"
   },
   {
    "duration": 146,
    "start_time": "2023-05-05T18:19:17.016Z"
   },
   {
    "duration": 7,
    "start_time": "2023-05-05T18:19:17.165Z"
   },
   {
    "duration": 14,
    "start_time": "2023-05-05T18:19:17.173Z"
   },
   {
    "duration": 35,
    "start_time": "2023-05-05T18:19:17.189Z"
   },
   {
    "duration": 14,
    "start_time": "2023-05-05T18:19:17.226Z"
   },
   {
    "duration": 12,
    "start_time": "2023-05-05T18:19:17.242Z"
   },
   {
    "duration": 373,
    "start_time": "2023-05-05T18:19:17.255Z"
   },
   {
    "duration": 217,
    "start_time": "2023-05-05T18:19:17.630Z"
   },
   {
    "duration": 25,
    "start_time": "2023-05-05T18:19:17.851Z"
   },
   {
    "duration": 323,
    "start_time": "2023-05-05T18:19:17.878Z"
   },
   {
    "duration": 5,
    "start_time": "2023-05-05T18:19:18.203Z"
   },
   {
    "duration": 16,
    "start_time": "2023-05-05T18:19:18.210Z"
   },
   {
    "duration": 255,
    "start_time": "2023-05-05T18:19:18.228Z"
   },
   {
    "duration": 10,
    "start_time": "2023-05-05T18:19:18.485Z"
   },
   {
    "duration": 355,
    "start_time": "2023-05-05T18:19:18.497Z"
   },
   {
    "duration": 19,
    "start_time": "2023-05-05T18:19:18.855Z"
   },
   {
    "duration": 152,
    "start_time": "2023-05-05T18:19:18.878Z"
   },
   {
    "duration": 3,
    "start_time": "2023-05-05T18:19:19.032Z"
   },
   {
    "duration": 143,
    "start_time": "2023-05-05T18:19:19.037Z"
   },
   {
    "duration": 6,
    "start_time": "2023-05-05T18:19:19.182Z"
   },
   {
    "duration": 155,
    "start_time": "2023-05-05T18:19:19.189Z"
   },
   {
    "duration": 13,
    "start_time": "2023-05-05T18:19:19.360Z"
   },
   {
    "duration": 212,
    "start_time": "2023-05-05T18:19:19.376Z"
   },
   {
    "duration": 5,
    "start_time": "2023-05-05T18:19:19.590Z"
   },
   {
    "duration": 50,
    "start_time": "2023-05-05T18:19:19.597Z"
   },
   {
    "duration": 74,
    "start_time": "2023-05-05T18:19:19.659Z"
   },
   {
    "duration": 81,
    "start_time": "2023-05-05T18:19:19.736Z"
   },
   {
    "duration": 68,
    "start_time": "2023-05-05T18:19:19.819Z"
   },
   {
    "duration": 41,
    "start_time": "2023-05-05T18:19:19.889Z"
   },
   {
    "duration": 87,
    "start_time": "2023-05-05T18:19:19.933Z"
   },
   {
    "duration": 96,
    "start_time": "2023-05-05T18:19:20.022Z"
   },
   {
    "duration": 123,
    "start_time": "2023-05-05T18:19:20.120Z"
   },
   {
    "duration": 0,
    "start_time": "2023-05-05T18:19:20.244Z"
   },
   {
    "duration": 0,
    "start_time": "2023-05-05T18:19:20.246Z"
   },
   {
    "duration": 0,
    "start_time": "2023-05-05T18:19:20.248Z"
   },
   {
    "duration": 0,
    "start_time": "2023-05-05T18:19:20.255Z"
   },
   {
    "duration": 0,
    "start_time": "2023-05-05T18:19:20.256Z"
   },
   {
    "duration": 0,
    "start_time": "2023-05-05T18:19:20.257Z"
   },
   {
    "duration": 0,
    "start_time": "2023-05-05T18:19:20.258Z"
   },
   {
    "duration": 0,
    "start_time": "2023-05-05T18:19:20.259Z"
   },
   {
    "duration": 0,
    "start_time": "2023-05-05T18:19:20.259Z"
   },
   {
    "duration": 0,
    "start_time": "2023-05-05T18:19:20.260Z"
   },
   {
    "duration": 0,
    "start_time": "2023-05-05T18:19:20.262Z"
   },
   {
    "duration": 6,
    "start_time": "2023-05-05T18:19:40.658Z"
   },
   {
    "duration": 9,
    "start_time": "2023-05-05T18:19:58.325Z"
   },
   {
    "duration": 7,
    "start_time": "2023-05-05T18:20:10.467Z"
   },
   {
    "duration": 25,
    "start_time": "2023-05-05T18:20:14.246Z"
   },
   {
    "duration": 17,
    "start_time": "2023-05-05T18:20:17.586Z"
   },
   {
    "duration": 9,
    "start_time": "2023-05-05T18:20:22.389Z"
   },
   {
    "duration": 12,
    "start_time": "2023-05-05T18:20:23.648Z"
   },
   {
    "duration": 19,
    "start_time": "2023-05-05T18:20:30.926Z"
   },
   {
    "duration": 10,
    "start_time": "2023-05-05T18:21:06.224Z"
   },
   {
    "duration": 12,
    "start_time": "2023-05-05T18:21:50.906Z"
   },
   {
    "duration": 13,
    "start_time": "2023-05-05T18:22:34.404Z"
   },
   {
    "duration": 30,
    "start_time": "2023-05-05T18:22:39.026Z"
   },
   {
    "duration": 6,
    "start_time": "2023-05-05T18:22:40.209Z"
   },
   {
    "duration": 12,
    "start_time": "2023-05-05T18:22:47.015Z"
   },
   {
    "duration": 20,
    "start_time": "2023-05-05T18:22:48.264Z"
   },
   {
    "duration": 1500,
    "start_time": "2023-05-06T12:01:56.125Z"
   },
   {
    "duration": 239,
    "start_time": "2023-05-06T12:01:57.628Z"
   },
   {
    "duration": 13,
    "start_time": "2023-05-06T12:01:57.869Z"
   },
   {
    "duration": 23,
    "start_time": "2023-05-06T12:01:57.884Z"
   },
   {
    "duration": 20,
    "start_time": "2023-05-06T12:01:57.909Z"
   },
   {
    "duration": 21,
    "start_time": "2023-05-06T12:01:57.931Z"
   },
   {
    "duration": 19,
    "start_time": "2023-05-06T12:01:57.954Z"
   },
   {
    "duration": 21,
    "start_time": "2023-05-06T12:01:57.977Z"
   },
   {
    "duration": 10,
    "start_time": "2023-05-06T12:01:57.999Z"
   },
   {
    "duration": 14,
    "start_time": "2023-05-06T12:01:58.012Z"
   },
   {
    "duration": 15,
    "start_time": "2023-05-06T12:01:58.027Z"
   },
   {
    "duration": 12,
    "start_time": "2023-05-06T12:01:58.044Z"
   },
   {
    "duration": 9,
    "start_time": "2023-05-06T12:01:58.058Z"
   },
   {
    "duration": 31,
    "start_time": "2023-05-06T12:01:58.069Z"
   },
   {
    "duration": 16,
    "start_time": "2023-05-06T12:01:58.102Z"
   },
   {
    "duration": 9,
    "start_time": "2023-05-06T12:01:58.120Z"
   },
   {
    "duration": 22,
    "start_time": "2023-05-06T12:01:58.131Z"
   },
   {
    "duration": 13,
    "start_time": "2023-05-06T12:01:58.155Z"
   },
   {
    "duration": 184,
    "start_time": "2023-05-06T12:01:58.170Z"
   },
   {
    "duration": 137,
    "start_time": "2023-05-06T12:01:58.356Z"
   },
   {
    "duration": 8,
    "start_time": "2023-05-06T12:01:58.494Z"
   },
   {
    "duration": 9,
    "start_time": "2023-05-06T12:01:58.504Z"
   },
   {
    "duration": 27,
    "start_time": "2023-05-06T12:01:58.515Z"
   },
   {
    "duration": 8,
    "start_time": "2023-05-06T12:01:58.544Z"
   },
   {
    "duration": 8,
    "start_time": "2023-05-06T12:01:58.554Z"
   },
   {
    "duration": 301,
    "start_time": "2023-05-06T12:01:58.566Z"
   },
   {
    "duration": 200,
    "start_time": "2023-05-06T12:01:58.869Z"
   },
   {
    "duration": 6,
    "start_time": "2023-05-06T12:01:59.074Z"
   },
   {
    "duration": 350,
    "start_time": "2023-05-06T12:01:59.082Z"
   },
   {
    "duration": 4,
    "start_time": "2023-05-06T12:01:59.434Z"
   },
   {
    "duration": 14,
    "start_time": "2023-05-06T12:01:59.441Z"
   },
   {
    "duration": 222,
    "start_time": "2023-05-06T12:01:59.457Z"
   },
   {
    "duration": 8,
    "start_time": "2023-05-06T12:01:59.682Z"
   },
   {
    "duration": 306,
    "start_time": "2023-05-06T12:01:59.692Z"
   },
   {
    "duration": 13,
    "start_time": "2023-05-06T12:02:00.000Z"
   },
   {
    "duration": 264,
    "start_time": "2023-05-06T12:02:00.015Z"
   },
   {
    "duration": 4,
    "start_time": "2023-05-06T12:02:00.281Z"
   },
   {
    "duration": 164,
    "start_time": "2023-05-06T12:02:00.287Z"
   },
   {
    "duration": 6,
    "start_time": "2023-05-06T12:02:00.453Z"
   },
   {
    "duration": 225,
    "start_time": "2023-05-06T12:02:00.461Z"
   },
   {
    "duration": 4,
    "start_time": "2023-05-06T12:02:00.688Z"
   },
   {
    "duration": 294,
    "start_time": "2023-05-06T12:02:00.694Z"
   },
   {
    "duration": 6,
    "start_time": "2023-05-06T12:02:00.990Z"
   },
   {
    "duration": 113,
    "start_time": "2023-05-06T12:02:00.997Z"
   },
   {
    "duration": 141,
    "start_time": "2023-05-06T12:02:01.112Z"
   },
   {
    "duration": 105,
    "start_time": "2023-05-06T12:02:01.256Z"
   },
   {
    "duration": 59,
    "start_time": "2023-05-06T12:02:01.363Z"
   },
   {
    "duration": 38,
    "start_time": "2023-05-06T12:02:01.424Z"
   },
   {
    "duration": 86,
    "start_time": "2023-05-06T12:02:01.464Z"
   },
   {
    "duration": 100,
    "start_time": "2023-05-06T12:02:01.552Z"
   },
   {
    "duration": 6,
    "start_time": "2023-05-06T12:02:01.654Z"
   },
   {
    "duration": 25,
    "start_time": "2023-05-06T12:02:01.661Z"
   },
   {
    "duration": 36,
    "start_time": "2023-05-06T12:02:01.688Z"
   },
   {
    "duration": 10,
    "start_time": "2023-05-06T12:02:01.726Z"
   },
   {
    "duration": 37,
    "start_time": "2023-05-06T12:02:01.739Z"
   },
   {
    "duration": 17,
    "start_time": "2023-05-06T12:02:01.778Z"
   },
   {
    "duration": 21,
    "start_time": "2023-05-06T12:02:01.797Z"
   },
   {
    "duration": 32,
    "start_time": "2023-05-06T12:02:01.820Z"
   },
   {
    "duration": 32,
    "start_time": "2023-05-06T12:02:01.855Z"
   },
   {
    "duration": 31,
    "start_time": "2023-05-06T12:02:01.889Z"
   },
   {
    "duration": 30,
    "start_time": "2023-05-06T12:02:01.922Z"
   },
   {
    "duration": 27,
    "start_time": "2023-05-06T12:02:01.954Z"
   },
   {
    "duration": 1223,
    "start_time": "2023-05-06T12:02:40.596Z"
   },
   {
    "duration": 78,
    "start_time": "2023-05-06T12:02:41.821Z"
   },
   {
    "duration": 24,
    "start_time": "2023-05-06T12:02:41.901Z"
   },
   {
    "duration": 12,
    "start_time": "2023-05-06T12:02:41.927Z"
   },
   {
    "duration": 18,
    "start_time": "2023-05-06T12:02:41.941Z"
   },
   {
    "duration": 13,
    "start_time": "2023-05-06T12:02:41.961Z"
   },
   {
    "duration": 14,
    "start_time": "2023-05-06T12:02:41.975Z"
   },
   {
    "duration": 16,
    "start_time": "2023-05-06T12:02:41.991Z"
   },
   {
    "duration": 23,
    "start_time": "2023-05-06T12:02:42.009Z"
   },
   {
    "duration": 21,
    "start_time": "2023-05-06T12:02:42.035Z"
   },
   {
    "duration": 9,
    "start_time": "2023-05-06T12:02:42.058Z"
   },
   {
    "duration": 7,
    "start_time": "2023-05-06T12:02:42.068Z"
   },
   {
    "duration": 12,
    "start_time": "2023-05-06T12:02:42.077Z"
   },
   {
    "duration": 25,
    "start_time": "2023-05-06T12:02:42.091Z"
   },
   {
    "duration": 28,
    "start_time": "2023-05-06T12:02:42.118Z"
   },
   {
    "duration": 28,
    "start_time": "2023-05-06T12:02:42.148Z"
   },
   {
    "duration": 18,
    "start_time": "2023-05-06T12:02:42.178Z"
   },
   {
    "duration": 17,
    "start_time": "2023-05-06T12:02:42.198Z"
   },
   {
    "duration": 174,
    "start_time": "2023-05-06T12:02:42.217Z"
   },
   {
    "duration": 135,
    "start_time": "2023-05-06T12:02:42.393Z"
   },
   {
    "duration": 8,
    "start_time": "2023-05-06T12:02:42.541Z"
   },
   {
    "duration": 15,
    "start_time": "2023-05-06T12:02:42.551Z"
   },
   {
    "duration": 20,
    "start_time": "2023-05-06T12:02:42.568Z"
   },
   {
    "duration": 8,
    "start_time": "2023-05-06T12:02:42.590Z"
   },
   {
    "duration": 22,
    "start_time": "2023-05-06T12:02:42.600Z"
   },
   {
    "duration": 280,
    "start_time": "2023-05-06T12:02:42.624Z"
   },
   {
    "duration": 214,
    "start_time": "2023-05-06T12:02:42.905Z"
   },
   {
    "duration": 6,
    "start_time": "2023-05-06T12:02:43.123Z"
   },
   {
    "duration": 331,
    "start_time": "2023-05-06T12:02:43.131Z"
   },
   {
    "duration": 4,
    "start_time": "2023-05-06T12:02:43.464Z"
   },
   {
    "duration": 20,
    "start_time": "2023-05-06T12:02:43.470Z"
   },
   {
    "duration": 232,
    "start_time": "2023-05-06T12:02:43.492Z"
   },
   {
    "duration": 15,
    "start_time": "2023-05-06T12:02:43.726Z"
   },
   {
    "duration": 312,
    "start_time": "2023-05-06T12:02:43.743Z"
   },
   {
    "duration": 13,
    "start_time": "2023-05-06T12:02:44.057Z"
   },
   {
    "duration": 154,
    "start_time": "2023-05-06T12:02:44.072Z"
   },
   {
    "duration": 3,
    "start_time": "2023-05-06T12:02:44.228Z"
   },
   {
    "duration": 142,
    "start_time": "2023-05-06T12:02:44.233Z"
   },
   {
    "duration": 5,
    "start_time": "2023-05-06T12:02:44.377Z"
   },
   {
    "duration": 160,
    "start_time": "2023-05-06T12:02:44.383Z"
   },
   {
    "duration": 3,
    "start_time": "2023-05-06T12:02:44.545Z"
   },
   {
    "duration": 256,
    "start_time": "2023-05-06T12:02:44.550Z"
   },
   {
    "duration": 6,
    "start_time": "2023-05-06T12:02:44.808Z"
   },
   {
    "duration": 70,
    "start_time": "2023-05-06T12:02:44.816Z"
   },
   {
    "duration": 61,
    "start_time": "2023-05-06T12:02:44.888Z"
   },
   {
    "duration": 64,
    "start_time": "2023-05-06T12:02:44.950Z"
   },
   {
    "duration": 71,
    "start_time": "2023-05-06T12:02:45.016Z"
   },
   {
    "duration": 38,
    "start_time": "2023-05-06T12:02:45.089Z"
   },
   {
    "duration": 81,
    "start_time": "2023-05-06T12:02:45.128Z"
   },
   {
    "duration": 84,
    "start_time": "2023-05-06T12:02:45.211Z"
   },
   {
    "duration": 6,
    "start_time": "2023-05-06T12:02:45.297Z"
   },
   {
    "duration": 9,
    "start_time": "2023-05-06T12:02:45.304Z"
   },
   {
    "duration": 37,
    "start_time": "2023-05-06T12:02:45.315Z"
   },
   {
    "duration": 5,
    "start_time": "2023-05-06T12:02:45.354Z"
   },
   {
    "duration": 15,
    "start_time": "2023-05-06T12:02:45.361Z"
   },
   {
    "duration": 9,
    "start_time": "2023-05-06T12:02:45.378Z"
   },
   {
    "duration": 12,
    "start_time": "2023-05-06T12:02:45.388Z"
   },
   {
    "duration": 40,
    "start_time": "2023-05-06T12:02:45.402Z"
   },
   {
    "duration": 29,
    "start_time": "2023-05-06T12:02:45.444Z"
   },
   {
    "duration": 5,
    "start_time": "2023-05-06T12:02:45.475Z"
   },
   {
    "duration": 20,
    "start_time": "2023-05-06T12:02:45.481Z"
   },
   {
    "duration": 21,
    "start_time": "2023-05-06T12:02:45.503Z"
   },
   {
    "duration": 15,
    "start_time": "2023-05-06T12:07:35.961Z"
   },
   {
    "duration": 13,
    "start_time": "2023-05-06T12:07:39.690Z"
   },
   {
    "duration": 1243,
    "start_time": "2023-05-06T18:18:02.480Z"
   },
   {
    "duration": 81,
    "start_time": "2023-05-06T18:18:03.725Z"
   },
   {
    "duration": 12,
    "start_time": "2023-05-06T18:18:03.808Z"
   },
   {
    "duration": 12,
    "start_time": "2023-05-06T18:18:03.822Z"
   },
   {
    "duration": 56,
    "start_time": "2023-05-06T18:18:03.836Z"
   },
   {
    "duration": 23,
    "start_time": "2023-05-06T18:18:03.895Z"
   },
   {
    "duration": 33,
    "start_time": "2023-05-06T18:18:03.920Z"
   },
   {
    "duration": 16,
    "start_time": "2023-05-06T18:18:03.955Z"
   },
   {
    "duration": 28,
    "start_time": "2023-05-06T18:18:03.972Z"
   },
   {
    "duration": 8,
    "start_time": "2023-05-06T18:18:04.004Z"
   },
   {
    "duration": 14,
    "start_time": "2023-05-06T18:18:04.014Z"
   },
   {
    "duration": 10,
    "start_time": "2023-05-06T18:18:04.030Z"
   },
   {
    "duration": 11,
    "start_time": "2023-05-06T18:18:04.041Z"
   },
   {
    "duration": 10,
    "start_time": "2023-05-06T18:18:04.054Z"
   },
   {
    "duration": 17,
    "start_time": "2023-05-06T18:18:04.065Z"
   },
   {
    "duration": 11,
    "start_time": "2023-05-06T18:18:04.083Z"
   },
   {
    "duration": 29,
    "start_time": "2023-05-06T18:18:04.096Z"
   },
   {
    "duration": 8,
    "start_time": "2023-05-06T18:18:04.126Z"
   },
   {
    "duration": 194,
    "start_time": "2023-05-06T18:18:04.136Z"
   },
   {
    "duration": 139,
    "start_time": "2023-05-06T18:18:04.332Z"
   },
   {
    "duration": 6,
    "start_time": "2023-05-06T18:18:04.473Z"
   },
   {
    "duration": 10,
    "start_time": "2023-05-06T18:18:04.481Z"
   },
   {
    "duration": 18,
    "start_time": "2023-05-06T18:18:04.492Z"
   },
   {
    "duration": 8,
    "start_time": "2023-05-06T18:18:04.511Z"
   },
   {
    "duration": 27,
    "start_time": "2023-05-06T18:18:04.521Z"
   },
   {
    "duration": 297,
    "start_time": "2023-05-06T18:18:04.549Z"
   },
   {
    "duration": 226,
    "start_time": "2023-05-06T18:18:04.848Z"
   },
   {
    "duration": 7,
    "start_time": "2023-05-06T18:18:05.079Z"
   },
   {
    "duration": 283,
    "start_time": "2023-05-06T18:18:05.088Z"
   },
   {
    "duration": 4,
    "start_time": "2023-05-06T18:18:05.373Z"
   },
   {
    "duration": 8,
    "start_time": "2023-05-06T18:18:05.379Z"
   },
   {
    "duration": 239,
    "start_time": "2023-05-06T18:18:05.389Z"
   },
   {
    "duration": 16,
    "start_time": "2023-05-06T18:18:05.630Z"
   },
   {
    "duration": 368,
    "start_time": "2023-05-06T18:18:05.648Z"
   },
   {
    "duration": 33,
    "start_time": "2023-05-06T18:18:06.018Z"
   },
   {
    "duration": 151,
    "start_time": "2023-05-06T18:18:06.054Z"
   },
   {
    "duration": 3,
    "start_time": "2023-05-06T18:18:06.207Z"
   },
   {
    "duration": 139,
    "start_time": "2023-05-06T18:18:06.213Z"
   },
   {
    "duration": 5,
    "start_time": "2023-05-06T18:18:06.354Z"
   },
   {
    "duration": 162,
    "start_time": "2023-05-06T18:18:06.361Z"
   },
   {
    "duration": 77,
    "start_time": "2023-05-06T18:18:06.525Z"
   },
   {
    "duration": 270,
    "start_time": "2023-05-06T18:18:06.604Z"
   },
   {
    "duration": 5,
    "start_time": "2023-05-06T18:18:06.876Z"
   },
   {
    "duration": 60,
    "start_time": "2023-05-06T18:18:06.883Z"
   },
   {
    "duration": 57,
    "start_time": "2023-05-06T18:18:06.945Z"
   },
   {
    "duration": 72,
    "start_time": "2023-05-06T18:18:07.004Z"
   },
   {
    "duration": 73,
    "start_time": "2023-05-06T18:18:07.078Z"
   },
   {
    "duration": 31,
    "start_time": "2023-05-06T18:18:07.153Z"
   },
   {
    "duration": 97,
    "start_time": "2023-05-06T18:18:07.186Z"
   },
   {
    "duration": 89,
    "start_time": "2023-05-06T18:18:07.285Z"
   },
   {
    "duration": 5,
    "start_time": "2023-05-06T18:18:07.376Z"
   },
   {
    "duration": 33,
    "start_time": "2023-05-06T18:18:07.383Z"
   },
   {
    "duration": 41,
    "start_time": "2023-05-06T18:18:07.419Z"
   },
   {
    "duration": 5,
    "start_time": "2023-05-06T18:18:07.462Z"
   },
   {
    "duration": 19,
    "start_time": "2023-05-06T18:18:07.468Z"
   },
   {
    "duration": 10,
    "start_time": "2023-05-06T18:18:07.488Z"
   },
   {
    "duration": 13,
    "start_time": "2023-05-06T18:18:07.500Z"
   },
   {
    "duration": 33,
    "start_time": "2023-05-06T18:18:07.515Z"
   },
   {
    "duration": 36,
    "start_time": "2023-05-06T18:18:07.550Z"
   },
   {
    "duration": 5,
    "start_time": "2023-05-06T18:18:07.588Z"
   },
   {
    "duration": 16,
    "start_time": "2023-05-06T18:18:07.595Z"
   },
   {
    "duration": 19,
    "start_time": "2023-05-06T18:18:07.613Z"
   },
   {
    "duration": 43,
    "start_time": "2023-05-08T14:58:24.167Z"
   },
   {
    "duration": 1221,
    "start_time": "2023-05-08T14:58:30.791Z"
   },
   {
    "duration": 220,
    "start_time": "2023-05-08T14:58:32.015Z"
   },
   {
    "duration": 14,
    "start_time": "2023-05-08T14:58:32.236Z"
   },
   {
    "duration": 22,
    "start_time": "2023-05-08T14:58:32.251Z"
   },
   {
    "duration": 13,
    "start_time": "2023-05-08T14:58:32.274Z"
   },
   {
    "duration": 21,
    "start_time": "2023-05-08T14:58:32.288Z"
   },
   {
    "duration": 15,
    "start_time": "2023-05-08T14:58:32.310Z"
   },
   {
    "duration": 31,
    "start_time": "2023-05-08T14:58:32.327Z"
   },
   {
    "duration": 21,
    "start_time": "2023-05-08T14:58:32.360Z"
   },
   {
    "duration": 19,
    "start_time": "2023-05-08T14:58:32.383Z"
   },
   {
    "duration": 19,
    "start_time": "2023-05-08T14:58:32.403Z"
   },
   {
    "duration": 6,
    "start_time": "2023-05-08T14:58:32.423Z"
   },
   {
    "duration": 24,
    "start_time": "2023-05-08T14:58:32.430Z"
   },
   {
    "duration": 12,
    "start_time": "2023-05-08T14:58:32.455Z"
   },
   {
    "duration": 15,
    "start_time": "2023-05-08T14:58:32.468Z"
   },
   {
    "duration": 20,
    "start_time": "2023-05-08T14:58:32.484Z"
   },
   {
    "duration": 14,
    "start_time": "2023-05-08T14:58:32.506Z"
   },
   {
    "duration": 26,
    "start_time": "2023-05-08T14:58:32.521Z"
   },
   {
    "duration": 156,
    "start_time": "2023-05-08T14:58:32.548Z"
   },
   {
    "duration": 116,
    "start_time": "2023-05-08T14:58:32.706Z"
   },
   {
    "duration": 13,
    "start_time": "2023-05-08T14:58:32.823Z"
   },
   {
    "duration": 14,
    "start_time": "2023-05-08T14:58:32.837Z"
   },
   {
    "duration": 21,
    "start_time": "2023-05-08T14:58:32.853Z"
   },
   {
    "duration": 16,
    "start_time": "2023-05-08T14:58:32.876Z"
   },
   {
    "duration": 12,
    "start_time": "2023-05-08T14:58:32.894Z"
   },
   {
    "duration": 243,
    "start_time": "2023-05-08T14:58:32.907Z"
   },
   {
    "duration": 184,
    "start_time": "2023-05-08T14:58:33.152Z"
   },
   {
    "duration": 6,
    "start_time": "2023-05-08T14:58:33.339Z"
   },
   {
    "duration": 347,
    "start_time": "2023-05-08T14:58:33.346Z"
   },
   {
    "duration": 4,
    "start_time": "2023-05-08T14:58:33.694Z"
   },
   {
    "duration": 13,
    "start_time": "2023-05-08T14:58:33.700Z"
   },
   {
    "duration": 187,
    "start_time": "2023-05-08T14:58:33.715Z"
   },
   {
    "duration": 8,
    "start_time": "2023-05-08T14:58:33.904Z"
   },
   {
    "duration": 313,
    "start_time": "2023-05-08T14:58:33.914Z"
   },
   {
    "duration": 11,
    "start_time": "2023-05-08T14:58:34.235Z"
   },
   {
    "duration": 121,
    "start_time": "2023-05-08T14:58:34.247Z"
   },
   {
    "duration": 3,
    "start_time": "2023-05-08T14:58:34.370Z"
   },
   {
    "duration": 118,
    "start_time": "2023-05-08T14:58:34.374Z"
   },
   {
    "duration": 5,
    "start_time": "2023-05-08T14:58:34.493Z"
   },
   {
    "duration": 133,
    "start_time": "2023-05-08T14:58:34.499Z"
   },
   {
    "duration": 4,
    "start_time": "2023-05-08T14:58:34.635Z"
   },
   {
    "duration": 243,
    "start_time": "2023-05-08T14:58:34.641Z"
   },
   {
    "duration": 4,
    "start_time": "2023-05-08T14:58:34.886Z"
   },
   {
    "duration": 57,
    "start_time": "2023-05-08T14:58:34.892Z"
   },
   {
    "duration": 60,
    "start_time": "2023-05-08T14:58:34.951Z"
   },
   {
    "duration": 86,
    "start_time": "2023-05-08T14:58:35.013Z"
   },
   {
    "duration": 61,
    "start_time": "2023-05-08T14:58:35.101Z"
   },
   {
    "duration": 26,
    "start_time": "2023-05-08T14:58:35.164Z"
   },
   {
    "duration": 74,
    "start_time": "2023-05-08T14:58:35.191Z"
   },
   {
    "duration": 94,
    "start_time": "2023-05-08T14:58:35.267Z"
   },
   {
    "duration": 6,
    "start_time": "2023-05-08T14:58:35.363Z"
   },
   {
    "duration": 38,
    "start_time": "2023-05-08T14:58:35.371Z"
   },
   {
    "duration": 30,
    "start_time": "2023-05-08T14:58:35.410Z"
   },
   {
    "duration": 4,
    "start_time": "2023-05-08T14:58:35.441Z"
   },
   {
    "duration": 23,
    "start_time": "2023-05-08T14:58:35.447Z"
   },
   {
    "duration": 14,
    "start_time": "2023-05-08T14:58:35.472Z"
   },
   {
    "duration": 26,
    "start_time": "2023-05-08T14:58:35.488Z"
   },
   {
    "duration": 41,
    "start_time": "2023-05-08T14:58:35.515Z"
   },
   {
    "duration": 45,
    "start_time": "2023-05-08T14:58:35.557Z"
   },
   {
    "duration": 4,
    "start_time": "2023-05-08T14:58:35.603Z"
   },
   {
    "duration": 12,
    "start_time": "2023-05-08T14:58:35.608Z"
   },
   {
    "duration": 31,
    "start_time": "2023-05-08T14:58:35.621Z"
   },
   {
    "duration": 10,
    "start_time": "2023-05-08T14:58:53.761Z"
   },
   {
    "duration": 255,
    "start_time": "2023-05-08T15:08:26.043Z"
   },
   {
    "duration": 242,
    "start_time": "2023-05-08T15:08:38.465Z"
   },
   {
    "duration": 161,
    "start_time": "2023-05-08T15:08:46.803Z"
   },
   {
    "duration": 267,
    "start_time": "2023-05-08T15:09:16.570Z"
   },
   {
    "duration": 158,
    "start_time": "2023-05-08T15:09:25.876Z"
   },
   {
    "duration": 169,
    "start_time": "2023-05-08T15:09:33.279Z"
   },
   {
    "duration": 193,
    "start_time": "2023-05-08T15:09:38.901Z"
   },
   {
    "duration": 264,
    "start_time": "2023-05-08T15:09:50.649Z"
   },
   {
    "duration": 182,
    "start_time": "2023-05-08T15:11:20.573Z"
   },
   {
    "duration": 307,
    "start_time": "2023-05-08T15:11:27.050Z"
   },
   {
    "duration": 210,
    "start_time": "2023-05-08T15:13:48.703Z"
   },
   {
    "duration": 281,
    "start_time": "2023-05-08T15:14:16.578Z"
   },
   {
    "duration": 281,
    "start_time": "2023-05-08T15:54:12.953Z"
   },
   {
    "duration": 248,
    "start_time": "2023-05-08T15:54:26.107Z"
   },
   {
    "duration": 50,
    "start_time": "2023-05-08T15:56:51.792Z"
   },
   {
    "duration": 244,
    "start_time": "2023-05-08T15:56:59.857Z"
   },
   {
    "duration": 316,
    "start_time": "2023-05-08T15:59:19.748Z"
   },
   {
    "duration": 338,
    "start_time": "2023-05-08T16:02:05.918Z"
   },
   {
    "duration": 178,
    "start_time": "2023-05-08T16:05:35.344Z"
   },
   {
    "duration": 103,
    "start_time": "2023-05-08T16:05:45.159Z"
   },
   {
    "duration": 3,
    "start_time": "2023-05-08T16:06:08.251Z"
   },
   {
    "duration": 109,
    "start_time": "2023-05-08T16:06:09.004Z"
   },
   {
    "duration": 117,
    "start_time": "2023-05-08T16:06:42.705Z"
   },
   {
    "duration": 151,
    "start_time": "2023-05-08T16:06:58.677Z"
   },
   {
    "duration": 166,
    "start_time": "2023-05-08T16:07:05.235Z"
   },
   {
    "duration": 201,
    "start_time": "2023-05-08T16:12:00.528Z"
   },
   {
    "duration": 135,
    "start_time": "2023-05-08T16:13:43.599Z"
   },
   {
    "duration": 93,
    "start_time": "2023-05-08T16:14:15.928Z"
   },
   {
    "duration": 127,
    "start_time": "2023-05-08T16:14:51.598Z"
   },
   {
    "duration": 262,
    "start_time": "2023-05-08T16:15:00.325Z"
   },
   {
    "duration": 143,
    "start_time": "2023-05-08T16:16:37.881Z"
   },
   {
    "duration": 99,
    "start_time": "2023-05-08T16:16:47.073Z"
   },
   {
    "duration": 130,
    "start_time": "2023-05-08T16:18:47.053Z"
   },
   {
    "duration": 110,
    "start_time": "2023-05-08T16:19:23.180Z"
   },
   {
    "duration": 136,
    "start_time": "2023-05-08T16:19:33.760Z"
   },
   {
    "duration": 101,
    "start_time": "2023-05-08T16:19:40.107Z"
   },
   {
    "duration": 111,
    "start_time": "2023-05-08T16:22:57.826Z"
   },
   {
    "duration": 2,
    "start_time": "2023-05-08T16:23:08.620Z"
   },
   {
    "duration": 84,
    "start_time": "2023-05-08T16:23:08.624Z"
   },
   {
    "duration": 8,
    "start_time": "2023-05-08T16:23:08.709Z"
   },
   {
    "duration": 14,
    "start_time": "2023-05-08T16:23:08.718Z"
   },
   {
    "duration": 9,
    "start_time": "2023-05-08T16:23:08.734Z"
   },
   {
    "duration": 12,
    "start_time": "2023-05-08T16:23:08.744Z"
   },
   {
    "duration": 9,
    "start_time": "2023-05-08T16:23:08.757Z"
   },
   {
    "duration": 10,
    "start_time": "2023-05-08T16:23:08.768Z"
   },
   {
    "duration": 7,
    "start_time": "2023-05-08T16:23:08.779Z"
   },
   {
    "duration": 20,
    "start_time": "2023-05-08T16:23:08.787Z"
   },
   {
    "duration": 13,
    "start_time": "2023-05-08T16:23:08.808Z"
   },
   {
    "duration": 13,
    "start_time": "2023-05-08T16:23:08.823Z"
   },
   {
    "duration": 5,
    "start_time": "2023-05-08T16:23:08.837Z"
   },
   {
    "duration": 4,
    "start_time": "2023-05-08T16:23:08.846Z"
   },
   {
    "duration": 10,
    "start_time": "2023-05-08T16:23:08.852Z"
   },
   {
    "duration": 16,
    "start_time": "2023-05-08T16:23:08.863Z"
   },
   {
    "duration": 13,
    "start_time": "2023-05-08T16:23:08.880Z"
   },
   {
    "duration": 6,
    "start_time": "2023-05-08T16:23:08.895Z"
   },
   {
    "duration": 167,
    "start_time": "2023-05-08T16:23:08.902Z"
   },
   {
    "duration": 114,
    "start_time": "2023-05-08T16:23:09.070Z"
   },
   {
    "duration": 5,
    "start_time": "2023-05-08T16:23:09.185Z"
   },
   {
    "duration": 6,
    "start_time": "2023-05-08T16:23:09.192Z"
   },
   {
    "duration": 14,
    "start_time": "2023-05-08T16:23:09.199Z"
   },
   {
    "duration": 20,
    "start_time": "2023-05-08T16:23:09.214Z"
   },
   {
    "duration": 15,
    "start_time": "2023-05-08T16:23:09.236Z"
   },
   {
    "duration": 236,
    "start_time": "2023-05-08T16:23:09.253Z"
   },
   {
    "duration": 232,
    "start_time": "2023-05-08T16:23:09.491Z"
   },
   {
    "duration": 10,
    "start_time": "2023-05-08T16:23:09.724Z"
   },
   {
    "duration": 328,
    "start_time": "2023-05-08T16:23:09.736Z"
   },
   {
    "duration": 4,
    "start_time": "2023-05-08T16:23:10.066Z"
   },
   {
    "duration": 8,
    "start_time": "2023-05-08T16:23:10.071Z"
   },
   {
    "duration": 246,
    "start_time": "2023-05-08T16:23:10.081Z"
   },
   {
    "duration": 11,
    "start_time": "2023-05-08T16:23:10.328Z"
   },
   {
    "duration": 334,
    "start_time": "2023-05-08T16:23:10.340Z"
   },
   {
    "duration": 12,
    "start_time": "2023-05-08T16:23:10.675Z"
   },
   {
    "duration": 156,
    "start_time": "2023-05-08T16:23:10.688Z"
   },
   {
    "duration": 3,
    "start_time": "2023-05-08T16:23:10.846Z"
   },
   {
    "duration": 170,
    "start_time": "2023-05-08T16:23:10.851Z"
   },
   {
    "duration": 103,
    "start_time": "2023-05-08T16:23:11.023Z"
   },
   {
    "duration": 0,
    "start_time": "2023-05-08T16:23:11.135Z"
   },
   {
    "duration": 0,
    "start_time": "2023-05-08T16:23:11.136Z"
   },
   {
    "duration": 0,
    "start_time": "2023-05-08T16:23:11.138Z"
   },
   {
    "duration": 0,
    "start_time": "2023-05-08T16:23:11.139Z"
   },
   {
    "duration": 0,
    "start_time": "2023-05-08T16:23:11.140Z"
   },
   {
    "duration": 0,
    "start_time": "2023-05-08T16:23:11.141Z"
   },
   {
    "duration": 0,
    "start_time": "2023-05-08T16:23:11.142Z"
   },
   {
    "duration": 0,
    "start_time": "2023-05-08T16:23:11.144Z"
   },
   {
    "duration": 0,
    "start_time": "2023-05-08T16:23:11.145Z"
   },
   {
    "duration": 0,
    "start_time": "2023-05-08T16:23:11.146Z"
   },
   {
    "duration": 0,
    "start_time": "2023-05-08T16:23:11.148Z"
   },
   {
    "duration": 0,
    "start_time": "2023-05-08T16:23:11.149Z"
   },
   {
    "duration": 0,
    "start_time": "2023-05-08T16:23:11.151Z"
   },
   {
    "duration": 0,
    "start_time": "2023-05-08T16:23:11.152Z"
   },
   {
    "duration": 0,
    "start_time": "2023-05-08T16:23:11.153Z"
   },
   {
    "duration": 0,
    "start_time": "2023-05-08T16:23:11.154Z"
   },
   {
    "duration": 0,
    "start_time": "2023-05-08T16:23:11.155Z"
   },
   {
    "duration": 0,
    "start_time": "2023-05-08T16:23:11.156Z"
   },
   {
    "duration": 0,
    "start_time": "2023-05-08T16:23:11.158Z"
   },
   {
    "duration": 0,
    "start_time": "2023-05-08T16:23:11.159Z"
   },
   {
    "duration": 0,
    "start_time": "2023-05-08T16:23:11.160Z"
   },
   {
    "duration": 0,
    "start_time": "2023-05-08T16:23:11.161Z"
   },
   {
    "duration": 0,
    "start_time": "2023-05-08T16:23:11.162Z"
   },
   {
    "duration": 0,
    "start_time": "2023-05-08T16:23:11.163Z"
   },
   {
    "duration": 0,
    "start_time": "2023-05-08T16:23:11.164Z"
   },
   {
    "duration": 166,
    "start_time": "2023-05-08T16:24:38.949Z"
   },
   {
    "duration": 3,
    "start_time": "2023-05-08T16:24:42.998Z"
   },
   {
    "duration": 224,
    "start_time": "2023-05-08T16:25:07.862Z"
   },
   {
    "duration": 134,
    "start_time": "2023-05-08T16:26:23.632Z"
   },
   {
    "duration": 179,
    "start_time": "2023-05-08T16:27:28.007Z"
   },
   {
    "duration": 152,
    "start_time": "2023-05-08T16:27:37.000Z"
   },
   {
    "duration": 152,
    "start_time": "2023-05-08T16:27:43.150Z"
   },
   {
    "duration": 142,
    "start_time": "2023-05-08T16:27:51.558Z"
   },
   {
    "duration": 143,
    "start_time": "2023-05-08T16:27:58.106Z"
   },
   {
    "duration": 171,
    "start_time": "2023-05-08T16:28:02.444Z"
   },
   {
    "duration": 114,
    "start_time": "2023-05-08T16:29:25.759Z"
   },
   {
    "duration": 169,
    "start_time": "2023-05-08T16:29:31.048Z"
   },
   {
    "duration": 152,
    "start_time": "2023-05-08T16:30:20.014Z"
   },
   {
    "duration": 162,
    "start_time": "2023-05-08T16:30:30.914Z"
   },
   {
    "duration": 155,
    "start_time": "2023-05-08T16:30:42.101Z"
   },
   {
    "duration": 157,
    "start_time": "2023-05-08T16:30:52.309Z"
   },
   {
    "duration": 152,
    "start_time": "2023-05-08T16:31:02.420Z"
   },
   {
    "duration": 142,
    "start_time": "2023-05-08T16:31:08.846Z"
   },
   {
    "duration": 149,
    "start_time": "2023-05-08T16:31:15.550Z"
   },
   {
    "duration": 167,
    "start_time": "2023-05-08T16:31:27.071Z"
   },
   {
    "duration": 304,
    "start_time": "2023-05-08T16:31:30.709Z"
   },
   {
    "duration": 175,
    "start_time": "2023-05-08T16:33:17.030Z"
   },
   {
    "duration": 192,
    "start_time": "2023-05-08T16:33:24.709Z"
   },
   {
    "duration": 145,
    "start_time": "2023-05-08T16:33:34.134Z"
   },
   {
    "duration": 164,
    "start_time": "2023-05-08T16:34:15.749Z"
   },
   {
    "duration": 5,
    "start_time": "2023-05-08T16:37:08.908Z"
   },
   {
    "duration": 48,
    "start_time": "2023-05-08T16:37:17.581Z"
   },
   {
    "duration": 43,
    "start_time": "2023-05-08T16:37:18.428Z"
   },
   {
    "duration": 57,
    "start_time": "2023-05-08T16:37:19.372Z"
   },
   {
    "duration": 60,
    "start_time": "2023-05-08T16:37:21.005Z"
   },
   {
    "duration": 69,
    "start_time": "2023-05-08T16:37:26.414Z"
   },
   {
    "duration": 83,
    "start_time": "2023-05-08T16:37:27.273Z"
   },
   {
    "duration": 5,
    "start_time": "2023-05-08T16:37:30.024Z"
   },
   {
    "duration": 5,
    "start_time": "2023-05-08T16:37:30.505Z"
   },
   {
    "duration": 23,
    "start_time": "2023-05-08T16:37:32.221Z"
   },
   {
    "duration": 5,
    "start_time": "2023-05-08T16:37:32.818Z"
   },
   {
    "duration": 31,
    "start_time": "2023-05-08T16:46:01.458Z"
   },
   {
    "duration": 30,
    "start_time": "2023-05-08T16:47:53.452Z"
   },
   {
    "duration": 64,
    "start_time": "2023-05-08T16:48:55.909Z"
   },
   {
    "duration": 60,
    "start_time": "2023-05-08T16:49:19.612Z"
   },
   {
    "duration": 47,
    "start_time": "2023-05-08T16:49:34.464Z"
   },
   {
    "duration": 31,
    "start_time": "2023-05-08T16:53:21.708Z"
   },
   {
    "duration": 31,
    "start_time": "2023-05-08T16:53:46.125Z"
   },
   {
    "duration": 9,
    "start_time": "2023-05-08T16:57:11.538Z"
   },
   {
    "duration": 2,
    "start_time": "2023-05-08T16:58:20.709Z"
   },
   {
    "duration": 25,
    "start_time": "2023-05-08T16:58:21.258Z"
   },
   {
    "duration": 8,
    "start_time": "2023-05-08T16:58:22.444Z"
   },
   {
    "duration": 48,
    "start_time": "2023-05-08T16:59:09.956Z"
   },
   {
    "duration": 3,
    "start_time": "2023-05-08T17:04:55.558Z"
   },
   {
    "duration": 9,
    "start_time": "2023-05-08T17:05:16.016Z"
   },
   {
    "duration": 7,
    "start_time": "2023-05-08T17:06:31.948Z"
   },
   {
    "duration": 18,
    "start_time": "2023-05-08T17:07:18.754Z"
   },
   {
    "duration": 9,
    "start_time": "2023-05-08T17:07:21.819Z"
   },
   {
    "duration": 25,
    "start_time": "2023-05-08T17:08:53.410Z"
   },
   {
    "duration": 56,
    "start_time": "2023-05-08T17:09:56.662Z"
   },
   {
    "duration": 6,
    "start_time": "2023-05-08T17:10:14.832Z"
   },
   {
    "duration": 5,
    "start_time": "2023-05-08T17:10:22.631Z"
   },
   {
    "duration": 3,
    "start_time": "2023-05-08T17:15:01.041Z"
   },
   {
    "duration": 11,
    "start_time": "2023-05-08T17:15:20.739Z"
   },
   {
    "duration": 13,
    "start_time": "2023-05-08T17:15:41.445Z"
   },
   {
    "duration": 9,
    "start_time": "2023-05-08T17:18:36.612Z"
   },
   {
    "duration": 121,
    "start_time": "2023-05-08T17:20:13.007Z"
   },
   {
    "duration": 3,
    "start_time": "2023-05-08T17:20:39.407Z"
   },
   {
    "duration": 129,
    "start_time": "2023-05-08T17:20:40.152Z"
   },
   {
    "duration": 132,
    "start_time": "2023-05-08T17:20:54.740Z"
   },
   {
    "duration": 355,
    "start_time": "2023-05-08T17:21:22.649Z"
   }
  ],
  "kernelspec": {
   "display_name": "Python 3 (ipykernel)",
   "language": "python",
   "name": "python3"
  },
  "language_info": {
   "codemirror_mode": {
    "name": "ipython",
    "version": 3
   },
   "file_extension": ".py",
   "mimetype": "text/x-python",
   "name": "python",
   "nbconvert_exporter": "python",
   "pygments_lexer": "ipython3",
   "version": "3.9.13"
  },
  "toc": {
   "base_numbering": 1,
   "nav_menu": {},
   "number_sections": true,
   "sideBar": true,
   "skip_h1_title": true,
   "title_cell": "Table of Contents",
   "title_sidebar": "Contents",
   "toc_cell": false,
   "toc_position": {},
   "toc_section_display": true,
   "toc_window_display": false
  }
 },
 "nbformat": 4,
 "nbformat_minor": 2
}
