{
 "cells": [
  {
   "cell_type": "markdown",
   "metadata": {},
   "source": [
    "# Анализ поведения пользователей мобильного приложения"
   ]
  },
  {
   "cell_type": "markdown",
   "metadata": {},
   "source": [
    "# Цели анализа: "
   ]
  },
  {
   "cell_type": "markdown",
   "metadata": {},
   "source": [
    "1. Изучить воронку продаж внутри мобильного приложения.\n",
    "2. Исследовать результаты A/A/B - эксперимента и определить наиболее эффективную группу тестирования"
   ]
  },
  {
   "cell_type": "markdown",
   "metadata": {},
   "source": [
    "# Описание проекта"
   ]
  },
  {
   "cell_type": "markdown",
   "metadata": {},
   "source": [
    "Вы работаете в стартапе, который продаёт продукты питания. Нужно разобраться, как ведут себя пользователи вашего мобильного приложения. \n",
    "\n",
    "Изучите воронку продаж. Узнайте, как пользователи доходят до покупки. Сколько пользователей доходит до покупки, а сколько — «застревает» на предыдущих шагах? На каких именно?\n",
    "\n",
    "После этого исследуйте результаты A/A/B-эксперимента. Дизайнеры захотели поменять шрифты во всём приложении, а менеджеры испугались, что пользователям будет непривычно. Договорились принять решение по результатам A/A/B-теста. Пользователей разбили на 3 группы: 2 контрольные со старыми шрифтами и одну экспериментальную — с новыми. Выясните, какой шрифт лучше.\n",
    "\n",
    "Создание двух групп A вместо одной имеет определённые преимущества. Если две контрольные группы окажутся равны, вы можете быть уверены в точности проведенного тестирования. Если же между значениями A и A будут существенные различия, это поможет обнаружить факторы, которые привели к искажению результатов. Сравнение контрольных групп также помогает понять, сколько времени и данных потребуется для дальнейших тестов.\n",
    "\n",
    "В случае общей аналитики и A/A/B-эксперимента работайте с одними и теми же данными. В реальных проектах всегда идут эксперименты. Аналитики исследуют качество работы приложения по общим данным, не учитывая принадлежность пользователей к экспериментам."
   ]
  },
  {
   "cell_type": "markdown",
   "metadata": {},
   "source": [
    "# Описание данных"
   ]
  },
  {
   "cell_type": "markdown",
   "metadata": {},
   "source": [
    "Каждая запись в логе — это действие пользователя, или событие. \n",
    "\n",
    "- EventName — название события;\n",
    "- DeviceIDHash — уникальный идентификатор пользователя;\n",
    "- EventTimestamp — время события;\n",
    "- ExpId — номер эксперимента: 246 и 247 — контрольные группы, а 248 — экспериментальная группа."
   ]
  },
  {
   "cell_type": "markdown",
   "metadata": {},
   "source": [
    "## 1 Откроем файл с данными и изучим общую информацию"
   ]
  },
  {
   "cell_type": "markdown",
   "metadata": {},
   "source": [
    "### 1.1 Импортируем необходимые библиотеки. Считаем данные из csv-файла в датафрейм и сохраним в переменную df"
   ]
  },
  {
   "cell_type": "code",
   "execution_count": 123,
   "metadata": {},
   "outputs": [],
   "source": [
    "import pandas as pd\n",
    "import numpy as np\n",
    "import seaborn as sns\n",
    "import matplotlib.pyplot as plt\n",
    "from scipy import stats as st\n",
    "import math as mth\n",
    "import datetime as dt # импортируем необходимые библиотеки "
   ]
  },
  {
   "cell_type": "code",
   "execution_count": 124,
   "metadata": {},
   "outputs": [],
   "source": [
    "df = pd.read_csv('/Users/ilyasidorov/Downloads/logs_exp.csv', sep='\\t') # читаем csv-файл"
   ]
  },
  {
   "cell_type": "markdown",
   "metadata": {},
   "source": [
    "### 1.2 Изучим общую информацию о данных"
   ]
  },
  {
   "cell_type": "code",
   "execution_count": 125,
   "metadata": {},
   "outputs": [
    {
     "data": {
      "text/html": [
       "<div>\n",
       "<style scoped>\n",
       "    .dataframe tbody tr th:only-of-type {\n",
       "        vertical-align: middle;\n",
       "    }\n",
       "\n",
       "    .dataframe tbody tr th {\n",
       "        vertical-align: top;\n",
       "    }\n",
       "\n",
       "    .dataframe thead th {\n",
       "        text-align: right;\n",
       "    }\n",
       "</style>\n",
       "<table border=\"1\" class=\"dataframe\">\n",
       "  <thead>\n",
       "    <tr style=\"text-align: right;\">\n",
       "      <th></th>\n",
       "      <th>EventName</th>\n",
       "      <th>DeviceIDHash</th>\n",
       "      <th>EventTimestamp</th>\n",
       "      <th>ExpId</th>\n",
       "    </tr>\n",
       "  </thead>\n",
       "  <tbody>\n",
       "    <tr>\n",
       "      <th>0</th>\n",
       "      <td>MainScreenAppear</td>\n",
       "      <td>4575588528974610257</td>\n",
       "      <td>1564029816</td>\n",
       "      <td>246</td>\n",
       "    </tr>\n",
       "    <tr>\n",
       "      <th>1</th>\n",
       "      <td>MainScreenAppear</td>\n",
       "      <td>7416695313311560658</td>\n",
       "      <td>1564053102</td>\n",
       "      <td>246</td>\n",
       "    </tr>\n",
       "    <tr>\n",
       "      <th>2</th>\n",
       "      <td>PaymentScreenSuccessful</td>\n",
       "      <td>3518123091307005509</td>\n",
       "      <td>1564054127</td>\n",
       "      <td>248</td>\n",
       "    </tr>\n",
       "    <tr>\n",
       "      <th>3</th>\n",
       "      <td>CartScreenAppear</td>\n",
       "      <td>3518123091307005509</td>\n",
       "      <td>1564054127</td>\n",
       "      <td>248</td>\n",
       "    </tr>\n",
       "    <tr>\n",
       "      <th>4</th>\n",
       "      <td>PaymentScreenSuccessful</td>\n",
       "      <td>6217807653094995999</td>\n",
       "      <td>1564055322</td>\n",
       "      <td>248</td>\n",
       "    </tr>\n",
       "  </tbody>\n",
       "</table>\n",
       "</div>"
      ],
      "text/plain": [
       "                 EventName         DeviceIDHash  EventTimestamp  ExpId\n",
       "0         MainScreenAppear  4575588528974610257      1564029816    246\n",
       "1         MainScreenAppear  7416695313311560658      1564053102    246\n",
       "2  PaymentScreenSuccessful  3518123091307005509      1564054127    248\n",
       "3         CartScreenAppear  3518123091307005509      1564054127    248\n",
       "4  PaymentScreenSuccessful  6217807653094995999      1564055322    248"
      ]
     },
     "execution_count": 125,
     "metadata": {},
     "output_type": "execute_result"
    }
   ],
   "source": [
    "df.head() # Посмотрим первые строки датафрейма"
   ]
  },
  {
   "cell_type": "code",
   "execution_count": 126,
   "metadata": {},
   "outputs": [
    {
     "data": {
      "text/html": [
       "<div>\n",
       "<style scoped>\n",
       "    .dataframe tbody tr th:only-of-type {\n",
       "        vertical-align: middle;\n",
       "    }\n",
       "\n",
       "    .dataframe tbody tr th {\n",
       "        vertical-align: top;\n",
       "    }\n",
       "\n",
       "    .dataframe thead th {\n",
       "        text-align: right;\n",
       "    }\n",
       "</style>\n",
       "<table border=\"1\" class=\"dataframe\">\n",
       "  <thead>\n",
       "    <tr style=\"text-align: right;\">\n",
       "      <th></th>\n",
       "      <th>EventName</th>\n",
       "      <th>DeviceIDHash</th>\n",
       "      <th>EventTimestamp</th>\n",
       "      <th>ExpId</th>\n",
       "    </tr>\n",
       "  </thead>\n",
       "  <tbody>\n",
       "    <tr>\n",
       "      <th>244121</th>\n",
       "      <td>MainScreenAppear</td>\n",
       "      <td>4599628364049201812</td>\n",
       "      <td>1565212345</td>\n",
       "      <td>247</td>\n",
       "    </tr>\n",
       "    <tr>\n",
       "      <th>244122</th>\n",
       "      <td>MainScreenAppear</td>\n",
       "      <td>5849806612437486590</td>\n",
       "      <td>1565212439</td>\n",
       "      <td>246</td>\n",
       "    </tr>\n",
       "    <tr>\n",
       "      <th>244123</th>\n",
       "      <td>MainScreenAppear</td>\n",
       "      <td>5746969938801999050</td>\n",
       "      <td>1565212483</td>\n",
       "      <td>246</td>\n",
       "    </tr>\n",
       "    <tr>\n",
       "      <th>244124</th>\n",
       "      <td>MainScreenAppear</td>\n",
       "      <td>5746969938801999050</td>\n",
       "      <td>1565212498</td>\n",
       "      <td>246</td>\n",
       "    </tr>\n",
       "    <tr>\n",
       "      <th>244125</th>\n",
       "      <td>OffersScreenAppear</td>\n",
       "      <td>5746969938801999050</td>\n",
       "      <td>1565212517</td>\n",
       "      <td>246</td>\n",
       "    </tr>\n",
       "  </tbody>\n",
       "</table>\n",
       "</div>"
      ],
      "text/plain": [
       "                 EventName         DeviceIDHash  EventTimestamp  ExpId\n",
       "244121    MainScreenAppear  4599628364049201812      1565212345    247\n",
       "244122    MainScreenAppear  5849806612437486590      1565212439    246\n",
       "244123    MainScreenAppear  5746969938801999050      1565212483    246\n",
       "244124    MainScreenAppear  5746969938801999050      1565212498    246\n",
       "244125  OffersScreenAppear  5746969938801999050      1565212517    246"
      ]
     },
     "execution_count": 126,
     "metadata": {},
     "output_type": "execute_result"
    }
   ],
   "source": [
    "df.tail() # Посмотрим на последние строки датафрейма "
   ]
  },
  {
   "cell_type": "code",
   "execution_count": 127,
   "metadata": {},
   "outputs": [
    {
     "data": {
      "text/html": [
       "<div>\n",
       "<style scoped>\n",
       "    .dataframe tbody tr th:only-of-type {\n",
       "        vertical-align: middle;\n",
       "    }\n",
       "\n",
       "    .dataframe tbody tr th {\n",
       "        vertical-align: top;\n",
       "    }\n",
       "\n",
       "    .dataframe thead th {\n",
       "        text-align: right;\n",
       "    }\n",
       "</style>\n",
       "<table border=\"1\" class=\"dataframe\">\n",
       "  <thead>\n",
       "    <tr style=\"text-align: right;\">\n",
       "      <th></th>\n",
       "      <th>EventName</th>\n",
       "      <th>DeviceIDHash</th>\n",
       "      <th>EventTimestamp</th>\n",
       "      <th>ExpId</th>\n",
       "    </tr>\n",
       "  </thead>\n",
       "  <tbody>\n",
       "    <tr>\n",
       "      <th>128281</th>\n",
       "      <td>MainScreenAppear</td>\n",
       "      <td>4490608170758380466</td>\n",
       "      <td>1564929411</td>\n",
       "      <td>247</td>\n",
       "    </tr>\n",
       "    <tr>\n",
       "      <th>212766</th>\n",
       "      <td>CartScreenAppear</td>\n",
       "      <td>3371640160382097086</td>\n",
       "      <td>1565130443</td>\n",
       "      <td>247</td>\n",
       "    </tr>\n",
       "    <tr>\n",
       "      <th>148435</th>\n",
       "      <td>MainScreenAppear</td>\n",
       "      <td>4886271460486563910</td>\n",
       "      <td>1564994145</td>\n",
       "      <td>248</td>\n",
       "    </tr>\n",
       "    <tr>\n",
       "      <th>151224</th>\n",
       "      <td>MainScreenAppear</td>\n",
       "      <td>72572501548834659</td>\n",
       "      <td>1564999009</td>\n",
       "      <td>246</td>\n",
       "    </tr>\n",
       "    <tr>\n",
       "      <th>205686</th>\n",
       "      <td>CartScreenAppear</td>\n",
       "      <td>1055544042902443290</td>\n",
       "      <td>1565112091</td>\n",
       "      <td>246</td>\n",
       "    </tr>\n",
       "  </tbody>\n",
       "</table>\n",
       "</div>"
      ],
      "text/plain": [
       "               EventName         DeviceIDHash  EventTimestamp  ExpId\n",
       "128281  MainScreenAppear  4490608170758380466      1564929411    247\n",
       "212766  CartScreenAppear  3371640160382097086      1565130443    247\n",
       "148435  MainScreenAppear  4886271460486563910      1564994145    248\n",
       "151224  MainScreenAppear    72572501548834659      1564999009    246\n",
       "205686  CartScreenAppear  1055544042902443290      1565112091    246"
      ]
     },
     "execution_count": 127,
     "metadata": {},
     "output_type": "execute_result"
    }
   ],
   "source": [
    "df.sample(5) # Посмотрим на рандомные выборки из датафрейма"
   ]
  },
  {
   "cell_type": "code",
   "execution_count": 128,
   "metadata": {},
   "outputs": [
    {
     "name": "stdout",
     "output_type": "stream",
     "text": [
      "<class 'pandas.core.frame.DataFrame'>\n",
      "RangeIndex: 244126 entries, 0 to 244125\n",
      "Data columns (total 4 columns):\n",
      " #   Column          Non-Null Count   Dtype \n",
      "---  ------          --------------   ----- \n",
      " 0   EventName       244126 non-null  object\n",
      " 1   DeviceIDHash    244126 non-null  int64 \n",
      " 2   EventTimestamp  244126 non-null  int64 \n",
      " 3   ExpId           244126 non-null  int64 \n",
      "dtypes: int64(3), object(1)\n",
      "memory usage: 7.5+ MB\n"
     ]
    }
   ],
   "source": [
    "df.info() # Общая информация о датафрейме"
   ]
  },
  {
   "cell_type": "code",
   "execution_count": 129,
   "metadata": {},
   "outputs": [
    {
     "data": {
      "text/plain": [
       "413"
      ]
     },
     "execution_count": 129,
     "metadata": {},
     "output_type": "execute_result"
    }
   ],
   "source": [
    "df.duplicated().sum() # Наличие дубликатов"
   ]
  },
  {
   "cell_type": "code",
   "execution_count": 130,
   "metadata": {},
   "outputs": [
    {
     "data": {
      "text/plain": [
       "EventName         0.0\n",
       "DeviceIDHash      0.0\n",
       "EventTimestamp    0.0\n",
       "ExpId             0.0\n",
       "dtype: float64"
      ]
     },
     "execution_count": 130,
     "metadata": {},
     "output_type": "execute_result"
    }
   ],
   "source": [
    "df.isna().mean()*100 # Наличие пропусков в данных "
   ]
  },
  {
   "cell_type": "code",
   "execution_count": 131,
   "metadata": {},
   "outputs": [
    {
     "data": {
      "text/plain": [
       "<AxesSubplot:>"
      ]
     },
     "execution_count": 131,
     "metadata": {},
     "output_type": "execute_result"
    },
    {
     "data": {
      "image/png": "[encoded data removed]",
      "text/plain": [
       "<Figure size 800x500 with 1 Axes>"
      ]
     },
     "metadata": {},
     "output_type": "display_data"
    }
   ],
   "source": [
    "df['ExpId'].hist(figsize=(8, 5)) # Построим гистограмму для столбца ExpId"
   ]
  },
  {
   "cell_type": "markdown",
   "metadata": {},
   "source": [
    "**Вывод:**  \n",
    "\n",
    "В таблице:\n",
    "\n",
    "- 4 столбца\n",
    "- 244 126 строк \n",
    "\n",
    "Пропущенных значений нет. \n",
    "Выявлено 413 дубликатов."
   ]
  },
  {
   "cell_type": "markdown",
   "metadata": {},
   "source": [
    "## 2 Предобработка данных "
   ]
  },
  {
   "cell_type": "markdown",
   "metadata": {},
   "source": [
    "### 2.1 Удалим дубликаты"
   ]
  },
  {
   "cell_type": "code",
   "execution_count": 132,
   "metadata": {},
   "outputs": [],
   "source": [
    "df = df.drop_duplicates() # Удаляем дубликаты "
   ]
  },
  {
   "cell_type": "code",
   "execution_count": 133,
   "metadata": {},
   "outputs": [
    {
     "name": "stdout",
     "output_type": "stream",
     "text": [
      "<class 'pandas.core.frame.DataFrame'>\n",
      "Int64Index: 243713 entries, 0 to 244125\n",
      "Data columns (total 4 columns):\n",
      " #   Column          Non-Null Count   Dtype \n",
      "---  ------          --------------   ----- \n",
      " 0   EventName       243713 non-null  object\n",
      " 1   DeviceIDHash    243713 non-null  int64 \n",
      " 2   EventTimestamp  243713 non-null  int64 \n",
      " 3   ExpId           243713 non-null  int64 \n",
      "dtypes: int64(3), object(1)\n",
      "memory usage: 9.3+ MB\n"
     ]
    }
   ],
   "source": [
    "df.info() # Проверяем"
   ]
  },
  {
   "cell_type": "markdown",
   "metadata": {},
   "source": [
    "### 2.2 Заменим названия столбцов"
   ]
  },
  {
   "cell_type": "code",
   "execution_count": 134,
   "metadata": {},
   "outputs": [
    {
     "data": {
      "text/html": [
       "<div>\n",
       "<style scoped>\n",
       "    .dataframe tbody tr th:only-of-type {\n",
       "        vertical-align: middle;\n",
       "    }\n",
       "\n",
       "    .dataframe tbody tr th {\n",
       "        vertical-align: top;\n",
       "    }\n",
       "\n",
       "    .dataframe thead th {\n",
       "        text-align: right;\n",
       "    }\n",
       "</style>\n",
       "<table border=\"1\" class=\"dataframe\">\n",
       "  <thead>\n",
       "    <tr style=\"text-align: right;\">\n",
       "      <th></th>\n",
       "      <th>event_name</th>\n",
       "      <th>user_id</th>\n",
       "      <th>time_stamp</th>\n",
       "      <th>group</th>\n",
       "    </tr>\n",
       "  </thead>\n",
       "  <tbody>\n",
       "    <tr>\n",
       "      <th>0</th>\n",
       "      <td>MainScreenAppear</td>\n",
       "      <td>4575588528974610257</td>\n",
       "      <td>1564029816</td>\n",
       "      <td>246</td>\n",
       "    </tr>\n",
       "    <tr>\n",
       "      <th>1</th>\n",
       "      <td>MainScreenAppear</td>\n",
       "      <td>7416695313311560658</td>\n",
       "      <td>1564053102</td>\n",
       "      <td>246</td>\n",
       "    </tr>\n",
       "    <tr>\n",
       "      <th>2</th>\n",
       "      <td>PaymentScreenSuccessful</td>\n",
       "      <td>3518123091307005509</td>\n",
       "      <td>1564054127</td>\n",
       "      <td>248</td>\n",
       "    </tr>\n",
       "    <tr>\n",
       "      <th>3</th>\n",
       "      <td>CartScreenAppear</td>\n",
       "      <td>3518123091307005509</td>\n",
       "      <td>1564054127</td>\n",
       "      <td>248</td>\n",
       "    </tr>\n",
       "    <tr>\n",
       "      <th>4</th>\n",
       "      <td>PaymentScreenSuccessful</td>\n",
       "      <td>6217807653094995999</td>\n",
       "      <td>1564055322</td>\n",
       "      <td>248</td>\n",
       "    </tr>\n",
       "  </tbody>\n",
       "</table>\n",
       "</div>"
      ],
      "text/plain": [
       "                event_name              user_id  time_stamp  group\n",
       "0         MainScreenAppear  4575588528974610257  1564029816    246\n",
       "1         MainScreenAppear  7416695313311560658  1564053102    246\n",
       "2  PaymentScreenSuccessful  3518123091307005509  1564054127    248\n",
       "3         CartScreenAppear  3518123091307005509  1564054127    248\n",
       "4  PaymentScreenSuccessful  6217807653094995999  1564055322    248"
      ]
     },
     "execution_count": 134,
     "metadata": {},
     "output_type": "execute_result"
    }
   ],
   "source": [
    "df.columns=['event_name', 'user_id', 'time_stamp', 'group'] # Замена названий столбцов \n",
    "df.head(5) # Проверим новые названия "
   ]
  },
  {
   "cell_type": "markdown",
   "metadata": {},
   "source": [
    "### 2.3 Заменим значения столбца 'group'"
   ]
  },
  {
   "cell_type": "code",
   "execution_count": 135,
   "metadata": {},
   "outputs": [],
   "source": [
    "map_group = {246: 'A_1', 247 : 'A_2', 248: 'B'} # Словарь с новыми значениями"
   ]
  },
  {
   "cell_type": "code",
   "execution_count": 136,
   "metadata": {},
   "outputs": [],
   "source": [
    "df['group'] = df['group'].map(map_group)"
   ]
  },
  {
   "cell_type": "markdown",
   "metadata": {},
   "source": [
    "### 2.4 Добавим столбцы с датой и временем"
   ]
  },
  {
   "cell_type": "code",
   "execution_count": 137,
   "metadata": {},
   "outputs": [],
   "source": [
    "df['date_time'] = pd.to_datetime(df['time_stamp'], unit='s')"
   ]
  },
  {
   "cell_type": "code",
   "execution_count": 138,
   "metadata": {},
   "outputs": [
    {
     "data": {
      "text/html": [
       "<div>\n",
       "<style scoped>\n",
       "    .dataframe tbody tr th:only-of-type {\n",
       "        vertical-align: middle;\n",
       "    }\n",
       "\n",
       "    .dataframe tbody tr th {\n",
       "        vertical-align: top;\n",
       "    }\n",
       "\n",
       "    .dataframe thead th {\n",
       "        text-align: right;\n",
       "    }\n",
       "</style>\n",
       "<table border=\"1\" class=\"dataframe\">\n",
       "  <thead>\n",
       "    <tr style=\"text-align: right;\">\n",
       "      <th></th>\n",
       "      <th>event_name</th>\n",
       "      <th>user_id</th>\n",
       "      <th>time_stamp</th>\n",
       "      <th>group</th>\n",
       "      <th>date_time</th>\n",
       "      <th>date</th>\n",
       "    </tr>\n",
       "  </thead>\n",
       "  <tbody>\n",
       "    <tr>\n",
       "      <th>0</th>\n",
       "      <td>MainScreenAppear</td>\n",
       "      <td>4575588528974610257</td>\n",
       "      <td>1564029816</td>\n",
       "      <td>A_1</td>\n",
       "      <td>2019-07-25 04:43:36</td>\n",
       "      <td>2019-07-25</td>\n",
       "    </tr>\n",
       "    <tr>\n",
       "      <th>1</th>\n",
       "      <td>MainScreenAppear</td>\n",
       "      <td>7416695313311560658</td>\n",
       "      <td>1564053102</td>\n",
       "      <td>A_1</td>\n",
       "      <td>2019-07-25 11:11:42</td>\n",
       "      <td>2019-07-25</td>\n",
       "    </tr>\n",
       "    <tr>\n",
       "      <th>2</th>\n",
       "      <td>PaymentScreenSuccessful</td>\n",
       "      <td>3518123091307005509</td>\n",
       "      <td>1564054127</td>\n",
       "      <td>B</td>\n",
       "      <td>2019-07-25 11:28:47</td>\n",
       "      <td>2019-07-25</td>\n",
       "    </tr>\n",
       "    <tr>\n",
       "      <th>3</th>\n",
       "      <td>CartScreenAppear</td>\n",
       "      <td>3518123091307005509</td>\n",
       "      <td>1564054127</td>\n",
       "      <td>B</td>\n",
       "      <td>2019-07-25 11:28:47</td>\n",
       "      <td>2019-07-25</td>\n",
       "    </tr>\n",
       "    <tr>\n",
       "      <th>4</th>\n",
       "      <td>PaymentScreenSuccessful</td>\n",
       "      <td>6217807653094995999</td>\n",
       "      <td>1564055322</td>\n",
       "      <td>B</td>\n",
       "      <td>2019-07-25 11:48:42</td>\n",
       "      <td>2019-07-25</td>\n",
       "    </tr>\n",
       "    <tr>\n",
       "      <th>...</th>\n",
       "      <td>...</td>\n",
       "      <td>...</td>\n",
       "      <td>...</td>\n",
       "      <td>...</td>\n",
       "      <td>...</td>\n",
       "      <td>...</td>\n",
       "    </tr>\n",
       "    <tr>\n",
       "      <th>244121</th>\n",
       "      <td>MainScreenAppear</td>\n",
       "      <td>4599628364049201812</td>\n",
       "      <td>1565212345</td>\n",
       "      <td>A_2</td>\n",
       "      <td>2019-08-07 21:12:25</td>\n",
       "      <td>2019-08-07</td>\n",
       "    </tr>\n",
       "    <tr>\n",
       "      <th>244122</th>\n",
       "      <td>MainScreenAppear</td>\n",
       "      <td>5849806612437486590</td>\n",
       "      <td>1565212439</td>\n",
       "      <td>A_1</td>\n",
       "      <td>2019-08-07 21:13:59</td>\n",
       "      <td>2019-08-07</td>\n",
       "    </tr>\n",
       "    <tr>\n",
       "      <th>244123</th>\n",
       "      <td>MainScreenAppear</td>\n",
       "      <td>5746969938801999050</td>\n",
       "      <td>1565212483</td>\n",
       "      <td>A_1</td>\n",
       "      <td>2019-08-07 21:14:43</td>\n",
       "      <td>2019-08-07</td>\n",
       "    </tr>\n",
       "    <tr>\n",
       "      <th>244124</th>\n",
       "      <td>MainScreenAppear</td>\n",
       "      <td>5746969938801999050</td>\n",
       "      <td>1565212498</td>\n",
       "      <td>A_1</td>\n",
       "      <td>2019-08-07 21:14:58</td>\n",
       "      <td>2019-08-07</td>\n",
       "    </tr>\n",
       "    <tr>\n",
       "      <th>244125</th>\n",
       "      <td>OffersScreenAppear</td>\n",
       "      <td>5746969938801999050</td>\n",
       "      <td>1565212517</td>\n",
       "      <td>A_1</td>\n",
       "      <td>2019-08-07 21:15:17</td>\n",
       "      <td>2019-08-07</td>\n",
       "    </tr>\n",
       "  </tbody>\n",
       "</table>\n",
       "<p>243713 rows × 6 columns</p>\n",
       "</div>"
      ],
      "text/plain": [
       "                     event_name              user_id  time_stamp group  \\\n",
       "0              MainScreenAppear  4575588528974610257  1564029816   A_1   \n",
       "1              MainScreenAppear  7416695313311560658  1564053102   A_1   \n",
       "2       PaymentScreenSuccessful  3518123091307005509  1564054127     B   \n",
       "3              CartScreenAppear  3518123091307005509  1564054127     B   \n",
       "4       PaymentScreenSuccessful  6217807653094995999  1564055322     B   \n",
       "...                         ...                  ...         ...   ...   \n",
       "244121         MainScreenAppear  4599628364049201812  1565212345   A_2   \n",
       "244122         MainScreenAppear  5849806612437486590  1565212439   A_1   \n",
       "244123         MainScreenAppear  5746969938801999050  1565212483   A_1   \n",
       "244124         MainScreenAppear  5746969938801999050  1565212498   A_1   \n",
       "244125       OffersScreenAppear  5746969938801999050  1565212517   A_1   \n",
       "\n",
       "                 date_time        date  \n",
       "0      2019-07-25 04:43:36  2019-07-25  \n",
       "1      2019-07-25 11:11:42  2019-07-25  \n",
       "2      2019-07-25 11:28:47  2019-07-25  \n",
       "3      2019-07-25 11:28:47  2019-07-25  \n",
       "4      2019-07-25 11:48:42  2019-07-25  \n",
       "...                    ...         ...  \n",
       "244121 2019-08-07 21:12:25  2019-08-07  \n",
       "244122 2019-08-07 21:13:59  2019-08-07  \n",
       "244123 2019-08-07 21:14:43  2019-08-07  \n",
       "244124 2019-08-07 21:14:58  2019-08-07  \n",
       "244125 2019-08-07 21:15:17  2019-08-07  \n",
       "\n",
       "[243713 rows x 6 columns]"
      ]
     },
     "execution_count": 138,
     "metadata": {},
     "output_type": "execute_result"
    }
   ],
   "source": [
    "df['date'] = df['date_time'].dt.date\n",
    "df"
   ]
  },
  {
   "cell_type": "code",
   "execution_count": 139,
   "metadata": {},
   "outputs": [],
   "source": [
    "df['date'] = df['date'].astype('datetime64')"
   ]
  },
  {
   "cell_type": "markdown",
   "metadata": {},
   "source": [
    "**Вывод:**\n",
    "\n",
    "В рамках предобработки данных:\n",
    "\n",
    "- Удалили 413 дубликатов\n",
    "- Изменили названия столбцов \n",
    "- Добавили новые столбцы с данными о дате и времени\n",
    "- Поменяли тип данных в столбце с датой\n",
    "- Переименовали группы\n",
    "\n",
    "Данные готовы к анализу"
   ]
  },
  {
   "cell_type": "markdown",
   "metadata": {},
   "source": [
    "## 3 Изучим и проверим данные"
   ]
  },
  {
   "cell_type": "markdown",
   "metadata": {},
   "source": [
    "### 3.1 Количество событий в логе"
   ]
  },
  {
   "cell_type": "code",
   "execution_count": 140,
   "metadata": {},
   "outputs": [
    {
     "data": {
      "text/plain": [
       "array(['MainScreenAppear', 'PaymentScreenSuccessful', 'CartScreenAppear',\n",
       "       'OffersScreenAppear', 'Tutorial'], dtype=object)"
      ]
     },
     "execution_count": 140,
     "metadata": {},
     "output_type": "execute_result"
    }
   ],
   "source": [
    "df['event_name'].unique() # Посмотрим уникальные значения в столбце event_name"
   ]
  },
  {
   "cell_type": "code",
   "execution_count": 141,
   "metadata": {},
   "outputs": [
    {
     "data": {
      "text/plain": [
       "MainScreenAppear           119101\n",
       "OffersScreenAppear          46808\n",
       "CartScreenAppear            42668\n",
       "PaymentScreenSuccessful     34118\n",
       "Tutorial                     1018\n",
       "Name: event_name, dtype: int64"
      ]
     },
     "execution_count": 141,
     "metadata": {},
     "output_type": "execute_result"
    }
   ],
   "source": [
    "df['event_name'].value_counts() # Посчитаем количество событий каждого уникального значения"
   ]
  },
  {
   "cell_type": "code",
   "execution_count": 142,
   "metadata": {},
   "outputs": [
    {
     "data": {
      "text/plain": [
       "243713"
      ]
     },
     "execution_count": 142,
     "metadata": {},
     "output_type": "execute_result"
    }
   ],
   "source": [
    "event_count = len(df['event_name'])\n",
    "event_count # Посчитаем сколько всего событий"
   ]
  },
  {
   "cell_type": "markdown",
   "metadata": {},
   "source": [
    "**Вывод:**\n",
    "\n",
    "Всего событий в логе - 243 713.\n",
    "\n",
    "Уникальных событий всего 5: \n",
    "\n",
    "- Появление главного экрана (MainScreenAppear - 119101 событий)\n",
    "- Появление предложения на экране (OffersScreenAppear - 46808 событий) \n",
    "- Появление экрана корзины (CartScreenAppear - 42668 событий)\n",
    "- Подтверждение оплаты (PaymentScreenSuccessful - 34118 событий)\n",
    "- Инструкция (Tutorial - 1018 событий)"
   ]
  },
  {
   "cell_type": "markdown",
   "metadata": {},
   "source": [
    "### 3.2 Количество пользователей в логе"
   ]
  },
  {
   "cell_type": "code",
   "execution_count": 143,
   "metadata": {},
   "outputs": [
    {
     "data": {
      "text/plain": [
       "7551"
      ]
     },
     "execution_count": 143,
     "metadata": {},
     "output_type": "execute_result"
    }
   ],
   "source": [
    "users = len(df['user_id'].unique()) # Посчитаем уникальных пользователей \n",
    "users"
   ]
  },
  {
   "cell_type": "markdown",
   "metadata": {},
   "source": [
    "### 3.3 Среднее количество событий на одного пользователя"
   ]
  },
  {
   "cell_type": "code",
   "execution_count": 144,
   "metadata": {},
   "outputs": [
    {
     "data": {
      "text/plain": [
       "32.27559263673685"
      ]
     },
     "execution_count": 144,
     "metadata": {},
     "output_type": "execute_result"
    }
   ],
   "source": [
    "event_count / users # Разделим количество событий на количество уникальных пользователей "
   ]
  },
  {
   "cell_type": "markdown",
   "metadata": {},
   "source": [
    "### 3.4 Максимальная и минимальная дата "
   ]
  },
  {
   "cell_type": "code",
   "execution_count": 145,
   "metadata": {},
   "outputs": [],
   "source": [
    "max_date = df['date'].max()\n",
    "min_date = df['date'].min() # Найдем максимальную и минимальную дату"
   ]
  },
  {
   "cell_type": "code",
   "execution_count": 146,
   "metadata": {},
   "outputs": [
    {
     "data": {
      "text/plain": [
       "Timestamp('2019-07-25 00:00:00')"
      ]
     },
     "execution_count": 146,
     "metadata": {},
     "output_type": "execute_result"
    }
   ],
   "source": [
    "min_date"
   ]
  },
  {
   "cell_type": "code",
   "execution_count": 147,
   "metadata": {},
   "outputs": [
    {
     "data": {
      "text/plain": [
       "Timestamp('2019-08-07 00:00:00')"
      ]
     },
     "execution_count": 147,
     "metadata": {},
     "output_type": "execute_result"
    }
   ],
   "source": [
    "max_date"
   ]
  },
  {
   "cell_type": "markdown",
   "metadata": {},
   "source": [
    "### 3.5 Гистограмма по дате и времени"
   ]
  },
  {
   "cell_type": "code",
   "execution_count": 149,
   "metadata": {},
   "outputs": [
    {
     "data": {
      "text/plain": [
       "Text(0.5, 0, 'Дата')"
      ]
     },
     "execution_count": 149,
     "metadata": {},
     "output_type": "execute_result"
    },
    {
     "data": {
      "image/png": "[encoded data removed]",
      "text/plain": [
       "<Figure size 1400x500 with 1 Axes>"
      ]
     },
     "metadata": {},
     "output_type": "display_data"
    }
   ],
   "source": [
    "df['date_time'].hist(bins=14*24, figsize=(14, 5))\n",
    "\n",
    "plt.title('Дата событий')\n",
    "plt.ylabel('Количество событий')\n",
    "plt.xlabel('Дата')"
   ]
  },
  {
   "cell_type": "markdown",
   "metadata": {},
   "source": [
    "**Вывод:**\n",
    "\n",
    "По гистограмме видно, что основная часть событий происходит в период с 1 августа по 7 августа 2019 года. В первую неделю количество событий крайне низкое (не привышает 5 тысяч)"
   ]
  },
  {
   "cell_type": "markdown",
   "metadata": {},
   "source": [
    "### 3.6 Отбросим неполные данные"
   ]
  },
  {
   "cell_type": "code",
   "execution_count": 150,
   "metadata": {},
   "outputs": [],
   "source": [
    "df = df.query('date >= \"2019-08-01\"') # Сделаем срез и отбросим данные за первую неделю "
   ]
  },
  {
   "cell_type": "code",
   "execution_count": 151,
   "metadata": {},
   "outputs": [
    {
     "name": "stdout",
     "output_type": "stream",
     "text": [
      "<class 'pandas.core.frame.DataFrame'>\n",
      "Int64Index: 240887 entries, 2828 to 244125\n",
      "Data columns (total 6 columns):\n",
      " #   Column      Non-Null Count   Dtype         \n",
      "---  ------      --------------   -----         \n",
      " 0   event_name  240887 non-null  object        \n",
      " 1   user_id     240887 non-null  int64         \n",
      " 2   time_stamp  240887 non-null  int64         \n",
      " 3   group       240887 non-null  object        \n",
      " 4   date_time   240887 non-null  datetime64[ns]\n",
      " 5   date        240887 non-null  datetime64[ns]\n",
      "dtypes: datetime64[ns](2), int64(2), object(2)\n",
      "memory usage: 12.9+ MB\n"
     ]
    }
   ],
   "source": [
    "df.info()"
   ]
  },
  {
   "cell_type": "code",
   "execution_count": 152,
   "metadata": {},
   "outputs": [
    {
     "data": {
      "text/plain": [
       "7534"
      ]
     },
     "execution_count": 152,
     "metadata": {},
     "output_type": "execute_result"
    }
   ],
   "source": [
    "user_after = len(df['user_id'].unique())\n",
    "user_after # Количество уникальных пользователей после удаления данных "
   ]
  },
  {
   "cell_type": "code",
   "execution_count": 153,
   "metadata": {},
   "outputs": [
    {
     "data": {
      "text/plain": [
       "17"
      ]
     },
     "execution_count": 153,
     "metadata": {},
     "output_type": "execute_result"
    }
   ],
   "source": [
    "users_before = users - user_after\n",
    "users_before # Количество потерянных пользователей после удаления данных"
   ]
  },
  {
   "cell_type": "code",
   "execution_count": 154,
   "metadata": {},
   "outputs": [],
   "source": [
    "share_users = round((users_before / users) * 100, 3) # Доля потерянных пользователей "
   ]
  },
  {
   "cell_type": "code",
   "execution_count": 155,
   "metadata": {},
   "outputs": [
    {
     "data": {
      "text/plain": [
       "240887"
      ]
     },
     "execution_count": 155,
     "metadata": {},
     "output_type": "execute_result"
    }
   ],
   "source": [
    "event_after = len(df['event_name'])\n",
    "event_after # Количество событий после удаления данных "
   ]
  },
  {
   "cell_type": "code",
   "execution_count": 156,
   "metadata": {},
   "outputs": [
    {
     "data": {
      "text/plain": [
       "2826"
      ]
     },
     "execution_count": 156,
     "metadata": {},
     "output_type": "execute_result"
    }
   ],
   "source": [
    "event_before = event_count - event_after\n",
    "event_before # Количество потерянных событий после удаления данных"
   ]
  },
  {
   "cell_type": "code",
   "execution_count": 157,
   "metadata": {},
   "outputs": [
    {
     "data": {
      "text/plain": [
       "1.16"
      ]
     },
     "execution_count": 157,
     "metadata": {},
     "output_type": "execute_result"
    }
   ],
   "source": [
    "share_event = round((event_before / event_count) * 100, 3) # Доля потерянных пользователей \n",
    "share_event"
   ]
  },
  {
   "cell_type": "markdown",
   "metadata": {},
   "source": [
    "**Вывод:** \n",
    "\n",
    "После удаления данных потеряли 2826 событий (1,16% событий) и 17 уникальных пользователей (0,225% пользователей)\n",
    "\n",
    "После удаления данных:\n",
    "\n",
    "- 240887 событий \n",
    "- 7534 пользователя"
   ]
  },
  {
   "cell_type": "markdown",
   "metadata": {},
   "source": [
    "### 3.7 Проверим количество событий и пользователей в группах"
   ]
  },
  {
   "cell_type": "code",
   "execution_count": 158,
   "metadata": {},
   "outputs": [
    {
     "data": {
      "text/html": [
       "<div>\n",
       "<style scoped>\n",
       "    .dataframe tbody tr th:only-of-type {\n",
       "        vertical-align: middle;\n",
       "    }\n",
       "\n",
       "    .dataframe tbody tr th {\n",
       "        vertical-align: top;\n",
       "    }\n",
       "\n",
       "    .dataframe thead th {\n",
       "        text-align: right;\n",
       "    }\n",
       "</style>\n",
       "<table border=\"1\" class=\"dataframe\">\n",
       "  <thead>\n",
       "    <tr style=\"text-align: right;\">\n",
       "      <th></th>\n",
       "      <th>user_id</th>\n",
       "      <th>event_name</th>\n",
       "    </tr>\n",
       "    <tr>\n",
       "      <th>group</th>\n",
       "      <th></th>\n",
       "      <th></th>\n",
       "    </tr>\n",
       "  </thead>\n",
       "  <tbody>\n",
       "    <tr>\n",
       "      <th>A_1</th>\n",
       "      <td>2484</td>\n",
       "      <td>79302</td>\n",
       "    </tr>\n",
       "    <tr>\n",
       "      <th>A_2</th>\n",
       "      <td>2513</td>\n",
       "      <td>77022</td>\n",
       "    </tr>\n",
       "    <tr>\n",
       "      <th>B</th>\n",
       "      <td>2537</td>\n",
       "      <td>84563</td>\n",
       "    </tr>\n",
       "  </tbody>\n",
       "</table>\n",
       "</div>"
      ],
      "text/plain": [
       "       user_id  event_name\n",
       "group                     \n",
       "A_1       2484       79302\n",
       "A_2       2513       77022\n",
       "B         2537       84563"
      ]
     },
     "execution_count": 158,
     "metadata": {},
     "output_type": "execute_result"
    }
   ],
   "source": [
    "df.groupby ('group').agg({'user_id': 'nunique', 'event_name': 'count'})"
   ]
  },
  {
   "cell_type": "markdown",
   "metadata": {},
   "source": [
    "**Общий вывод по изучению данных:**\n",
    "\n",
    "Уникальных событий всего 5.\n",
    "\n",
    "В среднем на одного пользователя приходится 32 события.\n",
    "\n",
    "Количество событий и пользователей в группах: \n",
    "\n",
    "- В группе 246 - 79302 события и 2484 пользователя\n",
    "- В группе 247 - 77022 события и 2513 пользователя\n",
    "- В группу 248 - 84563 события и 2537 пользователя\n",
    "\n",
    "Определил новый временной период для анализа: c 1 августа по 8 августа 2019 года. Данные за июль исключил из анализа, так как количество событий крайне низкое и удаление данных не должно повлиять на анализ. Потеряли 2826 событий и 17 пользователей\n",
    "\n",
    "В целом данные в группах примерно равны:\n",
    "\n",
    "- Cобытий примерно 80 000 в каждой группе\n",
    "- Количество пользователей примерно 2 500 в каждой группе"
   ]
  },
  {
   "cell_type": "markdown",
   "metadata": {},
   "source": [
    "## 4 Изучим воронку событий"
   ]
  },
  {
   "cell_type": "markdown",
   "metadata": {},
   "source": [
    "### 4.1 Посмотрим, какие события есть в логах и как часто они встречаются"
   ]
  },
  {
   "cell_type": "code",
   "execution_count": 159,
   "metadata": {},
   "outputs": [
    {
     "data": {
      "text/html": [
       "<div>\n",
       "<style scoped>\n",
       "    .dataframe tbody tr th:only-of-type {\n",
       "        vertical-align: middle;\n",
       "    }\n",
       "\n",
       "    .dataframe tbody tr th {\n",
       "        vertical-align: top;\n",
       "    }\n",
       "\n",
       "    .dataframe thead th {\n",
       "        text-align: right;\n",
       "    }\n",
       "</style>\n",
       "<table border=\"1\" class=\"dataframe\">\n",
       "  <thead>\n",
       "    <tr style=\"text-align: right;\">\n",
       "      <th></th>\n",
       "      <th>event_name</th>\n",
       "      <th>user_id</th>\n",
       "    </tr>\n",
       "  </thead>\n",
       "  <tbody>\n",
       "    <tr>\n",
       "      <th>1</th>\n",
       "      <td>MainScreenAppear</td>\n",
       "      <td>117328</td>\n",
       "    </tr>\n",
       "    <tr>\n",
       "      <th>2</th>\n",
       "      <td>OffersScreenAppear</td>\n",
       "      <td>46333</td>\n",
       "    </tr>\n",
       "    <tr>\n",
       "      <th>0</th>\n",
       "      <td>CartScreenAppear</td>\n",
       "      <td>42303</td>\n",
       "    </tr>\n",
       "    <tr>\n",
       "      <th>3</th>\n",
       "      <td>PaymentScreenSuccessful</td>\n",
       "      <td>33918</td>\n",
       "    </tr>\n",
       "    <tr>\n",
       "      <th>4</th>\n",
       "      <td>Tutorial</td>\n",
       "      <td>1005</td>\n",
       "    </tr>\n",
       "  </tbody>\n",
       "</table>\n",
       "</div>"
      ],
      "text/plain": [
       "                event_name  user_id\n",
       "1         MainScreenAppear   117328\n",
       "2       OffersScreenAppear    46333\n",
       "0         CartScreenAppear    42303\n",
       "3  PaymentScreenSuccessful    33918\n",
       "4                 Tutorial     1005"
      ]
     },
     "execution_count": 159,
     "metadata": {},
     "output_type": "execute_result"
    }
   ],
   "source": [
    "event_name_count = (df.groupby('event_name')\n",
    "                    .agg({'user_id':'count'})\n",
    "                    .reset_index()\n",
    "                    .sort_values(by='user_id', ascending=False))\n",
    "event_name_count"
   ]
  },
  {
   "cell_type": "code",
   "execution_count": 160,
   "metadata": {},
   "outputs": [
    {
     "data": {
      "image/png": "[encoded data removed]",
      "text/plain": [
       "<Figure size 700x400 with 1 Axes>"
      ]
     },
     "metadata": {},
     "output_type": "display_data"
    }
   ],
   "source": [
    "plt.figure(figsize=(7, 4))\n",
    "plt.title('Количество событий') \n",
    "sns.barplot(x='user_id', y='event_name', data = event_name_count)\n",
    "plt.xlabel('Количество событий')\n",
    "plt.ylabel('Событие')\n",
    "plt.show() # Визуализируем данные таблицы event_name_count"
   ]
  },
  {
   "cell_type": "markdown",
   "metadata": {},
   "source": [
    "**Вывод:**\n",
    "\n",
    "Практически половина всех событий это - Появление главного экрана (MainScreenAppear).\n",
    "\n",
    "Менше всего событий - Инструкция (Tutorial)"
   ]
  },
  {
   "cell_type": "markdown",
   "metadata": {},
   "source": [
    "### 4.2 Посчитаем, сколько пользователей совершали каждое из событий"
   ]
  },
  {
   "cell_type": "code",
   "execution_count": 161,
   "metadata": {},
   "outputs": [
    {
     "data": {
      "text/html": [
       "<div>\n",
       "<style scoped>\n",
       "    .dataframe tbody tr th:only-of-type {\n",
       "        vertical-align: middle;\n",
       "    }\n",
       "\n",
       "    .dataframe tbody tr th {\n",
       "        vertical-align: top;\n",
       "    }\n",
       "\n",
       "    .dataframe thead th {\n",
       "        text-align: right;\n",
       "    }\n",
       "</style>\n",
       "<table border=\"1\" class=\"dataframe\">\n",
       "  <thead>\n",
       "    <tr style=\"text-align: right;\">\n",
       "      <th></th>\n",
       "      <th>user_id</th>\n",
       "    </tr>\n",
       "    <tr>\n",
       "      <th>event_name</th>\n",
       "      <th></th>\n",
       "    </tr>\n",
       "  </thead>\n",
       "  <tbody>\n",
       "    <tr>\n",
       "      <th>MainScreenAppear</th>\n",
       "      <td>7419</td>\n",
       "    </tr>\n",
       "    <tr>\n",
       "      <th>OffersScreenAppear</th>\n",
       "      <td>4593</td>\n",
       "    </tr>\n",
       "    <tr>\n",
       "      <th>CartScreenAppear</th>\n",
       "      <td>3734</td>\n",
       "    </tr>\n",
       "    <tr>\n",
       "      <th>PaymentScreenSuccessful</th>\n",
       "      <td>3539</td>\n",
       "    </tr>\n",
       "    <tr>\n",
       "      <th>Tutorial</th>\n",
       "      <td>840</td>\n",
       "    </tr>\n",
       "  </tbody>\n",
       "</table>\n",
       "</div>"
      ],
      "text/plain": [
       "                         user_id\n",
       "event_name                      \n",
       "MainScreenAppear            7419\n",
       "OffersScreenAppear          4593\n",
       "CartScreenAppear            3734\n",
       "PaymentScreenSuccessful     3539\n",
       "Tutorial                     840"
      ]
     },
     "execution_count": 161,
     "metadata": {},
     "output_type": "execute_result"
    }
   ],
   "source": [
    "event_funnel = (df.groupby('event_name')\n",
    "          .agg({'user_id': 'nunique'})\n",
    "          .sort_values(by='user_id', ascending=False))\n",
    "event_funnel # Сколько пользователей совершали каждое событие"
   ]
  },
  {
   "cell_type": "markdown",
   "metadata": {},
   "source": [
    "### 4.3 Посчитаем долю пользователей, которые хоть раз совершали событие"
   ]
  },
  {
   "cell_type": "code",
   "execution_count": 162,
   "metadata": {},
   "outputs": [
    {
     "data": {
      "text/html": [
       "<div>\n",
       "<style scoped>\n",
       "    .dataframe tbody tr th:only-of-type {\n",
       "        vertical-align: middle;\n",
       "    }\n",
       "\n",
       "    .dataframe tbody tr th {\n",
       "        vertical-align: top;\n",
       "    }\n",
       "\n",
       "    .dataframe thead th {\n",
       "        text-align: right;\n",
       "    }\n",
       "</style>\n",
       "<table border=\"1\" class=\"dataframe\">\n",
       "  <thead>\n",
       "    <tr style=\"text-align: right;\">\n",
       "      <th></th>\n",
       "      <th>user_id</th>\n",
       "      <th>share_users</th>\n",
       "    </tr>\n",
       "    <tr>\n",
       "      <th>event_name</th>\n",
       "      <th></th>\n",
       "      <th></th>\n",
       "    </tr>\n",
       "  </thead>\n",
       "  <tbody>\n",
       "    <tr>\n",
       "      <th>MainScreenAppear</th>\n",
       "      <td>7419</td>\n",
       "      <td>98.473586</td>\n",
       "    </tr>\n",
       "    <tr>\n",
       "      <th>OffersScreenAppear</th>\n",
       "      <td>4593</td>\n",
       "      <td>60.963632</td>\n",
       "    </tr>\n",
       "    <tr>\n",
       "      <th>CartScreenAppear</th>\n",
       "      <td>3734</td>\n",
       "      <td>49.561986</td>\n",
       "    </tr>\n",
       "    <tr>\n",
       "      <th>PaymentScreenSuccessful</th>\n",
       "      <td>3539</td>\n",
       "      <td>46.973719</td>\n",
       "    </tr>\n",
       "    <tr>\n",
       "      <th>Tutorial</th>\n",
       "      <td>840</td>\n",
       "      <td>11.149456</td>\n",
       "    </tr>\n",
       "  </tbody>\n",
       "</table>\n",
       "</div>"
      ],
      "text/plain": [
       "                         user_id  share_users\n",
       "event_name                                   \n",
       "MainScreenAppear            7419    98.473586\n",
       "OffersScreenAppear          4593    60.963632\n",
       "CartScreenAppear            3734    49.561986\n",
       "PaymentScreenSuccessful     3539    46.973719\n",
       "Tutorial                     840    11.149456"
      ]
     },
     "execution_count": 162,
     "metadata": {},
     "output_type": "execute_result"
    }
   ],
   "source": [
    "event_funnel['share_users'] = event_funnel['user_id'] / df['user_id'].nunique() * 100\n",
    "event_funnel # Посчитаем долю пользователей, которые совершали событие"
   ]
  },
  {
   "cell_type": "markdown",
   "metadata": {},
   "source": [
    "**Вывод:**\n",
    "\n",
    "- Появление главного экрана (MainScreenAppear) посмотрело 98,4% пользователей. \n",
    "- Появление предложения на экране (OffersScreenAppear) посмотрело 60,9% пользователей\n",
    "- Появление экрана корзины (CartScreenAppear) посмотрело 49,5% пользователей\n",
    "- Подтверждение оплаты (PaymentScreenSuccessful) посмотрело 46,9% пользователей\n",
    "- Инструкцию (Tutorial) посмотрело 11,1% пользователей"
   ]
  },
  {
   "cell_type": "markdown",
   "metadata": {},
   "source": [
    "### 4.4 В каком порядке происходят события?"
   ]
  },
  {
   "cell_type": "markdown",
   "metadata": {},
   "source": [
    "Все события выстраиваются в последовательную цепочку. \n",
    "\n",
    "Исключением будет только одно событие - Tutorial (инструкция). Инструкцию посмотрели только 11% пользователей от общего количества. Это событие необходимо исключить из воронки событий, так как просмотр инструкции не является обязательным этапом воронки и не влияет на путь потенциального покупателя.\n",
    "\n",
    "Цепочка событий:\n",
    "\n",
    "1. Появление главного экрана (MainScreenAppear)\n",
    "2. Появление предложения на экране (OffersScreenAppear)\n",
    "3. Появление экрана корзины (CartScreenAppear)\n",
    "4. Подтверждение оплаты (PaymentScreenSuccessful)"
   ]
  },
  {
   "cell_type": "markdown",
   "metadata": {},
   "source": [
    "### 4.5 По воронке событий посчитаем, какая доля пользователей проходит на следующий шаг воронки (от числа пользователей на предыдущем). "
   ]
  },
  {
   "cell_type": "code",
   "execution_count": 163,
   "metadata": {},
   "outputs": [
    {
     "data": {
      "text/html": [
       "<div>\n",
       "<style scoped>\n",
       "    .dataframe tbody tr th:only-of-type {\n",
       "        vertical-align: middle;\n",
       "    }\n",
       "\n",
       "    .dataframe tbody tr th {\n",
       "        vertical-align: top;\n",
       "    }\n",
       "\n",
       "    .dataframe thead th {\n",
       "        text-align: right;\n",
       "    }\n",
       "</style>\n",
       "<table border=\"1\" class=\"dataframe\">\n",
       "  <thead>\n",
       "    <tr style=\"text-align: right;\">\n",
       "      <th></th>\n",
       "      <th>user_id</th>\n",
       "      <th>share_users</th>\n",
       "      <th>conversion</th>\n",
       "    </tr>\n",
       "    <tr>\n",
       "      <th>event_name</th>\n",
       "      <th></th>\n",
       "      <th></th>\n",
       "      <th></th>\n",
       "    </tr>\n",
       "  </thead>\n",
       "  <tbody>\n",
       "    <tr>\n",
       "      <th>MainScreenAppear</th>\n",
       "      <td>7419</td>\n",
       "      <td>98.473586</td>\n",
       "      <td>NaN</td>\n",
       "    </tr>\n",
       "    <tr>\n",
       "      <th>OffersScreenAppear</th>\n",
       "      <td>4593</td>\n",
       "      <td>60.963632</td>\n",
       "      <td>61.908613</td>\n",
       "    </tr>\n",
       "    <tr>\n",
       "      <th>CartScreenAppear</th>\n",
       "      <td>3734</td>\n",
       "      <td>49.561986</td>\n",
       "      <td>81.297627</td>\n",
       "    </tr>\n",
       "    <tr>\n",
       "      <th>PaymentScreenSuccessful</th>\n",
       "      <td>3539</td>\n",
       "      <td>46.973719</td>\n",
       "      <td>94.777718</td>\n",
       "    </tr>\n",
       "    <tr>\n",
       "      <th>Tutorial</th>\n",
       "      <td>840</td>\n",
       "      <td>11.149456</td>\n",
       "      <td>23.735519</td>\n",
       "    </tr>\n",
       "  </tbody>\n",
       "</table>\n",
       "</div>"
      ],
      "text/plain": [
       "                         user_id  share_users  conversion\n",
       "event_name                                               \n",
       "MainScreenAppear            7419    98.473586         NaN\n",
       "OffersScreenAppear          4593    60.963632   61.908613\n",
       "CartScreenAppear            3734    49.561986   81.297627\n",
       "PaymentScreenSuccessful     3539    46.973719   94.777718\n",
       "Tutorial                     840    11.149456   23.735519"
      ]
     },
     "execution_count": 163,
     "metadata": {},
     "output_type": "execute_result"
    }
   ],
   "source": [
    "event_funnel['conversion'] = event_funnel['user_id'] / event_funnel['user_id'].shift() * 100\n",
    "event_funnel # Считаем долю пользователей, которая проходит на следующий шаг воронки "
   ]
  },
  {
   "cell_type": "markdown",
   "metadata": {},
   "source": [
    "### 4.6 На каком шаге теряется  больше всего пользователей?"
   ]
  },
  {
   "cell_type": "markdown",
   "metadata": {},
   "source": [
    "Больше всего пользователей теряем после появления главного экрана к появлению предложения на экране- 38,1% пользователей. "
   ]
  },
  {
   "cell_type": "markdown",
   "metadata": {},
   "source": [
    "### 4.7 Какая доля пользователей доходит от первого события до оплаты?"
   ]
  },
  {
   "cell_type": "code",
   "execution_count": 164,
   "metadata": {},
   "outputs": [
    {
     "data": {
      "text/plain": [
       "47.699999999999996"
      ]
     },
     "execution_count": 164,
     "metadata": {},
     "output_type": "execute_result"
    }
   ],
   "source": [
    "round(event_funnel['user_id'][3] / event_funnel['user_id'][0], 3) * 100 "
   ]
  },
  {
   "cell_type": "markdown",
   "metadata": {},
   "source": [
    "**Вывод:**\n",
    "\n",
    "Воронка продаж следующая:\n",
    "\n",
    "1. Пользователь видит главный экран (Появление главного экрана (MainScreenAppear))\n",
    "2. Пользователь видит предложение (Появление предложения на экране (OffersScreenAppear))\n",
    "3. Пользователь вносит предложение в корзину (Появление экрана корзины (CartScreenAppear))\n",
    "4. Оплачивает (Подтверждение оплаты (PaymentScreenSuccessful)))\n",
    "\n",
    "Больше всего пользователей теряем на втором этапе воронки продаж. После просмотра главного экрана 61,9% пользователей переходит на второй этам воронки. \n",
    "\n",
    "На третьем и четвертом этапе воронки потери пользователей не значительны. Почти 48% от общего числа пользователей оплачивает покупку в приложении. "
   ]
  },
  {
   "cell_type": "markdown",
   "metadata": {},
   "source": [
    "## 5 Изучим результаты эксперимента"
   ]
  },
  {
   "cell_type": "markdown",
   "metadata": {},
   "source": [
    "### 5.1 Сколько пользователей в каждой группе?"
   ]
  },
  {
   "cell_type": "code",
   "execution_count": 165,
   "metadata": {},
   "outputs": [
    {
     "data": {
      "text/plain": [
       "<AxesSubplot:>"
      ]
     },
     "execution_count": 165,
     "metadata": {},
     "output_type": "execute_result"
    },
    {
     "data": {
      "image/png": "[encoded data removed]",
      "text/plain": [
       "<Figure size 800x500 with 1 Axes>"
      ]
     },
     "metadata": {},
     "output_type": "display_data"
    }
   ],
   "source": [
    "df['group'].hist(figsize=(8, 5)) # Построим гистограмму для столбца group"
   ]
  },
  {
   "cell_type": "markdown",
   "metadata": {},
   "source": [
    "**Вывод:**\n",
    "\n",
    "- В группе 246 - 78985 события и 2483 пользователя\n",
    "- В группе 247 - 76684 события и 2512 пользователя\n",
    "- В группу 248 - 84213 события и 2535 пользователя\n",
    "\n",
    "Группы 246 и 247 - контрольные. \n",
    "Группа 248 - экспериментальная.\n",
    "\n",
    "В группах количество пользователей достаточно для проведения исследований. Разница в количестве контрольных и эксперементальных групп незначительна."
   ]
  },
  {
   "cell_type": "markdown",
   "metadata": {},
   "source": [
    "### 5.2 С помощью А/А - эксперимента проверим корректность всех механизмов и расчетов. Проверим, находят ли статистические критерии разницу между группами A_1 и A_2"
   ]
  },
  {
   "cell_type": "markdown",
   "metadata": {},
   "source": [
    "Для A/A - эксперемента создадим таблицы:\n",
    "\n",
    "- user_count (количество пользователей в каждой группе) \n",
    "- test_event_name (количество пользователей, которые проходят по всем событиям кроме Tutorial(Инструкция)."
   ]
  },
  {
   "cell_type": "code",
   "execution_count": 166,
   "metadata": {},
   "outputs": [
    {
     "data": {
      "text/plain": [
       "group\n",
       "A_1        2484\n",
       "A_2        2513\n",
       "B          2537\n",
       "total_A    4997\n",
       "Name: user_id, dtype: int64"
      ]
     },
     "execution_count": 166,
     "metadata": {},
     "output_type": "execute_result"
    }
   ],
   "source": [
    "user_count = df.groupby('group')['user_id'].nunique()\n",
    "user_count['total_A'] = user_count['A_1'] + user_count['A_2']\n",
    "user_count # Количество пользователей в каждой группе"
   ]
  },
  {
   "cell_type": "code",
   "execution_count": 167,
   "metadata": {},
   "outputs": [
    {
     "data": {
      "text/html": [
       "<div>\n",
       "<style scoped>\n",
       "    .dataframe tbody tr th:only-of-type {\n",
       "        vertical-align: middle;\n",
       "    }\n",
       "\n",
       "    .dataframe tbody tr th {\n",
       "        vertical-align: top;\n",
       "    }\n",
       "\n",
       "    .dataframe thead th {\n",
       "        text-align: right;\n",
       "    }\n",
       "</style>\n",
       "<table border=\"1\" class=\"dataframe\">\n",
       "  <thead>\n",
       "    <tr style=\"text-align: right;\">\n",
       "      <th>group</th>\n",
       "      <th>A_1</th>\n",
       "      <th>A_2</th>\n",
       "      <th>B</th>\n",
       "    </tr>\n",
       "    <tr>\n",
       "      <th>event_name</th>\n",
       "      <th></th>\n",
       "      <th></th>\n",
       "      <th></th>\n",
       "    </tr>\n",
       "  </thead>\n",
       "  <tbody>\n",
       "    <tr>\n",
       "      <th>MainScreenAppear</th>\n",
       "      <td>2450</td>\n",
       "      <td>2476</td>\n",
       "      <td>2493</td>\n",
       "    </tr>\n",
       "    <tr>\n",
       "      <th>OffersScreenAppear</th>\n",
       "      <td>1542</td>\n",
       "      <td>1520</td>\n",
       "      <td>1531</td>\n",
       "    </tr>\n",
       "    <tr>\n",
       "      <th>CartScreenAppear</th>\n",
       "      <td>1266</td>\n",
       "      <td>1238</td>\n",
       "      <td>1230</td>\n",
       "    </tr>\n",
       "    <tr>\n",
       "      <th>PaymentScreenSuccessful</th>\n",
       "      <td>1200</td>\n",
       "      <td>1158</td>\n",
       "      <td>1181</td>\n",
       "    </tr>\n",
       "  </tbody>\n",
       "</table>\n",
       "</div>"
      ],
      "text/plain": [
       "group                     A_1   A_2     B\n",
       "event_name                               \n",
       "MainScreenAppear         2450  2476  2493\n",
       "OffersScreenAppear       1542  1520  1531\n",
       "CartScreenAppear         1266  1238  1230\n",
       "PaymentScreenSuccessful  1200  1158  1181"
      ]
     },
     "execution_count": 167,
     "metadata": {},
     "output_type": "execute_result"
    }
   ],
   "source": [
    "test_event_name = (df[df['event_name']!='Tutorial'] # Исключим инструкцию из анализа\n",
    "                   .pivot_table(\n",
    "                   index='event_name', \n",
    "                   columns='group', \n",
    "                   values='user_id',\n",
    "                   aggfunc='nunique')\n",
    "                   .sort_values(by='A_1', ascending=False))\n",
    "                   \n",
    "test_event_name # Количество пользователей по событиям в каждой группе "
   ]
  },
  {
   "cell_type": "code",
   "execution_count": 168,
   "metadata": {},
   "outputs": [
    {
     "data": {
      "text/html": [
       "<div>\n",
       "<style scoped>\n",
       "    .dataframe tbody tr th:only-of-type {\n",
       "        vertical-align: middle;\n",
       "    }\n",
       "\n",
       "    .dataframe tbody tr th {\n",
       "        vertical-align: top;\n",
       "    }\n",
       "\n",
       "    .dataframe thead th {\n",
       "        text-align: right;\n",
       "    }\n",
       "</style>\n",
       "<table border=\"1\" class=\"dataframe\">\n",
       "  <thead>\n",
       "    <tr style=\"text-align: right;\">\n",
       "      <th>group</th>\n",
       "      <th>event_name</th>\n",
       "      <th>A_1</th>\n",
       "      <th>A_2</th>\n",
       "      <th>B</th>\n",
       "      <th>total_A</th>\n",
       "    </tr>\n",
       "  </thead>\n",
       "  <tbody>\n",
       "    <tr>\n",
       "      <th>0</th>\n",
       "      <td>MainScreenAppear</td>\n",
       "      <td>2450</td>\n",
       "      <td>2476</td>\n",
       "      <td>2493</td>\n",
       "      <td>4926</td>\n",
       "    </tr>\n",
       "    <tr>\n",
       "      <th>1</th>\n",
       "      <td>OffersScreenAppear</td>\n",
       "      <td>1542</td>\n",
       "      <td>1520</td>\n",
       "      <td>1531</td>\n",
       "      <td>3062</td>\n",
       "    </tr>\n",
       "    <tr>\n",
       "      <th>2</th>\n",
       "      <td>CartScreenAppear</td>\n",
       "      <td>1266</td>\n",
       "      <td>1238</td>\n",
       "      <td>1230</td>\n",
       "      <td>2504</td>\n",
       "    </tr>\n",
       "    <tr>\n",
       "      <th>3</th>\n",
       "      <td>PaymentScreenSuccessful</td>\n",
       "      <td>1200</td>\n",
       "      <td>1158</td>\n",
       "      <td>1181</td>\n",
       "      <td>2358</td>\n",
       "    </tr>\n",
       "  </tbody>\n",
       "</table>\n",
       "</div>"
      ],
      "text/plain": [
       "group               event_name   A_1   A_2     B  total_A\n",
       "0             MainScreenAppear  2450  2476  2493     4926\n",
       "1           OffersScreenAppear  1542  1520  1531     3062\n",
       "2             CartScreenAppear  1266  1238  1230     2504\n",
       "3      PaymentScreenSuccessful  1200  1158  1181     2358"
      ]
     },
     "execution_count": 168,
     "metadata": {},
     "output_type": "execute_result"
    }
   ],
   "source": [
    "test_event_name['total_A'] = test_event_name['A_1'] + test_event_name['A_2']\n",
    "test_event_name = test_event_name.reset_index()\n",
    "test_event_name # Соединим количество пользователей в контрольных группах"
   ]
  },
  {
   "cell_type": "markdown",
   "metadata": {},
   "source": [
    "**Гипотезы:**\n",
    "\n",
    "Нулевая гипотеза: доли уникальных посетителей в группах A_1 и A_2, побывавших на этапе воронки, одинаковы.\n",
    "\n",
    "Альтенативная гипотеза: между долями уникальных посетителей в группах A_1 и A_2, побывавших на этапе воронки, есть значимая разница."
   ]
  },
  {
   "cell_type": "markdown",
   "metadata": {},
   "source": [
    "Создадим функцию hypotheses. \n",
    "\n",
    "В ней три аргумента:\n",
    "\n",
    "- Группа №1\n",
    "- Группа №2 \n",
    "- Уровень статистической значимости"
   ]
  },
  {
   "cell_type": "code",
   "execution_count": 169,
   "metadata": {},
   "outputs": [],
   "source": [
    "def hypotheses (group_1, group_2, alpha):\n",
    "    \n",
    "    for i in test_event_name.index:\n",
    "        \n",
    "        p1 = test_event_name[group_1][i] / user_count[group_1]\n",
    "        \n",
    "        p2 = test_event_name[group_2][i] / user_count[group_2]\n",
    "        \n",
    "        # пропорция успехов в комбинированном датасете:\n",
    "        p_combined = ((test_event_name[group_1][i] + test_event_name[group_2][i]) / \n",
    "                      (user_count[group_1] + user_count[group_2]))\n",
    "        \n",
    "        difference = p1 - p2 # разница пропорций в датасетах\n",
    "        \n",
    "        # считаем статистику в ст.отклонениях стандартного нормального распределения\n",
    "        z_value = difference / mth.sqrt(p_combined * (1 - p_combined) * \n",
    "                                        (1/user_count[group_1] + 1/user_count[group_2]))\n",
    "        \n",
    "        # задаем стандартное нормальное распределение (среднее 0, ст.отклонение 1)\n",
    "        distr = st.norm(0, 1)\n",
    "        \n",
    "        p_value = (1 - distr.cdf(abs(z_value))) * 2\n",
    "        \n",
    "        print('{} p-значение: {}'.format(test_event_name['event_name'][i], p_value))\n",
    "        if (p_value < alpha):\n",
    "            print('Отвергаем нулевую гипотезу: между долями есть значимая разница')\n",
    "        else:\n",
    "            print('Не получилось отвергнуть нулевую гипотезу, оснований считать доли разными нет')\n",
    "        print('')"
   ]
  },
  {
   "cell_type": "code",
   "execution_count": 170,
   "metadata": {},
   "outputs": [
    {
     "name": "stdout",
     "output_type": "stream",
     "text": [
      "MainScreenAppear p-значение: 0.7570597232046099\n",
      "Не получилось отвергнуть нулевую гипотезу, оснований считать доли разными нет\n",
      "\n",
      "OffersScreenAppear p-значение: 0.2480954578522181\n",
      "Не получилось отвергнуть нулевую гипотезу, оснований считать доли разными нет\n",
      "\n",
      "CartScreenAppear p-значение: 0.22883372237997213\n",
      "Не получилось отвергнуть нулевую гипотезу, оснований считать доли разными нет\n",
      "\n",
      "PaymentScreenSuccessful p-значение: 0.11456679313141849\n",
      "Не получилось отвергнуть нулевую гипотезу, оснований считать доли разными нет\n",
      "\n"
     ]
    }
   ],
   "source": [
    "hypotheses ('A_1', 'A_2', 0.01)"
   ]
  },
  {
   "cell_type": "markdown",
   "metadata": {},
   "source": [
    "**Результат A/A теста:**\n",
    "\n",
    "Между контрольными группами по всем событиям нет статистически значимого различия. Две контрольные группы равны.\n",
    "\n",
    "Можно приступать к A/B тесту."
   ]
  },
  {
   "cell_type": "markdown",
   "metadata": {},
   "source": [
    "### 5.3 Самое популярное событие "
   ]
  },
  {
   "cell_type": "code",
   "execution_count": 171,
   "metadata": {},
   "outputs": [
    {
     "data": {
      "text/plain": [
       "MainScreenAppear           117328\n",
       "OffersScreenAppear          46333\n",
       "CartScreenAppear            42303\n",
       "PaymentScreenSuccessful     33918\n",
       "Tutorial                     1005\n",
       "Name: event_name, dtype: int64"
      ]
     },
     "execution_count": 171,
     "metadata": {},
     "output_type": "execute_result"
    }
   ],
   "source": [
    "df['event_name'].value_counts() # Посчитаем события "
   ]
  },
  {
   "cell_type": "markdown",
   "metadata": {},
   "source": [
    "**Вывод:** \n",
    "\n",
    "Самое популярное событие - Появление главного экрана (MainScreenAppear)"
   ]
  },
  {
   "cell_type": "markdown",
   "metadata": {},
   "source": [
    "### 5.4 Число пользователей, которые совершили самое популярное событие из контрольных групп"
   ]
  },
  {
   "cell_type": "code",
   "execution_count": 172,
   "metadata": {},
   "outputs": [
    {
     "data": {
      "text/html": [
       "<div>\n",
       "<style scoped>\n",
       "    .dataframe tbody tr th:only-of-type {\n",
       "        vertical-align: middle;\n",
       "    }\n",
       "\n",
       "    .dataframe tbody tr th {\n",
       "        vertical-align: top;\n",
       "    }\n",
       "\n",
       "    .dataframe thead th {\n",
       "        text-align: right;\n",
       "    }\n",
       "</style>\n",
       "<table border=\"1\" class=\"dataframe\">\n",
       "  <thead>\n",
       "    <tr style=\"text-align: right;\">\n",
       "      <th>group</th>\n",
       "      <th>event_name</th>\n",
       "      <th>A_1</th>\n",
       "      <th>A_2</th>\n",
       "      <th>B</th>\n",
       "      <th>total_A</th>\n",
       "    </tr>\n",
       "  </thead>\n",
       "  <tbody>\n",
       "    <tr>\n",
       "      <th>0</th>\n",
       "      <td>MainScreenAppear</td>\n",
       "      <td>2450</td>\n",
       "      <td>2476</td>\n",
       "      <td>2493</td>\n",
       "      <td>4926</td>\n",
       "    </tr>\n",
       "    <tr>\n",
       "      <th>1</th>\n",
       "      <td>OffersScreenAppear</td>\n",
       "      <td>1542</td>\n",
       "      <td>1520</td>\n",
       "      <td>1531</td>\n",
       "      <td>3062</td>\n",
       "    </tr>\n",
       "    <tr>\n",
       "      <th>2</th>\n",
       "      <td>CartScreenAppear</td>\n",
       "      <td>1266</td>\n",
       "      <td>1238</td>\n",
       "      <td>1230</td>\n",
       "      <td>2504</td>\n",
       "    </tr>\n",
       "    <tr>\n",
       "      <th>3</th>\n",
       "      <td>PaymentScreenSuccessful</td>\n",
       "      <td>1200</td>\n",
       "      <td>1158</td>\n",
       "      <td>1181</td>\n",
       "      <td>2358</td>\n",
       "    </tr>\n",
       "  </tbody>\n",
       "</table>\n",
       "</div>"
      ],
      "text/plain": [
       "group               event_name   A_1   A_2     B  total_A\n",
       "0             MainScreenAppear  2450  2476  2493     4926\n",
       "1           OffersScreenAppear  1542  1520  1531     3062\n",
       "2             CartScreenAppear  1266  1238  1230     2504\n",
       "3      PaymentScreenSuccessful  1200  1158  1181     2358"
      ]
     },
     "execution_count": 172,
     "metadata": {},
     "output_type": "execute_result"
    }
   ],
   "source": [
    "test_event_name"
   ]
  },
  {
   "cell_type": "markdown",
   "metadata": {},
   "source": [
    "**Вывод:**\n",
    "\n",
    "Число пользователей в контрольных группах, которые совершили самое популярное событие:\n",
    "\n",
    "- Контрольная группа A1 - 2450 пользователей.\n",
    "- Контрольная группа A2 - 2476 пользователей."
   ]
  },
  {
   "cell_type": "markdown",
   "metadata": {},
   "source": [
    "### 5.5 Посчитаем долю пользователей, которые совершили  самое популярное событие"
   ]
  },
  {
   "cell_type": "code",
   "execution_count": 173,
   "metadata": {},
   "outputs": [
    {
     "data": {
      "text/html": [
       "<div>\n",
       "<style scoped>\n",
       "    .dataframe tbody tr th:only-of-type {\n",
       "        vertical-align: middle;\n",
       "    }\n",
       "\n",
       "    .dataframe tbody tr th {\n",
       "        vertical-align: top;\n",
       "    }\n",
       "\n",
       "    .dataframe thead th {\n",
       "        text-align: right;\n",
       "    }\n",
       "</style>\n",
       "<table border=\"1\" class=\"dataframe\">\n",
       "  <thead>\n",
       "    <tr style=\"text-align: right;\">\n",
       "      <th>group</th>\n",
       "      <th>event_name</th>\n",
       "      <th>A_1</th>\n",
       "      <th>A_2</th>\n",
       "      <th>B</th>\n",
       "      <th>total_A</th>\n",
       "      <th>conversion_A_1</th>\n",
       "      <th>conversion_A_2</th>\n",
       "      <th>conversion_B</th>\n",
       "    </tr>\n",
       "  </thead>\n",
       "  <tbody>\n",
       "    <tr>\n",
       "      <th>0</th>\n",
       "      <td>MainScreenAppear</td>\n",
       "      <td>2450</td>\n",
       "      <td>2476</td>\n",
       "      <td>2493</td>\n",
       "      <td>4926</td>\n",
       "      <td>98.6</td>\n",
       "      <td>98.5</td>\n",
       "      <td>98.3</td>\n",
       "    </tr>\n",
       "    <tr>\n",
       "      <th>1</th>\n",
       "      <td>OffersScreenAppear</td>\n",
       "      <td>1542</td>\n",
       "      <td>1520</td>\n",
       "      <td>1531</td>\n",
       "      <td>3062</td>\n",
       "      <td>62.1</td>\n",
       "      <td>60.5</td>\n",
       "      <td>60.3</td>\n",
       "    </tr>\n",
       "    <tr>\n",
       "      <th>2</th>\n",
       "      <td>CartScreenAppear</td>\n",
       "      <td>1266</td>\n",
       "      <td>1238</td>\n",
       "      <td>1230</td>\n",
       "      <td>2504</td>\n",
       "      <td>51.0</td>\n",
       "      <td>49.3</td>\n",
       "      <td>48.5</td>\n",
       "    </tr>\n",
       "    <tr>\n",
       "      <th>3</th>\n",
       "      <td>PaymentScreenSuccessful</td>\n",
       "      <td>1200</td>\n",
       "      <td>1158</td>\n",
       "      <td>1181</td>\n",
       "      <td>2358</td>\n",
       "      <td>48.3</td>\n",
       "      <td>46.1</td>\n",
       "      <td>46.6</td>\n",
       "    </tr>\n",
       "  </tbody>\n",
       "</table>\n",
       "</div>"
      ],
      "text/plain": [
       "group               event_name   A_1   A_2     B  total_A  conversion_A_1  \\\n",
       "0             MainScreenAppear  2450  2476  2493     4926            98.6   \n",
       "1           OffersScreenAppear  1542  1520  1531     3062            62.1   \n",
       "2             CartScreenAppear  1266  1238  1230     2504            51.0   \n",
       "3      PaymentScreenSuccessful  1200  1158  1181     2358            48.3   \n",
       "\n",
       "group  conversion_A_2  conversion_B  \n",
       "0                98.5          98.3  \n",
       "1                60.5          60.3  \n",
       "2                49.3          48.5  \n",
       "3                46.1          46.6  "
      ]
     },
     "execution_count": 173,
     "metadata": {},
     "output_type": "execute_result"
    }
   ],
   "source": [
    "test_event_name['conversion_A_1'] = round (test_event_name['A_1'] / user_count['A_1'] * 100, 1)\n",
    "test_event_name['conversion_A_2'] = round (test_event_name['A_2'] / user_count['A_2'] * 100, 1)\n",
    "test_event_name['conversion_B'] = round (test_event_name['B'] / user_count['B'] * 100, 1)\n",
    "\n",
    "test_event_name # Конверсия событий в группах"
   ]
  },
  {
   "cell_type": "markdown",
   "metadata": {},
   "source": [
    "**Вывод:**\n",
    "\n",
    "Доля пользователей в группах, которая совершила самое популярное событие:\n",
    "\n",
    "- Контрольная группа A1 - 98,6% пользователей.\n",
    "- Контрольная группа A2 - 98,5% пользователей.\n",
    "- Эксперементальная группа B - 98,3% пользователей."
   ]
  },
  {
   "cell_type": "markdown",
   "metadata": {},
   "source": [
    "### 5.6 Сравним результаты эксперементальной группы с каждой из контрольных групп в отдельности по каждому событию"
   ]
  },
  {
   "cell_type": "markdown",
   "metadata": {},
   "source": [
    "**Гипотезы:**\n",
    "\n",
    "Нулевая гипотеза: доли уникальных посетителей в группе A_1 и группе B, побывавших на этапе воронки, одинаковы.\n",
    "\n",
    "Альтенативная гипотеза: между долями уникальных посетителей в группе A_1 и группе B, побывавших на этапе воронки, есть значимая разница."
   ]
  },
  {
   "cell_type": "code",
   "execution_count": 174,
   "metadata": {},
   "outputs": [
    {
     "name": "stdout",
     "output_type": "stream",
     "text": [
      "MainScreenAppear p-значение: 0.2949721933554552\n",
      "Не получилось отвергнуть нулевую гипотезу, оснований считать доли разными нет\n",
      "\n",
      "OffersScreenAppear p-значение: 0.20836205402738917\n",
      "Не получилось отвергнуть нулевую гипотезу, оснований считать доли разными нет\n",
      "\n",
      "CartScreenAppear p-значение: 0.07842923237520116\n",
      "Не получилось отвергнуть нулевую гипотезу, оснований считать доли разными нет\n",
      "\n",
      "PaymentScreenSuccessful p-значение: 0.2122553275697796\n",
      "Не получилось отвергнуть нулевую гипотезу, оснований считать доли разными нет\n",
      "\n"
     ]
    }
   ],
   "source": [
    "hypotheses ('A_1', 'B', 0.05)"
   ]
  },
  {
   "cell_type": "markdown",
   "metadata": {},
   "source": [
    "**Вывод:**\n",
    "\n",
    "Между контрольной группой A_1 и эксперементальной группой B разницы нет "
   ]
  },
  {
   "cell_type": "markdown",
   "metadata": {},
   "source": [
    "**Гипотезы:**\n",
    "\n",
    "Нулевая гипотеза: доли уникальных посетителей в группе A_2 и группе B, побывавших на этапе воронки, одинаковы.\n",
    "\n",
    "Альтенативная гипотеза: между долями уникальных посетителей в группе A_2 и группе B, побывавших на этапе воронки, есть значимая разница."
   ]
  },
  {
   "cell_type": "code",
   "execution_count": 175,
   "metadata": {},
   "outputs": [
    {
     "name": "stdout",
     "output_type": "stream",
     "text": [
      "MainScreenAppear p-значение: 0.4587053616621515\n",
      "Не получилось отвергнуть нулевую гипотезу, оснований считать доли разными нет\n",
      "\n",
      "OffersScreenAppear p-значение: 0.9197817830592261\n",
      "Не получилось отвергнуть нулевую гипотезу, оснований считать доли разными нет\n",
      "\n",
      "CartScreenAppear p-значение: 0.5786197879539783\n",
      "Не получилось отвергнуть нулевую гипотезу, оснований считать доли разными нет\n",
      "\n",
      "PaymentScreenSuccessful p-значение: 0.7373415053803964\n",
      "Не получилось отвергнуть нулевую гипотезу, оснований считать доли разными нет\n",
      "\n"
     ]
    }
   ],
   "source": [
    "hypotheses ('A_2', 'B', 0.05)"
   ]
  },
  {
   "cell_type": "markdown",
   "metadata": {},
   "source": [
    "**Вывод:**\n",
    "\n",
    "Между контрольной группой A_2 и эксперементальной группой B разницы нет"
   ]
  },
  {
   "cell_type": "markdown",
   "metadata": {},
   "source": [
    "### 5.7 Сравним результаты эксперементальной группы с объединённой контрольной группой "
   ]
  },
  {
   "cell_type": "markdown",
   "metadata": {},
   "source": [
    "**Гипотезы:**\n",
    "\n",
    "Нулевая гипотеза: доли уникальных посетителей в группе total_A и группе B, побывавших на этапе воронки, одинаковы.\n",
    "\n",
    "Альтенативная гипотеза: между долями уникальных посетителей в группе total_A и группе B, побывавших на этапе воронки, есть значимая разница."
   ]
  },
  {
   "cell_type": "code",
   "execution_count": 176,
   "metadata": {},
   "outputs": [
    {
     "name": "stdout",
     "output_type": "stream",
     "text": [
      "MainScreenAppear p-значение: 0.29424526837179577\n",
      "Не получилось отвергнуть нулевую гипотезу, оснований считать доли разными нет\n",
      "\n",
      "OffersScreenAppear p-значение: 0.43425549655188256\n",
      "Не получилось отвергнуть нулевую гипотезу, оснований считать доли разными нет\n",
      "\n",
      "CartScreenAppear p-значение: 0.18175875284404386\n",
      "Не получилось отвергнуть нулевую гипотезу, оснований считать доли разными нет\n",
      "\n",
      "PaymentScreenSuccessful p-значение: 0.6004294282308704\n",
      "Не получилось отвергнуть нулевую гипотезу, оснований считать доли разными нет\n",
      "\n"
     ]
    }
   ],
   "source": [
    "hypotheses ('total_A', 'B', 0.05)"
   ]
  },
  {
   "cell_type": "markdown",
   "metadata": {},
   "source": [
    "**Вывод:**\n",
    "\n",
    "Между объедененной контрольной группой total_A и эксперементальной группой B разницы нет"
   ]
  },
  {
   "cell_type": "markdown",
   "metadata": {},
   "source": [
    "**Вывод по проверке гипотез:**\n",
    "\n",
    "Между контрольными группами и группой с измененным шрифтом разницы нет."
   ]
  },
  {
   "cell_type": "markdown",
   "metadata": {},
   "source": [
    "### 5.8 Уровень значимости при проверке статистических гипотез"
   ]
  },
  {
   "cell_type": "markdown",
   "metadata": {},
   "source": [
    "Для проведения A/A эксперимента был установлен уровень статистической значимости - 0.01. При проведении AA тестов группы должны быть с минимальной разницей. Поэтому уровень разницы был установлен минимальный. \n",
    "\n",
    "Для проведения A/B эксперимента был установлен уровень статистической значимости - 0.05. "
   ]
  },
  {
   "cell_type": "markdown",
   "metadata": {},
   "source": [
    "### 5.9 Количество проверок статистических гипотез"
   ]
  },
  {
   "cell_type": "markdown",
   "metadata": {},
   "source": [
    "Было проведено 16 проверок статистических гипотез:\n",
    "\n",
    "- Между группами A_1 и A_2 - 4 эксперемента по одному на каждое событие.\n",
    "- Между группами A_1 и B - 4 эксперемента по одному на каждое событие.\n",
    "- Между группами A_2 и B - 4 эксперемента по одному на каждое событие.\n",
    "- Между группами total_A и B - 4 эксперемента по одному на каждое событие.\n",
    "\n",
    "Мы провели множественный тест (множественная проверка гипотез). Осбенность множественного теста, заключается в том, что каждая новая проверка гипотез увеличивает вероятность ошибки первого рода. Для снижения вероятности ложнопозитивного результата при множественной проверке гипотез применяют различные методы корректировки уровня значимости. Часто применяют поправку Бенферрони (делят уровень значимости на количество гипотез). Применять поправку Бонферрони не вижу смысла, так как ни по одному из проведенных сравнений не было обнаружено статистически значемых различий. Изменять уровень статистической значимости нет необходимости. "
   ]
  },
  {
   "cell_type": "markdown",
   "metadata": {},
   "source": [
    "## Вывод"
   ]
  },
  {
   "cell_type": "markdown",
   "metadata": {},
   "source": [
    "В рамках исследования было проанализировано поведение пользователей мобильного приложения, а также была изучена воронка продаж и проанализированы результаты A/A/B - тестов.\n",
    "\n",
    "**Изучение данных:**\n",
    "\n",
    "В исходных данных был представлен временной период с 25.07.2019 по 07.08.2019 года. После изучения временного периода было принято решение исключить из анализа первую неделю эксперимента, так как в период с 25 по 31 июля 2019 года количество событий было крайне низкое относительно второй недели эксперимента. Был установлен новый временной период для анализа: c 1 августа по 8 августа 2019 года.\n",
    "\n",
    "После удаления данных потеряли 2826 событий (1,16% событий) и 17 уникальных пользователей (0,225% пользователей), что вполне допустимо, и существенно не повлияет на результаты анализа.\n",
    "\n",
    "**После удаления данных:**\n",
    "\n",
    "- 240887 событий\n",
    "- 7534 пользователя\n",
    "\n",
    "Было установлено, что в среднем на одного пользователя приходится 32 события. Уникальных событий всего пять. \n",
    "\n",
    "Количество событий и пользователей в группах примерно равны:\n",
    "\n",
    "В группе A_1 - 79302 события и 2484 пользователя\n",
    "В группе A_2 - 77022 события и 2513 пользователя\n",
    "В группу B - 84563 события и 2537 пользователя\n",
    "\n",
    "\n",
    "**Воронка событий выглядит следующим образом:**\n",
    "\n",
    "1. Появление главного экрана (MainScreenAppear)\n",
    "2. Появление предложения на экране (OffersScreenAppear)\n",
    "3. Появление экрана корзины (CartScreenAppear)\n",
    "4. Подтверждение оплаты (PaymentScreenSuccessful)\n",
    "\n",
    "Событие Tutorial (инструкция) было исключено из анализа воронки событи в связи с тем, что просмотр инструкций может происходить на любом этапе воронки и не вписывается в платежную воронку. Инструкцию посмотрели только 11% пользователей от общего количества, что также крайне мало. \n",
    "\n",
    "Больше всего пользователей теряем на втором этапе воронки продаж - OffersScreenAppear. После просмотра главного экрана 61,9% пользователей переходит на второй этап воронки. На третьем и четвертом этапе воронки потери пользователей не значительны. \n",
    "\n",
    "Почти 48% от общего числа пользователей оплачивает покупку в приложении.\n",
    "\n",
    "**Анализ результатов A/A/B-теста:**\n",
    "\n",
    "По результатам A/A/B эспериментов значимой разницы между групп не выявлено. Доли уникальных пользователей, побывавших на этапе воронки, одинаковы. Из этого следует, что изменение шрифта не повлияло на поведение пользователей внутри приложения.\n",
    "\n",
    "**Рекомендации:**\n",
    "\n",
    "Анализ конверсии воронки показал, что больше всего пользователей теряем на втором этапе. После просмотра главного экрана 38% пользователей теряется. Пользователи внезапно уходят с приложения не посмотрев предложения. Возможно стоит сделать более удобную навигацию по сайту. Можно также предположить, что в приложении после появления главного экрана выходит ошибка."
   ]
  }
 ],
 "metadata": {
  "ExecuteTimeLog": [
   {
    "duration": 1445,
    "start_time": "2023-05-17T17:51:28.330Z"
   },
   {
    "duration": 517,
    "start_time": "2023-05-17T17:51:29.778Z"
   },
   {
    "duration": 14,
    "start_time": "2023-05-17T17:51:30.297Z"
   },
   {
    "duration": 35,
    "start_time": "2023-05-17T17:51:30.312Z"
   },
   {
    "duration": 47,
    "start_time": "2023-05-17T17:51:30.350Z"
   },
   {
    "duration": 46,
    "start_time": "2023-05-17T17:51:30.399Z"
   },
   {
    "duration": 126,
    "start_time": "2023-05-17T17:51:30.447Z"
   },
   {
    "duration": 41,
    "start_time": "2023-05-17T17:51:30.575Z"
   },
   {
    "duration": 207,
    "start_time": "2023-05-17T17:51:30.618Z"
   },
   {
    "duration": 89,
    "start_time": "2023-05-17T17:51:30.828Z"
   },
   {
    "duration": 21,
    "start_time": "2023-05-17T17:51:30.920Z"
   },
   {
    "duration": 29,
    "start_time": "2023-05-17T17:51:30.943Z"
   },
   {
    "duration": 38,
    "start_time": "2023-05-17T17:51:30.973Z"
   },
   {
    "duration": 45,
    "start_time": "2023-05-17T17:51:31.016Z"
   },
   {
    "duration": 35,
    "start_time": "2023-05-17T17:51:31.063Z"
   },
   {
    "duration": 148,
    "start_time": "2023-05-17T17:51:31.100Z"
   },
   {
    "duration": 84,
    "start_time": "2023-05-17T17:51:31.250Z"
   },
   {
    "duration": 83,
    "start_time": "2023-05-17T17:51:31.336Z"
   },
   {
    "duration": 68,
    "start_time": "2023-05-17T17:51:31.421Z"
   },
   {
    "duration": 25,
    "start_time": "2023-05-17T17:51:31.491Z"
   },
   {
    "duration": 23,
    "start_time": "2023-05-17T17:51:31.518Z"
   },
   {
    "duration": 21,
    "start_time": "2023-05-17T17:51:31.542Z"
   },
   {
    "duration": 41,
    "start_time": "2023-05-17T17:51:31.565Z"
   },
   {
    "duration": 34,
    "start_time": "2023-05-17T17:51:31.608Z"
   },
   {
    "duration": 14,
    "start_time": "2023-05-17T17:51:31.643Z"
   },
   {
    "duration": 374,
    "start_time": "2023-05-17T17:51:31.658Z"
   },
   {
    "duration": 40,
    "start_time": "2023-05-17T17:51:32.034Z"
   },
   {
    "duration": 41,
    "start_time": "2023-05-17T17:51:32.075Z"
   },
   {
    "duration": 9,
    "start_time": "2023-05-17T17:51:32.118Z"
   },
   {
    "duration": 100,
    "start_time": "2023-05-17T17:51:32.129Z"
   },
   {
    "duration": 30,
    "start_time": "2023-05-17T17:51:32.231Z"
   },
   {
    "duration": 204,
    "start_time": "2023-05-17T17:51:32.272Z"
   },
   {
    "duration": 73,
    "start_time": "2023-05-17T17:51:32.479Z"
   },
   {
    "duration": 24,
    "start_time": "2023-05-17T17:51:32.555Z"
   },
   {
    "duration": 15,
    "start_time": "2023-05-17T17:51:32.582Z"
   },
   {
    "duration": 19,
    "start_time": "2023-05-17T17:51:32.599Z"
   },
   {
    "duration": 276,
    "start_time": "2023-05-17T17:51:32.620Z"
   },
   {
    "duration": 79,
    "start_time": "2023-05-17T17:51:32.898Z"
   },
   {
    "duration": 146,
    "start_time": "2023-05-17T17:51:32.980Z"
   },
   {
    "duration": 13,
    "start_time": "2023-05-17T17:51:33.129Z"
   },
   {
    "duration": 24,
    "start_time": "2023-05-17T17:51:33.147Z"
   },
   {
    "duration": 30,
    "start_time": "2023-05-17T17:51:33.173Z"
   },
   {
    "duration": 58,
    "start_time": "2023-05-17T17:51:33.205Z"
   },
   {
    "duration": 21,
    "start_time": "2023-05-17T17:51:33.265Z"
   },
   {
    "duration": 31,
    "start_time": "2023-05-17T17:51:33.288Z"
   },
   {
    "duration": 60,
    "start_time": "2023-05-17T17:51:33.321Z"
   },
   {
    "duration": 21,
    "start_time": "2023-05-17T17:51:33.383Z"
   },
   {
    "duration": 37,
    "start_time": "2023-05-17T17:51:33.406Z"
   },
   {
    "duration": 1168,
    "start_time": "2023-05-18T09:47:45.661Z"
   },
   {
    "duration": 188,
    "start_time": "2023-05-18T09:47:46.831Z"
   },
   {
    "duration": 13,
    "start_time": "2023-05-18T09:47:47.021Z"
   },
   {
    "duration": 9,
    "start_time": "2023-05-18T09:47:47.036Z"
   },
   {
    "duration": 30,
    "start_time": "2023-05-18T09:47:47.046Z"
   },
   {
    "duration": 32,
    "start_time": "2023-05-18T09:47:47.079Z"
   },
   {
    "duration": 76,
    "start_time": "2023-05-18T09:47:47.113Z"
   },
   {
    "duration": 28,
    "start_time": "2023-05-18T09:47:47.194Z"
   },
   {
    "duration": 188,
    "start_time": "2023-05-18T09:47:47.223Z"
   },
   {
    "duration": 79,
    "start_time": "2023-05-18T09:47:47.413Z"
   },
   {
    "duration": 23,
    "start_time": "2023-05-18T09:47:47.494Z"
   },
   {
    "duration": 9,
    "start_time": "2023-05-18T09:47:47.519Z"
   },
   {
    "duration": 22,
    "start_time": "2023-05-18T09:47:47.530Z"
   },
   {
    "duration": 36,
    "start_time": "2023-05-18T09:47:47.554Z"
   },
   {
    "duration": 16,
    "start_time": "2023-05-18T09:47:47.594Z"
   },
   {
    "duration": 111,
    "start_time": "2023-05-18T09:47:47.612Z"
   },
   {
    "duration": 77,
    "start_time": "2023-05-18T09:47:47.725Z"
   },
   {
    "duration": 18,
    "start_time": "2023-05-18T09:47:47.803Z"
   },
   {
    "duration": 22,
    "start_time": "2023-05-18T09:47:47.823Z"
   },
   {
    "duration": 11,
    "start_time": "2023-05-18T09:47:47.847Z"
   },
   {
    "duration": 7,
    "start_time": "2023-05-18T09:47:47.875Z"
   },
   {
    "duration": 6,
    "start_time": "2023-05-18T09:47:47.883Z"
   },
   {
    "duration": 9,
    "start_time": "2023-05-18T09:47:47.892Z"
   },
   {
    "duration": 7,
    "start_time": "2023-05-18T09:47:47.902Z"
   },
   {
    "duration": 5,
    "start_time": "2023-05-18T09:47:47.911Z"
   },
   {
    "duration": 420,
    "start_time": "2023-05-18T09:47:47.917Z"
   },
   {
    "duration": 25,
    "start_time": "2023-05-18T09:47:48.338Z"
   },
   {
    "duration": 46,
    "start_time": "2023-05-18T09:47:48.376Z"
   },
   {
    "duration": 6,
    "start_time": "2023-05-18T09:47:48.424Z"
   },
   {
    "duration": 90,
    "start_time": "2023-05-18T09:47:48.431Z"
   },
   {
    "duration": 38,
    "start_time": "2023-05-18T09:47:48.524Z"
   },
   {
    "duration": 205,
    "start_time": "2023-05-18T09:47:48.565Z"
   },
   {
    "duration": 66,
    "start_time": "2023-05-18T09:47:48.775Z"
   },
   {
    "duration": 10,
    "start_time": "2023-05-18T09:47:48.843Z"
   },
   {
    "duration": 29,
    "start_time": "2023-05-18T09:47:48.855Z"
   },
   {
    "duration": 14,
    "start_time": "2023-05-18T09:47:48.886Z"
   },
   {
    "duration": 226,
    "start_time": "2023-05-18T09:47:48.902Z"
   },
   {
    "duration": 58,
    "start_time": "2023-05-18T09:47:49.130Z"
   },
   {
    "duration": 122,
    "start_time": "2023-05-18T09:47:49.191Z"
   },
   {
    "duration": 9,
    "start_time": "2023-05-18T09:47:49.315Z"
   },
   {
    "duration": 6,
    "start_time": "2023-05-18T09:47:49.326Z"
   },
   {
    "duration": 18,
    "start_time": "2023-05-18T09:47:49.334Z"
   },
   {
    "duration": 55,
    "start_time": "2023-05-18T09:47:49.353Z"
   },
   {
    "duration": 10,
    "start_time": "2023-05-18T09:47:49.410Z"
   },
   {
    "duration": 15,
    "start_time": "2023-05-18T09:47:49.422Z"
   },
   {
    "duration": 16,
    "start_time": "2023-05-18T09:47:49.438Z"
   },
   {
    "duration": 25,
    "start_time": "2023-05-18T09:47:49.456Z"
   },
   {
    "duration": 19,
    "start_time": "2023-05-18T09:47:49.485Z"
   },
   {
    "duration": 24,
    "start_time": "2023-05-18T09:53:14.003Z"
   },
   {
    "duration": 702,
    "start_time": "2023-05-18T09:53:18.812Z"
   },
   {
    "duration": 1397,
    "start_time": "2023-05-18T23:35:24.331Z"
   },
   {
    "duration": 617,
    "start_time": "2023-05-18T23:35:25.735Z"
   },
   {
    "duration": 10,
    "start_time": "2023-05-18T23:35:26.354Z"
   },
   {
    "duration": 7,
    "start_time": "2023-05-18T23:35:26.366Z"
   },
   {
    "duration": 12,
    "start_time": "2023-05-18T23:35:26.375Z"
   },
   {
    "duration": 38,
    "start_time": "2023-05-18T23:35:26.388Z"
   },
   {
    "duration": 73,
    "start_time": "2023-05-18T23:35:26.429Z"
   },
   {
    "duration": 29,
    "start_time": "2023-05-18T23:35:26.506Z"
   },
   {
    "duration": 200,
    "start_time": "2023-05-18T23:35:26.537Z"
   },
   {
    "duration": 87,
    "start_time": "2023-05-18T23:35:26.738Z"
   },
   {
    "duration": 20,
    "start_time": "2023-05-18T23:35:26.828Z"
   },
   {
    "duration": 10,
    "start_time": "2023-05-18T23:35:26.850Z"
   },
   {
    "duration": 12,
    "start_time": "2023-05-18T23:35:26.861Z"
   },
   {
    "duration": 14,
    "start_time": "2023-05-18T23:35:26.875Z"
   },
   {
    "duration": 43,
    "start_time": "2023-05-18T23:35:26.891Z"
   },
   {
    "duration": 100,
    "start_time": "2023-05-18T23:35:26.935Z"
   },
   {
    "duration": 48,
    "start_time": "2023-05-18T23:35:27.037Z"
   },
   {
    "duration": 27,
    "start_time": "2023-05-18T23:35:27.086Z"
   },
   {
    "duration": 36,
    "start_time": "2023-05-18T23:35:27.115Z"
   },
   {
    "duration": 12,
    "start_time": "2023-05-18T23:35:27.152Z"
   },
   {
    "duration": 13,
    "start_time": "2023-05-18T23:35:27.165Z"
   },
   {
    "duration": 3,
    "start_time": "2023-05-18T23:35:27.180Z"
   },
   {
    "duration": 20,
    "start_time": "2023-05-18T23:35:27.185Z"
   },
   {
    "duration": 26,
    "start_time": "2023-05-18T23:35:27.206Z"
   },
   {
    "duration": 5,
    "start_time": "2023-05-18T23:35:27.234Z"
   },
   {
    "duration": 316,
    "start_time": "2023-05-18T23:35:27.241Z"
   },
   {
    "duration": 611,
    "start_time": "2023-05-18T23:35:27.560Z"
   },
   {
    "duration": 49,
    "start_time": "2023-05-18T23:35:28.173Z"
   },
   {
    "duration": 34,
    "start_time": "2023-05-18T23:35:28.223Z"
   },
   {
    "duration": 7,
    "start_time": "2023-05-18T23:35:28.258Z"
   },
   {
    "duration": 4,
    "start_time": "2023-05-18T23:35:28.267Z"
   },
   {
    "duration": 5,
    "start_time": "2023-05-18T23:35:28.272Z"
   },
   {
    "duration": 23,
    "start_time": "2023-05-18T23:35:28.278Z"
   },
   {
    "duration": 45,
    "start_time": "2023-05-18T23:35:28.303Z"
   },
   {
    "duration": 11,
    "start_time": "2023-05-18T23:35:28.350Z"
   },
   {
    "duration": 69,
    "start_time": "2023-05-18T23:35:28.363Z"
   },
   {
    "duration": 31,
    "start_time": "2023-05-18T23:35:28.434Z"
   },
   {
    "duration": 159,
    "start_time": "2023-05-18T23:35:28.466Z"
   },
   {
    "duration": 49,
    "start_time": "2023-05-18T23:35:28.627Z"
   },
   {
    "duration": 27,
    "start_time": "2023-05-18T23:35:28.678Z"
   },
   {
    "duration": 9,
    "start_time": "2023-05-18T23:35:28.713Z"
   },
   {
    "duration": 13,
    "start_time": "2023-05-18T23:35:28.723Z"
   },
   {
    "duration": 265,
    "start_time": "2023-05-18T23:35:28.738Z"
   },
   {
    "duration": 51,
    "start_time": "2023-05-18T23:35:29.009Z"
   },
   {
    "duration": 118,
    "start_time": "2023-05-18T23:35:29.061Z"
   },
   {
    "duration": 25,
    "start_time": "2023-05-18T23:35:29.181Z"
   },
   {
    "duration": 28,
    "start_time": "2023-05-18T23:35:29.207Z"
   },
   {
    "duration": 12,
    "start_time": "2023-05-18T23:35:29.237Z"
   },
   {
    "duration": 22,
    "start_time": "2023-05-18T23:35:29.250Z"
   },
   {
    "duration": 13,
    "start_time": "2023-05-18T23:35:29.273Z"
   },
   {
    "duration": 31,
    "start_time": "2023-05-18T23:35:29.287Z"
   },
   {
    "duration": 22,
    "start_time": "2023-05-18T23:35:29.324Z"
   },
   {
    "duration": 8,
    "start_time": "2023-05-18T23:35:29.348Z"
   },
   {
    "duration": 12,
    "start_time": "2023-05-18T23:35:29.358Z"
   }
  ],
  "kernelspec": {
   "display_name": "Python 3 (ipykernel)",
   "language": "python",
   "name": "python3"
  },
  "language_info": {
   "codemirror_mode": {
    "name": "ipython",
    "version": 3
   },
   "file_extension": ".py",
   "mimetype": "text/x-python",
   "name": "python",
   "nbconvert_exporter": "python",
   "pygments_lexer": "ipython3",
   "version": "3.9.13"
  },
  "toc": {
   "base_numbering": 1,
   "nav_menu": {},
   "number_sections": false,
   "sideBar": true,
   "skip_h1_title": false,
   "title_cell": "Table of Contents",
   "title_sidebar": "Contents",
   "toc_cell": false,
   "toc_position": {
    "height": "calc(100% - 180px)",
    "left": "10px",
    "top": "150px",
    "width": "210.44px"
   },
   "toc_section_display": true,
   "toc_window_display": true
  }
 },
 "nbformat": 4,
 "nbformat_minor": 2
}
